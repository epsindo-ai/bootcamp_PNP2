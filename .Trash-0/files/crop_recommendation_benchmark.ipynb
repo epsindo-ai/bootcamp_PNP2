{
 "cells": [
  {
   "cell_type": "markdown",
   "metadata": {},
   "source": [
    "## 🌾 Machine Learning: Crop Recommendation System\n",
    "\n",
    "### 📚 Deskripsi Dataset\n",
    "\n",
    "Pada studi kasus ini, kita akan membuat **sistem rekomendasi tanaman** berbasis **Machine Learning** yang bertujuan membantu petani dalam menentukan jenis tanaman terbaik berdasarkan kondisi lingkungan dan tanah.\n",
    "\n",
    "Dataset yang digunakan berisi **data agrikultur** dengan berbagai parameter penting yang mempengaruhi pertumbuhan tanaman. Data ini mencakup **unsur hara tanah (N, P, K)**, **suhu**, **kelembaban udara**, **tingkat keasaman tanah (pH)**, dan **curah hujan**. Berdasarkan parameter-parameter ini, sistem akan memberikan **rekomendasi jenis tanaman** yang paling sesuai.\n",
    "\n",
    "Berikut adalah deskripsi dari setiap kolom dalam dataset:\n",
    "\n",
    "| **Kolom**        | **Tipe Data**          | **Deskripsi**                                                                                     |\n",
    "|------------------|------------------------|---------------------------------------------------------------------------------------------------|\n",
    "| **N**            | `int`                  | Kandungan Nitrogen dalam tanah, diukur dalam satuan mg/kg.                                       |\n",
    "| **P**            | `int`                  | Kandungan Phosphorus dalam tanah, diukur dalam satuan mg/kg.                                     |\n",
    "| **K**            | `int`                  | Kandungan Potassium dalam tanah, diukur dalam satuan mg/kg.                                      |\n",
    "| **temperature**  | `float`                | Suhu lingkungan tempat tanaman tumbuh, diukur dalam derajat Celcius (°C).                       |\n",
    "| **humidity**     | `float`                | Kelembaban udara di lingkungan tumbuh, diukur dalam persen (%).                                  |\n",
    "| **ph**           | `float`                | Tingkat keasaman tanah (pH), menunjukkan kondisi asam atau basa pada tanah.                      |\n",
    "| **rainfall**     | `float`                | Curah hujan tahunan di wilayah tanam, diukur dalam milimeter (mm).                               |\n",
    "| **label**        | `category` / `string`  | Jenis tanaman yang direkomendasikan untuk ditanam berdasarkan parameter yang ada.                |\n",
    "\n",
    "---\n",
    "\n",
    "### 🚀 Workflow Proyek\n",
    "1. **DataFrame Read**  \n",
    "2. **Pra-Pemrosesan (Preprocessing)**  \n",
    "3. **Pemodelan Machine Learning (ML Model Building)**  \n",
    "4. **Evaluasi dan Validasi Model**  \n",
    "5. **Perbandingan Eksekusi CPU vs GPU**  \n",
    "6. **Kesimpulan & Rekomendasi Implementasi**\n",
    "\n",
    "---\n",
    "\n",
    "### 🔧 Langkah-Langkah Penerapan Machine Learning\n",
    "\n",
    "\n",
    "---\n"
   ]
  },
  {
   "cell_type": "markdown",
   "metadata": {},
   "source": [
    "## CPU Dataframe Read"
   ]
  },
  {
   "cell_type": "code",
   "execution_count": 1,
   "metadata": {},
   "outputs": [
    {
     "name": "stdout",
     "output_type": "stream",
     "text": [
      "CPU times: user 18.5 s, sys: 575 ms, total: 19 s\n",
      "Wall time: 4.08 s\n"
     ]
    },
    {
     "data": {
      "text/html": [
       "<div>\n",
       "<style scoped>\n",
       "    .dataframe tbody tr th:only-of-type {\n",
       "        vertical-align: middle;\n",
       "    }\n",
       "\n",
       "    .dataframe tbody tr th {\n",
       "        vertical-align: top;\n",
       "    }\n",
       "\n",
       "    .dataframe thead th {\n",
       "        text-align: right;\n",
       "    }\n",
       "</style>\n",
       "<table border=\"1\" class=\"dataframe\">\n",
       "  <thead>\n",
       "    <tr style=\"text-align: right;\">\n",
       "      <th></th>\n",
       "      <th>Unnamed: 0</th>\n",
       "      <th>N</th>\n",
       "      <th>P</th>\n",
       "      <th>K</th>\n",
       "      <th>temperature</th>\n",
       "      <th>humidity</th>\n",
       "      <th>ph</th>\n",
       "      <th>rainfall</th>\n",
       "      <th>label</th>\n",
       "    </tr>\n",
       "  </thead>\n",
       "  <tbody>\n",
       "    <tr>\n",
       "      <th>0</th>\n",
       "      <td>0</td>\n",
       "      <td>82</td>\n",
       "      <td>43</td>\n",
       "      <td>41</td>\n",
       "      <td>22.627878</td>\n",
       "      <td>84.111503</td>\n",
       "      <td>6.474200</td>\n",
       "      <td>208.148764</td>\n",
       "      <td>rice</td>\n",
       "    </tr>\n",
       "    <tr>\n",
       "      <th>1</th>\n",
       "      <td>1</td>\n",
       "      <td>105</td>\n",
       "      <td>26</td>\n",
       "      <td>47</td>\n",
       "      <td>26.989249</td>\n",
       "      <td>94.083800</td>\n",
       "      <td>5.918236</td>\n",
       "      <td>32.816282</td>\n",
       "      <td>muskmelon</td>\n",
       "    </tr>\n",
       "    <tr>\n",
       "      <th>2</th>\n",
       "      <td>2</td>\n",
       "      <td>70</td>\n",
       "      <td>60</td>\n",
       "      <td>25</td>\n",
       "      <td>18.751657</td>\n",
       "      <td>21.243104</td>\n",
       "      <td>5.808209</td>\n",
       "      <td>82.755315</td>\n",
       "      <td>maize</td>\n",
       "    </tr>\n",
       "    <tr>\n",
       "      <th>3</th>\n",
       "      <td>3</td>\n",
       "      <td>34</td>\n",
       "      <td>65</td>\n",
       "      <td>82</td>\n",
       "      <td>19.696618</td>\n",
       "      <td>14.295643</td>\n",
       "      <td>7.977798</td>\n",
       "      <td>62.238010</td>\n",
       "      <td>maize</td>\n",
       "    </tr>\n",
       "    <tr>\n",
       "      <th>4</th>\n",
       "      <td>4</td>\n",
       "      <td>94</td>\n",
       "      <td>36</td>\n",
       "      <td>46</td>\n",
       "      <td>27.210002</td>\n",
       "      <td>90.658402</td>\n",
       "      <td>6.042651</td>\n",
       "      <td>115.917395</td>\n",
       "      <td>watermelon</td>\n",
       "    </tr>\n",
       "  </tbody>\n",
       "</table>\n",
       "</div>"
      ],
      "text/plain": [
       "   Unnamed: 0    N   P   K  temperature   humidity        ph    rainfall  \\\n",
       "0           0   82  43  41    22.627878  84.111503  6.474200  208.148764   \n",
       "1           1  105  26  47    26.989249  94.083800  5.918236   32.816282   \n",
       "2           2   70  60  25    18.751657  21.243104  5.808209   82.755315   \n",
       "3           3   34  65  82    19.696618  14.295643  7.977798   62.238010   \n",
       "4           4   94  36  46    27.210002  90.658402  6.042651  115.917395   \n",
       "\n",
       "        label  \n",
       "0        rice  \n",
       "1   muskmelon  \n",
       "2       maize  \n",
       "3       maize  \n",
       "4  watermelon  "
      ]
     },
     "execution_count": 1,
     "metadata": {},
     "output_type": "execute_result"
    }
   ],
   "source": [
    "%%time\n",
    "import pandas as pd\n",
    "\n",
    "df = pd.read_csv(\"/root/synthetic_crop.csv\")\n",
    "df.head()"
   ]
  },
  {
   "cell_type": "markdown",
   "metadata": {},
   "source": [
    "## GPU Dataframe Read"
   ]
  },
  {
   "cell_type": "code",
   "execution_count": 2,
   "metadata": {},
   "outputs": [
    {
     "name": "stdout",
     "output_type": "stream",
     "text": [
      "CPU times: user 1.83 s, sys: 5.43 s, total: 7.26 s\n",
      "Wall time: 7.89 s\n"
     ]
    },
    {
     "data": {
      "text/html": [
       "<div>\n",
       "<style scoped>\n",
       "    .dataframe tbody tr th:only-of-type {\n",
       "        vertical-align: middle;\n",
       "    }\n",
       "\n",
       "    .dataframe tbody tr th {\n",
       "        vertical-align: top;\n",
       "    }\n",
       "\n",
       "    .dataframe thead th {\n",
       "        text-align: right;\n",
       "    }\n",
       "</style>\n",
       "<table border=\"1\" class=\"dataframe\">\n",
       "  <thead>\n",
       "    <tr style=\"text-align: right;\">\n",
       "      <th></th>\n",
       "      <th>Unnamed: 0</th>\n",
       "      <th>N</th>\n",
       "      <th>P</th>\n",
       "      <th>K</th>\n",
       "      <th>temperature</th>\n",
       "      <th>humidity</th>\n",
       "      <th>ph</th>\n",
       "      <th>rainfall</th>\n",
       "      <th>label</th>\n",
       "    </tr>\n",
       "  </thead>\n",
       "  <tbody>\n",
       "    <tr>\n",
       "      <th>0</th>\n",
       "      <td>0</td>\n",
       "      <td>82</td>\n",
       "      <td>43</td>\n",
       "      <td>41</td>\n",
       "      <td>22.627878</td>\n",
       "      <td>84.111503</td>\n",
       "      <td>6.474200</td>\n",
       "      <td>208.148764</td>\n",
       "      <td>rice</td>\n",
       "    </tr>\n",
       "    <tr>\n",
       "      <th>1</th>\n",
       "      <td>1</td>\n",
       "      <td>105</td>\n",
       "      <td>26</td>\n",
       "      <td>47</td>\n",
       "      <td>26.989249</td>\n",
       "      <td>94.083800</td>\n",
       "      <td>5.918236</td>\n",
       "      <td>32.816282</td>\n",
       "      <td>muskmelon</td>\n",
       "    </tr>\n",
       "    <tr>\n",
       "      <th>2</th>\n",
       "      <td>2</td>\n",
       "      <td>70</td>\n",
       "      <td>60</td>\n",
       "      <td>25</td>\n",
       "      <td>18.751657</td>\n",
       "      <td>21.243104</td>\n",
       "      <td>5.808209</td>\n",
       "      <td>82.755315</td>\n",
       "      <td>maize</td>\n",
       "    </tr>\n",
       "    <tr>\n",
       "      <th>3</th>\n",
       "      <td>3</td>\n",
       "      <td>34</td>\n",
       "      <td>65</td>\n",
       "      <td>82</td>\n",
       "      <td>19.696618</td>\n",
       "      <td>14.295643</td>\n",
       "      <td>7.977798</td>\n",
       "      <td>62.238010</td>\n",
       "      <td>maize</td>\n",
       "    </tr>\n",
       "    <tr>\n",
       "      <th>4</th>\n",
       "      <td>4</td>\n",
       "      <td>94</td>\n",
       "      <td>36</td>\n",
       "      <td>46</td>\n",
       "      <td>27.210002</td>\n",
       "      <td>90.658402</td>\n",
       "      <td>6.042651</td>\n",
       "      <td>115.917395</td>\n",
       "      <td>watermelon</td>\n",
       "    </tr>\n",
       "  </tbody>\n",
       "</table>\n",
       "</div>"
      ],
      "text/plain": [
       "   Unnamed: 0    N   P   K  temperature   humidity        ph    rainfall  \\\n",
       "0           0   82  43  41    22.627878  84.111503  6.474200  208.148764   \n",
       "1           1  105  26  47    26.989249  94.083800  5.918236   32.816282   \n",
       "2           2   70  60  25    18.751657  21.243104  5.808209   82.755315   \n",
       "3           3   34  65  82    19.696618  14.295643  7.977798   62.238010   \n",
       "4           4   94  36  46    27.210002  90.658402  6.042651  115.917395   \n",
       "\n",
       "        label  \n",
       "0        rice  \n",
       "1   muskmelon  \n",
       "2       maize  \n",
       "3       maize  \n",
       "4  watermelon  "
      ]
     },
     "execution_count": 2,
     "metadata": {},
     "output_type": "execute_result"
    }
   ],
   "source": [
    "%%time\n",
    "import cudf\n",
    "\n",
    "df_cudf = cudf.read_csv(\"/root/synthetic_crop.csv\")\n",
    "df_cudf.head()"
   ]
  },
  {
   "cell_type": "markdown",
   "metadata": {},
   "source": [
    "## CPU KNN Training"
   ]
  },
  {
   "cell_type": "code",
   "execution_count": 3,
   "metadata": {},
   "outputs": [
    {
     "name": "stdout",
     "output_type": "stream",
     "text": [
      "KNN Accuracy is:  0.628183\n",
      "CPU times: user 2min 25s, sys: 1.83 s, total: 2min 27s\n",
      "Wall time: 2min 25s\n"
     ]
    }
   ],
   "source": [
    "%%time\n",
    "features = df[['N', 'P','K','temperature', 'humidity', 'ph', 'rainfall']]\n",
    "target = df['label']\n",
    "\n",
    "acc = []\n",
    "model = []\n",
    "\n",
    "from sklearn.model_selection import train_test_split\n",
    "x_train, x_test, y_train, y_test = train_test_split(features,target,test_size = 0.2,random_state=42)\n",
    "\n",
    "from sklearn.neighbors import KNeighborsClassifier\n",
    "from sklearn import metrics\n",
    "from sklearn.metrics import classification_report\n",
    "\n",
    "knn = KNeighborsClassifier()\n",
    "\n",
    "knn.fit(x_train,y_train)\n",
    "\n",
    "predicted_values = knn.predict(x_test)\n",
    "\n",
    "x = metrics.accuracy_score(y_test, predicted_values)\n",
    "acc.append(x)\n",
    "model.append('K Nearest Neighbours')\n",
    "print(\"KNN Accuracy is: \", x)"
   ]
  },
  {
   "cell_type": "markdown",
   "metadata": {},
   "source": [
    "## GPU KNN Training"
   ]
  },
  {
   "cell_type": "code",
   "execution_count": 4,
   "metadata": {},
   "outputs": [
    {
     "name": "stdout",
     "output_type": "stream",
     "text": [
      "CPU times: user 542 ms, sys: 145 ms, total: 686 ms\n",
      "Wall time: 680 ms\n"
     ]
    },
    {
     "data": {
      "text/plain": [
       "0                rice\n",
       "1           muskmelon\n",
       "2               maize\n",
       "3               maize\n",
       "4          watermelon\n",
       "              ...    \n",
       "4999995        cotton\n",
       "4999996         apple\n",
       "4999997        coffee\n",
       "4999998        lentil\n",
       "4999999      chickpea\n",
       "Name: label, Length: 5000000, dtype: object"
      ]
     },
     "execution_count": 4,
     "metadata": {},
     "output_type": "execute_result"
    }
   ],
   "source": [
    "%%time\n",
    "from cuml.preprocessing import LabelEncoder\n",
    "\n",
    "le = LabelEncoder()\n",
    "features_cudf = df_cudf[['N', 'P','K','temperature', 'humidity', 'ph', 'rainfall']]\n",
    "target_cudf = le.fit_transform(df_cudf['label'])\n",
    "\n",
    "target"
   ]
  },
  {
   "cell_type": "code",
   "execution_count": 5,
   "metadata": {},
   "outputs": [
    {
     "name": "stdout",
     "output_type": "stream",
     "text": [
      "KNN Accuracy is:  0.6277909874916077\n",
      "CPU times: user 23 s, sys: 327 ms, total: 23.3 s\n",
      "Wall time: 23 s\n"
     ]
    }
   ],
   "source": [
    "%%time\n",
    "acc = []\n",
    "model = []\n",
    "\n",
    "from cuml.model_selection import train_test_split\n",
    "x_train_cudf, x_test_cudf, y_train_cudf, y_test_cudf = train_test_split(features_cudf,target_cudf,test_size = 0.2,random_state=42)\n",
    "\n",
    "from cuml.neighbors import KNeighborsClassifier\n",
    "from cuml import metrics\n",
    "# from cuml.metrics import classification_report\n",
    "\n",
    "knn = KNeighborsClassifier()\n",
    "\n",
    "knn.fit(x_train_cudf,y_train_cudf)\n",
    "\n",
    "predicted_values = knn.predict(x_test_cudf)\n",
    "\n",
    "x = metrics.accuracy_score(y_test_cudf, predicted_values)\n",
    "acc.append(x)\n",
    "model.append('K Nearest Neighbours')\n",
    "print(\"KNN Accuracy is: \", x)\n",
    "\n",
    "# print(classification_report(y_test,predicted_values))"
   ]
  },
  {
   "cell_type": "markdown",
   "metadata": {},
   "source": [
    "## CPU Decision Tree Training"
   ]
  },
  {
   "cell_type": "code",
   "execution_count": 6,
   "metadata": {},
   "outputs": [
    {
     "name": "stdout",
     "output_type": "stream",
     "text": [
      "Decision Tree's Accuracy is:  52.1575\n",
      "Training accuracy =  0.52228575\n",
      "Testing accuracy =  0.521575\n",
      "CPU times: user 1min 19s, sys: 1.27 s, total: 1min 21s\n",
      "Wall time: 1min 20s\n"
     ]
    }
   ],
   "source": [
    "%%time\n",
    "from sklearn.tree import DecisionTreeClassifier\n",
    "from sklearn import metrics\n",
    "\n",
    "DT = DecisionTreeClassifier(criterion=\"entropy\",random_state=2,max_depth=5)\n",
    "\n",
    "DT.fit(x_train,y_train)\n",
    "\n",
    "predicted_values = DT.predict(x_test)\n",
    "x = metrics.accuracy_score(y_test, predicted_values)\n",
    "acc.append(x)\n",
    "model.append('Decision Tree')\n",
    "print(\"Decision Tree's Accuracy is: \", x*100)\n",
    "\n",
    "#Print Train Accuracy\n",
    "dt_train_accuracy = DT.score(x_train,y_train)\n",
    "print(\"Training accuracy = \",DT.score(x_train,y_train))\n",
    "#Print Test Accuracy\n",
    "dt_test_accuracy = DT.score(x_test,y_test)\n",
    "print(\"Testing accuracy = \",DT.score(x_test,y_test))"
   ]
  },
  {
   "cell_type": "markdown",
   "metadata": {},
   "source": [
    "## GPU Decision Tree Training"
   ]
  },
  {
   "cell_type": "code",
   "execution_count": 7,
   "metadata": {},
   "outputs": [],
   "source": [
    "# %%time\n",
    "# from cuml.tree import DecisionTreeClassifier\n",
    "# from cuml import metrics\n",
    "\n",
    "# DT = DecisionTreeClassifier(criterion=\"entropy\",random_state=2,max_depth=5)\n",
    "\n",
    "# DT.fit(x_train_cudf,y_train_cudf)\n",
    "\n",
    "# predicted_values = DT.predict(x_test_cudf)\n",
    "# x = metrics.accuracy_score(y_test_cudf, predicted_values)\n",
    "# acc.append(x)\n",
    "# model.append('Decision Tree')\n",
    "# print(\"Decision Tree's Accuracy is: \", x*100)\n",
    "\n",
    "# #Print Train Accuracy\n",
    "# dt_train_accuracy = DT.score(x_train_cudf,y_train_cudf)\n",
    "# print(\"Training accuracy = \",DT.score(x_train_cudf,y_train_cudf))\n",
    "# #Print Test Accuracy\n",
    "# dt_test_accuracy = DT.score(x_test_cudf,y_test_cudf)\n",
    "# print(\"Testing accuracy = \",DT.score(x_test_cudf,y_test_cudf))"
   ]
  },
  {
   "cell_type": "markdown",
   "metadata": {},
   "source": [
    "## CPU Random Forest Training"
   ]
  },
  {
   "cell_type": "code",
   "execution_count": 8,
   "metadata": {},
   "outputs": [
    {
     "name": "stdout",
     "output_type": "stream",
     "text": [
      "Random Forest Accuracy is:  0.670755\n",
      "Training accuracy =  0.99648375\n",
      "Testing accuracy =  0.670755\n",
      "CPU times: user 11min 30s, sys: 18.3 s, total: 11min 48s\n",
      "Wall time: 11min 40s\n"
     ]
    }
   ],
   "source": [
    "%%time\n",
    "from sklearn.ensemble import RandomForestClassifier\n",
    "from sklearn import metrics\n",
    "\n",
    "RF = RandomForestClassifier(n_estimators=20, random_state=0)\n",
    "RF.fit(x_train,y_train)\n",
    "\n",
    "predicted_values = RF.predict(x_test)\n",
    "\n",
    "x = metrics.accuracy_score(y_test, predicted_values)\n",
    "acc.append(x)\n",
    "model.append('RF')\n",
    "print(\"Random Forest Accuracy is: \", x)\n",
    "\n",
    "#Print Train Accuracy\n",
    "rf_train_accuracy = RF.score(x_train,y_train)\n",
    "print(\"Training accuracy = \",RF.score(x_train,y_train))\n",
    "#Print Test Accuracy\n",
    "rf_test_accuracy = RF.score(x_test,y_test)\n",
    "print(\"Testing accuracy = \",RF.score(x_test,y_test))"
   ]
  },
  {
   "cell_type": "markdown",
   "metadata": {},
   "source": [
    "## GPU Random Forest Training"
   ]
  },
  {
   "cell_type": "code",
   "execution_count": 9,
   "metadata": {},
   "outputs": [
    {
     "name": "stderr",
     "output_type": "stream",
     "text": [
      "/opt/conda/lib/python3.11/site-packages/cuml/internals/api_decorators.py:344: UserWarning: For reproducible results in Random Forest Classifier or for almost reproducible results in Random Forest Regressor, n_streams=1 is recommended. If n_streams is > 1, results may vary due to stream/thread timing differences, even when random_state is set\n",
      "  return func(**kwargs)\n",
      "/opt/conda/lib/python3.11/site-packages/cuml/internals/api_decorators.py:188: UserWarning: To use pickling first train using float32 data to fit the estimator\n",
      "  ret = func(*args, **kwargs)\n"
     ]
    },
    {
     "name": "stdout",
     "output_type": "stream",
     "text": [
      "Random Forest Accuracy is:  0.6548259854316711\n",
      "Training accuracy =  0.6729572415351868\n",
      "Testing accuracy =  0.6548259854316711\n",
      "CPU times: user 53.6 s, sys: 6 s, total: 59.6 s\n",
      "Wall time: 5.17 s\n"
     ]
    }
   ],
   "source": [
    "%%time\n",
    "from cuml.ensemble import RandomForestClassifier\n",
    "from cuml import metrics\n",
    "\n",
    "RF = RandomForestClassifier(n_estimators=20, random_state=0)\n",
    "RF.fit(x_train_cudf,y_train_cudf)\n",
    "\n",
    "predicted_values = RF.predict(x_test_cudf)\n",
    "\n",
    "x = metrics.accuracy_score(y_test_cudf, predicted_values)\n",
    "acc.append(x)\n",
    "model.append('RF')\n",
    "print(\"Random Forest Accuracy is: \", x)\n",
    "\n",
    "#Print Train Accuracy\n",
    "rf_train_accuracy = RF.score(x_train_cudf,y_train_cudf)\n",
    "print(\"Training accuracy = \",RF.score(x_train_cudf,y_train_cudf))\n",
    "#Print Test Accuracy\n",
    "rf_test_accuracy = RF.score(x_test_cudf,y_test_cudf)\n",
    "print(\"Testing accuracy = \",RF.score(x_test_cudf,y_test_cudf))"
   ]
  },
  {
   "cell_type": "code",
   "execution_count": 10,
   "metadata": {},
   "outputs": [
    {
     "name": "stdout",
     "output_type": "stream",
     "text": [
      "<class 'pandas.core.frame.DataFrame'>\n",
      "RangeIndex: 5000000 entries, 0 to 4999999\n",
      "Data columns (total 9 columns):\n",
      " #   Column       Dtype  \n",
      "---  ------       -----  \n",
      " 0   Unnamed: 0   int64  \n",
      " 1   N            int64  \n",
      " 2   P            int64  \n",
      " 3   K            int64  \n",
      " 4   temperature  float64\n",
      " 5   humidity     float64\n",
      " 6   ph           float64\n",
      " 7   rainfall     float64\n",
      " 8   label        object \n",
      "dtypes: float64(4), int64(4), object(1)\n",
      "memory usage: 343.3+ MB\n",
      "CPU times: user 3.28 s, sys: 493 ms, total: 3.77 s\n",
      "Wall time: 3.73 s\n"
     ]
    }
   ],
   "source": [
    "%%time\n",
    "import pandas as pd\n",
    "\n",
    "df = pd.read_csv(\"/root/synthetic_crop.csv\")\n",
    "\n",
    "df.info()"
   ]
  },
  {
   "cell_type": "code",
   "execution_count": null,
   "metadata": {},
   "outputs": [],
   "source": []
  }
 ],
 "metadata": {
  "kernelspec": {
   "display_name": "Python 3 (ipykernel)",
   "language": "python",
   "name": "python3"
  },
  "language_info": {
   "codemirror_mode": {
    "name": "ipython",
    "version": 3
   },
   "file_extension": ".py",
   "mimetype": "text/x-python",
   "name": "python",
   "nbconvert_exporter": "python",
   "pygments_lexer": "ipython3",
   "version": "3.11.9"
  }
 },
 "nbformat": 4,
 "nbformat_minor": 4
}
