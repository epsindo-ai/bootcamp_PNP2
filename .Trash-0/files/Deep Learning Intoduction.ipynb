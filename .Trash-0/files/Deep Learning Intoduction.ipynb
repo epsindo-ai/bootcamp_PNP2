{
 "cells": [
  {
   "cell_type": "markdown",
   "id": "2e9f158b-d6e4-42c2-9e6a-75acec8f129c",
   "metadata": {},
   "source": [
    "# Bab 1. Pendahuluan\n",
    "---"
   ]
  },
  {
   "cell_type": "markdown",
   "id": "10d9e516-c3ac-456a-90da-4a30817dd5d2",
   "metadata": {
    "tags": []
   },
   "source": [
    "## 1.1 Pengertian Deep Learning\n",
    "Deep learning adalah cabang dari kecerdasan buatan (AI) yang menggunakan model\n",
    "matematika yang disebut neural networks. Mengapa disebut __deep?__ Karena model ini\n",
    "menggunakan banyak lapisan proses pemrosesan data, atau apa yang kita kenal dengan\n",
    "__layers__. Setiap layer berisi node yang melakukan serangkaian kalkulasi matematis\n",
    "sederhana, dan masing-masing layer belajar untuk mengenali fitur yang berbeda dari input\n",
    "yang diberikan.\n",
    "\n",
    "Deep learning bisa dipahami sebagai proses pengekstrakan fitur otomatis dari data dan\n",
    "menggunakannya untuk melakukan prediksi atau keputusan. Ini sangat berbeda dari\n",
    "metode pembelajaran mesin tradisional, di mana fitur harus didefinisikan secara manual\n",
    "dan kemudian dikenakan pada model pembelajaran mesin."
   ]
  },
  {
   "cell_type": "markdown",
   "id": "2e9f34c9-3576-4bc8-a5d0-eb7144ea8435",
   "metadata": {},
   "source": [
    "## 1.2 Sejarah dan Perkembangan Deep Learning\n",
    "\n",
    "Konsep dari neural networks bukanlah ide baru. Sebenarnya, ide tersebut telah ada sejak\n",
    "tahun 1940-an. Namun, deep learning sejati baru berjalan ketika kita memiliki komputasi\n",
    "yang cukup kuat untuk melatih jaringan saraf yang __dalam__.\n",
    "\n",
    "Pada dekade 1980-an dan 1990-an, peneliti mulai bereksperimen dengan jaringan yang lebih\n",
    "dalam, tetapi mereka menemui kendala dalam pelatihan model tersebut. Namun,\n",
    "penemuan kembali algoritma backpropagation pada tahun 1986 memberikan solusi atas\n",
    "masalah ini, memungkinkan gradient dari cost function dapat dihitung secara efisien dan\n",
    "digunakan untuk memperbarui bobot dalam jaringan.\n",
    "\n",
    "Perkembangan signifikan berikutnya datang pada tahun 2012, ketika tim peneliti dari\n",
    "University of Toronto memenangkan kompetisi ImageNet menggunakan model deep\n",
    "learning, Convolutional Neural Network (CNN). Prestasi ini membuktikan keunggulan deep\n",
    "learning dalam tugas-tugas yang melibatkan pengolahan gambar.\n",
    "\n",
    "Sejak saat itu, deep learning telah menjadi bagian integral dari berbagai aplikasi dan\n",
    "industri. Kemampuan untuk memproses dan memahami data besar dalam waktu singkat\n",
    "telah mengubah cara kita berinteraksi dengan teknologi dan dunia sekitar kita.\n"
   ]
  },
  {
   "cell_type": "markdown",
   "id": "d4293ae4-ddb0-46c2-8798-e9ee5ba4c2b4",
   "metadata": {},
   "source": [
    "## 1.3 Aplikasi Deep Learning dalam Kehidupan Sehari-hari\n",
    "\n",
    "Deep learning tidak lagi terbatas pada laboratorium penelitian atau aplikasi industri\n",
    "spesifik. Sekarang, aplikasi deep learning bisa ditemukan di berbagai aspek kehidupan\n",
    "sehari-hari.\n",
    "\n",
    "* __Pengenalan Suara:__ Kita bisa melihat penggunaan deep learning dalam asisten virtual seperti Google Assistant, Siri, atau Alexa yang menggunakan pengenalan suara untuk menerima dan memahami perintah.\n",
    "* __Pengenalan Gambar__: Deep learning digunakan dalam teknologi pengenalan wajah yang digunakan oleh Facebook untuk menandai foto atau oleh Apple dalam sistem Face ID. \n",
    "* __Penerjemahan Bahasa:__ Google Translate menggunakan model deep learning yang dikenal sebagai neural machine translation untuk menerjemahkan antar bahasa.\n",
    "* __Rekomendasi Produk:__ Deep learning juga digunakan oleh perusahaan seperti Amazon dan Netflix untuk memberikan rekomendasi produk atau film yang dipersonalisasi.\n",
    "* __Kendaraan Otonom:__ Deep learning memainkan peran penting dalam pengembangan sistem pengendalian otomatis untuk kendaraan otonom, memungkinkan mereka untuk mengenali dan bereaksi terhadap lingkungan sekitarnya. \n",
    "\n",
    "Pendahuluan ini memberi kita gambaran tentang apa itu deep learning, bagaimana\n",
    "perkembangannya, dan bagaimana kita menggunakannya dalam kehidupan sehari-hari.\n",
    "Selanjutnya, kita akan membahas secara mendalam tentang konsep-konsep penting dalam\n",
    "deep learning dan bagaimana menerapkannya.\n"
   ]
  },
  {
   "cell_type": "markdown",
   "id": "4f8ddaec-109f-428e-80e4-fbf400bdef54",
   "metadata": {},
   "source": [
    "# Bab 2. Pengenalan Konsep Dasar Deep Learning\n",
    "---"
   ]
  },
  {
   "cell_type": "markdown",
   "id": "323ac40a-d96f-41e0-af1e-4298dc682987",
   "metadata": {
    "tags": []
   },
   "source": [
    "## 2.1 Neural Networks\n",
    "\n",
    "Neural Networks (Jaringan Saraf) merupakan pondasi utama dari deep learning. Ide\n",
    "dasarnya diambil dari cara kerja otak manusia dalam memproses informasi. Berikut adalah\n",
    "penjelasan singkat dan padat tentang konsep ini:\n",
    "\n",
    "__Struktur Neural Network__\n",
    "\n",
    "Sebuah Neural Network terdiri dari tiga bagian utama:\n",
    "\n",
    "1. __Input Layer:__ Layer ini menerima input data. Setiap neuron dalam layer ini mewakili satu fitur dari data.\n",
    "2. __Hidden Layer(s):__ Layer ini berada di antara input dan output layer. Jumlah hidden layer dan jumlah neuron dalam setiap layer dapat bervariasi, tergantung pada kompleksitas masalah yang sedang dikerjakan.\n",
    "3. __Output Layer:__ Layer ini memberikan hasil akhir dari neural network. Jumlah neuron dalam layer ini biasanya sama dengan jumlah kelas dalam masalah klasifikasi, atau satu neuron untuk masalah regresi.\n",
    "\n",
    "Setiap neuron dalam satu layer terhubung dengan semua neuron di layer selanjutnya.\n",
    "Hubungan ini diberi bobot, yang di-adjust selama proses pelatihan neural network.\n",
    "\n",
    "__Forward Propagation__\n",
    "\n",
    "Ini adalah langkah pertama dalam proses belajar sebuah neural network. Dalam tahap ini,\n",
    "data dikirimkan melalui jaringan dari input layer ke output layer. Setiap neuron mengambil\n",
    "input, mengalikan dengan bobot, menambahkan bias (sebuah nilai konstan untuk\n",
    "memastikan output tidak nol ketika semua input nol), dan kemudian meneruskan hasil\n",
    "melalui fungsi aktivasi.\n",
    "\n",
    "__Fungsi Aktivasi__\n",
    "\n",
    "Fungsi aktivasi bertugas mengubah input neuron menjadi output yang akan diteruskan ke\n",
    "neuron selanjutnya. Ada beberapa jenis fungsi aktivasi, seperti sigmoid, ReLU (Rectified\n",
    "Linear Unit), dan tanh. Pilihan fungsi aktivasi tergantung pada masalah yang sedang\n",
    "dihadapi dan struktur dari neural network itu sendiri.\n",
    "\n",
    "__Backward Propagation dan Penyesuaian Bobot__\n",
    "\n",
    "Setelah forward propagation, neural network akan menghasilkan output. Output ini\n",
    "kemudian dibandingkan dengan output sebenarnya untuk menghitung kesalahan.\n",
    "Kesalahan ini kemudian dipropagasi mundur melalui jaringan (backward propagation),\n",
    "dimana bobot antar neuron di-adjust berdasarkan kesalahan tersebut. Proses ini berulang-ulang hingga kesalahan mencapai nilai minimum atau setelah sejumlah iterasi tertentu.\n",
    "\n",
    "__Learning Rate__\n",
    "Learning rate adalah parameter yang mengontrol seberapa cepat atau lambat kita ingin\n",
    "model kita belajar. Nilai yang sangat kecil dapat membuat proses belajar menjadi sangat\n",
    "lambat, sedangkan nilai yang terlalu besar bisa menyebabkan model melewatkan minimum\n",
    "global dari fungsi kesalahan.\n",
    "\n",
    "![](../assets/neuralnetwork.png)\n",
    "\n",
    "\n",
    "Diagram ini menunjukkan tiga bagian utama dari Neural Network:\n",
    "1. __Input Layer (Biru):__ Layer ini menerima input data. Setiap neuron dalam layer ini mewakili satu fitur dari data.\n",
    "2. __Hidden Layer(s) (Hijau):__ Layer ini berada di antara input dan output layer. Jumlah hidden layer dan jumlah neuron dalam setiap layer dapat bervariasi, tergantung pada kompleksitas masalah yang sedang dikerjakan.\n",
    "3. __Output Layer (Merah):__ Layer ini memberikan hasil akhir dari neural network. Jumlah neuron dalam layer ini biasanya sama dengan jumlah kelas dalam masalah klasifikasi, atau satu neuron untuk masalah regresi.\n",
    "\n",
    "Setiap neuron dalam satu layer terhubung dengan semua neuron di layer selanjutnya.\n",
    "Hubungan ini diberi bobot, yang di-adjust selama proses pelatihan neural network.\n",
    "\n",
    "Itulah sekilas tentang konsep dasar Neural Networks. Selanjutnya, kita akan membahas\n",
    "lebih detail tentang fungsi aktivasi, fungsi biaya, backpropagation, dan algoritma optimasi.\n"
   ]
  },
  {
   "cell_type": "markdown",
   "id": "3a125996-ac8c-4adf-ad6b-88730b0d1e2e",
   "metadata": {},
   "source": [
    "## 2.2 Activation Functions\n",
    "\n",
    "Fungsi aktivasi memainkan peran penting dalam arsitektur Neural Network. Fungsi ini\n",
    "bertugas untuk menentukan output neuron berdasarkan set input tertentu. Berikut ini\n",
    "adalah ringkasan tentang beberapa fungsi aktivasi yang umum digunakan.\n",
    "\n",
    "__Sigmoid__\n",
    "\n",
    "Sigmoid adalah fungsi aktivasi yang paling sering digunakan. Output dari fungsi ini berkisar\n",
    "antara 0 hingga 1, yang dapat digunakan untuk mengubah angka-arbitrer menjadi\n",
    "probabilitas.\n",
    "\n",
    ">Formula: σ(x) = 1 / (1 + exp(-x))\n",
    "\n",
    "_Keuntungan:_ Output berkisar antara 0 dan 1, berguna untuk mengubah nilai menjadi probabilitas.\n",
    "\n",
    "_Kekurangan:_ Sigmoid menderita dari apa yang dikenal sebagai \"vanishing gradient\n",
    "problem\", dimana untuk nilai input yang sangat besar atau sangat kecil, gradiennya hampir\n",
    "nol. Ini menyulitkan proses pembelajaran.\n",
    "\n",
    "__Tanh__\n",
    "\n",
    "Tanh adalah alternatif lain untuk sigmoid. Output dari fungsi ini berkisar antara -1 hingga 1,\n",
    "yang menjadikannya lebih baik dalam menangani negatif input.\n",
    ">Formula: tanh(x) = 2σ(2x) - 1\n",
    "\n",
    "_Keuntungan:_ Sama seperti sigmoid, tetapi lebih baik menangani input negatif.\n",
    "\n",
    "_Kekurangan:_ Masih menderita vanishing gradient problem.\n",
    "\n",
    "__ReLU (Rectified Linear Unit)__\n",
    "\n",
    "ReLU adalah fungsi aktivasi yang paling umum digunakan di dalam hidden layers dari\n",
    "sebuah neural network. Fungsi ini hanya akan menghasilkan output jika inputnya positif.\n",
    ">Formula: ReLU(x) = max(0, x)\n",
    "\n",
    "_Keuntungan:_ ReLU sangat efisien secara komputasi dan tidak menderita vanishing gradient\n",
    "problem.\n",
    "\n",
    "_Kekurangan:_ ReLU memiliki apa yang dikenal sebagai \"dying ReLU problem\" - jika neuron\n",
    "memberikan output negatif, neuron tersebut akan \"mati\", atau berhenti belajar.\n",
    "\n",
    "__Leaky ReLU__\n",
    "\n",
    "Ini adalah versi modifikasi dari ReLU yang mencoba untuk memecahkan masalah dying\n",
    "ReLU dengan memperkenalkan nilai kecil positif untuk input negatif.\n",
    ">Formula: Leaky ReLU(x) = max(0.01x, x)\n",
    "\n",
    "Keuntungan: Mengatasi masalah dying ReLU.\n",
    "\n",
    "Kekurangan: Hasilnya mungkin tidak stabil untuk data berisik.\n",
    "\n",
    "\n",
    "__Softmax__\n",
    "\n",
    "Fungsi Softmax biasanya digunakan di layer output untuk klasifikasi multi-kelas. Fungsi ini\n",
    "akan mengubah vektor input kedalam vektor probabilitas.\n",
    "\n",
    "\n",
    "Keuntungan: Berguna untuk klasifikasi multi-kelas.\n",
    "\n",
    "Kekurangan: Tidak cocok untuk digunakan di hidden layers.\n",
    "\n",
    "Setiap fungsi aktivasi memiliki keunggulan dan kelemahan sendiri-sendiri. Pilihan fungsi\n",
    "aktivasi yang tepat bergantung pada masalah yang kamu hadapi dan jenis data yang kamu\n",
    "miliki. Selanjutnya, kita akan membahas tentang fungsi biaya dan bagaimana kita bisa\n",
    "menggunakan backpropagation dan algoritma optimasi untuk meminimalkan kesalahan\n",
    "ini.\n",
    "\n",
    "\n"
   ]
  },
  {
   "cell_type": "markdown",
   "id": "3ac95006-aea7-4a63-bddb-3ddd566ce07f",
   "metadata": {},
   "source": [
    "## 2.3 Cost Functions\n",
    "\n",
    "Dalam konteks Neural Networks, Cost Function, juga dikenal sebagai Loss Function, adalah\n",
    "metrik yang digunakan untuk mengukur sejauh mana prediksi model dari nilai yang\n",
    "sebenarnya. Dengan kata lain, cost function memberikan ukuran \"kesalahan\" dalam\n",
    "prediksi model kita. Berikut adalah beberapa jenis cost function yang sering digunakan:\n",
    "\n",
    "__Mean Squared Error (MSE)__\n",
    "MSE adalah cost function yang paling sering digunakan, terutama untuk masalah regresi.\n",
    "Cost function ini menghitung rata-rata kuadrat dari perbedaan antara nilai yang diprediksi\n",
    "dan nilai sebenarnya.\n",
    "\n",
    "> Formula: 𝑀𝑆𝐸 = 1/𝑛 Σ(𝑦𝑖 − 𝑦'𝑖)^2\n",
    "\n",
    "Dimana n adalah jumlah sampel, yi adalah nilai sebenarnya, dan y'i adalah nilai yang\n",
    "diprediksi.\n",
    "\n",
    "__Cross-Entropy__\n",
    "\n",
    "Cross-Entropy adalah cost function yang sering digunakan untuk masalah klasifikasi. Cost\n",
    "function ini mengukur \"jarak\" antara distribusi probabilitas yang diprediksi oleh model dan\n",
    "distribusi probabilitas sebenarnya.\n",
    "\n",
    ">Formula untuk binary classification: 𝐶𝑟𝑜𝑠𝑠 𝐸𝑛𝑡𝑟𝑜𝑝𝑦 = − 1/𝑛 Σ(𝑦𝑖 𝑙𝑜𝑔(𝑦'𝑖) + (1 − 𝑦𝑖) 𝑙𝑜𝑔(1 − 𝑦'𝑖))\n",
    "\n",
    ">Formula untuk multi-class classification: 𝐶𝑟𝑜𝑠𝑠 𝐸𝑛𝑡𝑟𝑜𝑝𝑦 = − 1/𝑛 Σ Σ 𝑦𝑖, 𝑘 𝑙𝑜𝑔(𝑦'𝑖, 𝑘)\n",
    "\n",
    "Dimana n adalah jumlah sampel, yi,k adalah nilai sebenarnya untuk kelas k, dan y'i,k adalah\n",
    "nilai yang diprediksi untuk kelas k.\n",
    "\n",
    "__Log Loss__\n",
    "\n",
    "Log Loss adalah variasi dari Cross-Entropy yang biasanya digunakan dalam klasifikasi biner.\n",
    "Nilainya akan semakin kecil jika model membuat prediksi yang benar dengan tingkat\n",
    "keyakinan yang tinggi.\n",
    "> Formula: 𝐿𝑜𝑔 𝐿𝑜𝑠𝑠 = − 1/𝑛 Σ(𝑦𝑖 𝑙𝑜𝑔(𝑦'𝑖) + (1 − 𝑦𝑖) 𝑙𝑜𝑔(1 − 𝑦'𝑖))\n",
    "\n",
    "Dimana n adalah jumlah sampel, yi adalah nilai sebenarnya, dan y'i adalah nilai yang\n",
    "diprediksi.\n",
    "\n",
    "Cost function memainkan peran penting dalam pelatihan model Neural Network. Tujuan\n",
    "utama pelatihan adalah untuk meminimalkan cost function ini. Untuk melakukan itu, kita\n",
    "perlu menggunakan teknik yang disebut Backpropagation dan berbagai Algoritma Optimasi,\n",
    "yang akan kita bahas di bagian selanjutnya."
   ]
  },
  {
   "cell_type": "markdown",
   "id": "b0cb85c8-9d49-4dbe-bfe0-285cce7ef9c4",
   "metadata": {},
   "source": [
    "## 2.4 Backpropagation\n",
    "\n",
    "Backpropagation adalah metode yang digunakan dalam neural network untuk\n",
    "menyesuaikan bobot dan bias berdasarkan error atau cost yang dihasilkan oleh output\n",
    "network. Backpropagation adalah tulang punggung dari pelatihan neural network dan ini\n",
    "akan kita bahas secara detail dan ringkas di sini.\n",
    "\n",
    "__Konsep Backpropagation__\n",
    "\n",
    "Backpropagation beroperasi dengan menghitung gradien dari error atau cost function\n",
    "sehubungan dengan bobot dan bias dalam network. Gradien ini kemudian digunakan untuk\n",
    "memperbarui bobot dan bias sehingga mengurangi error. Ini dilakukan melalui metode\n",
    "yang dikenal sebagai gradient descent.\n",
    "\n",
    "__Proses Backpropagation__\n",
    "1. __Forward Pass:__ Pertama, kita melakukan forward pass melalui network dengan input kita, menghitung output dari setiap neuron sampai kita mendapatkan output akhir.\n",
    "2. __Hitung Error:__ Setelah forward pass, kita menghitung error dari output dengan membandingkan output network dengan output yang diharapkan.\n",
    "3. __Backward Pass:__ Setelah kita mendapatkan error, kita mulai backward pass. Di sini, kita menghitung gradien dari error terhadap bobot dan bias di setiap layer, mulai dari output layer dan bergerak mundur ke input layer. Gradien ini memberikan kita arah untuk \"mendorong\" bobot dan bias untuk mengurangi error.\n",
    "4. __Update Weights and Biases:__ Setelah kita memiliki gradien, kita dapat menggunakan mereka untuk memperbarui bobot dan bias. Ini biasanya dilakukan dengan mengurangi gradien yang dihitung dari bobot dan bias saat ini, dikalikan dengan learning rate.\n",
    "\n",
    "\n",
    "Proses ini berlangsung berulang kali untuk setiap batch data dalam dataset kita, dan\n",
    "diulangi untuk sejumlah epoch sampai error kita berada di bawah threshold tertentu atau\n",
    "setelah sejumlah epoch yang telah ditentukan.\n",
    "\n",
    "__Peran Fungsi Aktivasi dalam Backpropagation__\n",
    "\n",
    "Fungsi aktivasi berperan penting dalam proses backpropagation. Gradien yang dihitung\n",
    "selama backpropagation melibatkan turunan dari fungsi aktivasi. Oleh karena itu, pilihan\n",
    "fungsi aktivasi dapat mempengaruhi efektivitas backpropagation. Misalnya, fungsi aktivasi\n",
    "seperti sigmoid dan tanh bisa menyebabkan permasalahan vanishing gradients, yang\n",
    "memperlambat proses pelatihan.\n",
    "\n",
    "Itulah intisari dari backpropagation. Meski tampak rumit, sebenarnya itu adalah proses\n",
    "iteratif yang sistematis untuk memperbarui bobot dan bias dalam network kita. Dalam\n",
    "subbab berikutnya, kita akan membahas tentang algoritma optimasi yang digunakan untuk\n",
    "melanjutkan langkah update bobot dan bias ini."
   ]
  },
  {
   "cell_type": "markdown",
   "id": "672dde87-a571-4c07-8727-d88215baf479",
   "metadata": {},
   "source": [
    "## 2.5 Optimization Algorithms\n",
    "\n",
    "Algoritma optimasi digunakan dalam pelatihan neural network untuk memperbarui bobot\n",
    "dan bias dengan tujuan meminimalkan fungsi cost. Ada beberapa algoritma optimasi yang\n",
    "biasa digunakan, dan di bawah ini kita akan membahas beberapa yang paling populer.\n",
    "\n",
    "__Gradient Descent__\n",
    "\n",
    "Bayangkan kamu berada di puncak gunung dan ingin mencapai lembah di bawah. Kamu\n",
    "tidak dapat melihat seluruh jalur, tetapi kamu dapat merasakan kemiringan di sekitar kamu\n",
    "dan memutuskan ke mana harus melangkah selanjutnya. Inilah prinsip dasar dari Gradient\n",
    "Descent. Dalam konteks pembelajaran mesin, \"gunung\" kamu adalah fungsi biaya, dan\n",
    "kamu mencoba mencari \"lembah\" terendah, yaitu, nilai minimum dari fungsi biaya\n",
    "tersebut.\n",
    "\n",
    "Gradient Descent menggunakan kalkulus untuk mencari nilai minimum fungsi biaya. Pada\n",
    "setiap langkah, bobot dan bias diperbarui dengan mengurangi gradien dari fungsi biaya,\n",
    "dikalikan dengan learning rate (η), seperti ini:\n",
    "\n",
    ">𝑤 = 𝑤 − η * ∇𝐽(𝑤)\n",
    "\n",
    "dimana ∇J(w) adalah gradien dari fungsi biaya terhadap bobot.\n",
    "\n",
    "Keuntungan:\n",
    "* Sederhana dan mudah untuk diimplementasikan.\n",
    "* Efektif untuk fungsi biaya yang besar.\n",
    "\n",
    "Kekurangan:\n",
    "* Butuh waktu yang lama untuk konvergen, terutama untuk dataset besar.\n",
    "* Bisa terjebak dalam minimum lokal dan tidak menemukan minimum global (solusiterbaik).\n",
    "\n",
    "__Stochastic Gradient Descent (SGD)__\n",
    "\n",
    "Sekarang bayangkan kamu turun dari gunung, tetapi kali ini, alih-alih merasakan\n",
    "kemiringan di sekitar kamu, kamu hanya merasakan kemiringan di satu titik dan membuat\n",
    "keputusan berdasarkan itu. Itulah SGD. Kamu mengambil satu sampel data pada satu waktu\n",
    "dan melakukan update bobot. Ini membuat prosesnya lebih cepat, tetapi\n",
    "langkah-langkahnya bisa sangat fluktuatif, seperti seseorang yang sedang berjalan-jalan\n",
    "tanpa tujuan.\n",
    "\n",
    "Dalam SGD, kamu menggunakan gradien yang dihitung dari satu sampel data pada suatu\n",
    "waktu, seperti ini:\n",
    "\n",
    ">𝑤 = 𝑤 − η * ∇𝐽(𝑤; 𝑥(𝑖), 𝑦(𝑖))\n",
    "\n",
    "dimana x(i) dan y(i) adalah sampel data dan labelnya.\n",
    "\n",
    "Keuntungan:\n",
    "* Sangat cepat dan efisien untuk dataset yang sangat besar.\n",
    "* Fluktuasi bisa membantu algoritma keluar dari minimum lokal.\n",
    "Kekurangan:\n",
    "* Update bobot bisa sangat fluktuatif dan tidak stabil.\n",
    "\n",
    "__Mini-Batch Gradient Descent__\n",
    "\n",
    "Metode ini adalah gabungan dari dua metode sebelumnya. Kamu merasakan kemiringan di\n",
    "beberapa titik dan membuat keputusan berdasarkan rata-rata. Ini seperti berjalan-jalan\n",
    "dengan grup teman dan memutuskan ke mana harus pergi berdasarkan rata-rata pendapat\n",
    "semua orang. Ini lebih stabil dibandingkan SGD dan lebih cepat dibandingkan Gradient\n",
    "Descent biasa.\n",
    "\n",
    "Mini-Batch Gradient Descent mirip dengan SGD, tetapi gradien dihitung dari sejumlah\n",
    "sampel data, bukan hanya satu, seperti ini:\n",
    "\n",
    ">𝑤 = 𝑤 − η * ∇𝐽(𝑤; 𝑥(𝑖: 𝑖 + 𝑛), 𝑦(𝑖: 𝑖 + 𝑛))\n",
    "\n",
    "dimana x(i:i+n) dan y(i:i+n) adalah batch dari n sampel data dan labelnya.\n",
    "\n",
    "Keuntungan:\n",
    "* Lebih cepat dan stabil dibandingkan SGD.\n",
    "* Bisa memanfaatkan paralelisme perangkat keras dan performa yang lebih baik pada dataset besar.\n",
    "\n",
    "Kekurangan:\n",
    "* Harus memilih ukuran batch yang tepat, yang mungkin tidak mudah.\n",
    "\n",
    "__Momentum__\n",
    "\n",
    "Bayangkan kamu mengendarai sepeda turun dari gunung. Bahkan ketika jalan sedikit\n",
    "menanjak, kamu masih dapat melanjutkan karena kecepatan yang kamu kumpulkan\n",
    "sebelumnya. Momentum dalam konteks ini berfungsi dengan cara yang sama: itu\n",
    "\"mengumpulkan\" update bobot sebelumnya dan menggunakan mereka untuk membantu\n",
    "update saat ini.\n",
    "\n",
    "Momentum menambahkan 'kecepatan' dari update bobot sebelumnya ke update bobot saat\n",
    "ini, seperti ini:\n",
    ">𝑣 = β * 𝑣 − η * ∇𝐽(𝑤)\n",
    ">\n",
    ">𝑤 = 𝑤 + 𝑣\n",
    "\n",
    "dimana v adalah kecepatan (update bobot sebelumnya), dan β adalah faktor momentum.\n",
    "\n",
    "Keuntungan:\n",
    "* Dapat membantu algoritma keluar dari minimum lokal dan mencapai minimum global lebih cepat.\n",
    "* Membantu algoritma konvergen lebih cepat.\n",
    "\n",
    "Kekurangan:\n",
    "* Memerlukan penyetelan parameter tambahan (faktor momentum).\n",
    "\n",
    "__Adaptive Moment Estimation (Adam)__\n",
    "\n",
    "Adam adalah seperti sepeda canggih yang tidak hanya memiliki momentum, tetapi juga\n",
    "dapat menyesuaikan kecepatannya berdasarkan kondisi jalan. Ini berarti bahwa Adam\n",
    "dapat mengubah seberapa cepat atau lambat dia belajar berdasarkan seberapa baik dia\n",
    "melakukannya.\n",
    "\n",
    "Adam tidak hanya menggabungkan ide momentum tetapi juga menghitung rata-rata\n",
    "bergerak dari kuadrat gradien, dan menggunakan kedua nilai ini untuk menyesuaikan\n",
    "learning rate untuk setiap bobot, seperti ini:\n",
    "\n",
    ">𝑚 = β1 * 𝑚 + (1 − β1) * ∇𝐽(𝑤)\n",
    ">\n",
    ">𝑣 = β2 * 𝑣 + (1 − β2) * (∇𝐽(𝑤))^2\n",
    ">\n",
    ">𝑚_ℎ𝑎𝑡 = 𝑚 / (1 − β1^𝑡)\n",
    ">\n",
    ">𝑣_ℎ𝑎𝑡 = 𝑣 / (1 − β2^𝑡)\n",
    ">\n",
    ">𝑤 = 𝑤 − η * 𝑚_ℎ𝑎𝑡 / (𝑠𝑞𝑟𝑡(𝑣_ℎ𝑎𝑡) + ε)\n",
    "\n",
    "dimana m dan v adalah estimasi momentum dan varian gradien, β1 dan β2 adalah faktor\n",
    "peluruhan untuk kedua estimasi, t adalah langkah iterasi, dan ε adalah konstanta kecil\n",
    "untuk stabilitas numerik.\n",
    "\n",
    "Keuntungan:\n",
    "* Efisien dan membutuhkan sedikit memori.\n",
    "* Menyesuaikan learning rate untuk setiap parameter, yang membuatnya lebih fleksibel.\n",
    "\n",
    "Kekurangan:\n",
    "* Lebih rumit untuk dipahami dan diimplementasikan.\n",
    "* Memerlukan penyetelan parameter tambahan.\n",
    "\n",
    "Berikut adalah diagram yang menjelaskan proses kerja Neural Network, termasuk fungsi\n",
    "aktivasi, fungsi cost, backpropagation, dan algoritma optimasi:\n",
    "\n",
    "![](../assets/neuralnetwork2.png)\n",
    "\n",
    "Dalam diagram ini:\n",
    "1. __Input Layer (Biru):__ Layer ini menerima input data. Setiap neuron dalam layer ini mewakili satu fitur dari data.\n",
    "2. __Hidden Layer(s) (Hijau):__ Layer ini berada di antara input dan output layer. Setiap neuron dalam layer ini menerima input, mengalikan dengan bobot, menambahkan bias, dan meneruskan hasil melalui fungsi aktivasi.\n",
    "3. __Output Layer (Merah):__ Layer ini memberikan hasil akhir dari neural network. Setiap neuron dalam layer ini juga menerima input, mengalikan dengan bobot, menambahkan bias, dan meneruskan hasil melalui fungsi aktivasi.\n",
    "4. __Cost Function (Oranye):__ Setelah forward pass, kita menghitung error dari output dengan membandingkan output network dengan output yang diharapkan.\n",
    "5. __Backpropagation (Ungu):__ Setelah kita mendapatkan error, kita mulai backward pass. Di sini, kita menghitung gradien dari error terhadap bobot dan bias di setiap layer, mulai dari output layer dan bergerak mundur ke input layer.\n",
    "6. __Optimization Algorithm (Coklat):__ Setelah kita memiliki gradien, kita dapat menggunakan mereka untuk memperbarui bobot dan bias. Ini biasanya dilakukan dengan mengurangi gradien yang dihitung dari bobot dan bias saat ini, dikalikan dengan learning rate.\n"
   ]
  },
  {
   "cell_type": "markdown",
   "id": "f971bf54-9ea5-4e22-95bc-128085b3c3f3",
   "metadata": {
    "tags": []
   },
   "source": [
    "# Bab 3. Deep Learning Models: Konsep dan Penerapan\n",
    "---"
   ]
  },
  {
   "cell_type": "markdown",
   "id": "ad12c6ad-7843-4f92-9846-09a3b0ef69fb",
   "metadata": {},
   "source": [
    "## 3.1 Multilayer Perceptron (MLP)\n",
    "\n",
    "### 3.1.1 Konsep MLP\n",
    "\n",
    "Multilayer Perceptron (MLP) adalah salah satu model Deep Learning paling fundamental.\n",
    "Sebagaimana namanya, MLP terdiri dari banyak layer neuron atau perceptron. MLP\n",
    "biasanya memiliki tiga jenis layer: input layer, hidden layer, dan output layer.\n",
    "\n",
    "__Struktur MLP__\n",
    "\n",
    "* Input Layer: Layer ini terdiri dari neuron yang merepresentasikan setiap fitur dalam data. Misalnya, jika kamu memiliki data gambar 28x28 pixel, maka input layer akan memiliki 784 neuron.\n",
    "\n",
    "* Hidden Layer: Hidden layer berisi sejumlah neuron yang memproses informasi dari input layer. MLP bisa memiliki lebih dari satu hidden layer, inilah yang membuatnya menjadi \"Deep\" Neural Network.\n",
    "\n",
    "* Output Layer: Layer ini berisi neuron yang merepresentasikan kelas atau nilai output dari masalah kita.\n",
    "\n",
    "Setiap neuron dalam MLP dihubungkan dengan semua neuron di layer sebelum dan\n",
    "sesudahnya. Bobot dan bias dikaitkan dengan setiap koneksi ini, dan ini yang diadjust\n",
    "selama proses training.\n",
    "\n",
    "__Fungsi Aktivasi dalam MLP__\n",
    "\n",
    "MLP biasanya menggunakan fungsi aktivasi non-linear di neuronnya. Ini memungkinkan\n",
    "MLP untuk memodelkan hubungan kompleks dan non-linear antara fitur. Fungsi aktivasi\n",
    "yang paling umum digunakan adalah ReLU, tetapi yang lain seperti sigmoid atau tanh juga\n",
    "dapat digunakan.\n",
    "\n",
    "__Proses Training MLP__\n",
    "\n",
    "MLP dilatih menggunakan metode yang disebut backpropagation dan algoritma optimasi\n",
    "seperti Stochastic Gradient Descent (SGD) atau Adam. Proses training mencakup forward\n",
    "pass di mana prediksi dibuat berdasarkan input saat ini, dan backward pass di mana error\n",
    "dihitung dan bobot dan bias diperbarui. Berikut adalah diagram yang menjelaskan struktur dan proses kerja Multilayer Perceptron\n",
    "(MLP):\n",
    "\n",
    "![](../assets/mlp.png)\n",
    "\n",
    "* Input Layer (Biru): Layer ini menerima input data. Setiap neuron dalam layer ini mewakili satu fitur dari data.\n",
    "* Hidden Layer(s) (Hijau): Layer ini berada di antara input dan output layer. Setiap neuron dalam layer ini menerima input, mengalikan dengan bobot, menambahkan bias, dan meneruskan hasil melalui fungsi aktivasi.\n",
    "* Output Layer (Merah): Layer ini memberikan hasil akhir dari MLP. Setiap neuron dalam layer ini juga menerima input, mengalikan dengan bobot, menambahkan bias, dan meneruskan hasil melalui fungsi aktivasi."
   ]
  },
  {
   "cell_type": "markdown",
   "id": "43272d7a-dc3e-4df0-8a05-b968a1d54e36",
   "metadata": {},
   "source": [
    "## 3.1.2 Penerapan MLP: Code Snippet dan Studi Kasus\n",
    "\n",
    "Misalnya, kita ingin membuat MLP menggunakan library keras dari TensorFlow untuk\n",
    "mengklasifikasi digit dari dataset MNIST. Berikut adalah kode yang kita perlukan:"
   ]
  },
  {
   "cell_type": "code",
   "execution_count": 1,
   "id": "129cd468-4161-4beb-9e61-2c3b7797a87e",
   "metadata": {
    "tags": []
   },
   "outputs": [
    {
     "name": "stderr",
     "output_type": "stream",
     "text": [
      "2025-03-24 04:50:50.705344: E external/local_xla/xla/stream_executor/cuda/cuda_dnn.cc:9261] Unable to register cuDNN factory: Attempting to register factory for plugin cuDNN when one has already been registered\n",
      "2025-03-24 04:50:50.705400: E external/local_xla/xla/stream_executor/cuda/cuda_fft.cc:607] Unable to register cuFFT factory: Attempting to register factory for plugin cuFFT when one has already been registered\n",
      "2025-03-24 04:50:50.707030: E external/local_xla/xla/stream_executor/cuda/cuda_blas.cc:1515] Unable to register cuBLAS factory: Attempting to register factory for plugin cuBLAS when one has already been registered\n",
      "2025-03-24 04:50:50.715700: I tensorflow/core/platform/cpu_feature_guard.cc:182] This TensorFlow binary is optimized to use available CPU instructions in performance-critical operations.\n",
      "To enable the following instructions: AVX2 FMA, in other operations, rebuild TensorFlow with the appropriate compiler flags.\n",
      "2025-03-24 04:50:51.599884: W tensorflow/compiler/tf2tensorrt/utils/py_utils.cc:38] TF-TRT Warning: Could not find TensorRT\n",
      "2025-03-24 04:50:52.550150: E external/local_xla/xla/stream_executor/cuda/cuda_driver.cc:274] failed call to cuInit: CUDA_ERROR_NO_DEVICE: no CUDA-capable device is detected\n"
     ]
    },
    {
     "data": {
      "text/plain": [
       "[PhysicalDevice(name='/physical_device:CPU:0', device_type='CPU')]"
      ]
     },
     "execution_count": 1,
     "metadata": {},
     "output_type": "execute_result"
    }
   ],
   "source": [
    "import tensorflow as tf\n",
    "tf.config.experimental.list_physical_devices()"
   ]
  },
  {
   "cell_type": "code",
   "execution_count": 2,
   "id": "ff6d49f4-4723-4662-a92e-48310cafdda4",
   "metadata": {
    "tags": []
   },
   "outputs": [
    {
     "data": {
      "image/png": "[encoded data removed]",
      "text/plain": [
       "<Figure size 1000x300 with 5 Axes>"
      ]
     },
     "metadata": {},
     "output_type": "display_data"
    }
   ],
   "source": [
    "import tensorflow as tf\n",
    "from tensorflow.keras.models import Sequential\n",
    "from tensorflow.keras.layers import Dense, Flatten\n",
    "from tensorflow.keras.datasets import mnist\n",
    "from tensorflow.keras.utils import to_categorical\n",
    "import matplotlib.pyplot as plt\n",
    "import numpy as np\n",
    "\n",
    "# Load MNIST dataset\n",
    "(x_train, y_train), (x_test, y_test) = mnist.load_data()\n",
    "\n",
    "# Display some sample images\n",
    "fig, axes = plt.subplots(1, 5, figsize=(10, 3))\n",
    "for i in range(5):\n",
    "    axes[i].imshow(x_train[i], cmap='gray')\n",
    "    axes[i].axis('off')\n",
    "plt.suptitle(\"Sample MNIST Images\")\n",
    "plt.show()"
   ]
  },
  {
   "cell_type": "code",
   "execution_count": 3,
   "id": "47f0e4b0-e4dc-4397-a3c1-81127133ca1c",
   "metadata": {
    "tags": []
   },
   "outputs": [
    {
     "name": "stdout",
     "output_type": "stream",
     "text": [
      "Epoch 1/10\n",
      "1875/1875 [==============================] - 6s 3ms/step - loss: 0.2361 - accuracy: 0.9303 - val_loss: 0.1204 - val_accuracy: 0.9628\n",
      "Epoch 2/10\n",
      "1875/1875 [==============================] - 5s 3ms/step - loss: 0.1032 - accuracy: 0.9688 - val_loss: 0.0904 - val_accuracy: 0.9740\n",
      "Epoch 3/10\n",
      "1875/1875 [==============================] - 5s 2ms/step - loss: 0.0724 - accuracy: 0.9770 - val_loss: 0.0822 - val_accuracy: 0.9745\n",
      "Epoch 4/10\n",
      "1875/1875 [==============================] - 5s 3ms/step - loss: 0.0553 - accuracy: 0.9825 - val_loss: 0.0726 - val_accuracy: 0.9795\n",
      "Epoch 5/10\n",
      "1875/1875 [==============================] - 5s 3ms/step - loss: 0.0427 - accuracy: 0.9864 - val_loss: 0.0738 - val_accuracy: 0.9773\n",
      "Epoch 6/10\n",
      "1875/1875 [==============================] - 5s 3ms/step - loss: 0.0363 - accuracy: 0.9883 - val_loss: 0.0816 - val_accuracy: 0.9787\n",
      "Epoch 7/10\n",
      "1875/1875 [==============================] - 5s 3ms/step - loss: 0.0288 - accuracy: 0.9906 - val_loss: 0.0857 - val_accuracy: 0.9777\n",
      "Epoch 8/10\n",
      "1875/1875 [==============================] - 5s 3ms/step - loss: 0.0252 - accuracy: 0.9916 - val_loss: 0.0914 - val_accuracy: 0.9745\n",
      "Epoch 9/10\n",
      "1875/1875 [==============================] - 5s 2ms/step - loss: 0.0221 - accuracy: 0.9925 - val_loss: 0.0796 - val_accuracy: 0.9799\n",
      "Epoch 10/10\n",
      "1875/1875 [==============================] - 5s 3ms/step - loss: 0.0191 - accuracy: 0.9938 - val_loss: 0.1015 - val_accuracy: 0.9734\n"
     ]
    }
   ],
   "source": [
    "# Preprocess data\n",
    "x_train = x_train.reshape(-1, 784).astype('float32') / 255\n",
    "x_test = x_test.reshape(-1, 784).astype('float32') / 255\n",
    "y_train = to_categorical(y_train)\n",
    "y_test = to_categorical(y_test)\n",
    "\n",
    "# Create model\n",
    "model = Sequential([\n",
    "    Dense(128, activation='relu', input_dim=784),\n",
    "    Dense(64, activation='relu'),\n",
    "    Dense(10, activation='softmax'),\n",
    "])\n",
    "\n",
    "# Compile model\n",
    "model.compile(optimizer='adam', loss='categorical_crossentropy', metrics=['accuracy'])\n",
    "\n",
    "# Train model with history tracking\n",
    "history = model.fit(x_train, y_train, epochs=10, batch_size=32, validation_data=(x_test, y_test))"
   ]
  },
  {
   "cell_type": "code",
   "execution_count": 4,
   "id": "7bf971ed-ea52-401d-b277-b893918383b3",
   "metadata": {
    "tags": []
   },
   "outputs": [
    {
     "data": {
      "image/png": "[encoded data removed]",
      "text/plain": [
       "<Figure size 1200x400 with 2 Axes>"
      ]
     },
     "metadata": {},
     "output_type": "display_data"
    },
    {
     "name": "stdout",
     "output_type": "stream",
     "text": [
      "313/313 [==============================] - 0s 987us/step - loss: 0.1015 - accuracy: 0.9734\n",
      "Test Accuracy: 97.34%\n"
     ]
    }
   ],
   "source": [
    "# Plot training history\n",
    "plt.figure(figsize=(12, 4))\n",
    "plt.subplot(1, 2, 1)\n",
    "plt.plot(history.history['loss'], label='Training Loss')\n",
    "plt.plot(history.history['val_loss'], label='Validation Loss')\n",
    "plt.xlabel('Epoch')\n",
    "plt.ylabel('Loss')\n",
    "plt.legend()\n",
    "plt.title('Loss Over Time')\n",
    "\n",
    "plt.subplot(1, 2, 2)\n",
    "plt.plot(history.history['accuracy'], label='Training Accuracy')\n",
    "plt.plot(history.history['val_accuracy'], label='Validation Accuracy')\n",
    "plt.xlabel('Epoch')\n",
    "plt.ylabel('Accuracy')\n",
    "plt.legend()\n",
    "plt.title('Accuracy Over Time')\n",
    "plt.show()\n",
    "\n",
    "# Evaluate model\n",
    "loss, accuracy = model.evaluate(x_test, y_test)\n",
    "print(f\"Test Accuracy: {accuracy * 100:.2f}%\")"
   ]
  },
  {
   "cell_type": "code",
   "execution_count": 5,
   "id": "7662f734-40bb-4e0f-b266-1f50149f0003",
   "metadata": {
    "tags": []
   },
   "outputs": [
    {
     "name": "stdout",
     "output_type": "stream",
     "text": [
      "1/1 [==============================] - 0s 66ms/step\n"
     ]
    },
    {
     "data": {
      "image/png": "[encoded data removed]",
      "text/plain": [
       "<Figure size 1000x300 with 5 Axes>"
      ]
     },
     "metadata": {},
     "output_type": "display_data"
    }
   ],
   "source": [
    "# Predict on test set and visualize some results\n",
    "predictions = np.argmax(model.predict(x_test[:5]), axis=1)\n",
    "y_true = np.argmax(y_test[:5], axis=1)\n",
    "\n",
    "fig, axes = plt.subplots(1, 5, figsize=(10, 3))\n",
    "for i in range(5):\n",
    "    axes[i].imshow(x_test[i].reshape(28, 28), cmap='gray')\n",
    "    axes[i].set_title(f\"Pred: {predictions[i]}\\nTrue: {y_true[i]}\")\n",
    "    axes[i].axis('off')\n",
    "plt.suptitle(\"Predictions vs True Labels\")\n",
    "plt.show()"
   ]
  },
  {
   "cell_type": "markdown",
   "id": "56eb3d9a-6118-42e0-ba4a-cc60d62e12dd",
   "metadata": {},
   "source": [
    "Dalam contoh ini, kita melatih MLP dengan dua hidden layer, masing-masing dengan 64\n",
    "neuron, untuk mengklasifikasi gambar digit dari dataset MNIST. MLP berhasil mencapai\n",
    "akurasi sekitar 97%, menunjukkan bahwa meski sederhana, MLP mampu menangani\n",
    "masalah klasifikasi gambar dengan cukup baik.\n",
    "\n",
    "__Tips dan Trik__\n",
    "1. __Inisialisasi Bobot:__ Menginisialisasi bobot dengan nilai yang baik penting. Beberapa metode yang dapat digunakan termasuk inisialisasi normal, Xavier, dan He.\n",
    "2. __Fungsi Aktivasi:__ Fungsi aktivasi ReLU sering digunakan di lapisan tersembunyi karena dapat mengatasi masalah vanishing gradient. Sigmoid atau softmax biasanya digunakan di lapisan output, tergantung pada tugas yang dihadapi (klasifikasi biner atau multi-kelas).\n",
    "3. __Pengoptimal:__ Ada banyak pengoptimal yang dapat digunakan, tetapi Adam adalah salah satu yang paling umum karena konvergensinya yang cepat dan efisien.\n",
    "4. __Overfitting dan Underfitting:__ Jika model terlalu kompleks, itu bisa overfitting ke data latihan dan memiliki kinerja buruk pada data test. Jika model terlalu sederhana, itu bisa underfitting dan memiliki kinerja buruk pada kedua data latihan dan test. Strategi seperti menambah atau mengurangi jumlah neuron atau lapisan, menambah dropout, dan menambah regularisasi dapat membantu mengatasi masalah ini.\n",
    "5. __Pelatihan dan Evaluasi Model:__ Memastikan bahwa model dilatih dengan jumlah epoch yang cukup penting. Juga, selalu evaluasi model dengan data validasi dan test untuk memastikan bahwa model dapat memgeneralisasi dengan baik untuk data yang belum pernah dilihat sebelumnya."
   ]
  },
  {
   "cell_type": "markdown",
   "id": "94fad1be-c687-4971-bda1-bb47ff438bb3",
   "metadata": {},
   "source": [
    "## 3.2 Convolutional Neural Network (CNN)\n",
    "### 3.2.1 Konsep CNN\n",
    "\n",
    "Convolutional Neural Network (CNN) adalah jenis khusus dari neural networks yang\n",
    "dirancang khusus untuk memproses data dengan struktur grid seperti gambar. CNN telah\n",
    "sukses besar dalam berbagai aplikasi pengenalan gambar dan video.\n",
    "\n",
    "__Struktur CNN__\n",
    "1. __Convolutional Layer:__ Layer konvolusi adalah elemen inti dari CNN. Dalam layer ini, beberapa filter digunakan untuk melakukan operasi konvolusi pada input. Hasil dari operasi ini disebut feature map atau activation map.\n",
    "2. __Pooling Layer:__ Pooling layer bertujuan untuk mengurangi dimensionalitas data. Ada berbagai teknik pooling, termasuk max pooling, average pooling, dan sum pooling.\n",
    "3. __Fully Connected Layer:__ Fully connected layer menghubungkan setiap neuron di layer sebelumnya ke setiap neuron di layer berikutnya, mirip dengan apa yang kita lihat di MLP. Biasanya, fully connected layer ditempatkan di akhir arsitektur CNN, dan bertugas untuk menghasilkan prediksi akhir model.\n",
    "\n",
    "__Fungsi Aktivasi dalam CNN__\n",
    "\n",
    "ReLU (Rectified Linear Unit) adalah fungsi aktivasi yang paling sering digunakan dalam\n",
    "CNN. Fungsi ini mampu mempercepat konvergensi jaringan neural dibandingkan dengan\n",
    "sigmoid atau tanh.\n",
    "\n",
    "__Proses Training CNN__\n",
    "\n",
    "Proses pelatihan CNN serupa dengan MLP. Kami menggunakan metode seperti\n",
    "backpropagation dan algoritma optimasi seperti Adam atau SGD untuk melatih model kami.\n",
    "Kita menghitung error dengan fungsi kerugian seperti cross-entropy, dan mengupdate\n",
    "bobot dan bias berdasarkan gradien dari error tersebut.\n",
    "\n",
    "Berikut adalah diagram yang menjelaskan struktur dan proses kerja Convolutional Neural\n",
    "Network (CNN):\n",
    "\n",
    "![](../assets/CNN.png)\n",
    "\n",
    "1. __Input Layer (Biru):__ Layer ini menerima input data berupa gambar.\n",
    "2. __Convolutional Layer (Hijau):__ Layer ini melakukan operasi konvolusi pada input menggunakan beberapa filter, menghasilkan feature maps.\n",
    "3. __Pooling Layer (Kuning):__ Layer ini melakukan operasi pooling pada feature maps untuk mengurangi dimensionalitas data.\n",
    "4. __Fully Connected Layer (Merah):__ Layer ini menghubungkan setiap neuron di layer sebelumnya ke setiap neuron di layer berikutnya, mirip dengan apa yang kita lihat di MLP.\n",
    "5. __Output Layer (Ungu):__ Layer ini memberikan hasil akhir atau prediksi dari CNN."
   ]
  },
  {
   "cell_type": "markdown",
   "id": "8dfb3df7-53c1-409e-8e68-e85b9a0c799f",
   "metadata": {},
   "source": [
    "### 3.2.2 Penerapan CNN: Code Snippet dan Studi Kasus"
   ]
  },
  {
   "cell_type": "code",
   "execution_count": 6,
   "id": "cff4e980-9674-40d8-a055-1caba8b28bb4",
   "metadata": {
    "tags": []
   },
   "outputs": [
    {
     "data": {
      "text/plain": [
       "{'status': 'ok', 'restart': True}"
      ]
     },
     "execution_count": 6,
     "metadata": {},
     "output_type": "execute_result"
    }
   ],
   "source": [
    "# restart kernel\n",
    "import ipykernel\n",
    "get_ipython().kernel.do_shutdown(True)"
   ]
  },
  {
   "cell_type": "markdown",
   "id": "4a056462-1883-45e1-8c72-0fb748835979",
   "metadata": {},
   "source": [
    "#### 1. Pendahuluan\n",
    "\n",
    "Convolutional Neural Network (CNN) adalah jenis jaringan saraf tiruan yang banyak digunakan dalam pemrosesan citra. Pada proyek ini, kita akan menggunakan CNN untuk melakukan klasifikasi angka tulisan tangan (digit recognition) menggunakan dataset yang tersedia dalam format CSV.\n",
    "\n",
    "Dataset yang digunakan adalah dataset digit yang terdiri dari gambar angka berukuran 28x28 piksel dalam bentuk nilai piksel (grayscale) yang telah diratakan ke dalam satu baris. Setiap gambar memiliki label yang menunjukkan angka dari 0 hingga 9."
   ]
  },
  {
   "cell_type": "markdown",
   "id": "47d7f610-b5fe-41d9-a698-a445e44c4a8b",
   "metadata": {},
   "source": [
    "#### 2. Import Library\n",
    "\n",
    "Kita akan mengimpor berbagai pustaka yang dibutuhkan untuk pemrosesan data, pembuatan model CNN, serta evaluasi model."
   ]
  },
  {
   "cell_type": "code",
   "execution_count": 1,
   "id": "466e3969-b7c0-49a5-8398-290ce698d8b0",
   "metadata": {},
   "outputs": [
    {
     "name": "stderr",
     "output_type": "stream",
     "text": [
      "2025-03-24 04:53:50.741345: E external/local_xla/xla/stream_executor/cuda/cuda_dnn.cc:9261] Unable to register cuDNN factory: Attempting to register factory for plugin cuDNN when one has already been registered\n",
      "2025-03-24 04:53:50.741394: E external/local_xla/xla/stream_executor/cuda/cuda_fft.cc:607] Unable to register cuFFT factory: Attempting to register factory for plugin cuFFT when one has already been registered\n",
      "2025-03-24 04:53:50.743020: E external/local_xla/xla/stream_executor/cuda/cuda_blas.cc:1515] Unable to register cuBLAS factory: Attempting to register factory for plugin cuBLAS when one has already been registered\n",
      "2025-03-24 04:53:50.751793: I tensorflow/core/platform/cpu_feature_guard.cc:182] This TensorFlow binary is optimized to use available CPU instructions in performance-critical operations.\n",
      "To enable the following instructions: AVX2 FMA, in other operations, rebuild TensorFlow with the appropriate compiler flags.\n",
      "2025-03-24 04:53:51.688631: W tensorflow/compiler/tf2tensorrt/utils/py_utils.cc:38] TF-TRT Warning: Could not find TensorRT\n"
     ]
    }
   ],
   "source": [
    "import numpy as np # linear algebra\n",
    "import pandas as pd # data processing, CSV file I/O (e.g. pd.read_csv)\n",
    "import matplotlib.pyplot as plt\n",
    "from sklearn.model_selection import train_test_split\n",
    "from keras.models import Sequential, load_model\n",
    "from keras.callbacks import EarlyStopping, ModelCheckpoint\n",
    "from keras import layers\n",
    "from keras import utils\n",
    "from tqdm import tqdm"
   ]
  },
  {
   "cell_type": "markdown",
   "id": "df7fc4ff-d6d8-42b9-9111-1edfbfa5ef70",
   "metadata": {},
   "source": [
    "#### 3. Load Dataset\n",
    "\n",
    "Dataset pelatihan dimuat menggunakan Pandas."
   ]
  },
  {
   "cell_type": "code",
   "execution_count": null,
   "id": "b44cc72b-944d-4d2e-be47-b87588c21e6d",
   "metadata": {},
   "outputs": [],
   "source": [
    "train_df = pd.read_csv('train.csv')\n",
    "train_df.head()"
   ]
  },
  {
   "cell_type": "markdown",
   "id": "18de3d79-515e-4b77-a75d-9ac9c3743947",
   "metadata": {},
   "source": [
    "Melihat ukuran dataset:"
   ]
  },
  {
   "cell_type": "code",
   "execution_count": null,
   "id": "1804f4bb-0a00-4865-ad5d-58ca4448879b",
   "metadata": {},
   "outputs": [],
   "source": [
    "train_df.shape\n",
    "train_df.describe()"
   ]
  },
  {
   "cell_type": "markdown",
   "id": "4b02b68d-887c-49b0-9e29-1252bee04004",
   "metadata": {},
   "source": [
    "## Split label & image\n",
    "\n",
    "- Dataset terdiri dari label (kolom pertama) --> `X_train` (training labels)\n",
    "- dan nilai piksel gambar (kolom 1 hingga 784) --> `y_train` (training images)"
   ]
  },
  {
   "cell_type": "code",
   "execution_count": null,
   "id": "82b4ee5e-2f40-4507-aaf8-ee991728cbf9",
   "metadata": {},
   "outputs": [],
   "source": [
    "X_train = train_df.iloc[:, 1:]\n",
    "y_train = train_df.iloc[:, 0]"
   ]
  },
  {
   "cell_type": "markdown",
   "id": "835977dc-906c-424e-a73f-f5768ce7a898",
   "metadata": {},
   "source": [
    "Melihat ukuran data:"
   ]
  },
  {
   "cell_type": "code",
   "execution_count": null,
   "id": "d4ca01f2-1a56-4459-a27a-43d164bc8df2",
   "metadata": {},
   "outputs": [],
   "source": [
    "X_train.shape, y_train.shape"
   ]
  },
  {
   "cell_type": "markdown",
   "id": "4c648fac-1b2c-4270-a387-25639b31d986",
   "metadata": {},
   "source": [
    "#### 5. Visualisasi Data Contoh\n",
    "\n",
    "Kita akan melihat salah satu sampel data untuk memahami bagaimana data direpresentasikan."
   ]
  },
  {
   "cell_type": "code",
   "execution_count": null,
   "id": "530b039b-37ee-4191-aee9-b15e0ad7cfe1",
   "metadata": {},
   "outputs": [],
   "source": [
    "W, H = 28, 28\n",
    "sample = X_train.loc[42]\n",
    "plt.imshow(sample.values.reshape(W, H), cmap=plt.cm.gray)"
   ]
  },
  {
   "cell_type": "markdown",
   "id": "bb653370-4bcd-4b98-8ca1-1cc375cfdfb5",
   "metadata": {},
   "source": [
    "#### 6. Normalisasi Data\n",
    "\n",
    "Agar pelatihan lebih optimal, kita melakukan normalisasi nilai piksel ke dalam rentang 0-1."
   ]
  },
  {
   "cell_type": "code",
   "execution_count": null,
   "id": "34a4f9b9-d980-460c-bf9d-432f542b94f1",
   "metadata": {},
   "outputs": [],
   "source": [
    "X_train = X_train.astype('float32') / 255"
   ]
  },
  {
   "cell_type": "code",
   "execution_count": null,
   "id": "4934f3af-cf49-40e2-a3c4-b63f17858015",
   "metadata": {},
   "outputs": [],
   "source": [
    "X_train.describe()"
   ]
  },
  {
   "cell_type": "markdown",
   "id": "359fac81-ac4a-42d3-a01e-436a83f3b4ac",
   "metadata": {},
   "source": [
    "#### 7. Ubah Bentuk Data agar Sesuai dengan CNN\n",
    "\n",
    "CNN memerlukan input dalam bentuk `(batch, width, height, channels)`. Oleh karena itu, kita perlu mengubah bentuk data."
   ]
  },
  {
   "cell_type": "code",
   "execution_count": null,
   "id": "e386589c-7f33-46fc-8205-3ed376923c6c",
   "metadata": {},
   "outputs": [],
   "source": [
    "X_train = X_train.values.reshape(-1, W, H, 1)"
   ]
  },
  {
   "cell_type": "code",
   "execution_count": null,
   "id": "ea2199f8-2cee-48ad-8f4c-06b17816e0a4",
   "metadata": {},
   "outputs": [],
   "source": [
    "X_train.shape"
   ]
  },
  {
   "cell_type": "markdown",
   "id": "8849f04f-9424-48bf-9e76-8eb950282c7d",
   "metadata": {
    "tags": []
   },
   "source": [
    "#### 8. One-Hot Encoding Label (y)\n",
    "\n",
    "Karena output CNN harus berbentuk kategori, kita mengubah label menjadi bentuk one-hot encoding."
   ]
  },
  {
   "cell_type": "code",
   "execution_count": null,
   "id": "89f1fb99-83db-4715-b7e6-d6ff7d43593f",
   "metadata": {},
   "outputs": [],
   "source": [
    "number_of_classes = y_train.nunique()\n",
    "y_train = utils.to_categorical(y_train, number_of_classes)"
   ]
  },
  {
   "cell_type": "code",
   "execution_count": null,
   "id": "75347a45-ae71-46dd-b185-aa153c8cdf35",
   "metadata": {},
   "outputs": [],
   "source": [
    "y_train.shape"
   ]
  },
  {
   "cell_type": "code",
   "execution_count": null,
   "id": "db3b1f97-9710-459d-a487-2e6fcec04e17",
   "metadata": {},
   "outputs": [],
   "source": [
    "y_train"
   ]
  },
  {
   "cell_type": "markdown",
   "id": "c778b648-96cd-45ea-967f-0ad2a4ac8a07",
   "metadata": {},
   "source": [
    "#### 9. Definisi Model CNN\n",
    "\n",
    "Kita akan membangun model CNN dengan arsitektur sebagai berikut:\n",
    "\n",
    "* 2 lapisan konvolusi dengan 32 dan 64 filter ukuran 5x5\n",
    "\n",
    "* Lapisan MaxPooling setelah setiap lapisan konvolusi\n",
    "\n",
    "* Dropout untuk mencegah overfitting\n",
    "\n",
    "* Lapisan Dense (fully connected layer) sebelum output\n",
    "\n",
    "    * _input shape `(width, height, channels)`_\n",
    "\n",
    "    * _output layer's units (number_of_classes)_"
   ]
  },
  {
   "cell_type": "code",
   "execution_count": null,
   "id": "20564f43-a33e-4165-85e0-4b71d9457f39",
   "metadata": {
    "tags": []
   },
   "outputs": [],
   "source": [
    "input_shape = (W, H, 1)\n",
    "\n",
    "model = Sequential()\n",
    "\n",
    "model.add(layers.Conv2D(filters=32, kernel_size=(5,5), padding='same', activation='relu', input_shape=input_shape))\n",
    "model.add(layers.MaxPool2D())\n",
    "model.add(layers.Dropout(0.4))\n",
    "\n",
    "model.add(layers.Conv2D(filters=64, kernel_size=(5,5), padding='same', activation='relu'))\n",
    "model.add(layers.MaxPool2D())\n",
    "model.add(layers.Dropout(0.4))\n",
    "\n",
    "model.add(layers.Flatten())\n",
    "model.add(layers.Dense(128, activation='relu'))\n",
    "model.add(layers.Dropout(0.4))\n",
    "\n",
    "model.add(layers.Dense(number_of_classes, activation='softmax'))\n",
    "\n",
    "model.compile(loss='categorical_crossentropy', optimizer='adam', metrics=['accuracy'])\n",
    "\n",
    "model.summary()"
   ]
  },
  {
   "cell_type": "markdown",
   "id": "5134808a-afb4-4336-900d-2ebc4735ed3b",
   "metadata": {},
   "source": [
    "#### 10. Early Stopping dan Model Checkpoint\n",
    "\n",
    "`EarlyStopping()` digunakan untuk menghentikan pelatihan otomatis jika tidak ada peningkatan pada nilai yang dipantau (val_loss), mencegah overfitting.\n",
    "\n",
    "`ModelCheckpoint()` untuk menyimpan model dengan performa terbaik, memastikan kita menggunakan model optimal bukan model dari epoch terakhir."
   ]
  },
  {
   "cell_type": "code",
   "execution_count": null,
   "id": "b0014bc1-32d0-4bc4-a97b-2f0edb38d0fd",
   "metadata": {},
   "outputs": [],
   "source": [
    "early_stopping = EarlyStopping(monitor='val_loss', patience=8, verbose=1, mode='min')\n",
    "mcp_save = ModelCheckpoint('digit_recognizer.h5', save_best_only=True, monitor='val_loss', verbose=1, mode='auto')"
   ]
  },
  {
   "cell_type": "markdown",
   "id": "682d7f3f-d232-4a97-ba67-1ee2db677fd7",
   "metadata": {},
   "source": [
    "#### 11. Pelatihan Model\n",
    "\n",
    "Kita melatih model menggunakan dataset dengan 80% data pelatihan dan 20% data validasi.\n",
    "\n",
    "Fungsi `model.fit()` akan mengembalikan kamus (dictionary) data pelatihan yang mencakup loss, val_loss, accuracy, dan val_accuracy."
   ]
  },
  {
   "cell_type": "code",
   "execution_count": null,
   "id": "22009e4d-10ae-408b-89ee-7035af6a8eba",
   "metadata": {},
   "outputs": [],
   "source": [
    "history = model.fit(X_train,\n",
    "                    y_train, \n",
    "                    epochs=100, \n",
    "                    batch_size=32, \n",
    "                    verbose=1, \n",
    "                    validation_split=0.2,\n",
    "                    callbacks=[early_stopping, mcp_save])"
   ]
  },
  {
   "cell_type": "markdown",
   "id": "2ff35125-6fae-4f4b-8ad2-16163890357c",
   "metadata": {},
   "source": [
    "#### 12. Visualisasi Hasil Pelatihan\n",
    "\n",
    "Fungsi berikut digunakan untuk memplot grafik akurasi dan loss."
   ]
  },
  {
   "cell_type": "code",
   "execution_count": null,
   "id": "ea5783db-0caf-4d0e-b838-6a026b4cd752",
   "metadata": {},
   "outputs": [],
   "source": [
    "# function to plot accuracy / loss\n",
    "def plotgraph(epochs, acc, val_acc):\n",
    "    # Plot training & validation accuracy values\n",
    "    plt.plot(epochs, acc, 'b')\n",
    "    plt.plot(epochs, val_acc, 'r')\n",
    "    plt.title('Model accuracy')\n",
    "    plt.ylabel('Accuracy')\n",
    "    plt.xlabel('Epoch')\n",
    "    plt.legend(['Train', 'Val'], loc='upper left')\n",
    "    plt.show()"
   ]
  },
  {
   "cell_type": "markdown",
   "id": "16a49ecd-325a-4d2c-974e-b3f02e5e01da",
   "metadata": {},
   "source": [
    "Menampilkan hasil pelatihan:"
   ]
  },
  {
   "cell_type": "code",
   "execution_count": null,
   "id": "aecbe7f3-4bf9-42dd-be67-bfabe7875183",
   "metadata": {},
   "outputs": [],
   "source": [
    "accuracy = history.history['accuracy']\n",
    "val_accuracy = history.history['val_accuracy']\n",
    "loss = history.history['loss']\n",
    "val_loss = history.history['val_loss']\n",
    "epochs = range(len(accuracy))\n",
    "\n",
    "plotgraph(epochs, accuracy, val_accuracy)\n",
    "plotgraph(epochs, loss, val_loss)"
   ]
  },
  {
   "cell_type": "markdown",
   "id": "1a6915f0-c19b-4676-bc2e-c1dd86e34e3a",
   "metadata": {},
   "source": [
    "#### 13. Pengolahan Data Uji\n",
    "\n",
    "Melakukan preprocessing yang sama seperti data latih."
   ]
  },
  {
   "cell_type": "code",
   "execution_count": null,
   "id": "89025c32-5be5-41f1-8bb2-30a715a54945",
   "metadata": {},
   "outputs": [],
   "source": [
    "test_df = pd.read_csv('test.csv')\n",
    "\n",
    "# Scale pixel values\n",
    "X_test = test_df.values.astype('float32') / 255\n",
    "\n",
    "# Reshape flattened image pixel values to (batch, width, height, channels)\n",
    "X_test = X_test.reshape(-1, W, H, 1)\n",
    "print(X_test.shape)"
   ]
  },
  {
   "cell_type": "markdown",
   "id": "cad24b13-07e1-4ad9-b6b1-a3de57e3d09f",
   "metadata": {},
   "source": [
    "#### 14. Prediksi Data Uji\n",
    "\n",
    "Kita akan memuat model terbaik dan melakukan prediksi. Setiap item dari prediksi `y_pred` adalah daftar dengan panjang 10 (unit lapisan output/jumlah kelas), berisi nilai akurasi untuk setiap label yang diprediksi.\n",
    "(nilai pada indeks 1 adalah 0,93, artinya label `1` memiliki akurasi 93% yang juga berarti gambar ini 93% kemungkinan adalah `1`)"
   ]
  },
  {
   "cell_type": "code",
   "execution_count": null,
   "id": "11790fd6-8b5d-48c4-a64d-81fa17ad217d",
   "metadata": {},
   "outputs": [],
   "source": [
    "model = load_model('digit_recognizer.h5')\n",
    "y_pred = model.predict(X_test)"
   ]
  },
  {
   "cell_type": "markdown",
   "id": "1eebbf48-49e8-4cbc-8f3b-d9eb4b9d411e",
   "metadata": {},
   "source": [
    "__Visualisasi beberapa prediksi:__\n",
    "\n",
    "Gunakan `.argmax()` untuk mendapatkan akurasi tertinggi dalam daftar prediksi (label yang diprediksi).\n",
    "Plot gambar dari entri 10 sampai 16 dan letakkan label yang diprediksi sebagai judul."
   ]
  },
  {
   "cell_type": "code",
   "execution_count": null,
   "id": "adb40fa2-da0e-48ad-b642-d36f5119d935",
   "metadata": {},
   "outputs": [],
   "source": [
    "for i in range(10, 16):\n",
    "    plt.subplot(280 + (i%10+1))\n",
    "    plt.imshow(X_test[i].reshape(28, 28), cmap=plt.cm.gray)\n",
    "    plt.title(y_pred[i].argmax())\n",
    "plt.show()"
   ]
  },
  {
   "cell_type": "markdown",
   "id": "61e79f72-c13b-4809-9dd2-eff7954d857e",
   "metadata": {},
   "source": [
    "#### 15. Menyiapkan Submission File\n",
    "\n",
    "Membuat format CSV untuk submission."
   ]
  },
  {
   "cell_type": "code",
   "execution_count": null,
   "id": "35cf3db9-5457-4d39-ad4d-4e33bdffbbb8",
   "metadata": {
    "tags": []
   },
   "outputs": [],
   "source": [
    "output = []\n",
    "for index, prediction in tqdm(enumerate(y_pred), total=y_pred.shape[0]):\n",
    "    output.append({\"ImageId\": index + 1, \"Label\": prediction.argmax()})\n",
    "\n",
    "submission_df = pd.DataFrame(output)\n",
    "#submission_df.head()\n",
    "\n",
    "submission_df.to_csv('submission.csv', index=False)"
   ]
  },
  {
   "cell_type": "markdown",
   "id": "4123f412-8eef-4fca-bfb6-e2a7314c9bc7",
   "metadata": {},
   "source": [
    "---"
   ]
  },
  {
   "cell_type": "markdown",
   "id": "7d01f1eb-3aab-4b45-afb4-4907af2bc853",
   "metadata": {},
   "source": [
    "#### Klasifikasi Gambar CIFAR-10 dengan CNN\n",
    "\n",
    "#### 1. Pendahuluan\n",
    "\n",
    "Convolutional Neural Network (CNN) adalah jenis jaringan saraf tiruan yang secara khusus dirancang untuk menangani data dalam bentuk gambar. Pada proyek ini, kita akan menerapkan CNN untuk mengklasifikasikan gambar dari dataset CIFAR-10.\n",
    "\n",
    "Tentang Dataset CIFAR-10:\n",
    "\n",
    "* CIFAR-10 terdiri dari 60.000 gambar berwarna dengan ukuran 32x32 piksel.\n",
    "\n",
    "* Dataset memiliki 10 kelas, yaitu: Airplane, Automobile, Bird, Cat, Deer, Dog, Frog, Horse, Ship, dan Truck.\n",
    "\n",
    "* Dibagi menjadi 50.000 gambar untuk pelatihan dan 10.000 gambar untuk pengujian."
   ]
  },
  {
   "cell_type": "markdown",
   "id": "5e3e39dd-68d0-4ddf-9bee-321765c7a189",
   "metadata": {},
   "source": [
    "#### 2. Import Library\n",
    "\n",
    "Kita akan mengimpor pustaka yang dibutuhkan untuk pemrosesan data, pembuatan model CNN, serta evaluasi model."
   ]
  },
  {
   "cell_type": "code",
   "execution_count": null,
   "id": "e0d1727f-ebe8-4f1e-a448-d32e7b133009",
   "metadata": {},
   "outputs": [],
   "source": [
    "import numpy as np\n",
    "import matplotlib.pyplot as plt\n",
    "from tensorflow.keras.models import Sequential\n",
    "from tensorflow.keras.layers import Conv2D, MaxPooling2D, Flatten, Dense, Dropout\n",
    "from tensorflow.keras.datasets import cifar10\n",
    "from tensorflow.keras.utils import to_categorical"
   ]
  },
  {
   "cell_type": "markdown",
   "id": "2dcfed76-fcbc-4d26-bf70-17cf4425b7e6",
   "metadata": {},
   "source": [
    "#### 3. Load Dataset CIFAR-10\n",
    "\n",
    "Mengunduh dataset dan membaginya menjadi data latih dan uji."
   ]
  },
  {
   "cell_type": "code",
   "execution_count": null,
   "id": "c9fdb36a-7313-406d-acb0-0205eb3caa76",
   "metadata": {},
   "outputs": [],
   "source": [
    "(x_train, y_train), (x_test, y_test) = cifar10.load_data()"
   ]
  },
  {
   "cell_type": "markdown",
   "id": "72c06fda-4009-4d04-a08a-db86d51b750d",
   "metadata": {},
   "source": [
    "Menampilkan ukuran dataset:"
   ]
  },
  {
   "cell_type": "code",
   "execution_count": null,
   "id": "b344699f-ecd7-4c66-b210-9849dc11dc99",
   "metadata": {},
   "outputs": [],
   "source": [
    "print(f\"Jumlah data latih: {x_train.shape[0]}\")\n",
    "print(f\"Jumlah data uji: {x_test.shape[0]}\")\n",
    "print(f\"Ukuran gambar: {x_train.shape[1:]} (lebar, tinggi, channel)\")"
   ]
  },
  {
   "cell_type": "markdown",
   "id": "6cf4652c-44ee-4470-ab8e-a4e9b361934b",
   "metadata": {},
   "source": [
    "#### 4. Visualisasi Data\n",
    "\n",
    "Menampilkan beberapa sampel gambar dari dataset untuk memahami bentuk datanya."
   ]
  },
  {
   "cell_type": "code",
   "execution_count": null,
   "id": "0d1e89de-de14-45a1-bfa0-752a4d86cc4e",
   "metadata": {},
   "outputs": [],
   "source": [
    "fig, axes = plt.subplots(1, 5, figsize=(10, 5))\n",
    "for i, ax in enumerate(axes):\n",
    "    ax.imshow(x_train[i])\n",
    "    ax.axis('off')\n",
    "plt.show()"
   ]
  },
  {
   "cell_type": "markdown",
   "id": "42d64ea1-0087-4a2d-8c79-f99cf2cd49b7",
   "metadata": {},
   "source": [
    "#### 5. Normalisasi Data\n",
    "\n",
    "Mengubah nilai piksel dari rentang 0-255 menjadi 0-1 agar model lebih cepat konvergen saat pelatihan."
   ]
  },
  {
   "cell_type": "code",
   "execution_count": null,
   "id": "8af4cdb7-a2a9-4359-82a4-4574b88e856b",
   "metadata": {},
   "outputs": [],
   "source": [
    "x_train = x_train.astype('float32') / 255\n",
    "x_test = x_test.astype('float32') / 255"
   ]
  },
  {
   "cell_type": "markdown",
   "id": "3864c874-e1a2-4062-896d-c7a48c1e4ea2",
   "metadata": {},
   "source": [
    "#### 6. One-Hot Encoding Label\n",
    "\n",
    "Karena label dalam bentuk numerik (0-9), kita ubah ke format one-hot encoding agar sesuai dengan output softmax pada model CNN."
   ]
  },
  {
   "cell_type": "code",
   "execution_count": null,
   "id": "80db01e3-0948-49d5-9b07-06d9bb86c4b9",
   "metadata": {},
   "outputs": [],
   "source": [
    "y_train = to_categorical(y_train, 10)\n",
    "y_test = to_categorical(y_test, 10)"
   ]
  },
  {
   "cell_type": "markdown",
   "id": "d99b9807-5703-4ff0-b628-243782268bf7",
   "metadata": {},
   "source": [
    "#### 7. Definisi Model CNN\n",
    "\n",
    "Arsitektur CNN yang digunakan:\n",
    "\n",
    "* 2 lapisan konvolusi dengan 32 dan 64 filter ukuran 3x3.\n",
    "\n",
    "* Lapisan MaxPooling setelah setiap lapisan konvolusi.\n",
    "\n",
    "* Dropout 0.3 untuk mencegah overfitting.\n",
    "\n",
    "* 2 lapisan Dense, dengan 128 unit dan 10 unit output dengan aktivasi softmax."
   ]
  },
  {
   "cell_type": "code",
   "execution_count": null,
   "id": "feeada8d-30f0-48e8-b2a6-c961924f9be0",
   "metadata": {},
   "outputs": [],
   "source": [
    "model = Sequential([\n",
    "    Conv2D(32, (3, 3), activation='relu', padding='same', input_shape=(32, 32, 3)),\n",
    "    MaxPooling2D((2, 2)),\n",
    "    Dropout(0.3),\n",
    "    \n",
    "    Conv2D(64, (3, 3), activation='relu', padding='same'),\n",
    "    MaxPooling2D((2, 2)),\n",
    "    Dropout(0.3),\n",
    "    \n",
    "    Flatten(),\n",
    "    Dense(128, activation='relu'),\n",
    "    Dropout(0.3),\n",
    "    Dense(10, activation='softmax')\n",
    "])\n",
    "\n",
    "model.compile(optimizer='adam', loss='categorical_crossentropy', metrics=['accuracy'])\n",
    "model.summary()"
   ]
  },
  {
   "cell_type": "markdown",
   "id": "4f80013c-be3b-444f-9d9c-6b79936926a2",
   "metadata": {},
   "source": [
    "#### 8. Training Model\n",
    "\n",
    "Melatih model menggunakan 10 epoch dan batch size 32."
   ]
  },
  {
   "cell_type": "code",
   "execution_count": null,
   "id": "45503382-64af-4953-a833-11524f4e4711",
   "metadata": {},
   "outputs": [],
   "source": [
    "history = model.fit(x_train, y_train, epochs=10, batch_size=32, validation_data=(x_test, y_test))"
   ]
  },
  {
   "cell_type": "markdown",
   "id": "22be48f5-2070-49f2-9307-b5418055afb0",
   "metadata": {},
   "source": [
    "#### 9. Evaluasi Model\n",
    "\n",
    "Mengukur performa model pada data uji."
   ]
  },
  {
   "cell_type": "markdown",
   "id": "2b411c63-60d7-45af-9e1f-61b13ae70135",
   "metadata": {},
   "source": [
    "#### 10. Plot Loss dan Akurasi\n",
    "\n",
    "Menampilkan grafik akurasi dan loss selama pelatihan."
   ]
  },
  {
   "cell_type": "code",
   "execution_count": null,
   "id": "a59c8ee1-1982-40f1-82f3-17acd1354e0a",
   "metadata": {},
   "outputs": [],
   "source": [
    "fig, (ax1, ax2) = plt.subplots(1, 2, figsize=(12, 5))\n",
    "\n",
    "ax1.plot(history.history['loss'], label='Train Loss')\n",
    "ax1.plot(history.history['val_loss'], label='Validation Loss')\n",
    "ax1.set_title('Perbandingan Loss')\n",
    "ax1.legend()\n",
    "\n",
    "ax2.plot(history.history['accuracy'], label='Train Accuracy')\n",
    "ax2.plot(history.history['val_accuracy'], label='Validation Accuracy')\n",
    "ax2.set_title('Perbandingan Akurasi')\n",
    "ax2.legend()\n",
    "\n",
    "plt.show()"
   ]
  },
  {
   "cell_type": "markdown",
   "id": "ac55966a-57fd-4011-8b78-11dd5eb2fdd7",
   "metadata": {},
   "source": [
    "#### 11. Prediksi Beberapa Gambar\n",
    "\n",
    "Menampilkan hasil prediksi dari beberapa gambar di dataset uji."
   ]
  },
  {
   "cell_type": "code",
   "execution_count": null,
   "id": "ef55b171-05ef-4f59-acaa-886846cb76e0",
   "metadata": {},
   "outputs": [],
   "source": [
    "class_names = ['Airplane', 'Automobile', 'Bird', 'Cat', 'Deer', 'Dog', 'Frog', 'Horse', 'Ship', 'Truck']\n",
    "\n",
    "fig, axes = plt.subplots(1, 5, figsize=(10, 5))\n",
    "for i, ax in enumerate(axes):\n",
    "    img = x_test[i]\n",
    "    ax.imshow(img)\n",
    "    ax.axis('off')\n",
    "    pred = np.argmax(model.predict(np.expand_dims(img, axis=0)))\n",
    "    ax.set_title(f\"Prediksi: {class_names[pred]}\")\n",
    "plt.show()"
   ]
  },
  {
   "cell_type": "markdown",
   "id": "f54170ba-3dbd-4d77-84dc-b360db287a81",
   "metadata": {},
   "source": [
    "#### 12. Kesimpulan\n",
    "\n",
    "* Model CNN berhasil diterapkan untuk klasifikasi gambar `CIFAR-10` dan `mnist-DIGITS`\n",
    "\n",
    "* Dengan arsitektur yang digunakan, model mencapai akurasi yang cukup baik pada data uji.\n",
    "\n",
    "* Model dapat ditingkatkan dengan augmentasi data atau arsitektur yang lebih kompleks.\n",
    "\n",
    "___Selamat belajar dan bereksperimen dengan CNN! 🚀___"
   ]
  }
 ],
 "metadata": {
  "kernelspec": {
   "display_name": "Python 3 (ipykernel)",
   "language": "python",
   "name": "python3"
  },
  "language_info": {
   "codemirror_mode": {
    "name": "ipython",
    "version": 3
   },
   "file_extension": ".py",
   "mimetype": "text/x-python",
   "name": "python",
   "nbconvert_exporter": "python",
   "pygments_lexer": "ipython3",
   "version": "3.11.9"
  }
 },
 "nbformat": 4,
 "nbformat_minor": 5
}
