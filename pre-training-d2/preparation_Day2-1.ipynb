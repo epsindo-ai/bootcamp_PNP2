{
 "cells": [
  {
   "cell_type": "markdown",
   "metadata": {},
   "source": [
    "<img src=\"https://www.dropbox.com/scl/fi/43hqdf0m38towzlbjv42f/epsindo-header.jpg?rlkey=u1kbivcdhbf0wpv1fyuqggpnp&st=4vn8xg6k&dl=1\" width=\"1400\"/>"
   ]
  },
  {
   "cell_type": "markdown",
   "metadata": {
    "tags": []
   },
   "source": [
    "# Pra Pelatihan 1: Fundamental Python II\n",
    "---"
   ]
  },
  {
   "cell_type": "markdown",
   "metadata": {},
   "source": [
    "### Isi Materi :\n",
    "\n",
    "1. [Functions & Method](#10)\n",
    "2. [Working with Pandas & Numpy](#11)\n",
    "3. [Quiz](#12)"
   ]
  },
  {
   "cell_type": "markdown",
   "metadata": {},
   "source": [
    "### 📌 Ekspektasi Hasil Pembelajaran:\n",
    "Peserta dapat mengetahui fungsi dan method pada bahasa pemrograman Python, peserta dapat mengetahui dan menggunakan library paket Pandas dan Numpy untuk mengelola data."
   ]
  },
  {
   "cell_type": "markdown",
   "metadata": {},
   "source": [
    "*Referensi:*\n",
    "\n",
    "1. https://belajarpython.com/tutorial/fungsi-python\n",
    "2. https://www.petanikode.com/python-fungsi/\n",
    "3. https://petruknisme.com/2019/04/15/pengenalan-pandas-dan-series/\n",
    "4. https://code.tutsplus.com/id/tutorials/introducing-pandas--cms-26514\n",
    "5. https://jagongoding.com/python/dasar/fungsi/\n",
    "6. https://medium.com/@rismitawahyu/function-and-methods-in-python-fungsi-dan-metode-di-python-757204314517\n",
    "7. https://www.analyticsvidhya.com/blog/2020/11/basic-concepts-object-oriented-programming-types-methods-python/#:~:text=In%20Python%2C%20methods%20are%20functions%20that%20are%20associated,an%20important%20part%20of%20object-oriented%20programming%20in%20Python.\n",
    "8. https://pythongeeks.org/methods-in-python/\n",
    "9. https://www.codecademy.com/article/introduction-to-numpy-and-pandas\n",
    "10. https://medium.com/@prettytambunann/numpy-basic-functionalities-matrix-operstions-ea3fec9274e7\n",
    "11. https://www.hub.idbigdata.com/sigit-prasetyo/panduan-praktis-penggunaan-pandas-bagian-1-39"
   ]
  },
  {
   "cell_type": "markdown",
   "metadata": {},
   "source": [
    "<a id=\"10\"></a>\n",
    "## 1. Functions & Method\n",
    "\n",
    "### __Pengertian Fungsi (def) Pada Python__\n",
    "\n",
    "Fungsi pada python adalah kumpulan perintah atau baris kode yang dikelompokkan menjadi satu kesatuan untuk kemudian bisa dipanggil atau digunakan berkali-kali.\n",
    "\n",
    "Sebuah fungsi bisa menerima parameter, bisa mengembalikan suatu nilai, dan bisa dipanggil berkali-kali secara independen.\n",
    "\n",
    "Dengan fungsi kita bisa memecah program besar yang kita tulis, menjadi bagian-bagian kecil dengan tugasnya masing-masing.\n",
    "\n",
    "Juga, fungsi akan membuat kode program kita menjadi lebih “reusable” dan lebih terstruktur.\n",
    "\n",
    "#### Sintaks Fungsi\n",
    "\n",
    "Di dalam python, sintaks pembuatan fungsi terlihat seperti berikut:\n",
    "\n",
    "```python\n",
    "def nama_fungsi(parameters):\n",
    "  statements\n",
    "```\n",
    "\n",
    "Sintaks di atas secara umum terbagi menjadi 4 bagian:\n",
    "\n",
    "1. Kata kunci ```def``` yang menjadi pertanda bahwa blok kode program adalah sebuah fungsi\n",
    "\n",
    "2. Nama fungsi yang kita buat\n",
    "\n",
    "3. Parameters yang akan diterima oleh fungsi yang kita buat (tidak wajib)\n",
    "\n",
    "4. Dan blok kode fungsi yang di sana akan kita tulis perintah-perintah yang harus dilakukan oleh sebuah fungsi\n",
    "\n",
    "Contoh sebuah fungsi sederhana dengan nama ```cetak_nama()```:"
   ]
  },
  {
   "cell_type": "code",
   "execution_count": 1,
   "metadata": {},
   "outputs": [
    {
     "name": "stdout",
     "output_type": "stream",
     "text": [
      "Halo semua! Saya Jul!\n"
     ]
    }
   ],
   "source": [
    "def cetak_nama():\n",
    "  print('Halo semua! Saya Jul!')\n",
    "\n",
    "cetak_nama()"
   ]
  },
  {
   "cell_type": "markdown",
   "metadata": {},
   "source": [
    "\n",
    "Fungsi di atas, jika dipanggil, akan mengeksekusi perintah ```print()``` yang ada di dalamnya.\n",
    "\n",
    "#### Memanggil Fungsi\n",
    "\n",
    "Bagaimana cara memanggil fungsi yang telah kita definisikan?\n",
    "\n",
    "Sederhana.\n",
    "\n",
    "Cukup ketik nama fungsinya, ditambah dengan tanda kurung ```()``` seperti berikut:\n",
    "\n",
    "```cetak_nama()```\n",
    "\n",
    "Output:\n",
    "\n",
    "```Halo semua! Saya Jul!```\n",
    "\n",
    "Bahkan kita bisa memanggil fungsi ```cetak_nama()``` berkali-kali:\n",
    "\n",
    "```python\n",
    "cetak_nama()\n",
    "cetak_nama()\n",
    "cetak_nama()\n",
    "```\n",
    "\n",
    "#### Fungsi dengan Argumen atau Parameter\n",
    "\n",
    "Sebuah fungsi juga bisa menerima parameter atau pun argumen. Ia merupakan suatu nilai/variabel yang dilemparkan ke dalam fungsi untuk diproses lebih lanjut.\n",
    "\n",
    "Sebagai contoh, perhatikan output berikut:\n",
    "\n",
    "```python\n",
    "Halo semua! Saya Jul!\n",
    "Halo semua! Saya Ilham!\n",
    "Halo semua! Saya Radja!\n",
    "```\n",
    "\n",
    "Kita dapat memanfaatkan __fungsi dan parameter__ pada Python untuk memberikan nilai yang akan di proses ke dalam fungsi.\n",
    "Sehingga kode programnya akan terlihat seperti ini:"
   ]
  },
  {
   "cell_type": "code",
   "execution_count": 2,
   "metadata": {},
   "outputs": [
    {
     "name": "stdout",
     "output_type": "stream",
     "text": [
      "Halo semua! Saya Jul!\n",
      "Halo semua! Saya Ilham!\n",
      "Halo semua! Saya Radja!\n"
     ]
    }
   ],
   "source": [
    "def cetak_nama(nama):\n",
    "  print(f'Halo semua! Saya {nama}!')\n",
    "\n",
    "\n",
    "cetak_nama('Jul')\n",
    "cetak_nama('Ilham')\n",
    "cetak_nama('Radja')"
   ]
  },
  {
   "cell_type": "markdown",
   "metadata": {},
   "source": [
    "#### Parameter Wajib\n",
    "\n",
    "Parameter di dalam python bisa lebih dari satu, bisa wajib semua (harus diisi), dan bisa juga bersifat opsional.\n",
    "\n",
    "Perhatikan contoh fungsi berikut:\n",
    "\n",
    "```python\n",
    "def <nama fungsi> (<parameter wajib 1>, <parameter wajib 2>):\n",
    "  print(f\"{parameter wajib 1} {parameter wajib 2}\")\n",
    "```\n",
    "\n",
    "Contoh, untuk menghitung luas dari persegi panjang dengan menggunakan parameter wajib, seperti berikut:"
   ]
  },
  {
   "cell_type": "code",
   "execution_count": 3,
   "metadata": {},
   "outputs": [
    {
     "name": "stdout",
     "output_type": "stream",
     "text": [
      "Panjang : 4\n",
      "Lebar: 5\n",
      "Luas dari Persegi Panjangnya adalah 20\n"
     ]
    }
   ],
   "source": [
    "def luas_persegi_panjang(panjang,lebar):\n",
    "    luas=panjang*lebar\n",
    "    print(f'Panjang : {panjang}\\nLebar: {lebar}\\nLuas dari Persegi Panjangnya adalah {luas}')\n",
    "\n",
    "luas_persegi_panjang(4,5)"
   ]
  },
  {
   "cell_type": "markdown",
   "metadata": {},
   "source": [
    "Output dari kode diatas akan menampilkan keterangan mengenai panjang dan lebar persegi panjang, dan hasil dari luas persegi panjang.\n",
    "\n",
    "Namun, jika kita memanggil fungsi ```luas_persegi_panjang()``` dengan parameter yang tidak lengkap, akan menyebabkan error:"
   ]
  },
  {
   "cell_type": "code",
   "execution_count": 4,
   "metadata": {},
   "outputs": [
    {
     "ename": "TypeError",
     "evalue": "luas_persegi_panjang() missing 1 required positional argument: 'lebar'",
     "output_type": "error",
     "traceback": [
      "\u001b[0;31m---------------------------------------------------------------------------\u001b[0m",
      "\u001b[0;31mTypeError\u001b[0m                                 Traceback (most recent call last)",
      "Cell \u001b[0;32mIn[4], line 3\u001b[0m\n\u001b[1;32m      1\u001b[0m \u001b[38;5;66;03m# Error missing 1 required positional argument: 'lebar'\u001b[39;00m\n\u001b[0;32m----> 3\u001b[0m \u001b[43mluas_persegi_panjang\u001b[49m\u001b[43m(\u001b[49m\u001b[38;5;241;43m4\u001b[39;49m\u001b[43m)\u001b[49m\n",
      "\u001b[0;31mTypeError\u001b[0m: luas_persegi_panjang() missing 1 required positional argument: 'lebar'"
     ]
    }
   ],
   "source": [
    "# Error missing 1 required positional argument: 'lebar'\n",
    "\n",
    "luas_persegi_panjang(4)"
   ]
  },
  {
   "cell_type": "markdown",
   "metadata": {},
   "source": [
    "#### Parameter Opsional (atau Default)\n",
    "\n",
    "Tidak semua parameter fungsi pada python itu bersifat wajib. Ada yang opsional.\n",
    "\n",
    "Parameter opsional adalah parameter yang seandainya tidak diisi, dia sudah memiliki nilai default.\n",
    "\n",
    "Perhatikan contoh berikut:\n",
    "\n",
    "```python\n",
    "def nama_fungsi (parameter1, parameter2, parameterOpsional = 'nilai parameter default'):\n",
    "  print(f\"{parameter1} {parameter2} {parameterOpsional}\")\n",
    "```\n",
    "\n",
    "__Penjelasan:__\n",
    "\n",
    "Pada fungsi nama_fungsi() di atas, kita mendefinisikan 3 buah parameter:\n",
    "\n",
    "* parameter1\n",
    "* parameter2\n",
    "* parameterOpsional = 'nilai parameter default'\n",
    "\n",
    "Parameter ```parameter1``` dan ```parameter2``` adalah bersifat wajib dan harus diisi, sedangkan parameter ```parameterOpsional``` tidak wajib. Jika tidak kita isi, maka akan menampilkan nilai parameter default yaitu \"nilai parameter default\".\n",
    "\n",
    "Sekarang, mari kita coba panggil fungsi tersebut dengan 2 cara:"
   ]
  },
  {
   "cell_type": "code",
   "execution_count": 5,
   "metadata": {},
   "outputs": [
    {
     "name": "stdout",
     "output_type": "stream",
     "text": [
      "Ini Parameter 1 2 nilai parameter default\n",
      "Ini parameter 1 2 ini parameter opsionalnya\n"
     ]
    }
   ],
   "source": [
    "def nama_fungsi (parameter1, parameter2, parameterOpsional = 'nilai parameter default'):\n",
    "  print(f\"{parameter1} {parameter2} {parameterOpsional}\")\n",
    "\n",
    "# Memanggil fungsi dengan 2 input parameter\n",
    "nama_fungsi(\"Ini Parameter 1\", 2)\n",
    "\n",
    "# Memanggil fungsi dengan 3 input parameter\n",
    "nama_fungsi(\"Ini parameter 1\", 2, \"ini parameter opsionalnya\")"
   ]
  },
  {
   "cell_type": "markdown",
   "metadata": {},
   "source": [
    "Dapat kita lihat pada output diatas, jika kita tidak memasukan nilai pada parameter opsional, maka tidak akan terjadi error, sebab parameter tersebut memiliki nilai defaultnya."
   ]
  },
  {
   "cell_type": "markdown",
   "metadata": {},
   "source": [
    "#### Fungsi Dengan Parameter Tidak Berurut\n",
    "\n",
    "Jika kita perhatikan lagi fungsi ```nama_fungsi()```, kita akan dapati kalau parameter yang bersifat opsional hanya ada 1, dan hanya ada di belakang.\n",
    "\n",
    "Tapi, bagaimana jika ternyata parameter opsionalnya ada lebih dari 1?\n",
    "\n",
    "Coba perhatikan:"
   ]
  },
  {
   "cell_type": "code",
   "execution_count": 6,
   "metadata": {},
   "outputs": [],
   "source": [
    "def suhu_udara (daerah, derajat = 30, satuan = 'celcius'):\n",
    "  print(f\"Suhu di {daerah} adalah {derajat} {satuan}\")"
   ]
  },
  {
   "cell_type": "markdown",
   "metadata": {},
   "source": [
    "Pada fungsi tersebut, kita telah mengatur nilai default untuk parameter ```derajat```. Sehingga sekarang kita memiliki dua buah parameter.\n",
    "\n",
    "Kita coba panggil dengan 2 parameter seperti ini:"
   ]
  },
  {
   "cell_type": "code",
   "execution_count": 7,
   "metadata": {},
   "outputs": [
    {
     "name": "stdout",
     "output_type": "stream",
     "text": [
      "Suhu di Jakarta adalah fahrenheit celcius\n"
     ]
    }
   ],
   "source": [
    "suhu_udara('Jakarta', 'fahrenheit')"
   ]
  },
  {
   "cell_type": "markdown",
   "metadata": {},
   "source": [
    "Padahal kita inginnya hanya mengisi 2 parameter saja:\n",
    "\n",
    "1. Satu untuk parameter ```daerah```\n",
    "2. Dan yang kedua untuk parameter ```satuan```\n",
    "Tapi di sini malah terisi adalah parameter ```derajat```.\n",
    "\n",
    "Untuk mengatasi hal ini, kita bisa mendefinisikan nama argumen/parameter yang akan kita isi.\n",
    "\n",
    "Perhatikan contoh ini:"
   ]
  },
  {
   "cell_type": "code",
   "execution_count": 8,
   "metadata": {},
   "outputs": [
    {
     "name": "stdout",
     "output_type": "stream",
     "text": [
      "Suhu di Jakarta adalah fahrenheit celcius\n",
      "Suhu di Jakarta adalah 30 fahrenheit\n"
     ]
    }
   ],
   "source": [
    "# Memanggil fungsi tanpa mendefinisikan nilai untuk parameter apa\n",
    "suhu_udara('Jakarta', 'fahrenheit')\n",
    "\n",
    "# Memnaggil fungsi dengan mendefinisikan nilai untuk parameter satuan\n",
    "suhu_udara('Jakarta', satuan = 'fahrenheit')"
   ]
  },
  {
   "cell_type": "markdown",
   "metadata": {},
   "source": [
    "Dengan mendefinisikan nama argumen yang kita _passing_, kita sekarang bisa memanggilnya bahkan secara tidak berurutan sekalipun:"
   ]
  },
  {
   "cell_type": "code",
   "execution_count": 9,
   "metadata": {},
   "outputs": [
    {
     "name": "stdout",
     "output_type": "stream",
     "text": [
      "Suhu di Makasar adalah 100 kelvin\n"
     ]
    }
   ],
   "source": [
    "suhu_udara(satuan='kelvin', daerah='Makasar', derajat=100)"
   ]
  },
  {
   "cell_type": "markdown",
   "metadata": {},
   "source": [
    "#### Fungsi yang Mengembalikan Nilai\n",
    "\n",
    "Jenis fungsi yang berikutnya adalah berkaitan dengan nilai kembalian.\n",
    "\n",
    "Ditinjau dari segi pengembalian nilai, fungsi terbagi menjadi 2:\n",
    "\n",
    "1. Fungsi yang tidak mengembalikan nilai\n",
    "2. Fungsi yang mengembalikan nilai\n",
    "\n",
    "Pada contoh-contoh sebelumnya, kita telah membuat dan memanggil fungsi-fungsi yang tidak memiliki nilai.\n",
    "\n",
    "Sekarang, kita akan coba membuat fungsi yang mempunyai atau mengembalikan sebuah nilai."
   ]
  },
  {
   "cell_type": "code",
   "execution_count": 10,
   "metadata": {},
   "outputs": [],
   "source": [
    "def luas_persegi (sisi):\n",
    "  return sisi * sisi"
   ]
  },
  {
   "cell_type": "markdown",
   "metadata": {},
   "source": [
    "Penjelasan\n",
    "\n",
    "Kata kunci ```return``` berfungsi untuk mengembalikan nilai.\n",
    "Nilai yang dikembalikan suatu fungsi, bisa kita olah kembali untuk berbagai kebutuhan.\n",
    "\n",
    "__Contoh:__"
   ]
  },
  {
   "cell_type": "code",
   "execution_count": 11,
   "metadata": {},
   "outputs": [
    {
     "name": "stdout",
     "output_type": "stream",
     "text": [
      "Luas persegi dengan sisi 4 adalah: 16\n",
      "Toal luas persegi besar dan kecil adalah: 12500\n"
     ]
    }
   ],
   "source": [
    "# tidak menghasilkan output apa pun\n",
    "luas_persegi(10)\n",
    "\n",
    "# menghasilkan output\n",
    "print('Luas persegi dengan sisi 4 adalah:', luas_persegi(4))\n",
    "\n",
    "# kita juga bisa simpan di dalam variabel\n",
    "persegi_besar = luas_persegi(100)\n",
    "persegi_kecil = luas_persegi(50)\n",
    "\n",
    "print('Toal luas persegi besar dan kecil adalah:', persegi_besar + persegi_kecil)"
   ]
  },
  {
   "cell_type": "markdown",
   "metadata": {},
   "source": [
    "fungsi yang __mengembalikan nilai__ adalah sebuah fungsi yang jika kita panggil, dia akan __memberikan kita sebuah nilai yang bisa kita olah lebih lanjut__, seperti misalkan kita simpan dalam sebuah variabel atau kita lakukan operasi tertentu."
   ]
  },
  {
   "cell_type": "markdown",
   "metadata": {},
   "source": [
    "#### Lebih dari 1 return\n",
    "\n",
    "Jika statement ```return``` telah dieksekusi pada sebuah fungsi, maka semua proses yang ada di dalam blok kode fungsi tersebut akan berhenti.\n",
    "\n",
    "Sehingga, misalkan kita memiliki lebih dari 1 buah ```return```, maka hanya ada satu ```return``` saja yang dieksekusi. Dan ketika sebuah ```return``` telah dieksekusi, semua perintah yang ada di bawahnya akan di-skip –ini mirip dengan perintah break pada perulangan ```for``` mau pun ```while```.\n",
    "\n",
    "Perhatikan contoh berikut:"
   ]
  },
  {
   "cell_type": "code",
   "execution_count": 12,
   "metadata": {},
   "outputs": [
    {
     "name": "stdout",
     "output_type": "stream",
     "text": [
      "50.0\n",
      "False\n"
     ]
    }
   ],
   "source": [
    "def persentase (total, jumlah):\n",
    "  if (total >= 0 and total <= jumlah):\n",
    "    return total / jumlah * 100\n",
    "  \n",
    "  return False\n",
    "\n",
    "# output 50\n",
    "print(persentase(30, 60))\n",
    "\n",
    "# output False\n",
    "print(persentase(100, 60))"
   ]
  },
  {
   "cell_type": "markdown",
   "metadata": {},
   "source": [
    "#### Variabel Global dan Lokal pada Python\n",
    "\n",
    "Saat kita menggunakan fungsi, maka kita juga harus mengetahui yang namanya variabel Global dan Lokal.\n",
    "\n",
    "__Apa itu?__\n",
    "\n",
    "Variabel Global adalah variabel yang bisa diakses dari semua fungsi, sedangkan variabel lokal hanya bisa diakses di dalam fungsi tempat ia berada saja.\n",
    "\n",
    "Pada Python, urutan pengaksesan variabel (scope) dikenal dengan sebutan LGB (Local, Global, dan Build-in).\n",
    "\n",
    "Jadi program python mulai mencari variabel lokal terlebih dahulu, kalau ada maka itu yang digunakan.\n",
    "\n",
    "Tapi kalau tidak ada, pencarian terus ke Global, dan Build-in.\n",
    "\n",
    "Variabel Build-in adalah variabel yang sudah ada di dalam Python.\n",
    "\n",
    "__Contoh program:__"
   ]
  },
  {
   "cell_type": "code",
   "execution_count": 112,
   "metadata": {},
   "outputs": [
    {
     "name": "stdout",
     "output_type": "stream",
     "text": [
      "Nama: Alvin Steven\n",
      "Versi: 1.0.0\n",
      "Nama: Radja Djata\n",
      "Versi: 1.0.2\n"
     ]
    }
   ],
   "source": [
    "# membuat variabel global\n",
    "nama = \"Alvin Steven\"\n",
    "versi = \"1.0.0\"\n",
    "\n",
    "def baru():\n",
    "    # ini variabel lokal\n",
    "    nama = \"Radja Djata\"\n",
    "    versi = \"1.0.2\"\n",
    "    # mengakses variabel lokal\n",
    "    print(\"Nama: %s\" % nama)\n",
    "    print(\"Versi: %s\" % versi)\n",
    "\n",
    "\n",
    "# mengakses variabel global\n",
    "print(\"Nama: %s\" % nama)\n",
    "print(\"Versi: %s\" % versi)\n",
    "\n",
    "# memanggil fungsi baru()\n",
    "baru()"
   ]
  },
  {
   "cell_type": "markdown",
   "metadata": {},
   "source": [
    "Perhatikanlah variabel nama yang berada di dalam fungsi ```baru()``` dan di luar fungsi ```baru()```.\n",
    "\n",
    "Variabel nama yang berada di dalam fungsi ```baru()``` adalah variabel lokal.\n",
    "\n",
    "Jadi, saat kita memanggil fungsi ```baru()``` maka nilai yang akan tampil adalah nilai yang ada di dalam fungsi ```baru()```.\n",
    "\n",
    "Kenapa tidak tampil yang global?\n",
    "\n",
    "Karena itu tadi…\n",
    "\n",
    "Python mulai mencari dari lokal, ke global, dan build-in.\n",
    "\n",
    "Kalau di tiga tempat itu tidak ditemukan, maka biasanya akan terjadi ```NameError``` atau variabel tidak ditemukan."
   ]
  },
  {
   "cell_type": "markdown",
   "metadata": {},
   "source": [
    "---\n",
    "\n",
    "### __Method dalam Python__\n",
    "\n",
    "#### Apa itu Metode?\n",
    "\n",
    "Method adalah salah satu hal yang sangat penting dalam python. Fungsi yang dimiliki oleh suatu object dinamakan method. Contohnya kita membuat variabel bertipe string, bertipe list, bertipe numeric dan lain sebagainya, itu semua adalah object, dan setiap object memiki fungsi yang hanya bisa digunakan oleh object tersebut.\n",
    "\n",
    "Contoh sederhana:\n",
    "\n",
    "* Fungsi adalah blok kode yang dapat dipanggil untuk melakukan tugas tertentu.\n",
    "* Metode adalah fungsi yang terikat pada objek atau kelas.\n",
    "\n",
    "__Struktur umum Method:__\n",
    "\n",
    "```object.method_name(arguments)```"
   ]
  },
  {
   "cell_type": "markdown",
   "metadata": {},
   "source": [
    "---\n",
    "#### Metode pada tipe data Built-in\n",
    "\n",
    "Python memiliki banyak metode built-in yang dapat digunakan untuk berbagai tipe data. Berikut adalah beberapa contoh metode yang sering digunakan pada tipe data string, list, dan dictionary.\n",
    "\n",
    "__Metode pada String__\n",
    "\n",
    "Tipe data string memiliki banyak metode yang bisa digunakan untuk memanipulasi atau memeriksa teks. Berikut beberapa contoh metode pada string:\n",
    "\n",
    "* ```upper()```: Mengubah semua huruf dalam string menjadi huruf besar.\n",
    "\n",
    "```python\n",
    "text = \"hello\"\n",
    "print(text.upper())  # Output: \"HELLO\"\n",
    "```\n",
    "\n",
    "* ```lower()``` : Mengubah semua huruf dalam string menjadi huruf kecil.\n",
    "\n",
    "```python\n",
    "text = \"HELLO\"\n",
    "print(text.lower())  # Output: \"hello\"\n",
    "```\n",
    "\n",
    "* ```strip()```: Menghapus spasi di awal dan akhir string.\n",
    "\n",
    "```python\n",
    "text = \"  hello  \"\n",
    "print(text.strip())  # Output: \"hello\"\n",
    "```\n",
    "\n",
    "Berikut adalah tabel metode yang dimiliki oleh tipe data string beserta penjelasan singkat tentang fungsinya:\n",
    "\n",
    "\n",
    "| **Metode**              | **Deskripsi**                                                                 |\n",
    "|-------------------------|-------------------------------------------------------------------------------|\n",
    "| `str.lower()`           | Mengembalikan salinan string dengan semua karakter dalam huruf kecil.        |\n",
    "| `str.upper()`           | Mengembalikan salinan string dengan semua karakter dalam huruf besar.        |\n",
    "| `str.title()`           | Mengembalikan salinan string dengan huruf pertama setiap kata diubah ke besar.|\n",
    "| `str.capitalize()`      | Mengubah huruf pertama menjadi besar dan huruf lainnya menjadi kecil.        |\n",
    "| `str.strip()`           | Menghapus spasi atau karakter tertentu dari awal dan akhir string.           |\n",
    "| `str.lstrip()`          | Menghapus spasi atau karakter tertentu dari awal string.                     |\n",
    "| `str.rstrip()`          | Menghapus spasi atau karakter tertentu dari akhir string.                    |\n",
    "| `str.replace(old, new)` | Mengganti semua kemunculan substring `old` dengan `new` dalam string.        |\n",
    "| `str.find(sub)`         | Mengembalikan indeks pertama kemunculan substring `sub` atau -1 jika tidak ditemukan. |\n",
    "| `str.rfind(sub)`        | Mengembalikan indeks kemunculan terakhir substring `sub` atau -1 jika tidak ditemukan. |\n",
    "| `str.split(sep)`        | Memisahkan string menjadi daftar berdasarkan delimiter `sep`.                |\n",
    "| `str.join(iterable)`    | Menggabungkan elemen-elemen dari iterable menjadi satu string, dengan separator string asli. |\n",
    "| `str.count(sub)`        | Menghitung jumlah kemunculan substring `sub` dalam string.                   |\n",
    "| `str.startswith(prefix)`| Mengecek apakah string dimulai dengan substring `prefix`.                    |\n",
    "| `str.endswith(suffix)`  | Mengecek apakah string diakhiri dengan substring `suffix`.                   |\n",
    "| `str.isalpha()`         | Mengecek apakah semua karakter dalam string adalah huruf (a-z, A-Z).        |\n",
    "| `str.isdigit()`         | Mengecek apakah semua karakter dalam string adalah digit numerik.           |\n",
    "| `str.isalnum()`         | Mengecek apakah semua karakter dalam string adalah alphanumeric (huruf dan angka). |\n",
    "| `str.islower()`         | Mengecek apakah semua karakter dalam string adalah huruf kecil.             |\n",
    "| `str.isupper()`         | Mengecek apakah semua karakter dalam string adalah huruf besar.             |\n",
    "| `str.swapcase()`        | Mengubah huruf besar menjadi kecil dan sebaliknya dalam string.              |\n",
    "| `str.zfill(width)`      | Mengisi string dengan nol di sebelah kiri hingga panjang `width`.             |\n",
    "| `str.format(*args, **kwargs)` | Menggunakan string format untuk menggantikan placeholder dengan nilai yang diberikan. |\n"
   ]
  },
  {
   "cell_type": "markdown",
   "metadata": {},
   "source": [
    "---\n",
    "__Metode pada List__\n",
    "\n",
    "Tipe data list juga memiliki berbagai metode untuk mengelola koleksi data. Berikut adalah beberapa contoh metode pada list:\n",
    "\n",
    "* ```append(item)```: Menambahkan item ke akhir list.\n",
    "\n",
    "```python\n",
    "my_list = [1, 2, 3]\n",
    "my_list.append(4)\n",
    "print(my_list)  # Output: [1, 2, 3, 4]\n",
    "```\n",
    "\n",
    "* ```remove(item)```: Menghapus item pertama yang ditemukan dalam list.\n",
    "\n",
    "```python\n",
    "my_list = [1, 2, 3, 4]\n",
    "my_list.remove(3)\n",
    "print(my_list)  # Output: [1, 2, 4]\n",
    "```\n",
    "\n",
    "* ```sort()```: Mengurutkan elemen dalam list.\n",
    "\n",
    "```python\n",
    "my_list = [3, 1, 2]\n",
    "my_list.sort()\n",
    "print(my_list)  # Output: [1, 2, 3]\n",
    "```\n",
    "Berikut adalah tabel metode yang dimiliki oleh tipe data list beserta penjelasan singkat mengenai fungsinya:\n",
    "\n",
    "| **Metode**               | **Deskripsi**                                                                 |\n",
    "|--------------------------|-------------------------------------------------------------------------------|\n",
    "| `append(item)`           | Menambahkan item ke akhir list.                                               |\n",
    "| `extend(iterable)`       | Menambahkan elemen-elemen dari iterable (list, tuple, dll.) ke dalam list.   |\n",
    "| `insert(index, item)`    | Menyisipkan item pada posisi yang ditentukan oleh index.                     |\n",
    "| `remove(item)`           | Menghapus item pertama yang ditemukan dalam list.                            |\n",
    "| `pop([index])`           | Menghapus dan mengembalikan elemen pada posisi yang ditentukan oleh index (default adalah elemen terakhir). |\n",
    "| `clear()`                | Menghapus semua elemen dari list.                                            |\n",
    "| `index(item)`            | Mengembalikan indeks pertama dari item yang ditemukan dalam list.            |\n",
    "| `count(item)`            | Menghitung jumlah kemunculan item dalam list.                                |\n",
    "| `sort(reverse=False, key=None)` | Mengurutkan elemen-elemen dalam list. Opsi `reverse=True` untuk urutan terbalik dan `key` untuk kriteria pengurutan. |\n",
    "| `reverse()`              | Membalik urutan elemen dalam list.                                           |\n",
    "| `copy()`                 | Membuat salinan (shallow copy) dari list.                                    |\n",
    "\n",
    "\n",
    "\n"
   ]
  },
  {
   "cell_type": "markdown",
   "metadata": {},
   "source": [
    "---\n",
    "__Metode pada Integer__\n",
    "\n",
    "Meskipun tipe data integer tidak memiliki metode spesifik yang dapat dipanggil seperti tipe data string atau list, Python menyediakan berbagai fungsi built-in yang sangat berguna.\n",
    "\n",
    "Berikut adalah beberapa contoh penggunaan metode dan operasi pada tipe data ```integer``` di Python:\n",
    "\n",
    "* ```abs(x)```: Mengambil nilai absolut\n",
    "\n",
    "```python\n",
    "x = -10\n",
    "result = abs(x)\n",
    "print(result)  # Output: 10\n",
    "```\n",
    "* ```pow(x, y)```: Menghitung pangkat\n",
    "\n",
    "```python\n",
    "x = 2\n",
    "y = 3\n",
    "result = pow(x, y)\n",
    "print(result)  # Output: 8 (2^3 = 8)\n",
    "```\n",
    "* ```divmod(a, b)```: Membagi dan mendapatkan hasil bagi serta sisa\n",
    "\n",
    "```python\n",
    "Copy code\n",
    "a = 17\n",
    "b = 5\n",
    "result = divmod(a, b)\n",
    "print(result)  # Output: (3, 2) -> 17 dibagi 5 hasilnya 3 dengan sisa 2\n",
    "```\n",
    "\n",
    "Berikut adalah tabel metode dan fungsi yang dapat digunakan pada tipe data integer di Python:\n",
    "\n",
    "| Fungsi/Operasi    | Deskripsi                                                                 |\n",
    "|-------------------|---------------------------------------------------------------------------|\n",
    "| `abs(x)`          | Mengembalikan nilai absolut dari `x` (menghilangkan tanda negatif).      |\n",
    "| `pow(x, y)`       | Menghitung `x` pangkat `y`.                                                |\n",
    "| `divmod(a, b)`    | Mengembalikan tuple (hasil bagi, sisa) dari pembagian `a` dengan `b`.     |\n",
    "| `int(x)`          | Mengonversi `x` menjadi integer.                                           |\n",
    "| `bin(x)`          | Mengonversi `x` menjadi representasi biner (string).                       |\n",
    "| `hex(x)`          | Mengonversi `x` menjadi representasi heksadesimal (string).                |\n",
    "| `oct(x)`          | Mengonversi `x` menjadi representasi oktal (string).                       |\n",
    "| `+`               | Operasi penjumlahan antara dua integer.                                    |\n",
    "| `-`               | Operasi pengurangan antara dua integer.                                   |\n",
    "| `*`               | Operasi perkalian antara dua integer.                                     |\n",
    "| `/`               | Operasi pembagian antara dua integer (hasil float).                        |\n",
    "| `//`              | Operasi pembagian bulat antara dua integer (hasil integer).               |\n",
    "| `%`               | Mengembalikan sisa bagi antara dua integer.                                |\n",
    "| `**`              | Operasi perpangkatan integer (`x**y`).                                     |\n"
   ]
  },
  {
   "cell_type": "markdown",
   "metadata": {},
   "source": [
    "---\n",
    "### __Membuat Method di Python__\n",
    "\n",
    "Kita dapat mendefinisikan method dengan menggunakan kata kunci ```def``` dan sintaks dasar method seperti ini:\n",
    "\n",
    "```python\n",
    "class ClassName:\n",
    "   def method_name(*args):\n",
    "       # Statements..\n",
    "```\n",
    "\n",
    "Dengan menggunakan sintaks diatas, kita dapat membuat method, tetapi sebelumnya mari kita coba membuat ```class``` untuk method kita."
   ]
  },
  {
   "cell_type": "code",
   "execution_count": 14,
   "metadata": {},
   "outputs": [
    {
     "name": "stdout",
     "output_type": "stream",
     "text": [
      "Object Created: <__main__.Student object at 0x7f63f9701f50>\n"
     ]
    }
   ],
   "source": [
    "class Student:\n",
    "   pass\n",
    "\n",
    "student1 = Student()\n",
    "print(f\"Object Created: {student1}\")"
   ]
  },
  {
   "cell_type": "markdown",
   "metadata": {},
   "source": [
    "Pada kode diatas, kita berhasil membuat ```class``` kosong dan sebuah objek untuk mengakses ```class``` tersebut. Objek yang kita buat, tidak memiliki fungsional. Untuk memberi fungsionalitas pada ```class``` kosong, kita dapat mendefinisikan method."
   ]
  },
  {
   "cell_type": "code",
   "execution_count": 15,
   "metadata": {},
   "outputs": [
    {
     "name": "stdout",
     "output_type": "stream",
     "text": [
      "Object Created: <__main__.Student object at 0x7f63f97003d0>\n"
     ]
    }
   ],
   "source": [
    "class Student:\n",
    "\n",
    "   def study(self):\n",
    "       return \"Student is studying...\"\n",
    "\n",
    "student1 = Student()\n",
    "print(f\"Object Created: {student1}\")"
   ]
  },
  {
   "cell_type": "markdown",
   "metadata": {},
   "source": [
    "Pada kode diatas, kita telah membuat method ```study()``` pada class ```Student```.\n",
    "Sekarang objek pada ```class``` kita telah memiliki fungsionalitas, tetapi bagaimana cara mengakses method nya ?\n",
    "\n",
    "---\n",
    "### __Mengakses Method di Python__\n",
    "\n",
    "Kita dapat mengakses method seperti sebuah atribut dengan menggunakan operator dot dan baik itu nama objek atau nama ```class``` tergantung pada tipe methodnya.\n",
    "\n",
    "__Sintaks:__\n",
    "\n",
    "```object_name.method_name(*args)```\n",
    "\n",
    "atau\n",
    "\n",
    "```ClassName.method_name(*args)```\n",
    "\n",
    "Contoh, kita akan mencoba mengakses method ```study()``` yang sebelumnya telah berhasil kita buat."
   ]
  },
  {
   "cell_type": "code",
   "execution_count": 16,
   "metadata": {},
   "outputs": [
    {
     "name": "stdout",
     "output_type": "stream",
     "text": [
      "Student is studying...\n"
     ]
    }
   ],
   "source": [
    "# Mengakses Method di Python\n",
    "\n",
    "print(student1.study())"
   ]
  },
  {
   "cell_type": "markdown",
   "metadata": {},
   "source": [
    "---\n",
    "<a id=\"11\"></a>\n",
    "## 2. Pandas & Numpy 🚀\n",
    "\n",
    "Pandas dan NumPy adalah dua pustaka utama dalam ekosistem Python untuk analisis data dan komputasi numerik.\n",
    "\n",
    "* __NumPy__ digunakan untuk operasi berbasis array/matriks dengan performa tinggi.\n",
    "* __Pandas__ digunakan untuk manipulasi dan analisis data berbasis tabel (DataFrame).\n",
    "\n",
    "---\n",
    "### __NumPy: Dasar-Dasar dan Contoh Penggunaan__\n",
    "\n",
    "NumPy (*Numerical Python*) adalah library Python yang fokus pada *scientific computing*. NumPy memiliki kemampuan untuk membentuk objek N-dimensional array, yang mirip dengan list pada Python. Keunggulan NumPy array dibandingkan dengan list pada Python adalah konsumsi memory yang lebih kecil serta runtime yang lebih cepat. NumPy juga memudahkan kita pada Aljabar Linear, terutama operasi pada Vector (1-d array) dan Matrix (2-d array).\n",
    "\n",
    "#### __Instalasi Numpy__\n",
    "Sebelum menggunakan NumPy, pastikan sudah terinstall. Jika belum, instal dengan:\n",
    "\n",
    "```pip install numpy```\n",
    "\n",
    "List pada Python tidak mendukung penuh kemudahan scientific computing, sebagai contoh kita akan lakukan operasi penjumlahan pada 2 list."
   ]
  },
  {
   "cell_type": "code",
   "execution_count": 17,
   "metadata": {
    "tags": []
   },
   "outputs": [
    {
     "name": "stdout",
     "output_type": "stream",
     "text": [
      "[1, 2, 3, 4, 5, 6]\n"
     ]
    }
   ],
   "source": [
    "# List pada python\n",
    "a = [1, 2, 3]\n",
    "b = [4, 5, 6]\n",
    "\n",
    "print(a+b)"
   ]
  },
  {
   "cell_type": "code",
   "execution_count": 18,
   "metadata": {
    "tags": []
   },
   "outputs": [
    {
     "data": {
      "text/plain": [
       "[5, 7, 9]"
      ]
     },
     "execution_count": 18,
     "metadata": {},
     "output_type": "execute_result"
    }
   ],
   "source": [
    "# Penjumlahan dilakukan iterasi\n",
    "result = []\n",
    "for satu,dua in zip(a,b):\n",
    "    result.append(satu+dua)\n",
    "result"
   ]
  },
  {
   "cell_type": "markdown",
   "metadata": {},
   "source": [
    "Ketika kita ingin menjumlahkan tiap elemen pada list a dan list b, hasilnya dengan operator + adalah penggabungan (concat) keduanya. Tentu tidak sesuai yang diharapkan, maka kita harus menggunakan perulangan for untuk menambahkan tiap elemen pada list a dan list b. Proses penjumlahan list yang menggunakan perulangan for membutuhkan waktu yang lama dan tidak efisien dari sisi penulisan code.\n",
    "\n",
    "#### __Pengenalan NumPy Arrays__\n",
    "\n",
    "__Membuat Array__\n",
    "\n",
    "Lakukan import terlebih dahulu library numpy as np. Penggunaan as disini, artinya kita menggantikan pemanggilan numpy dengan prefix np untuk proses berikutnya."
   ]
  },
  {
   "cell_type": "code",
   "execution_count": 19,
   "metadata": {
    "tags": []
   },
   "outputs": [],
   "source": [
    "import numpy as np"
   ]
  },
  {
   "cell_type": "code",
   "execution_count": 20,
   "metadata": {
    "tags": []
   },
   "outputs": [
    {
     "data": {
      "text/plain": [
       "array([1, 2, 3])"
      ]
     },
     "execution_count": 20,
     "metadata": {},
     "output_type": "execute_result"
    }
   ],
   "source": [
    "a = np.array([1,2,3])\n",
    "a"
   ]
  },
  {
   "cell_type": "markdown",
   "metadata": {},
   "source": [
    "Untuk membuat sebuah array, kita menggunakan fungsi array() yang terdapat pada NumPy. Pada NumPy, terdapat upcasting, yaitu ketika tipe data element array tidak sama, dilakukan penyamaan tipe data pada yang lebih tinggi. Misalkan kita membuat array numeric dengan semua element bertipe integer, kecuali 1 element bertipe float, maka otomatis akan dilakukan upcasting menjadi tipe float pada semua element array."
   ]
  },
  {
   "cell_type": "markdown",
   "metadata": {},
   "source": [
    "__Cek Tipe Data__\n",
    "\n",
    "Untuk melakukan pengecekan tipe pada array menggunakan fungsi type()."
   ]
  },
  {
   "cell_type": "code",
   "execution_count": 21,
   "metadata": {
    "tags": []
   },
   "outputs": [
    {
     "data": {
      "text/plain": [
       "numpy.ndarray"
      ]
     },
     "execution_count": 21,
     "metadata": {},
     "output_type": "execute_result"
    }
   ],
   "source": [
    "# melakukan pemeriksaan tipe data array\n",
    "type(a)"
   ]
  },
  {
   "cell_type": "markdown",
   "metadata": {},
   "source": [
    "NumPy array merupakan sebuah objek ndarray, yang merupakan singkatan dari n-dimensional array.\n",
    "\n",
    "__Tipe Data untuk Element__\n",
    "\n",
    "Pengecekan tipe data element pada array menggunakan fungsi dtype."
   ]
  },
  {
   "cell_type": "code",
   "execution_count": 22,
   "metadata": {
    "tags": []
   },
   "outputs": [
    {
     "data": {
      "text/plain": [
       "dtype('int64')"
      ]
     },
     "execution_count": 22,
     "metadata": {},
     "output_type": "execute_result"
    }
   ],
   "source": [
    "a.dtype"
   ]
  },
  {
   "cell_type": "markdown",
   "metadata": {},
   "source": [
    "__Jumlah Dimensi__\n",
    "\n",
    "NumPy array memiliki keunggulan mendukung operasi pada data dimensional seperti Vektor dan Matriks. Untuk mengetahui jumlah dimensi pada data menggunakan fungsi ndim."
   ]
  },
  {
   "cell_type": "code",
   "execution_count": 23,
   "metadata": {
    "tags": []
   },
   "outputs": [
    {
     "data": {
      "text/plain": [
       "1"
      ]
     },
     "execution_count": 23,
     "metadata": {},
     "output_type": "execute_result"
    }
   ],
   "source": [
    "a.ndim"
   ]
  },
  {
   "cell_type": "markdown",
   "metadata": {},
   "source": [
    "Array a memiliki jumlah dimensi 1. Jika kita membentuk array dengan 2-dimensi, maka jumlah dimensinya adalah 2, begitu juga dengan dimensi yang lebih besar.\n",
    "\n",
    "__Array Shape__\n",
    "\n",
    "Pada fungsi shape menghasilkan sebuah tuple yang berisikan panjang sebuah array pada tiap dimensi."
   ]
  },
  {
   "cell_type": "code",
   "execution_count": 24,
   "metadata": {
    "tags": []
   },
   "outputs": [
    {
     "data": {
      "text/plain": [
       "(3,)"
      ]
     },
     "execution_count": 24,
     "metadata": {},
     "output_type": "execute_result"
    }
   ],
   "source": [
    "a.shape"
   ]
  },
  {
   "cell_type": "markdown",
   "metadata": {},
   "source": [
    "Array a memiliki shape 3, yaitu panjang array pada 1-dimensi array.\n",
    "\n",
    "__Operasi pada Array__\n",
    "\n",
    "NumPy memudahkan kita untuk operasi elementwise pada Vektor dan Matriks seperti penjumlahan, perkalian, pangkat, dan operasi lainnya."
   ]
  },
  {
   "cell_type": "code",
   "execution_count": 25,
   "metadata": {
    "tags": []
   },
   "outputs": [
    {
     "name": "stdout",
     "output_type": "stream",
     "text": [
      "[2.1 4.2 6.3]\n"
     ]
    }
   ],
   "source": [
    "a = np.array([1,2,3])\n",
    "b = np.array([1.1,2.2,3.3])\n",
    "\n",
    "print(a+b)"
   ]
  },
  {
   "cell_type": "code",
   "execution_count": 26,
   "metadata": {
    "tags": []
   },
   "outputs": [
    {
     "data": {
      "text/plain": [
       "array([1.1, 4.4, 9.9])"
      ]
     },
     "execution_count": 26,
     "metadata": {},
     "output_type": "execute_result"
    }
   ],
   "source": [
    "a*b"
   ]
  },
  {
   "cell_type": "code",
   "execution_count": 27,
   "metadata": {
    "tags": []
   },
   "outputs": [
    {
     "data": {
      "text/plain": [
       "array([ 1.        ,  4.59479342, 37.5405076 ])"
      ]
     },
     "execution_count": 27,
     "metadata": {},
     "output_type": "execute_result"
    }
   ],
   "source": [
    "a**b"
   ]
  },
  {
   "cell_type": "code",
   "execution_count": 28,
   "metadata": {
    "tags": []
   },
   "outputs": [
    {
     "data": {
      "text/plain": [
       "array([0.84147098, 0.90929743, 0.14112001])"
      ]
     },
     "execution_count": 28,
     "metadata": {},
     "output_type": "execute_result"
    }
   ],
   "source": [
    "# universal function pada numpy seperti sin\n",
    "np.sin(a)"
   ]
  },
  {
   "cell_type": "markdown",
   "metadata": {},
   "source": [
    "Pada NumPy telah disediakan universal functions (ufunc) yaitu fungsi yang dapat melakukan operasi pada NumPy array dengan eksekusi elemen-demi-elemen. ufunc merupakan sebuah 'vectorized' wrapper untuk sebuah fungsi yang memiliki input dan output yang sepesifik. Contoh dari ufunc misalkan fungsi sin dan cos.\n",
    "\n",
    "#### __Element pada Array__\n",
    "__Array Indexing__\n",
    "\n",
    "Indeks pada suatu array dimulai pada indeks ke-0. Untuk mengakses element pada array, kita menggunakan indeks sebagai alamat elemen pada array."
   ]
  },
  {
   "cell_type": "code",
   "execution_count": 29,
   "metadata": {
    "tags": []
   },
   "outputs": [
    {
     "data": {
      "text/plain": [
       "1"
      ]
     },
     "execution_count": 29,
     "metadata": {},
     "output_type": "execute_result"
    }
   ],
   "source": [
    "# mengakses elemen pada indeks ke-0\n",
    "a = ([1,2,3])\n",
    "a[0]"
   ]
  },
  {
   "cell_type": "code",
   "execution_count": 30,
   "metadata": {
    "tags": []
   },
   "outputs": [
    {
     "data": {
      "text/plain": [
       "[5, 2, 3]"
      ]
     },
     "execution_count": 30,
     "metadata": {},
     "output_type": "execute_result"
    }
   ],
   "source": [
    "# melakukan assign pada element array dengan element baru\n",
    "a[0]=5\n",
    "a"
   ]
  },
  {
   "cell_type": "markdown",
   "metadata": {},
   "source": [
    "Kita dapat melakukan assign nilai baru pada suatu element berdasarkan alamat indeks. Maka, setelah dilakukan assign nilai element pada indeks ke-0 berganti menjadi 10.\n",
    "\n",
    "Perlu kita perhatikan jika dtype pada array adalah integer, misalkan int32. Kemudian kita assign nilai baru pada salah satu elemen dengan tipe data float. Maka, nilai baru tersebut akan dipaksa menjadi tipe int32 sesuai dengan tipe data pada array."
   ]
  },
  {
   "cell_type": "code",
   "execution_count": 31,
   "metadata": {
    "tags": []
   },
   "outputs": [
    {
     "data": {
      "text/plain": [
       "dtype('int64')"
      ]
     },
     "execution_count": 31,
     "metadata": {},
     "output_type": "execute_result"
    }
   ],
   "source": [
    "a = np.array([1,2,3])\n",
    "a.dtype"
   ]
  },
  {
   "cell_type": "code",
   "execution_count": 32,
   "metadata": {
    "tags": []
   },
   "outputs": [
    {
     "data": {
      "text/plain": [
       "array([4, 2, 3])"
      ]
     },
     "execution_count": 32,
     "metadata": {},
     "output_type": "execute_result"
    }
   ],
   "source": [
    "# Assign nilai baru pada indeks ke-0\n",
    "a[0] = 4.5\n",
    "a"
   ]
  },
  {
   "cell_type": "markdown",
   "metadata": {},
   "source": [
    "__Multi-Dimensional Arrays__\n",
    "\n",
    "NumPy array memudahkan kita untuk membuat array multi-dimensi.\n",
    "\n",
    "<center>\n",
    "    <img src=\"../assets/numpy.png\" alt=\"Multi-Dimensional Arrays\" width=\"200\"/>\n",
    "</center>"
   ]
  },
  {
   "cell_type": "code",
   "execution_count": 33,
   "metadata": {
    "tags": []
   },
   "outputs": [
    {
     "name": "stdout",
     "output_type": "stream",
     "text": [
      "[[ 0  1  2  3]\n",
      " [10 11 12 13]]\n"
     ]
    }
   ],
   "source": [
    "a = np.array([[0,1,2,3],\n",
    "             [10,11,12,13]])\n",
    "print(a)"
   ]
  },
  {
   "cell_type": "markdown",
   "metadata": {},
   "source": [
    "Fungsi shape pada array multi-dimensi menghasilkan tuple berisikan (jumlah baris, jumlah kolom).\n",
    "<center>\n",
    "    <img src=\"../assets/num2.png\" alt=\"Multi-Dimensional Arrays2\" width=\"300\"/>\n",
    "</center>"
   ]
  },
  {
   "cell_type": "code",
   "execution_count": 34,
   "metadata": {},
   "outputs": [
    {
     "data": {
      "text/plain": [
       "(2, 4)"
      ]
     },
     "execution_count": 34,
     "metadata": {},
     "output_type": "execute_result"
    }
   ],
   "source": [
    "a.shape"
   ]
  },
  {
   "cell_type": "markdown",
   "metadata": {},
   "source": [
    "Untuk mengetahui jumlah elemen pada array multi-dimensi menggunakan fungsi __size__.\n",
    "<center>\n",
    "    <img src=\"../assets/num3.png\" alt=\"Multi-Dimensional Arrays2\" width=\"300\"/>\n",
    "</center>"
   ]
  },
  {
   "cell_type": "code",
   "execution_count": 35,
   "metadata": {
    "tags": []
   },
   "outputs": [
    {
     "data": {
      "text/plain": [
       "8"
      ]
     },
     "execution_count": 35,
     "metadata": {},
     "output_type": "execute_result"
    }
   ],
   "source": [
    "a.size"
   ]
  },
  {
   "cell_type": "markdown",
   "metadata": {},
   "source": [
    "Untuk mengetahui jumlah dimensi dari array multi-dimensi menggunakan fungsi __ndim__. Jumlah dimensi pada array a adalah 2, karena merupakan array 2-dimensi."
   ]
  },
  {
   "cell_type": "code",
   "execution_count": 36,
   "metadata": {
    "tags": []
   },
   "outputs": [
    {
     "data": {
      "text/plain": [
       "2"
      ]
     },
     "execution_count": 36,
     "metadata": {},
     "output_type": "execute_result"
    }
   ],
   "source": [
    "a.ndim"
   ]
  },
  {
   "cell_type": "markdown",
   "metadata": {},
   "source": [
    "Pada array multi-dimensi kita dapat mengakses nilai elemen berdasarkan indeks dengan pemisah tanda koma __[,]__. Misalkan kita ingin mendapatkan data pada baris ke-1 dan kolom ke-2 dari array a, maka dilakukan perintah __a[1, 2]__."
   ]
  },
  {
   "cell_type": "code",
   "execution_count": 39,
   "metadata": {
    "tags": []
   },
   "outputs": [
    {
     "data": {
      "text/plain": [
       "12"
      ]
     },
     "execution_count": 39,
     "metadata": {},
     "output_type": "execute_result"
    }
   ],
   "source": [
    "a[1,2]"
   ]
  },
  {
   "cell_type": "markdown",
   "metadata": {},
   "source": [
    "Misalkan, kita akan mengganti data pada baris ke-1 dan kolom ke-3 pada array a dengan nilai -1, kita dapat langsung assign nilai baru tersebut pada indeks.\n",
    "<center>\n",
    "    <img src=\"../assets/num4.png\" alt=\"Multi-Dimensional Arrays2\" width=\"300\"/>\n",
    "</center>"
   ]
  },
  {
   "cell_type": "code",
   "execution_count": 40,
   "metadata": {
    "tags": []
   },
   "outputs": [
    {
     "data": {
      "text/plain": [
       "array([[ 0,  1,  2,  3],\n",
       "       [10, 11, 12, -1]])"
      ]
     },
     "execution_count": 40,
     "metadata": {},
     "output_type": "execute_result"
    }
   ],
   "source": [
    "a[1,3] = -1\n",
    "a"
   ]
  },
  {
   "cell_type": "markdown",
   "metadata": {},
   "source": [
    "#### __Slicing__\n",
    "\n",
    "Selain kita dapat mengambil sebuah element array dengan cara indexing seperti cara di atas, kita dapat melakukan slicing, yaitu melakukan ekstraksi elemen atau beberapa elemen pada array, dengan menggunakan tanda __[:]__.\n",
    "\n",
    "```var[Start:Stop:step]```\n",
    "\n",
    "Perlu kita perhatikan, elemen pada lower akan dimasukkan hasil slicing, sedangkan element pada upper TIDAK dimasukkan hasil slicing, dan step adalah jarak antar elemen."
   ]
  },
  {
   "cell_type": "code",
   "execution_count": 54,
   "metadata": {
    "tags": []
   },
   "outputs": [
    {
     "data": {
      "text/plain": [
       "array([2])"
      ]
     },
     "execution_count": 54,
     "metadata": {},
     "output_type": "execute_result"
    }
   ],
   "source": [
    "# SLicing dari indeks ke-1, dan batas indeks ke-2\n",
    "a = np.array([1,2,3,4,5,6,7,8,9])\n",
    "\n",
    "a[1:2]"
   ]
  },
  {
   "cell_type": "code",
   "execution_count": 52,
   "metadata": {
    "tags": []
   },
   "outputs": [
    {
     "data": {
      "text/plain": [
       "array([2, 3, 4, 5, 6, 7, 8])"
      ]
     },
     "execution_count": 52,
     "metadata": {},
     "output_type": "execute_result"
    }
   ],
   "source": [
    "# Slicing dari indeks ke-1, dan batas indeks ke-1 dari belakang\n",
    "a[1:-1]"
   ]
  },
  {
   "cell_type": "code",
   "execution_count": 53,
   "metadata": {
    "tags": []
   },
   "outputs": [
    {
     "data": {
      "text/plain": [
       "array([1, 3, 5, 7, 9])"
      ]
     },
     "execution_count": 53,
     "metadata": {},
     "output_type": "execute_result"
    }
   ],
   "source": [
    "# kosong → mulai dari indeks pertama.\n",
    "# stop kosong → berlanjut sampai akhir list.\n",
    "# step = 2 → mengambil setiap elemen ke-2.\n",
    "a[::2]"
   ]
  },
  {
   "cell_type": "markdown",
   "metadata": {},
   "source": [
    "#### __Pengenalan Pandas__\n",
    "\n",
    "Pandas adalah pustaka Python yang digunakan untuk manipulasi dan analisis data.\n",
    "Pandas menyediakan dua struktur data utama:\n",
    "\n",
    "1. **Series** - Struktur data satu dimensi seperti array atau list.\n",
    "2. **DataFrame** - Struktur data dua dimensi seperti tabel atau spreadsheet.\n",
    "\n",
    "Mari kita mulai dengan mengenal Pandas!\n",
    "\n",
    "## 1. Instalasi dan Import\n",
    "\n",
    "Jika belum terinstal, jalankan:\n",
    "\n",
    "```python\n",
    "pip install pandas\n",
    "```\n",
    "\n",
    "Untuk menggunakan paket pandas kita harus melakukan import paket, dan memberikan nama yang lebih pendek seperti pd, dengan menggunakan perintah __import as__."
   ]
  },
  {
   "cell_type": "code",
   "execution_count": 99,
   "metadata": {
    "tags": []
   },
   "outputs": [
    {
     "name": "stdout",
     "output_type": "stream",
     "text": [
      "Pandas version: 2.2.2\n"
     ]
    }
   ],
   "source": [
    "import pandas as pd\n",
    "print('Pandas version: {}'.format(pd.__version__))"
   ]
  },
  {
   "cell_type": "markdown",
   "metadata": {},
   "source": [
    "## __Dataset__\n",
    "\n",
    "Dataset yang akan digunakan adalah dataset yang sederhana, sehingga lebih mudah untuk memahami Pandas. Data diambil dari Badan Pusat Statistik (bps.go.id). Dataset tersebut memuat beberapa informasi tentang provinsi di Indonesia pada tahun 2015. Dataset ini memiliki 10 kolom:\n",
    "\n",
    "1. __province__: nama provinsi di Indonesia\n",
    "2. __rainfall__: jumah curah hujan dalam mm yang diambil dari stasiun pengamatan yang dimiliki BMKG\n",
    "3. __rainy_day__: jumlah hari terjadinya hujan dalam setahun\n",
    "4. __expenses_food_urban__: rata-rata pengeluaran perkapita dalam sebulan untuk makanan di perkotaan\n",
    "5. __expenses_other_urban__: rata-rata pengeluaran perkapita dalam sebulan untuk barang non makanan di perkotaan\n",
    "6. __expenses_food_rural__: rata-rata pengeluaran perkapita dalam sebulan untuk makanan di pedesaan\n",
    "7. __expense_other_rural__: rata-rata pengeluaran perkapita dalam sebulan untuk barang non makanan di pedesaan\n",
    "8. __unemployment__: persentase angka pengangguran bulan agustus\n",
    "9. __time_zone__: klasifikasi zona waktu\n",
    "10. __island__: nama pulau"
   ]
  },
  {
   "cell_type": "markdown",
   "metadata": {},
   "source": [
    "### __Membaca File csv__\n",
    "\n",
    "Dataset yang digunakan adalah data-provinsi-2015 dataset yang telah dijelaskan sebelumnya dan berada pada github.com/project303/dataset. File dataset ini memiliki format text dengan tab sebagai pemisah antar kolom dan memiliki header sebagai nama dari kolom.\n",
    "\n",
    "Untuk membaca text file dengan delimiter menggunakan perintah __read_csv()__."
   ]
  },
  {
   "cell_type": "code",
   "execution_count": null,
   "metadata": {
    "tags": []
   },
   "outputs": [
    {
     "data": {
      "text/html": [
       "<div>\n",
       "<style scoped>\n",
       "    .dataframe tbody tr th:only-of-type {\n",
       "        vertical-align: middle;\n",
       "    }\n",
       "\n",
       "    .dataframe tbody tr th {\n",
       "        vertical-align: top;\n",
       "    }\n",
       "\n",
       "    .dataframe thead th {\n",
       "        text-align: right;\n",
       "    }\n",
       "</style>\n",
       "<table border=\"1\" class=\"dataframe\">\n",
       "  <thead>\n",
       "    <tr style=\"text-align: right;\">\n",
       "      <th></th>\n",
       "      <th>weight</th>\n",
       "      <th>age</th>\n",
       "      <th>height</th>\n",
       "      <th>size</th>\n",
       "    </tr>\n",
       "  </thead>\n",
       "  <tbody>\n",
       "    <tr>\n",
       "      <th>0</th>\n",
       "      <td>62</td>\n",
       "      <td>28.0</td>\n",
       "      <td>172.72</td>\n",
       "      <td>XL</td>\n",
       "    </tr>\n",
       "    <tr>\n",
       "      <th>1</th>\n",
       "      <td>59</td>\n",
       "      <td>36.0</td>\n",
       "      <td>167.64</td>\n",
       "      <td>L</td>\n",
       "    </tr>\n",
       "    <tr>\n",
       "      <th>2</th>\n",
       "      <td>61</td>\n",
       "      <td>34.0</td>\n",
       "      <td>165.10</td>\n",
       "      <td>M</td>\n",
       "    </tr>\n",
       "    <tr>\n",
       "      <th>3</th>\n",
       "      <td>65</td>\n",
       "      <td>27.0</td>\n",
       "      <td>175.26</td>\n",
       "      <td>L</td>\n",
       "    </tr>\n",
       "    <tr>\n",
       "      <th>4</th>\n",
       "      <td>62</td>\n",
       "      <td>45.0</td>\n",
       "      <td>172.72</td>\n",
       "      <td>M</td>\n",
       "    </tr>\n",
       "  </tbody>\n",
       "</table>\n",
       "</div>"
      ],
      "text/plain": [
       "   weight   age  height size\n",
       "0      62  28.0  172.72   XL\n",
       "1      59  36.0  167.64    L\n",
       "2      61  34.0  165.10    M\n",
       "3      65  27.0  175.26    L\n",
       "4      62  45.0  172.72    M"
      ]
     },
     "execution_count": 104,
     "metadata": {},
     "output_type": "execute_result"
    }
   ],
   "source": [
    "# read csv dari lokal files:\n",
    "df_test = pd.read_csv(\"../assets/cloth_data.csv\")\n",
    "df_test.head()"
   ]
  },
  {
   "cell_type": "code",
   "execution_count": 58,
   "metadata": {
    "tags": []
   },
   "outputs": [],
   "source": [
    "# read csv dari URL:\n",
    "url = \"https://raw.githubusercontent.com/project303/dataset/master/data-province-2015.cvs\"\n",
    "df = pd.read_csv(url, sep='\\t')"
   ]
  },
  {
   "cell_type": "markdown",
   "metadata": {},
   "source": [
    "### __Sample Data__\n",
    "\n",
    "Setelah berhasil diload ke dalam Pandas DataFrame, hal pertama yang biasa dilakukan adalah melihat contoh. Pandas menyediakan perintah ```head()``` untuk melihat 5 baris pertama dari DataFrame."
   ]
  },
  {
   "cell_type": "code",
   "execution_count": 59,
   "metadata": {
    "tags": []
   },
   "outputs": [
    {
     "data": {
      "text/html": [
       "<div>\n",
       "<style scoped>\n",
       "    .dataframe tbody tr th:only-of-type {\n",
       "        vertical-align: middle;\n",
       "    }\n",
       "\n",
       "    .dataframe tbody tr th {\n",
       "        vertical-align: top;\n",
       "    }\n",
       "\n",
       "    .dataframe thead th {\n",
       "        text-align: right;\n",
       "    }\n",
       "</style>\n",
       "<table border=\"1\" class=\"dataframe\">\n",
       "  <thead>\n",
       "    <tr style=\"text-align: right;\">\n",
       "      <th></th>\n",
       "      <th>province</th>\n",
       "      <th>rainfall</th>\n",
       "      <th>rainy_day</th>\n",
       "      <th>expenses_food_urban</th>\n",
       "      <th>expenses_other_urban</th>\n",
       "      <th>expenses_food_rural</th>\n",
       "      <th>expense_other_rural</th>\n",
       "      <th>unemployment</th>\n",
       "      <th>time_zone</th>\n",
       "      <th>island</th>\n",
       "    </tr>\n",
       "  </thead>\n",
       "  <tbody>\n",
       "    <tr>\n",
       "      <th>0</th>\n",
       "      <td>Aceh</td>\n",
       "      <td>1575.0</td>\n",
       "      <td>146</td>\n",
       "      <td>466355</td>\n",
       "      <td>529945</td>\n",
       "      <td>395136</td>\n",
       "      <td>260183</td>\n",
       "      <td>9.93</td>\n",
       "      <td>1</td>\n",
       "      <td>Sumatera</td>\n",
       "    </tr>\n",
       "    <tr>\n",
       "      <th>1</th>\n",
       "      <td>Sumatera Utara</td>\n",
       "      <td>975.9</td>\n",
       "      <td>105</td>\n",
       "      <td>416073</td>\n",
       "      <td>453609</td>\n",
       "      <td>413087</td>\n",
       "      <td>269407</td>\n",
       "      <td>6.71</td>\n",
       "      <td>1</td>\n",
       "      <td>Sumatera</td>\n",
       "    </tr>\n",
       "    <tr>\n",
       "      <th>2</th>\n",
       "      <td>Sumatera Barat</td>\n",
       "      <td>3548.0</td>\n",
       "      <td>185</td>\n",
       "      <td>509609</td>\n",
       "      <td>578890</td>\n",
       "      <td>447944</td>\n",
       "      <td>319143</td>\n",
       "      <td>6.89</td>\n",
       "      <td>1</td>\n",
       "      <td>Sumatera</td>\n",
       "    </tr>\n",
       "    <tr>\n",
       "      <th>3</th>\n",
       "      <td>Riau</td>\n",
       "      <td>2048.3</td>\n",
       "      <td>140</td>\n",
       "      <td>530836</td>\n",
       "      <td>661673</td>\n",
       "      <td>472756</td>\n",
       "      <td>413929</td>\n",
       "      <td>7.83</td>\n",
       "      <td>1</td>\n",
       "      <td>Sumatera</td>\n",
       "    </tr>\n",
       "    <tr>\n",
       "      <th>4</th>\n",
       "      <td>Jambi</td>\n",
       "      <td>1694.9</td>\n",
       "      <td>135</td>\n",
       "      <td>464204</td>\n",
       "      <td>556527</td>\n",
       "      <td>412871</td>\n",
       "      <td>349329</td>\n",
       "      <td>4.34</td>\n",
       "      <td>1</td>\n",
       "      <td>Sumatera</td>\n",
       "    </tr>\n",
       "  </tbody>\n",
       "</table>\n",
       "</div>"
      ],
      "text/plain": [
       "         province  rainfall  rainy_day  expenses_food_urban  \\\n",
       "0            Aceh    1575.0        146               466355   \n",
       "1  Sumatera Utara     975.9        105               416073   \n",
       "2  Sumatera Barat    3548.0        185               509609   \n",
       "3            Riau    2048.3        140               530836   \n",
       "4           Jambi    1694.9        135               464204   \n",
       "\n",
       "   expenses_other_urban expenses_food_rural expense_other_rural  unemployment  \\\n",
       "0                529945              395136              260183          9.93   \n",
       "1                453609              413087              269407          6.71   \n",
       "2                578890              447944              319143          6.89   \n",
       "3                661673              472756              413929          7.83   \n",
       "4                556527              412871              349329          4.34   \n",
       "\n",
       "   time_zone    island  \n",
       "0          1  Sumatera  \n",
       "1          1  Sumatera  \n",
       "2          1  Sumatera  \n",
       "3          1  Sumatera  \n",
       "4          1  Sumatera  "
      ]
     },
     "execution_count": 59,
     "metadata": {},
     "output_type": "execute_result"
    }
   ],
   "source": [
    "df.head()"
   ]
  },
  {
   "cell_type": "markdown",
   "metadata": {},
   "source": [
    "Untuk melihat lebih banyak data, perintah head dapat diberi parameter jumlah dataframe yang ingin ditampilkan. Sebagai contoh untuk menampilkan 10 records pertama dari DataFrame."
   ]
  },
  {
   "cell_type": "code",
   "execution_count": 60,
   "metadata": {
    "scrolled": true,
    "tags": []
   },
   "outputs": [
    {
     "data": {
      "text/html": [
       "<div>\n",
       "<style scoped>\n",
       "    .dataframe tbody tr th:only-of-type {\n",
       "        vertical-align: middle;\n",
       "    }\n",
       "\n",
       "    .dataframe tbody tr th {\n",
       "        vertical-align: top;\n",
       "    }\n",
       "\n",
       "    .dataframe thead th {\n",
       "        text-align: right;\n",
       "    }\n",
       "</style>\n",
       "<table border=\"1\" class=\"dataframe\">\n",
       "  <thead>\n",
       "    <tr style=\"text-align: right;\">\n",
       "      <th></th>\n",
       "      <th>province</th>\n",
       "      <th>rainfall</th>\n",
       "      <th>rainy_day</th>\n",
       "      <th>expenses_food_urban</th>\n",
       "      <th>expenses_other_urban</th>\n",
       "      <th>expenses_food_rural</th>\n",
       "      <th>expense_other_rural</th>\n",
       "      <th>unemployment</th>\n",
       "      <th>time_zone</th>\n",
       "      <th>island</th>\n",
       "    </tr>\n",
       "  </thead>\n",
       "  <tbody>\n",
       "    <tr>\n",
       "      <th>0</th>\n",
       "      <td>Aceh</td>\n",
       "      <td>1575.0</td>\n",
       "      <td>146</td>\n",
       "      <td>466355</td>\n",
       "      <td>529945</td>\n",
       "      <td>395136</td>\n",
       "      <td>260183</td>\n",
       "      <td>9.93</td>\n",
       "      <td>1</td>\n",
       "      <td>Sumatera</td>\n",
       "    </tr>\n",
       "    <tr>\n",
       "      <th>1</th>\n",
       "      <td>Sumatera Utara</td>\n",
       "      <td>975.9</td>\n",
       "      <td>105</td>\n",
       "      <td>416073</td>\n",
       "      <td>453609</td>\n",
       "      <td>413087</td>\n",
       "      <td>269407</td>\n",
       "      <td>6.71</td>\n",
       "      <td>1</td>\n",
       "      <td>Sumatera</td>\n",
       "    </tr>\n",
       "    <tr>\n",
       "      <th>2</th>\n",
       "      <td>Sumatera Barat</td>\n",
       "      <td>3548.0</td>\n",
       "      <td>185</td>\n",
       "      <td>509609</td>\n",
       "      <td>578890</td>\n",
       "      <td>447944</td>\n",
       "      <td>319143</td>\n",
       "      <td>6.89</td>\n",
       "      <td>1</td>\n",
       "      <td>Sumatera</td>\n",
       "    </tr>\n",
       "    <tr>\n",
       "      <th>3</th>\n",
       "      <td>Riau</td>\n",
       "      <td>2048.3</td>\n",
       "      <td>140</td>\n",
       "      <td>530836</td>\n",
       "      <td>661673</td>\n",
       "      <td>472756</td>\n",
       "      <td>413929</td>\n",
       "      <td>7.83</td>\n",
       "      <td>1</td>\n",
       "      <td>Sumatera</td>\n",
       "    </tr>\n",
       "    <tr>\n",
       "      <th>4</th>\n",
       "      <td>Jambi</td>\n",
       "      <td>1694.9</td>\n",
       "      <td>135</td>\n",
       "      <td>464204</td>\n",
       "      <td>556527</td>\n",
       "      <td>412871</td>\n",
       "      <td>349329</td>\n",
       "      <td>4.34</td>\n",
       "      <td>1</td>\n",
       "      <td>Sumatera</td>\n",
       "    </tr>\n",
       "    <tr>\n",
       "      <th>5</th>\n",
       "      <td>Sumatera Selatan</td>\n",
       "      <td>1947.2</td>\n",
       "      <td>138</td>\n",
       "      <td>418794</td>\n",
       "      <td>514708</td>\n",
       "      <td>358391</td>\n",
       "      <td>260923</td>\n",
       "      <td>6.07</td>\n",
       "      <td>1</td>\n",
       "      <td>Sumatera</td>\n",
       "    </tr>\n",
       "    <tr>\n",
       "      <th>6</th>\n",
       "      <td>Bengkulu</td>\n",
       "      <td>2668.9</td>\n",
       "      <td>166</td>\n",
       "      <td>434462</td>\n",
       "      <td>555949</td>\n",
       "      <td>403723</td>\n",
       "      <td>326656</td>\n",
       "      <td>4.91</td>\n",
       "      <td>1</td>\n",
       "      <td>Sumatera</td>\n",
       "    </tr>\n",
       "    <tr>\n",
       "      <th>7</th>\n",
       "      <td>Lampung</td>\n",
       "      <td>1628.1</td>\n",
       "      <td>151</td>\n",
       "      <td>447587</td>\n",
       "      <td>538560</td>\n",
       "      <td>359111</td>\n",
       "      <td>294748</td>\n",
       "      <td>5.14</td>\n",
       "      <td>1</td>\n",
       "      <td>Sumatera</td>\n",
       "    </tr>\n",
       "    <tr>\n",
       "      <th>8</th>\n",
       "      <td>Kepulauan Bangka Belitung</td>\n",
       "      <td>1534.7</td>\n",
       "      <td>163</td>\n",
       "      <td>606905</td>\n",
       "      <td>613072</td>\n",
       "      <td>551553</td>\n",
       "      <td>467700</td>\n",
       "      <td>6.29</td>\n",
       "      <td>1</td>\n",
       "      <td>Bangka Belitung</td>\n",
       "    </tr>\n",
       "    <tr>\n",
       "      <th>9</th>\n",
       "      <td>Kepulauan Riau</td>\n",
       "      <td>2250.9</td>\n",
       "      <td>174</td>\n",
       "      <td>625859</td>\n",
       "      <td>809066</td>\n",
       "      <td>480875</td>\n",
       "      <td>404211</td>\n",
       "      <td>6.20</td>\n",
       "      <td>1</td>\n",
       "      <td>Riau</td>\n",
       "    </tr>\n",
       "  </tbody>\n",
       "</table>\n",
       "</div>"
      ],
      "text/plain": [
       "                    province  rainfall  rainy_day  expenses_food_urban  \\\n",
       "0                       Aceh    1575.0        146               466355   \n",
       "1             Sumatera Utara     975.9        105               416073   \n",
       "2             Sumatera Barat    3548.0        185               509609   \n",
       "3                       Riau    2048.3        140               530836   \n",
       "4                      Jambi    1694.9        135               464204   \n",
       "5           Sumatera Selatan    1947.2        138               418794   \n",
       "6                   Bengkulu    2668.9        166               434462   \n",
       "7                    Lampung    1628.1        151               447587   \n",
       "8  Kepulauan Bangka Belitung    1534.7        163               606905   \n",
       "9             Kepulauan Riau    2250.9        174               625859   \n",
       "\n",
       "   expenses_other_urban expenses_food_rural expense_other_rural  unemployment  \\\n",
       "0                529945              395136              260183          9.93   \n",
       "1                453609              413087              269407          6.71   \n",
       "2                578890              447944              319143          6.89   \n",
       "3                661673              472756              413929          7.83   \n",
       "4                556527              412871              349329          4.34   \n",
       "5                514708              358391              260923          6.07   \n",
       "6                555949              403723              326656          4.91   \n",
       "7                538560              359111              294748          5.14   \n",
       "8                613072              551553              467700          6.29   \n",
       "9                809066              480875              404211          6.20   \n",
       "\n",
       "   time_zone           island  \n",
       "0          1         Sumatera  \n",
       "1          1         Sumatera  \n",
       "2          1         Sumatera  \n",
       "3          1         Sumatera  \n",
       "4          1         Sumatera  \n",
       "5          1         Sumatera  \n",
       "6          1         Sumatera  \n",
       "7          1         Sumatera  \n",
       "8          1  Bangka Belitung  \n",
       "9          1             Riau  "
      ]
     },
     "execution_count": 60,
     "metadata": {},
     "output_type": "execute_result"
    }
   ],
   "source": [
    "df.head(10)"
   ]
  },
  {
   "cell_type": "markdown",
   "metadata": {},
   "source": [
    "Untuk menampilkan n record terakhir, dapat menggunakan perintah ```tail(n)```. Jika tidak diberi parameter jumlah recordnya, maka secara default akan menampilkan 5 record"
   ]
  },
  {
   "cell_type": "code",
   "execution_count": 61,
   "metadata": {
    "tags": []
   },
   "outputs": [
    {
     "data": {
      "text/html": [
       "<div>\n",
       "<style scoped>\n",
       "    .dataframe tbody tr th:only-of-type {\n",
       "        vertical-align: middle;\n",
       "    }\n",
       "\n",
       "    .dataframe tbody tr th {\n",
       "        vertical-align: top;\n",
       "    }\n",
       "\n",
       "    .dataframe thead th {\n",
       "        text-align: right;\n",
       "    }\n",
       "</style>\n",
       "<table border=\"1\" class=\"dataframe\">\n",
       "  <thead>\n",
       "    <tr style=\"text-align: right;\">\n",
       "      <th></th>\n",
       "      <th>province</th>\n",
       "      <th>rainfall</th>\n",
       "      <th>rainy_day</th>\n",
       "      <th>expenses_food_urban</th>\n",
       "      <th>expenses_other_urban</th>\n",
       "      <th>expenses_food_rural</th>\n",
       "      <th>expense_other_rural</th>\n",
       "      <th>unemployment</th>\n",
       "      <th>time_zone</th>\n",
       "      <th>island</th>\n",
       "    </tr>\n",
       "  </thead>\n",
       "  <tbody>\n",
       "    <tr>\n",
       "      <th>29</th>\n",
       "      <td>Sulawesi Barat</td>\n",
       "      <td>1167.9</td>\n",
       "      <td>93</td>\n",
       "      <td>367632</td>\n",
       "      <td>369746</td>\n",
       "      <td>321635</td>\n",
       "      <td>263154</td>\n",
       "      <td>3.35</td>\n",
       "      <td>2</td>\n",
       "      <td>Sulawesi</td>\n",
       "    </tr>\n",
       "    <tr>\n",
       "      <th>30</th>\n",
       "      <td>Maluku</td>\n",
       "      <td>1987.2</td>\n",
       "      <td>167</td>\n",
       "      <td>486374</td>\n",
       "      <td>511825</td>\n",
       "      <td>378946</td>\n",
       "      <td>285648</td>\n",
       "      <td>9.93</td>\n",
       "      <td>3</td>\n",
       "      <td>Maluku</td>\n",
       "    </tr>\n",
       "    <tr>\n",
       "      <th>31</th>\n",
       "      <td>Maluku Utara</td>\n",
       "      <td>913.4</td>\n",
       "      <td>127</td>\n",
       "      <td>465188</td>\n",
       "      <td>510105</td>\n",
       "      <td>404776</td>\n",
       "      <td>315800</td>\n",
       "      <td>6.05</td>\n",
       "      <td>3</td>\n",
       "      <td>Maluku</td>\n",
       "    </tr>\n",
       "    <tr>\n",
       "      <th>32</th>\n",
       "      <td>Papua Barat</td>\n",
       "      <td>2844.6</td>\n",
       "      <td>218</td>\n",
       "      <td>593203</td>\n",
       "      <td>676879</td>\n",
       "      <td>463880</td>\n",
       "      <td>420440</td>\n",
       "      <td>8.08</td>\n",
       "      <td>3</td>\n",
       "      <td>Papua</td>\n",
       "    </tr>\n",
       "    <tr>\n",
       "      <th>33</th>\n",
       "      <td>Papua</td>\n",
       "      <td>1265.9</td>\n",
       "      <td>168</td>\n",
       "      <td>666922</td>\n",
       "      <td>739704</td>\n",
       "      <td>403652</td>\n",
       "      <td>218261</td>\n",
       "      <td>3.99</td>\n",
       "      <td>3</td>\n",
       "      <td>Papua</td>\n",
       "    </tr>\n",
       "  </tbody>\n",
       "</table>\n",
       "</div>"
      ],
      "text/plain": [
       "          province  rainfall  rainy_day  expenses_food_urban  \\\n",
       "29  Sulawesi Barat    1167.9         93               367632   \n",
       "30          Maluku    1987.2        167               486374   \n",
       "31    Maluku Utara     913.4        127               465188   \n",
       "32     Papua Barat    2844.6        218               593203   \n",
       "33           Papua    1265.9        168               666922   \n",
       "\n",
       "    expenses_other_urban expenses_food_rural expense_other_rural  \\\n",
       "29                369746              321635              263154   \n",
       "30                511825              378946              285648   \n",
       "31                510105              404776              315800   \n",
       "32                676879              463880              420440   \n",
       "33                739704              403652              218261   \n",
       "\n",
       "    unemployment  time_zone    island  \n",
       "29          3.35          2  Sulawesi  \n",
       "30          9.93          3    Maluku  \n",
       "31          6.05          3    Maluku  \n",
       "32          8.08          3     Papua  \n",
       "33          3.99          3     Papua  "
      ]
     },
     "execution_count": 61,
     "metadata": {},
     "output_type": "execute_result"
    }
   ],
   "source": [
    "df.tail()"
   ]
  },
  {
   "cell_type": "markdown",
   "metadata": {},
   "source": [
    "Fungsi ```sample()``` pada Pandas dapat digunakan jika kita ingin menampilkan dataframe secara acak. Misalkan menampilkan 10 dataframe secara acak."
   ]
  },
  {
   "cell_type": "code",
   "execution_count": 62,
   "metadata": {
    "scrolled": true,
    "tags": []
   },
   "outputs": [
    {
     "data": {
      "text/html": [
       "<div>\n",
       "<style scoped>\n",
       "    .dataframe tbody tr th:only-of-type {\n",
       "        vertical-align: middle;\n",
       "    }\n",
       "\n",
       "    .dataframe tbody tr th {\n",
       "        vertical-align: top;\n",
       "    }\n",
       "\n",
       "    .dataframe thead th {\n",
       "        text-align: right;\n",
       "    }\n",
       "</style>\n",
       "<table border=\"1\" class=\"dataframe\">\n",
       "  <thead>\n",
       "    <tr style=\"text-align: right;\">\n",
       "      <th></th>\n",
       "      <th>province</th>\n",
       "      <th>rainfall</th>\n",
       "      <th>rainy_day</th>\n",
       "      <th>expenses_food_urban</th>\n",
       "      <th>expenses_other_urban</th>\n",
       "      <th>expenses_food_rural</th>\n",
       "      <th>expense_other_rural</th>\n",
       "      <th>unemployment</th>\n",
       "      <th>time_zone</th>\n",
       "      <th>island</th>\n",
       "    </tr>\n",
       "  </thead>\n",
       "  <tbody>\n",
       "    <tr>\n",
       "      <th>2</th>\n",
       "      <td>Sumatera Barat</td>\n",
       "      <td>3548.0</td>\n",
       "      <td>185</td>\n",
       "      <td>509609</td>\n",
       "      <td>578890</td>\n",
       "      <td>447944</td>\n",
       "      <td>319143</td>\n",
       "      <td>6.89</td>\n",
       "      <td>1</td>\n",
       "      <td>Sumatera</td>\n",
       "    </tr>\n",
       "    <tr>\n",
       "      <th>26</th>\n",
       "      <td>Sulawesi Selatan</td>\n",
       "      <td>3382.0</td>\n",
       "      <td>155</td>\n",
       "      <td>436956</td>\n",
       "      <td>575266</td>\n",
       "      <td>312799</td>\n",
       "      <td>275628</td>\n",
       "      <td>5.95</td>\n",
       "      <td>2</td>\n",
       "      <td>Sulawesi</td>\n",
       "    </tr>\n",
       "    <tr>\n",
       "      <th>31</th>\n",
       "      <td>Maluku Utara</td>\n",
       "      <td>913.4</td>\n",
       "      <td>127</td>\n",
       "      <td>465188</td>\n",
       "      <td>510105</td>\n",
       "      <td>404776</td>\n",
       "      <td>315800</td>\n",
       "      <td>6.05</td>\n",
       "      <td>3</td>\n",
       "      <td>Maluku</td>\n",
       "    </tr>\n",
       "    <tr>\n",
       "      <th>1</th>\n",
       "      <td>Sumatera Utara</td>\n",
       "      <td>975.9</td>\n",
       "      <td>105</td>\n",
       "      <td>416073</td>\n",
       "      <td>453609</td>\n",
       "      <td>413087</td>\n",
       "      <td>269407</td>\n",
       "      <td>6.71</td>\n",
       "      <td>1</td>\n",
       "      <td>Sumatera</td>\n",
       "    </tr>\n",
       "    <tr>\n",
       "      <th>16</th>\n",
       "      <td>Bali</td>\n",
       "      <td>1133.8</td>\n",
       "      <td>124</td>\n",
       "      <td>441921</td>\n",
       "      <td>737657</td>\n",
       "      <td>389091</td>\n",
       "      <td>441381</td>\n",
       "      <td>1.99</td>\n",
       "      <td>2</td>\n",
       "      <td>Bali</td>\n",
       "    </tr>\n",
       "    <tr>\n",
       "      <th>4</th>\n",
       "      <td>Jambi</td>\n",
       "      <td>1694.9</td>\n",
       "      <td>135</td>\n",
       "      <td>464204</td>\n",
       "      <td>556527</td>\n",
       "      <td>412871</td>\n",
       "      <td>349329</td>\n",
       "      <td>4.34</td>\n",
       "      <td>1</td>\n",
       "      <td>Sumatera</td>\n",
       "    </tr>\n",
       "    <tr>\n",
       "      <th>5</th>\n",
       "      <td>Sumatera Selatan</td>\n",
       "      <td>1947.2</td>\n",
       "      <td>138</td>\n",
       "      <td>418794</td>\n",
       "      <td>514708</td>\n",
       "      <td>358391</td>\n",
       "      <td>260923</td>\n",
       "      <td>6.07</td>\n",
       "      <td>1</td>\n",
       "      <td>Sumatera</td>\n",
       "    </tr>\n",
       "    <tr>\n",
       "      <th>33</th>\n",
       "      <td>Papua</td>\n",
       "      <td>1265.9</td>\n",
       "      <td>168</td>\n",
       "      <td>666922</td>\n",
       "      <td>739704</td>\n",
       "      <td>403652</td>\n",
       "      <td>218261</td>\n",
       "      <td>3.99</td>\n",
       "      <td>3</td>\n",
       "      <td>Papua</td>\n",
       "    </tr>\n",
       "    <tr>\n",
       "      <th>29</th>\n",
       "      <td>Sulawesi Barat</td>\n",
       "      <td>1167.9</td>\n",
       "      <td>93</td>\n",
       "      <td>367632</td>\n",
       "      <td>369746</td>\n",
       "      <td>321635</td>\n",
       "      <td>263154</td>\n",
       "      <td>3.35</td>\n",
       "      <td>2</td>\n",
       "      <td>Sulawesi</td>\n",
       "    </tr>\n",
       "    <tr>\n",
       "      <th>32</th>\n",
       "      <td>Papua Barat</td>\n",
       "      <td>2844.6</td>\n",
       "      <td>218</td>\n",
       "      <td>593203</td>\n",
       "      <td>676879</td>\n",
       "      <td>463880</td>\n",
       "      <td>420440</td>\n",
       "      <td>8.08</td>\n",
       "      <td>3</td>\n",
       "      <td>Papua</td>\n",
       "    </tr>\n",
       "  </tbody>\n",
       "</table>\n",
       "</div>"
      ],
      "text/plain": [
       "            province  rainfall  rainy_day  expenses_food_urban  \\\n",
       "2     Sumatera Barat    3548.0        185               509609   \n",
       "26  Sulawesi Selatan    3382.0        155               436956   \n",
       "31      Maluku Utara     913.4        127               465188   \n",
       "1     Sumatera Utara     975.9        105               416073   \n",
       "16              Bali    1133.8        124               441921   \n",
       "4              Jambi    1694.9        135               464204   \n",
       "5   Sumatera Selatan    1947.2        138               418794   \n",
       "33             Papua    1265.9        168               666922   \n",
       "29    Sulawesi Barat    1167.9         93               367632   \n",
       "32       Papua Barat    2844.6        218               593203   \n",
       "\n",
       "    expenses_other_urban expenses_food_rural expense_other_rural  \\\n",
       "2                 578890              447944              319143   \n",
       "26                575266              312799              275628   \n",
       "31                510105              404776              315800   \n",
       "1                 453609              413087              269407   \n",
       "16                737657              389091              441381   \n",
       "4                 556527              412871              349329   \n",
       "5                 514708              358391              260923   \n",
       "33                739704              403652              218261   \n",
       "29                369746              321635              263154   \n",
       "32                676879              463880              420440   \n",
       "\n",
       "    unemployment  time_zone    island  \n",
       "2           6.89          1  Sumatera  \n",
       "26          5.95          2  Sulawesi  \n",
       "31          6.05          3    Maluku  \n",
       "1           6.71          1  Sumatera  \n",
       "16          1.99          2      Bali  \n",
       "4           4.34          1  Sumatera  \n",
       "5           6.07          1  Sumatera  \n",
       "33          3.99          3     Papua  \n",
       "29          3.35          2  Sulawesi  \n",
       "32          8.08          3     Papua  "
      ]
     },
     "execution_count": 62,
     "metadata": {},
     "output_type": "execute_result"
    }
   ],
   "source": [
    "df.sample(10)"
   ]
  },
  {
   "cell_type": "markdown",
   "metadata": {},
   "source": [
    "Jika ingin menampilkan seluruh data yang ada dalam DataFrame."
   ]
  },
  {
   "cell_type": "code",
   "execution_count": 63,
   "metadata": {
    "scrolled": true,
    "tags": []
   },
   "outputs": [
    {
     "data": {
      "text/html": [
       "<div>\n",
       "<style scoped>\n",
       "    .dataframe tbody tr th:only-of-type {\n",
       "        vertical-align: middle;\n",
       "    }\n",
       "\n",
       "    .dataframe tbody tr th {\n",
       "        vertical-align: top;\n",
       "    }\n",
       "\n",
       "    .dataframe thead th {\n",
       "        text-align: right;\n",
       "    }\n",
       "</style>\n",
       "<table border=\"1\" class=\"dataframe\">\n",
       "  <thead>\n",
       "    <tr style=\"text-align: right;\">\n",
       "      <th></th>\n",
       "      <th>province</th>\n",
       "      <th>rainfall</th>\n",
       "      <th>rainy_day</th>\n",
       "      <th>expenses_food_urban</th>\n",
       "      <th>expenses_other_urban</th>\n",
       "      <th>expenses_food_rural</th>\n",
       "      <th>expense_other_rural</th>\n",
       "      <th>unemployment</th>\n",
       "      <th>time_zone</th>\n",
       "      <th>island</th>\n",
       "    </tr>\n",
       "  </thead>\n",
       "  <tbody>\n",
       "    <tr>\n",
       "      <th>0</th>\n",
       "      <td>Aceh</td>\n",
       "      <td>1575.0</td>\n",
       "      <td>146</td>\n",
       "      <td>466355</td>\n",
       "      <td>529945</td>\n",
       "      <td>395136</td>\n",
       "      <td>260183</td>\n",
       "      <td>9.93</td>\n",
       "      <td>1</td>\n",
       "      <td>Sumatera</td>\n",
       "    </tr>\n",
       "    <tr>\n",
       "      <th>1</th>\n",
       "      <td>Sumatera Utara</td>\n",
       "      <td>975.9</td>\n",
       "      <td>105</td>\n",
       "      <td>416073</td>\n",
       "      <td>453609</td>\n",
       "      <td>413087</td>\n",
       "      <td>269407</td>\n",
       "      <td>6.71</td>\n",
       "      <td>1</td>\n",
       "      <td>Sumatera</td>\n",
       "    </tr>\n",
       "    <tr>\n",
       "      <th>2</th>\n",
       "      <td>Sumatera Barat</td>\n",
       "      <td>3548.0</td>\n",
       "      <td>185</td>\n",
       "      <td>509609</td>\n",
       "      <td>578890</td>\n",
       "      <td>447944</td>\n",
       "      <td>319143</td>\n",
       "      <td>6.89</td>\n",
       "      <td>1</td>\n",
       "      <td>Sumatera</td>\n",
       "    </tr>\n",
       "    <tr>\n",
       "      <th>3</th>\n",
       "      <td>Riau</td>\n",
       "      <td>2048.3</td>\n",
       "      <td>140</td>\n",
       "      <td>530836</td>\n",
       "      <td>661673</td>\n",
       "      <td>472756</td>\n",
       "      <td>413929</td>\n",
       "      <td>7.83</td>\n",
       "      <td>1</td>\n",
       "      <td>Sumatera</td>\n",
       "    </tr>\n",
       "    <tr>\n",
       "      <th>4</th>\n",
       "      <td>Jambi</td>\n",
       "      <td>1694.9</td>\n",
       "      <td>135</td>\n",
       "      <td>464204</td>\n",
       "      <td>556527</td>\n",
       "      <td>412871</td>\n",
       "      <td>349329</td>\n",
       "      <td>4.34</td>\n",
       "      <td>1</td>\n",
       "      <td>Sumatera</td>\n",
       "    </tr>\n",
       "    <tr>\n",
       "      <th>5</th>\n",
       "      <td>Sumatera Selatan</td>\n",
       "      <td>1947.2</td>\n",
       "      <td>138</td>\n",
       "      <td>418794</td>\n",
       "      <td>514708</td>\n",
       "      <td>358391</td>\n",
       "      <td>260923</td>\n",
       "      <td>6.07</td>\n",
       "      <td>1</td>\n",
       "      <td>Sumatera</td>\n",
       "    </tr>\n",
       "    <tr>\n",
       "      <th>6</th>\n",
       "      <td>Bengkulu</td>\n",
       "      <td>2668.9</td>\n",
       "      <td>166</td>\n",
       "      <td>434462</td>\n",
       "      <td>555949</td>\n",
       "      <td>403723</td>\n",
       "      <td>326656</td>\n",
       "      <td>4.91</td>\n",
       "      <td>1</td>\n",
       "      <td>Sumatera</td>\n",
       "    </tr>\n",
       "    <tr>\n",
       "      <th>7</th>\n",
       "      <td>Lampung</td>\n",
       "      <td>1628.1</td>\n",
       "      <td>151</td>\n",
       "      <td>447587</td>\n",
       "      <td>538560</td>\n",
       "      <td>359111</td>\n",
       "      <td>294748</td>\n",
       "      <td>5.14</td>\n",
       "      <td>1</td>\n",
       "      <td>Sumatera</td>\n",
       "    </tr>\n",
       "    <tr>\n",
       "      <th>8</th>\n",
       "      <td>Kepulauan Bangka Belitung</td>\n",
       "      <td>1534.7</td>\n",
       "      <td>163</td>\n",
       "      <td>606905</td>\n",
       "      <td>613072</td>\n",
       "      <td>551553</td>\n",
       "      <td>467700</td>\n",
       "      <td>6.29</td>\n",
       "      <td>1</td>\n",
       "      <td>Bangka Belitung</td>\n",
       "    </tr>\n",
       "    <tr>\n",
       "      <th>9</th>\n",
       "      <td>Kepulauan Riau</td>\n",
       "      <td>2250.9</td>\n",
       "      <td>174</td>\n",
       "      <td>625859</td>\n",
       "      <td>809066</td>\n",
       "      <td>480875</td>\n",
       "      <td>404211</td>\n",
       "      <td>6.20</td>\n",
       "      <td>1</td>\n",
       "      <td>Riau</td>\n",
       "    </tr>\n",
       "    <tr>\n",
       "      <th>10</th>\n",
       "      <td>DKI Jakarta</td>\n",
       "      <td>2169.5</td>\n",
       "      <td>121</td>\n",
       "      <td>615486</td>\n",
       "      <td>1157945</td>\n",
       "      <td>-</td>\n",
       "      <td>-</td>\n",
       "      <td>7.23</td>\n",
       "      <td>1</td>\n",
       "      <td>Jawa</td>\n",
       "    </tr>\n",
       "    <tr>\n",
       "      <th>11</th>\n",
       "      <td>Jawa Barat</td>\n",
       "      <td>2199.3</td>\n",
       "      <td>177</td>\n",
       "      <td>448748</td>\n",
       "      <td>566242</td>\n",
       "      <td>378794</td>\n",
       "      <td>274900</td>\n",
       "      <td>8.72</td>\n",
       "      <td>1</td>\n",
       "      <td>Jawa</td>\n",
       "    </tr>\n",
       "    <tr>\n",
       "      <th>12</th>\n",
       "      <td>Jawa Tengah</td>\n",
       "      <td>1620.7</td>\n",
       "      <td>140</td>\n",
       "      <td>350517</td>\n",
       "      <td>468198</td>\n",
       "      <td>313724</td>\n",
       "      <td>277509</td>\n",
       "      <td>4.99</td>\n",
       "      <td>1</td>\n",
       "      <td>Jawa</td>\n",
       "    </tr>\n",
       "    <tr>\n",
       "      <th>13</th>\n",
       "      <td>DI Yogyakarta</td>\n",
       "      <td>2045.5</td>\n",
       "      <td>119</td>\n",
       "      <td>385061</td>\n",
       "      <td>697510</td>\n",
       "      <td>325188</td>\n",
       "      <td>297594</td>\n",
       "      <td>4.07</td>\n",
       "      <td>1</td>\n",
       "      <td>Jawa</td>\n",
       "    </tr>\n",
       "    <tr>\n",
       "      <th>14</th>\n",
       "      <td>Jawa Timur</td>\n",
       "      <td>2024.7</td>\n",
       "      <td>133</td>\n",
       "      <td>427218</td>\n",
       "      <td>604896</td>\n",
       "      <td>338325</td>\n",
       "      <td>306017</td>\n",
       "      <td>4.47</td>\n",
       "      <td>1</td>\n",
       "      <td>Jawa</td>\n",
       "    </tr>\n",
       "    <tr>\n",
       "      <th>15</th>\n",
       "      <td>Banten</td>\n",
       "      <td>1310.1</td>\n",
       "      <td>155</td>\n",
       "      <td>526737</td>\n",
       "      <td>677002</td>\n",
       "      <td>392046</td>\n",
       "      <td>272081</td>\n",
       "      <td>9.55</td>\n",
       "      <td>1</td>\n",
       "      <td>Jawa</td>\n",
       "    </tr>\n",
       "    <tr>\n",
       "      <th>16</th>\n",
       "      <td>Bali</td>\n",
       "      <td>1133.8</td>\n",
       "      <td>124</td>\n",
       "      <td>441921</td>\n",
       "      <td>737657</td>\n",
       "      <td>389091</td>\n",
       "      <td>441381</td>\n",
       "      <td>1.99</td>\n",
       "      <td>2</td>\n",
       "      <td>Bali</td>\n",
       "    </tr>\n",
       "    <tr>\n",
       "      <th>17</th>\n",
       "      <td>Nusa Tenggara Barat</td>\n",
       "      <td>1147.9</td>\n",
       "      <td>91</td>\n",
       "      <td>373402</td>\n",
       "      <td>381980</td>\n",
       "      <td>341583</td>\n",
       "      <td>263291</td>\n",
       "      <td>5.69</td>\n",
       "      <td>2</td>\n",
       "      <td>Nusa Tenggara</td>\n",
       "    </tr>\n",
       "    <tr>\n",
       "      <th>18</th>\n",
       "      <td>Nusa Tenggara Timur</td>\n",
       "      <td>1406.0</td>\n",
       "      <td>82</td>\n",
       "      <td>401053</td>\n",
       "      <td>473374</td>\n",
       "      <td>272347</td>\n",
       "      <td>176028</td>\n",
       "      <td>3.83</td>\n",
       "      <td>2</td>\n",
       "      <td>Nusa Tenggara</td>\n",
       "    </tr>\n",
       "    <tr>\n",
       "      <th>19</th>\n",
       "      <td>Kalimantan Barat</td>\n",
       "      <td>2757.7</td>\n",
       "      <td>215</td>\n",
       "      <td>473082</td>\n",
       "      <td>526121</td>\n",
       "      <td>405835</td>\n",
       "      <td>282118</td>\n",
       "      <td>5.15</td>\n",
       "      <td>1</td>\n",
       "      <td>Kalimantan</td>\n",
       "    </tr>\n",
       "    <tr>\n",
       "      <th>20</th>\n",
       "      <td>Kalimantan Tengah</td>\n",
       "      <td>2748.4</td>\n",
       "      <td>155</td>\n",
       "      <td>506106</td>\n",
       "      <td>549096</td>\n",
       "      <td>489011</td>\n",
       "      <td>361909</td>\n",
       "      <td>4.54</td>\n",
       "      <td>1</td>\n",
       "      <td>Kalimantan</td>\n",
       "    </tr>\n",
       "    <tr>\n",
       "      <th>21</th>\n",
       "      <td>Kalimantan Selatan</td>\n",
       "      <td>2509.6</td>\n",
       "      <td>166</td>\n",
       "      <td>510837</td>\n",
       "      <td>670407</td>\n",
       "      <td>440745</td>\n",
       "      <td>349861</td>\n",
       "      <td>4.92</td>\n",
       "      <td>2</td>\n",
       "      <td>Kalimantan</td>\n",
       "    </tr>\n",
       "    <tr>\n",
       "      <th>22</th>\n",
       "      <td>Kalimantan Timur</td>\n",
       "      <td>2069.4</td>\n",
       "      <td>186</td>\n",
       "      <td>580661</td>\n",
       "      <td>736387</td>\n",
       "      <td>496104</td>\n",
       "      <td>487665</td>\n",
       "      <td>7.50</td>\n",
       "      <td>2</td>\n",
       "      <td>Kalimantan</td>\n",
       "    </tr>\n",
       "    <tr>\n",
       "      <th>23</th>\n",
       "      <td>Kalimantan Utara</td>\n",
       "      <td>2311.5</td>\n",
       "      <td>202</td>\n",
       "      <td>536894</td>\n",
       "      <td>623024</td>\n",
       "      <td>478792</td>\n",
       "      <td>419632</td>\n",
       "      <td>5.68</td>\n",
       "      <td>2</td>\n",
       "      <td>Kalimantan</td>\n",
       "    </tr>\n",
       "    <tr>\n",
       "      <th>24</th>\n",
       "      <td>Sulawesi Utara</td>\n",
       "      <td>1807.0</td>\n",
       "      <td>127</td>\n",
       "      <td>459988</td>\n",
       "      <td>519694</td>\n",
       "      <td>398016</td>\n",
       "      <td>288894</td>\n",
       "      <td>9.03</td>\n",
       "      <td>2</td>\n",
       "      <td>Sulawesi</td>\n",
       "    </tr>\n",
       "    <tr>\n",
       "      <th>25</th>\n",
       "      <td>Sulawesi Tengah</td>\n",
       "      <td>460.9</td>\n",
       "      <td>68</td>\n",
       "      <td>429317</td>\n",
       "      <td>629817</td>\n",
       "      <td>368439</td>\n",
       "      <td>293645</td>\n",
       "      <td>4.10</td>\n",
       "      <td>2</td>\n",
       "      <td>Sulawesi</td>\n",
       "    </tr>\n",
       "    <tr>\n",
       "      <th>26</th>\n",
       "      <td>Sulawesi Selatan</td>\n",
       "      <td>3382.0</td>\n",
       "      <td>155</td>\n",
       "      <td>436956</td>\n",
       "      <td>575266</td>\n",
       "      <td>312799</td>\n",
       "      <td>275628</td>\n",
       "      <td>5.95</td>\n",
       "      <td>2</td>\n",
       "      <td>Sulawesi</td>\n",
       "    </tr>\n",
       "    <tr>\n",
       "      <th>27</th>\n",
       "      <td>Sulawesi Tenggara</td>\n",
       "      <td>1589.6</td>\n",
       "      <td>141</td>\n",
       "      <td>385082</td>\n",
       "      <td>520583</td>\n",
       "      <td>306600</td>\n",
       "      <td>272945</td>\n",
       "      <td>5.55</td>\n",
       "      <td>2</td>\n",
       "      <td>Sulawesi</td>\n",
       "    </tr>\n",
       "    <tr>\n",
       "      <th>28</th>\n",
       "      <td>Gorontalo</td>\n",
       "      <td>870.6</td>\n",
       "      <td>76</td>\n",
       "      <td>400853</td>\n",
       "      <td>541711</td>\n",
       "      <td>287010</td>\n",
       "      <td>234180</td>\n",
       "      <td>4.65</td>\n",
       "      <td>2</td>\n",
       "      <td>Sulawesi</td>\n",
       "    </tr>\n",
       "    <tr>\n",
       "      <th>29</th>\n",
       "      <td>Sulawesi Barat</td>\n",
       "      <td>1167.9</td>\n",
       "      <td>93</td>\n",
       "      <td>367632</td>\n",
       "      <td>369746</td>\n",
       "      <td>321635</td>\n",
       "      <td>263154</td>\n",
       "      <td>3.35</td>\n",
       "      <td>2</td>\n",
       "      <td>Sulawesi</td>\n",
       "    </tr>\n",
       "    <tr>\n",
       "      <th>30</th>\n",
       "      <td>Maluku</td>\n",
       "      <td>1987.2</td>\n",
       "      <td>167</td>\n",
       "      <td>486374</td>\n",
       "      <td>511825</td>\n",
       "      <td>378946</td>\n",
       "      <td>285648</td>\n",
       "      <td>9.93</td>\n",
       "      <td>3</td>\n",
       "      <td>Maluku</td>\n",
       "    </tr>\n",
       "    <tr>\n",
       "      <th>31</th>\n",
       "      <td>Maluku Utara</td>\n",
       "      <td>913.4</td>\n",
       "      <td>127</td>\n",
       "      <td>465188</td>\n",
       "      <td>510105</td>\n",
       "      <td>404776</td>\n",
       "      <td>315800</td>\n",
       "      <td>6.05</td>\n",
       "      <td>3</td>\n",
       "      <td>Maluku</td>\n",
       "    </tr>\n",
       "    <tr>\n",
       "      <th>32</th>\n",
       "      <td>Papua Barat</td>\n",
       "      <td>2844.6</td>\n",
       "      <td>218</td>\n",
       "      <td>593203</td>\n",
       "      <td>676879</td>\n",
       "      <td>463880</td>\n",
       "      <td>420440</td>\n",
       "      <td>8.08</td>\n",
       "      <td>3</td>\n",
       "      <td>Papua</td>\n",
       "    </tr>\n",
       "    <tr>\n",
       "      <th>33</th>\n",
       "      <td>Papua</td>\n",
       "      <td>1265.9</td>\n",
       "      <td>168</td>\n",
       "      <td>666922</td>\n",
       "      <td>739704</td>\n",
       "      <td>403652</td>\n",
       "      <td>218261</td>\n",
       "      <td>3.99</td>\n",
       "      <td>3</td>\n",
       "      <td>Papua</td>\n",
       "    </tr>\n",
       "  </tbody>\n",
       "</table>\n",
       "</div>"
      ],
      "text/plain": [
       "                     province  rainfall  rainy_day  expenses_food_urban  \\\n",
       "0                        Aceh    1575.0        146               466355   \n",
       "1              Sumatera Utara     975.9        105               416073   \n",
       "2              Sumatera Barat    3548.0        185               509609   \n",
       "3                        Riau    2048.3        140               530836   \n",
       "4                       Jambi    1694.9        135               464204   \n",
       "5            Sumatera Selatan    1947.2        138               418794   \n",
       "6                    Bengkulu    2668.9        166               434462   \n",
       "7                     Lampung    1628.1        151               447587   \n",
       "8   Kepulauan Bangka Belitung    1534.7        163               606905   \n",
       "9              Kepulauan Riau    2250.9        174               625859   \n",
       "10                DKI Jakarta    2169.5        121               615486   \n",
       "11                 Jawa Barat    2199.3        177               448748   \n",
       "12                Jawa Tengah    1620.7        140               350517   \n",
       "13              DI Yogyakarta    2045.5        119               385061   \n",
       "14                 Jawa Timur    2024.7        133               427218   \n",
       "15                     Banten    1310.1        155               526737   \n",
       "16                       Bali    1133.8        124               441921   \n",
       "17        Nusa Tenggara Barat    1147.9         91               373402   \n",
       "18        Nusa Tenggara Timur    1406.0         82               401053   \n",
       "19           Kalimantan Barat    2757.7        215               473082   \n",
       "20          Kalimantan Tengah    2748.4        155               506106   \n",
       "21         Kalimantan Selatan    2509.6        166               510837   \n",
       "22           Kalimantan Timur    2069.4        186               580661   \n",
       "23           Kalimantan Utara    2311.5        202               536894   \n",
       "24             Sulawesi Utara    1807.0        127               459988   \n",
       "25            Sulawesi Tengah     460.9         68               429317   \n",
       "26           Sulawesi Selatan    3382.0        155               436956   \n",
       "27          Sulawesi Tenggara    1589.6        141               385082   \n",
       "28                  Gorontalo     870.6         76               400853   \n",
       "29             Sulawesi Barat    1167.9         93               367632   \n",
       "30                     Maluku    1987.2        167               486374   \n",
       "31               Maluku Utara     913.4        127               465188   \n",
       "32                Papua Barat    2844.6        218               593203   \n",
       "33                      Papua    1265.9        168               666922   \n",
       "\n",
       "    expenses_other_urban expenses_food_rural expense_other_rural  \\\n",
       "0                 529945              395136              260183   \n",
       "1                 453609              413087              269407   \n",
       "2                 578890              447944              319143   \n",
       "3                 661673              472756              413929   \n",
       "4                 556527              412871              349329   \n",
       "5                 514708              358391              260923   \n",
       "6                 555949              403723              326656   \n",
       "7                 538560              359111              294748   \n",
       "8                 613072              551553              467700   \n",
       "9                 809066              480875              404211   \n",
       "10               1157945                   -                   -   \n",
       "11                566242              378794              274900   \n",
       "12                468198              313724              277509   \n",
       "13                697510              325188              297594   \n",
       "14                604896              338325              306017   \n",
       "15                677002              392046              272081   \n",
       "16                737657              389091              441381   \n",
       "17                381980              341583              263291   \n",
       "18                473374              272347              176028   \n",
       "19                526121              405835              282118   \n",
       "20                549096              489011              361909   \n",
       "21                670407              440745              349861   \n",
       "22                736387              496104              487665   \n",
       "23                623024              478792              419632   \n",
       "24                519694              398016              288894   \n",
       "25                629817              368439              293645   \n",
       "26                575266              312799              275628   \n",
       "27                520583              306600              272945   \n",
       "28                541711              287010              234180   \n",
       "29                369746              321635              263154   \n",
       "30                511825              378946              285648   \n",
       "31                510105              404776              315800   \n",
       "32                676879              463880              420440   \n",
       "33                739704              403652              218261   \n",
       "\n",
       "    unemployment  time_zone           island  \n",
       "0           9.93          1         Sumatera  \n",
       "1           6.71          1         Sumatera  \n",
       "2           6.89          1         Sumatera  \n",
       "3           7.83          1         Sumatera  \n",
       "4           4.34          1         Sumatera  \n",
       "5           6.07          1         Sumatera  \n",
       "6           4.91          1         Sumatera  \n",
       "7           5.14          1         Sumatera  \n",
       "8           6.29          1  Bangka Belitung  \n",
       "9           6.20          1             Riau  \n",
       "10          7.23          1             Jawa  \n",
       "11          8.72          1             Jawa  \n",
       "12          4.99          1             Jawa  \n",
       "13          4.07          1             Jawa  \n",
       "14          4.47          1             Jawa  \n",
       "15          9.55          1             Jawa  \n",
       "16          1.99          2             Bali  \n",
       "17          5.69          2    Nusa Tenggara  \n",
       "18          3.83          2    Nusa Tenggara  \n",
       "19          5.15          1       Kalimantan  \n",
       "20          4.54          1       Kalimantan  \n",
       "21          4.92          2       Kalimantan  \n",
       "22          7.50          2       Kalimantan  \n",
       "23          5.68          2       Kalimantan  \n",
       "24          9.03          2         Sulawesi  \n",
       "25          4.10          2         Sulawesi  \n",
       "26          5.95          2         Sulawesi  \n",
       "27          5.55          2         Sulawesi  \n",
       "28          4.65          2         Sulawesi  \n",
       "29          3.35          2         Sulawesi  \n",
       "30          9.93          3           Maluku  \n",
       "31          6.05          3           Maluku  \n",
       "32          8.08          3            Papua  \n",
       "33          3.99          3            Papua  "
      ]
     },
     "execution_count": 63,
     "metadata": {},
     "output_type": "execute_result"
    }
   ],
   "source": [
    "df"
   ]
  },
  {
   "cell_type": "markdown",
   "metadata": {},
   "source": [
    "### __Jumlah Data__\n",
    "\n",
    "Untuk memperoleh informasi jumlah records pada setiap kolom menggunakan perintah ```count()```"
   ]
  },
  {
   "cell_type": "code",
   "execution_count": 64,
   "metadata": {
    "tags": []
   },
   "outputs": [
    {
     "data": {
      "text/plain": [
       "province                34\n",
       "rainfall                34\n",
       "rainy_day               34\n",
       "expenses_food_urban     34\n",
       "expenses_other_urban    34\n",
       "expenses_food_rural     34\n",
       "expense_other_rural     34\n",
       "unemployment            34\n",
       "time_zone               34\n",
       "island                  34\n",
       "dtype: int64"
      ]
     },
     "execution_count": 64,
     "metadata": {},
     "output_type": "execute_result"
    }
   ],
   "source": [
    "df.count()"
   ]
  },
  {
   "cell_type": "markdown",
   "metadata": {},
   "source": [
    "Fungsi ```count()``` akan menampilkan nama kolom dan jumlah baris/record. Seperti yang ditampilkan, semua kolom memiliki jumlah record yang sama, yaitu 34. Ini juga berarti bahwa tidak ada nilai null di semua kolom.\n",
    "\n",
    "Cara lain untuk menampilkan jumlah record adalah dengan menggunakan property __shape__."
   ]
  },
  {
   "cell_type": "code",
   "execution_count": 65,
   "metadata": {
    "tags": []
   },
   "outputs": [
    {
     "data": {
      "text/plain": [
       "34"
      ]
     },
     "execution_count": 65,
     "metadata": {},
     "output_type": "execute_result"
    }
   ],
   "source": [
    "df.shape[0]"
   ]
  },
  {
   "cell_type": "markdown",
   "metadata": {},
   "source": [
    "### __Informasi Struktur Data__\n",
    "\n",
    "Property shape dapat digunakan untuk mengetahui dimensi dari dataframe"
   ]
  },
  {
   "cell_type": "code",
   "execution_count": 66,
   "metadata": {
    "tags": []
   },
   "outputs": [
    {
     "data": {
      "text/plain": [
       "(34, 10)"
      ]
     },
     "execution_count": 66,
     "metadata": {},
     "output_type": "execute_result"
    }
   ],
   "source": [
    "df.shape"
   ]
  },
  {
   "cell_type": "markdown",
   "metadata": {},
   "source": [
    "Property DataFrame lainnya adalah dtypes, yang dapat digunakan untuk melihat struktur dari data"
   ]
  },
  {
   "cell_type": "code",
   "execution_count": 67,
   "metadata": {
    "tags": []
   },
   "outputs": [
    {
     "data": {
      "text/plain": [
       "province                 object\n",
       "rainfall                float64\n",
       "rainy_day                 int64\n",
       "expenses_food_urban       int64\n",
       "expenses_other_urban      int64\n",
       "expenses_food_rural      object\n",
       "expense_other_rural      object\n",
       "unemployment            float64\n",
       "time_zone                 int64\n",
       "island                   object\n",
       "dtype: object"
      ]
     },
     "execution_count": 67,
     "metadata": {},
     "output_type": "execute_result"
    }
   ],
   "source": [
    "df.dtypes"
   ]
  },
  {
   "cell_type": "markdown",
   "metadata": {},
   "source": [
    "Informasi lebih detail mengenai struktur DataFrame dapat dilihat menggunakan fungsi info()"
   ]
  },
  {
   "cell_type": "code",
   "execution_count": 68,
   "metadata": {
    "tags": []
   },
   "outputs": [
    {
     "name": "stdout",
     "output_type": "stream",
     "text": [
      "<class 'pandas.core.frame.DataFrame'>\n",
      "RangeIndex: 34 entries, 0 to 33\n",
      "Data columns (total 10 columns):\n",
      " #   Column                Non-Null Count  Dtype  \n",
      "---  ------                --------------  -----  \n",
      " 0   province              34 non-null     object \n",
      " 1   rainfall              34 non-null     float64\n",
      " 2   rainy_day             34 non-null     int64  \n",
      " 3   expenses_food_urban   34 non-null     int64  \n",
      " 4   expenses_other_urban  34 non-null     int64  \n",
      " 5   expenses_food_rural   34 non-null     object \n",
      " 6   expense_other_rural   34 non-null     object \n",
      " 7   unemployment          34 non-null     float64\n",
      " 8   time_zone             34 non-null     int64  \n",
      " 9   island                34 non-null     object \n",
      "dtypes: float64(2), int64(4), object(4)\n",
      "memory usage: 2.8+ KB\n"
     ]
    }
   ],
   "source": [
    "df.info()"
   ]
  },
  {
   "cell_type": "markdown",
   "metadata": {},
   "source": [
    "### __Informasi Statistik__\n",
    "\n",
    "Informasi statistik untuk setiap kolom seperti nilai minimum, nilai maksimum, standar deviasi, rata-rata dan sebagainya, dapat ditampilkan dengan mengikuti perintah berikut"
   ]
  },
  {
   "cell_type": "code",
   "execution_count": 69,
   "metadata": {
    "tags": []
   },
   "outputs": [
    {
     "data": {
      "text/html": [
       "<div>\n",
       "<style scoped>\n",
       "    .dataframe tbody tr th:only-of-type {\n",
       "        vertical-align: middle;\n",
       "    }\n",
       "\n",
       "    .dataframe tbody tr th {\n",
       "        vertical-align: top;\n",
       "    }\n",
       "\n",
       "    .dataframe thead th {\n",
       "        text-align: right;\n",
       "    }\n",
       "</style>\n",
       "<table border=\"1\" class=\"dataframe\">\n",
       "  <thead>\n",
       "    <tr style=\"text-align: right;\">\n",
       "      <th></th>\n",
       "      <th>province</th>\n",
       "      <th>rainfall</th>\n",
       "      <th>rainy_day</th>\n",
       "      <th>expenses_food_urban</th>\n",
       "      <th>expenses_other_urban</th>\n",
       "      <th>expenses_food_rural</th>\n",
       "      <th>expense_other_rural</th>\n",
       "      <th>unemployment</th>\n",
       "      <th>time_zone</th>\n",
       "      <th>island</th>\n",
       "    </tr>\n",
       "  </thead>\n",
       "  <tbody>\n",
       "    <tr>\n",
       "      <th>count</th>\n",
       "      <td>34</td>\n",
       "      <td>34.000000</td>\n",
       "      <td>34.000000</td>\n",
       "      <td>34.000000</td>\n",
       "      <td>3.400000e+01</td>\n",
       "      <td>34</td>\n",
       "      <td>34</td>\n",
       "      <td>34.000000</td>\n",
       "      <td>34.000000</td>\n",
       "      <td>34</td>\n",
       "    </tr>\n",
       "    <tr>\n",
       "      <th>unique</th>\n",
       "      <td>34</td>\n",
       "      <td>NaN</td>\n",
       "      <td>NaN</td>\n",
       "      <td>NaN</td>\n",
       "      <td>NaN</td>\n",
       "      <td>34</td>\n",
       "      <td>34</td>\n",
       "      <td>NaN</td>\n",
       "      <td>NaN</td>\n",
       "      <td>10</td>\n",
       "    </tr>\n",
       "    <tr>\n",
       "      <th>top</th>\n",
       "      <td>Aceh</td>\n",
       "      <td>NaN</td>\n",
       "      <td>NaN</td>\n",
       "      <td>NaN</td>\n",
       "      <td>NaN</td>\n",
       "      <td>395136</td>\n",
       "      <td>260183</td>\n",
       "      <td>NaN</td>\n",
       "      <td>NaN</td>\n",
       "      <td>Sumatera</td>\n",
       "    </tr>\n",
       "    <tr>\n",
       "      <th>freq</th>\n",
       "      <td>1</td>\n",
       "      <td>NaN</td>\n",
       "      <td>NaN</td>\n",
       "      <td>NaN</td>\n",
       "      <td>NaN</td>\n",
       "      <td>1</td>\n",
       "      <td>1</td>\n",
       "      <td>NaN</td>\n",
       "      <td>NaN</td>\n",
       "      <td>8</td>\n",
       "    </tr>\n",
       "    <tr>\n",
       "      <th>mean</th>\n",
       "      <td>NaN</td>\n",
       "      <td>1871.032353</td>\n",
       "      <td>144.382353</td>\n",
       "      <td>476174.176471</td>\n",
       "      <td>5.963873e+05</td>\n",
       "      <td>NaN</td>\n",
       "      <td>NaN</td>\n",
       "      <td>5.980000</td>\n",
       "      <td>1.588235</td>\n",
       "      <td>NaN</td>\n",
       "    </tr>\n",
       "    <tr>\n",
       "      <th>std</th>\n",
       "      <td>NaN</td>\n",
       "      <td>716.155671</td>\n",
       "      <td>37.232289</td>\n",
       "      <td>81025.864223</td>\n",
       "      <td>1.415057e+05</td>\n",
       "      <td>NaN</td>\n",
       "      <td>NaN</td>\n",
       "      <td>1.957125</td>\n",
       "      <td>0.701412</td>\n",
       "      <td>NaN</td>\n",
       "    </tr>\n",
       "    <tr>\n",
       "      <th>min</th>\n",
       "      <td>NaN</td>\n",
       "      <td>460.900000</td>\n",
       "      <td>68.000000</td>\n",
       "      <td>350517.000000</td>\n",
       "      <td>3.697460e+05</td>\n",
       "      <td>NaN</td>\n",
       "      <td>NaN</td>\n",
       "      <td>1.990000</td>\n",
       "      <td>1.000000</td>\n",
       "      <td>NaN</td>\n",
       "    </tr>\n",
       "    <tr>\n",
       "      <th>25%</th>\n",
       "      <td>NaN</td>\n",
       "      <td>1334.075000</td>\n",
       "      <td>124.750000</td>\n",
       "      <td>420900.000000</td>\n",
       "      <td>5.199162e+05</td>\n",
       "      <td>NaN</td>\n",
       "      <td>NaN</td>\n",
       "      <td>4.567500</td>\n",
       "      <td>1.000000</td>\n",
       "      <td>NaN</td>\n",
       "    </tr>\n",
       "    <tr>\n",
       "      <th>50%</th>\n",
       "      <td>NaN</td>\n",
       "      <td>1877.100000</td>\n",
       "      <td>143.500000</td>\n",
       "      <td>462096.000000</td>\n",
       "      <td>5.613845e+05</td>\n",
       "      <td>NaN</td>\n",
       "      <td>NaN</td>\n",
       "      <td>5.685000</td>\n",
       "      <td>1.000000</td>\n",
       "      <td>NaN</td>\n",
       "    </tr>\n",
       "    <tr>\n",
       "      <th>75%</th>\n",
       "      <td>NaN</td>\n",
       "      <td>2238.000000</td>\n",
       "      <td>166.750000</td>\n",
       "      <td>522762.000000</td>\n",
       "      <td>6.682235e+05</td>\n",
       "      <td>NaN</td>\n",
       "      <td>NaN</td>\n",
       "      <td>7.145000</td>\n",
       "      <td>2.000000</td>\n",
       "      <td>NaN</td>\n",
       "    </tr>\n",
       "    <tr>\n",
       "      <th>max</th>\n",
       "      <td>NaN</td>\n",
       "      <td>3548.000000</td>\n",
       "      <td>218.000000</td>\n",
       "      <td>666922.000000</td>\n",
       "      <td>1.157945e+06</td>\n",
       "      <td>NaN</td>\n",
       "      <td>NaN</td>\n",
       "      <td>9.930000</td>\n",
       "      <td>3.000000</td>\n",
       "      <td>NaN</td>\n",
       "    </tr>\n",
       "  </tbody>\n",
       "</table>\n",
       "</div>"
      ],
      "text/plain": [
       "       province     rainfall   rainy_day  expenses_food_urban  \\\n",
       "count        34    34.000000   34.000000            34.000000   \n",
       "unique       34          NaN         NaN                  NaN   \n",
       "top        Aceh          NaN         NaN                  NaN   \n",
       "freq          1          NaN         NaN                  NaN   \n",
       "mean        NaN  1871.032353  144.382353        476174.176471   \n",
       "std         NaN   716.155671   37.232289         81025.864223   \n",
       "min         NaN   460.900000   68.000000        350517.000000   \n",
       "25%         NaN  1334.075000  124.750000        420900.000000   \n",
       "50%         NaN  1877.100000  143.500000        462096.000000   \n",
       "75%         NaN  2238.000000  166.750000        522762.000000   \n",
       "max         NaN  3548.000000  218.000000        666922.000000   \n",
       "\n",
       "        expenses_other_urban expenses_food_rural expense_other_rural  \\\n",
       "count           3.400000e+01                  34                  34   \n",
       "unique                   NaN                  34                  34   \n",
       "top                      NaN              395136              260183   \n",
       "freq                     NaN                   1                   1   \n",
       "mean            5.963873e+05                 NaN                 NaN   \n",
       "std             1.415057e+05                 NaN                 NaN   \n",
       "min             3.697460e+05                 NaN                 NaN   \n",
       "25%             5.199162e+05                 NaN                 NaN   \n",
       "50%             5.613845e+05                 NaN                 NaN   \n",
       "75%             6.682235e+05                 NaN                 NaN   \n",
       "max             1.157945e+06                 NaN                 NaN   \n",
       "\n",
       "        unemployment  time_zone    island  \n",
       "count      34.000000  34.000000        34  \n",
       "unique           NaN        NaN        10  \n",
       "top              NaN        NaN  Sumatera  \n",
       "freq             NaN        NaN         8  \n",
       "mean        5.980000   1.588235       NaN  \n",
       "std         1.957125   0.701412       NaN  \n",
       "min         1.990000   1.000000       NaN  \n",
       "25%         4.567500   1.000000       NaN  \n",
       "50%         5.685000   1.000000       NaN  \n",
       "75%         7.145000   2.000000       NaN  \n",
       "max         9.930000   3.000000       NaN  "
      ]
     },
     "execution_count": 69,
     "metadata": {},
     "output_type": "execute_result"
    }
   ],
   "source": [
    "df.describe(include='all')"
   ]
  },
  {
   "cell_type": "markdown",
   "metadata": {},
   "source": [
    "### __Menampilkan Kolom__\n",
    "\n",
    "Kita dapat memilih kolom mana saja yang akan ditampilkan, yaitu dengan menyebutkan nama kolom yang akan ditampilkan. Sebagai contoh kita hanya ingin menampilkan kolom __province, unemployment__ dan __expenses_food_urban__"
   ]
  },
  {
   "cell_type": "code",
   "execution_count": 70,
   "metadata": {
    "tags": []
   },
   "outputs": [
    {
     "data": {
      "text/html": [
       "<div>\n",
       "<style scoped>\n",
       "    .dataframe tbody tr th:only-of-type {\n",
       "        vertical-align: middle;\n",
       "    }\n",
       "\n",
       "    .dataframe tbody tr th {\n",
       "        vertical-align: top;\n",
       "    }\n",
       "\n",
       "    .dataframe thead th {\n",
       "        text-align: right;\n",
       "    }\n",
       "</style>\n",
       "<table border=\"1\" class=\"dataframe\">\n",
       "  <thead>\n",
       "    <tr style=\"text-align: right;\">\n",
       "      <th></th>\n",
       "      <th>province</th>\n",
       "      <th>unemployment</th>\n",
       "      <th>expenses_food_urban</th>\n",
       "    </tr>\n",
       "  </thead>\n",
       "  <tbody>\n",
       "    <tr>\n",
       "      <th>0</th>\n",
       "      <td>Aceh</td>\n",
       "      <td>9.93</td>\n",
       "      <td>466355</td>\n",
       "    </tr>\n",
       "    <tr>\n",
       "      <th>1</th>\n",
       "      <td>Sumatera Utara</td>\n",
       "      <td>6.71</td>\n",
       "      <td>416073</td>\n",
       "    </tr>\n",
       "    <tr>\n",
       "      <th>2</th>\n",
       "      <td>Sumatera Barat</td>\n",
       "      <td>6.89</td>\n",
       "      <td>509609</td>\n",
       "    </tr>\n",
       "    <tr>\n",
       "      <th>3</th>\n",
       "      <td>Riau</td>\n",
       "      <td>7.83</td>\n",
       "      <td>530836</td>\n",
       "    </tr>\n",
       "    <tr>\n",
       "      <th>4</th>\n",
       "      <td>Jambi</td>\n",
       "      <td>4.34</td>\n",
       "      <td>464204</td>\n",
       "    </tr>\n",
       "  </tbody>\n",
       "</table>\n",
       "</div>"
      ],
      "text/plain": [
       "         province  unemployment  expenses_food_urban\n",
       "0            Aceh          9.93               466355\n",
       "1  Sumatera Utara          6.71               416073\n",
       "2  Sumatera Barat          6.89               509609\n",
       "3            Riau          7.83               530836\n",
       "4           Jambi          4.34               464204"
      ]
     },
     "execution_count": 70,
     "metadata": {},
     "output_type": "execute_result"
    }
   ],
   "source": [
    "df[['province', 'unemployment', 'expenses_food_urban']].head()"
   ]
  },
  {
   "cell_type": "markdown",
   "metadata": {},
   "source": [
    "### __Memfilter Data__\n",
    "\n",
    "Salah satu bagian penting yang digunakan dalam penyiapan data dan analisis data adalah filtering, yaitu pemilihan data dengan kriteria tertentu. Ini juga disebut data subset.\n",
    "\n",
    "Bagi mereka yang terbiasa menggunakan SQL, ini adalah bagian dari pernyataan __WHERE__.\n",
    "\n",
    "Misalnya, kami ingin menampilkan data untuk pulau yang sama dengan __'Sumatera'__"
   ]
  },
  {
   "cell_type": "code",
   "execution_count": 71,
   "metadata": {
    "tags": []
   },
   "outputs": [
    {
     "data": {
      "text/html": [
       "<div>\n",
       "<style scoped>\n",
       "    .dataframe tbody tr th:only-of-type {\n",
       "        vertical-align: middle;\n",
       "    }\n",
       "\n",
       "    .dataframe tbody tr th {\n",
       "        vertical-align: top;\n",
       "    }\n",
       "\n",
       "    .dataframe thead th {\n",
       "        text-align: right;\n",
       "    }\n",
       "</style>\n",
       "<table border=\"1\" class=\"dataframe\">\n",
       "  <thead>\n",
       "    <tr style=\"text-align: right;\">\n",
       "      <th></th>\n",
       "      <th>province</th>\n",
       "      <th>rainfall</th>\n",
       "      <th>rainy_day</th>\n",
       "      <th>expenses_food_urban</th>\n",
       "      <th>expenses_other_urban</th>\n",
       "      <th>expenses_food_rural</th>\n",
       "      <th>expense_other_rural</th>\n",
       "      <th>unemployment</th>\n",
       "      <th>time_zone</th>\n",
       "      <th>island</th>\n",
       "    </tr>\n",
       "  </thead>\n",
       "  <tbody>\n",
       "    <tr>\n",
       "      <th>0</th>\n",
       "      <td>Aceh</td>\n",
       "      <td>1575.0</td>\n",
       "      <td>146</td>\n",
       "      <td>466355</td>\n",
       "      <td>529945</td>\n",
       "      <td>395136</td>\n",
       "      <td>260183</td>\n",
       "      <td>9.93</td>\n",
       "      <td>1</td>\n",
       "      <td>Sumatera</td>\n",
       "    </tr>\n",
       "    <tr>\n",
       "      <th>1</th>\n",
       "      <td>Sumatera Utara</td>\n",
       "      <td>975.9</td>\n",
       "      <td>105</td>\n",
       "      <td>416073</td>\n",
       "      <td>453609</td>\n",
       "      <td>413087</td>\n",
       "      <td>269407</td>\n",
       "      <td>6.71</td>\n",
       "      <td>1</td>\n",
       "      <td>Sumatera</td>\n",
       "    </tr>\n",
       "    <tr>\n",
       "      <th>2</th>\n",
       "      <td>Sumatera Barat</td>\n",
       "      <td>3548.0</td>\n",
       "      <td>185</td>\n",
       "      <td>509609</td>\n",
       "      <td>578890</td>\n",
       "      <td>447944</td>\n",
       "      <td>319143</td>\n",
       "      <td>6.89</td>\n",
       "      <td>1</td>\n",
       "      <td>Sumatera</td>\n",
       "    </tr>\n",
       "    <tr>\n",
       "      <th>3</th>\n",
       "      <td>Riau</td>\n",
       "      <td>2048.3</td>\n",
       "      <td>140</td>\n",
       "      <td>530836</td>\n",
       "      <td>661673</td>\n",
       "      <td>472756</td>\n",
       "      <td>413929</td>\n",
       "      <td>7.83</td>\n",
       "      <td>1</td>\n",
       "      <td>Sumatera</td>\n",
       "    </tr>\n",
       "    <tr>\n",
       "      <th>4</th>\n",
       "      <td>Jambi</td>\n",
       "      <td>1694.9</td>\n",
       "      <td>135</td>\n",
       "      <td>464204</td>\n",
       "      <td>556527</td>\n",
       "      <td>412871</td>\n",
       "      <td>349329</td>\n",
       "      <td>4.34</td>\n",
       "      <td>1</td>\n",
       "      <td>Sumatera</td>\n",
       "    </tr>\n",
       "  </tbody>\n",
       "</table>\n",
       "</div>"
      ],
      "text/plain": [
       "         province  rainfall  rainy_day  expenses_food_urban  \\\n",
       "0            Aceh    1575.0        146               466355   \n",
       "1  Sumatera Utara     975.9        105               416073   \n",
       "2  Sumatera Barat    3548.0        185               509609   \n",
       "3            Riau    2048.3        140               530836   \n",
       "4           Jambi    1694.9        135               464204   \n",
       "\n",
       "   expenses_other_urban expenses_food_rural expense_other_rural  unemployment  \\\n",
       "0                529945              395136              260183          9.93   \n",
       "1                453609              413087              269407          6.71   \n",
       "2                578890              447944              319143          6.89   \n",
       "3                661673              472756              413929          7.83   \n",
       "4                556527              412871              349329          4.34   \n",
       "\n",
       "   time_zone    island  \n",
       "0          1  Sumatera  \n",
       "1          1  Sumatera  \n",
       "2          1  Sumatera  \n",
       "3          1  Sumatera  \n",
       "4          1  Sumatera  "
      ]
     },
     "execution_count": 71,
     "metadata": {},
     "output_type": "execute_result"
    }
   ],
   "source": [
    "df[(df.island == \"Sumatera\")].head()"
   ]
  },
  {
   "cell_type": "markdown",
   "metadata": {},
   "source": [
    "Penggabungkan beberapa kondisi dapat menggunakan operator logika __AND(\"&\")__ dan operator logika __OR(\"|\")__ untuk memilih baris dengan lebih dari satu kriteria.\n",
    "\n",
    "Misalnya kita ingin menampilkan semua provinsi yang ada di pulau Sumatera dan tingkat pengangguran kurang dari 5."
   ]
  },
  {
   "cell_type": "code",
   "execution_count": 72,
   "metadata": {
    "tags": []
   },
   "outputs": [
    {
     "data": {
      "text/html": [
       "<div>\n",
       "<style scoped>\n",
       "    .dataframe tbody tr th:only-of-type {\n",
       "        vertical-align: middle;\n",
       "    }\n",
       "\n",
       "    .dataframe tbody tr th {\n",
       "        vertical-align: top;\n",
       "    }\n",
       "\n",
       "    .dataframe thead th {\n",
       "        text-align: right;\n",
       "    }\n",
       "</style>\n",
       "<table border=\"1\" class=\"dataframe\">\n",
       "  <thead>\n",
       "    <tr style=\"text-align: right;\">\n",
       "      <th></th>\n",
       "      <th>province</th>\n",
       "      <th>rainfall</th>\n",
       "      <th>rainy_day</th>\n",
       "      <th>expenses_food_urban</th>\n",
       "      <th>expenses_other_urban</th>\n",
       "      <th>expenses_food_rural</th>\n",
       "      <th>expense_other_rural</th>\n",
       "      <th>unemployment</th>\n",
       "      <th>time_zone</th>\n",
       "      <th>island</th>\n",
       "    </tr>\n",
       "  </thead>\n",
       "  <tbody>\n",
       "    <tr>\n",
       "      <th>4</th>\n",
       "      <td>Jambi</td>\n",
       "      <td>1694.9</td>\n",
       "      <td>135</td>\n",
       "      <td>464204</td>\n",
       "      <td>556527</td>\n",
       "      <td>412871</td>\n",
       "      <td>349329</td>\n",
       "      <td>4.34</td>\n",
       "      <td>1</td>\n",
       "      <td>Sumatera</td>\n",
       "    </tr>\n",
       "    <tr>\n",
       "      <th>6</th>\n",
       "      <td>Bengkulu</td>\n",
       "      <td>2668.9</td>\n",
       "      <td>166</td>\n",
       "      <td>434462</td>\n",
       "      <td>555949</td>\n",
       "      <td>403723</td>\n",
       "      <td>326656</td>\n",
       "      <td>4.91</td>\n",
       "      <td>1</td>\n",
       "      <td>Sumatera</td>\n",
       "    </tr>\n",
       "  </tbody>\n",
       "</table>\n",
       "</div>"
      ],
      "text/plain": [
       "   province  rainfall  rainy_day  expenses_food_urban  expenses_other_urban  \\\n",
       "4     Jambi    1694.9        135               464204                556527   \n",
       "6  Bengkulu    2668.9        166               434462                555949   \n",
       "\n",
       "  expenses_food_rural expense_other_rural  unemployment  time_zone    island  \n",
       "4              412871              349329          4.34          1  Sumatera  \n",
       "6              403723              326656          4.91          1  Sumatera  "
      ]
     },
     "execution_count": 72,
     "metadata": {},
     "output_type": "execute_result"
    }
   ],
   "source": [
    "df[(df.island == \"Sumatera\") & (df.unemployment < 5)]"
   ]
  },
  {
   "cell_type": "markdown",
   "metadata": {},
   "source": [
    "Penulisan dengan cara yang berbeda tetapi memiliki hasil yang sama"
   ]
  },
  {
   "cell_type": "code",
   "execution_count": 73,
   "metadata": {
    "tags": []
   },
   "outputs": [
    {
     "data": {
      "text/html": [
       "<div>\n",
       "<style scoped>\n",
       "    .dataframe tbody tr th:only-of-type {\n",
       "        vertical-align: middle;\n",
       "    }\n",
       "\n",
       "    .dataframe tbody tr th {\n",
       "        vertical-align: top;\n",
       "    }\n",
       "\n",
       "    .dataframe thead th {\n",
       "        text-align: right;\n",
       "    }\n",
       "</style>\n",
       "<table border=\"1\" class=\"dataframe\">\n",
       "  <thead>\n",
       "    <tr style=\"text-align: right;\">\n",
       "      <th></th>\n",
       "      <th>province</th>\n",
       "      <th>rainfall</th>\n",
       "      <th>rainy_day</th>\n",
       "      <th>expenses_food_urban</th>\n",
       "      <th>expenses_other_urban</th>\n",
       "      <th>expenses_food_rural</th>\n",
       "      <th>expense_other_rural</th>\n",
       "      <th>unemployment</th>\n",
       "      <th>time_zone</th>\n",
       "      <th>island</th>\n",
       "    </tr>\n",
       "  </thead>\n",
       "  <tbody>\n",
       "    <tr>\n",
       "      <th>4</th>\n",
       "      <td>Jambi</td>\n",
       "      <td>1694.9</td>\n",
       "      <td>135</td>\n",
       "      <td>464204</td>\n",
       "      <td>556527</td>\n",
       "      <td>412871</td>\n",
       "      <td>349329</td>\n",
       "      <td>4.34</td>\n",
       "      <td>1</td>\n",
       "      <td>Sumatera</td>\n",
       "    </tr>\n",
       "    <tr>\n",
       "      <th>6</th>\n",
       "      <td>Bengkulu</td>\n",
       "      <td>2668.9</td>\n",
       "      <td>166</td>\n",
       "      <td>434462</td>\n",
       "      <td>555949</td>\n",
       "      <td>403723</td>\n",
       "      <td>326656</td>\n",
       "      <td>4.91</td>\n",
       "      <td>1</td>\n",
       "      <td>Sumatera</td>\n",
       "    </tr>\n",
       "  </tbody>\n",
       "</table>\n",
       "</div>"
      ],
      "text/plain": [
       "   province  rainfall  rainy_day  expenses_food_urban  expenses_other_urban  \\\n",
       "4     Jambi    1694.9        135               464204                556527   \n",
       "6  Bengkulu    2668.9        166               434462                555949   \n",
       "\n",
       "  expenses_food_rural expense_other_rural  unemployment  time_zone    island  \n",
       "4              412871              349329          4.34          1  Sumatera  \n",
       "6              403723              326656          4.91          1  Sumatera  "
      ]
     },
     "execution_count": 73,
     "metadata": {},
     "output_type": "execute_result"
    }
   ],
   "source": [
    "df[(df['island'] == \"Sumatera\") & (df['unemployment'] < 5)].head()"
   ]
  },
  {
   "cell_type": "markdown",
   "metadata": {},
   "source": [
    "Fungsi ```isin()``` dapat digunakan untuk memfilter kolom jika nilainya ditentukan dalam bentuk list/daftar. Misalnya, kami ingin menampilkan provinsi di Sumatera dan pulau Kalimantan yang memiliki tingkat pengangguran kurang dari 5"
   ]
  },
  {
   "cell_type": "code",
   "execution_count": 74,
   "metadata": {
    "tags": []
   },
   "outputs": [
    {
     "data": {
      "text/html": [
       "<div>\n",
       "<style scoped>\n",
       "    .dataframe tbody tr th:only-of-type {\n",
       "        vertical-align: middle;\n",
       "    }\n",
       "\n",
       "    .dataframe tbody tr th {\n",
       "        vertical-align: top;\n",
       "    }\n",
       "\n",
       "    .dataframe thead th {\n",
       "        text-align: right;\n",
       "    }\n",
       "</style>\n",
       "<table border=\"1\" class=\"dataframe\">\n",
       "  <thead>\n",
       "    <tr style=\"text-align: right;\">\n",
       "      <th></th>\n",
       "      <th>province</th>\n",
       "      <th>rainfall</th>\n",
       "      <th>rainy_day</th>\n",
       "      <th>expenses_food_urban</th>\n",
       "      <th>expenses_other_urban</th>\n",
       "      <th>expenses_food_rural</th>\n",
       "      <th>expense_other_rural</th>\n",
       "      <th>unemployment</th>\n",
       "      <th>time_zone</th>\n",
       "      <th>island</th>\n",
       "    </tr>\n",
       "  </thead>\n",
       "  <tbody>\n",
       "    <tr>\n",
       "      <th>4</th>\n",
       "      <td>Jambi</td>\n",
       "      <td>1694.9</td>\n",
       "      <td>135</td>\n",
       "      <td>464204</td>\n",
       "      <td>556527</td>\n",
       "      <td>412871</td>\n",
       "      <td>349329</td>\n",
       "      <td>4.34</td>\n",
       "      <td>1</td>\n",
       "      <td>Sumatera</td>\n",
       "    </tr>\n",
       "    <tr>\n",
       "      <th>6</th>\n",
       "      <td>Bengkulu</td>\n",
       "      <td>2668.9</td>\n",
       "      <td>166</td>\n",
       "      <td>434462</td>\n",
       "      <td>555949</td>\n",
       "      <td>403723</td>\n",
       "      <td>326656</td>\n",
       "      <td>4.91</td>\n",
       "      <td>1</td>\n",
       "      <td>Sumatera</td>\n",
       "    </tr>\n",
       "    <tr>\n",
       "      <th>20</th>\n",
       "      <td>Kalimantan Tengah</td>\n",
       "      <td>2748.4</td>\n",
       "      <td>155</td>\n",
       "      <td>506106</td>\n",
       "      <td>549096</td>\n",
       "      <td>489011</td>\n",
       "      <td>361909</td>\n",
       "      <td>4.54</td>\n",
       "      <td>1</td>\n",
       "      <td>Kalimantan</td>\n",
       "    </tr>\n",
       "    <tr>\n",
       "      <th>21</th>\n",
       "      <td>Kalimantan Selatan</td>\n",
       "      <td>2509.6</td>\n",
       "      <td>166</td>\n",
       "      <td>510837</td>\n",
       "      <td>670407</td>\n",
       "      <td>440745</td>\n",
       "      <td>349861</td>\n",
       "      <td>4.92</td>\n",
       "      <td>2</td>\n",
       "      <td>Kalimantan</td>\n",
       "    </tr>\n",
       "  </tbody>\n",
       "</table>\n",
       "</div>"
      ],
      "text/plain": [
       "              province  rainfall  rainy_day  expenses_food_urban  \\\n",
       "4                Jambi    1694.9        135               464204   \n",
       "6             Bengkulu    2668.9        166               434462   \n",
       "20   Kalimantan Tengah    2748.4        155               506106   \n",
       "21  Kalimantan Selatan    2509.6        166               510837   \n",
       "\n",
       "    expenses_other_urban expenses_food_rural expense_other_rural  \\\n",
       "4                 556527              412871              349329   \n",
       "6                 555949              403723              326656   \n",
       "20                549096              489011              361909   \n",
       "21                670407              440745              349861   \n",
       "\n",
       "    unemployment  time_zone      island  \n",
       "4           4.34          1    Sumatera  \n",
       "6           4.91          1    Sumatera  \n",
       "20          4.54          1  Kalimantan  \n",
       "21          4.92          2  Kalimantan  "
      ]
     },
     "execution_count": 74,
     "metadata": {},
     "output_type": "execute_result"
    }
   ],
   "source": [
    "df[  (df['island'].isin(['Sumatera', 'Kalimantan'])) \n",
    "   & (df['unemployment'] < 5)\n",
    "  ]"
   ]
  },
  {
   "cell_type": "markdown",
   "metadata": {},
   "source": [
    "Untuk penyataan negasi atau __NOT__ menggunakan tanda '~'"
   ]
  },
  {
   "cell_type": "code",
   "execution_count": 75,
   "metadata": {
    "tags": []
   },
   "outputs": [
    {
     "data": {
      "text/html": [
       "<div>\n",
       "<style scoped>\n",
       "    .dataframe tbody tr th:only-of-type {\n",
       "        vertical-align: middle;\n",
       "    }\n",
       "\n",
       "    .dataframe tbody tr th {\n",
       "        vertical-align: top;\n",
       "    }\n",
       "\n",
       "    .dataframe thead th {\n",
       "        text-align: right;\n",
       "    }\n",
       "</style>\n",
       "<table border=\"1\" class=\"dataframe\">\n",
       "  <thead>\n",
       "    <tr style=\"text-align: right;\">\n",
       "      <th></th>\n",
       "      <th>province</th>\n",
       "      <th>rainfall</th>\n",
       "      <th>rainy_day</th>\n",
       "      <th>expenses_food_urban</th>\n",
       "      <th>expenses_other_urban</th>\n",
       "      <th>expenses_food_rural</th>\n",
       "      <th>expense_other_rural</th>\n",
       "      <th>unemployment</th>\n",
       "      <th>time_zone</th>\n",
       "      <th>island</th>\n",
       "    </tr>\n",
       "  </thead>\n",
       "  <tbody>\n",
       "    <tr>\n",
       "      <th>12</th>\n",
       "      <td>Jawa Tengah</td>\n",
       "      <td>1620.7</td>\n",
       "      <td>140</td>\n",
       "      <td>350517</td>\n",
       "      <td>468198</td>\n",
       "      <td>313724</td>\n",
       "      <td>277509</td>\n",
       "      <td>4.99</td>\n",
       "      <td>1</td>\n",
       "      <td>Jawa</td>\n",
       "    </tr>\n",
       "    <tr>\n",
       "      <th>13</th>\n",
       "      <td>DI Yogyakarta</td>\n",
       "      <td>2045.5</td>\n",
       "      <td>119</td>\n",
       "      <td>385061</td>\n",
       "      <td>697510</td>\n",
       "      <td>325188</td>\n",
       "      <td>297594</td>\n",
       "      <td>4.07</td>\n",
       "      <td>1</td>\n",
       "      <td>Jawa</td>\n",
       "    </tr>\n",
       "    <tr>\n",
       "      <th>14</th>\n",
       "      <td>Jawa Timur</td>\n",
       "      <td>2024.7</td>\n",
       "      <td>133</td>\n",
       "      <td>427218</td>\n",
       "      <td>604896</td>\n",
       "      <td>338325</td>\n",
       "      <td>306017</td>\n",
       "      <td>4.47</td>\n",
       "      <td>1</td>\n",
       "      <td>Jawa</td>\n",
       "    </tr>\n",
       "    <tr>\n",
       "      <th>16</th>\n",
       "      <td>Bali</td>\n",
       "      <td>1133.8</td>\n",
       "      <td>124</td>\n",
       "      <td>441921</td>\n",
       "      <td>737657</td>\n",
       "      <td>389091</td>\n",
       "      <td>441381</td>\n",
       "      <td>1.99</td>\n",
       "      <td>2</td>\n",
       "      <td>Bali</td>\n",
       "    </tr>\n",
       "    <tr>\n",
       "      <th>18</th>\n",
       "      <td>Nusa Tenggara Timur</td>\n",
       "      <td>1406.0</td>\n",
       "      <td>82</td>\n",
       "      <td>401053</td>\n",
       "      <td>473374</td>\n",
       "      <td>272347</td>\n",
       "      <td>176028</td>\n",
       "      <td>3.83</td>\n",
       "      <td>2</td>\n",
       "      <td>Nusa Tenggara</td>\n",
       "    </tr>\n",
       "  </tbody>\n",
       "</table>\n",
       "</div>"
      ],
      "text/plain": [
       "               province  rainfall  rainy_day  expenses_food_urban  \\\n",
       "12          Jawa Tengah    1620.7        140               350517   \n",
       "13        DI Yogyakarta    2045.5        119               385061   \n",
       "14           Jawa Timur    2024.7        133               427218   \n",
       "16                 Bali    1133.8        124               441921   \n",
       "18  Nusa Tenggara Timur    1406.0         82               401053   \n",
       "\n",
       "    expenses_other_urban expenses_food_rural expense_other_rural  \\\n",
       "12                468198              313724              277509   \n",
       "13                697510              325188              297594   \n",
       "14                604896              338325              306017   \n",
       "16                737657              389091              441381   \n",
       "18                473374              272347              176028   \n",
       "\n",
       "    unemployment  time_zone         island  \n",
       "12          4.99          1           Jawa  \n",
       "13          4.07          1           Jawa  \n",
       "14          4.47          1           Jawa  \n",
       "16          1.99          2           Bali  \n",
       "18          3.83          2  Nusa Tenggara  "
      ]
     },
     "execution_count": 75,
     "metadata": {},
     "output_type": "execute_result"
    }
   ],
   "source": [
    "df[  ~(df['island'].isin(['Sumatera', 'Kalimantan'])) \n",
    "   & (df['unemployment'] < 5)\n",
    "  ].head()"
   ]
  },
  {
   "cell_type": "markdown",
   "metadata": {},
   "source": [
    "Hasil pernyataan diatas menunjukkan semua data yang __TIDAK berada di pulau Sumatera dan Kalimantan,__ dan memiliki __tingkat pengangguran kurang dari 5__\n",
    "\n",
    "Jika pernyataan kondisi terlalu rumit, maka sebaiknya dibuat variable DataFrame baru sehingga menyederhanakan proses berikutnya"
   ]
  },
  {
   "cell_type": "code",
   "execution_count": 76,
   "metadata": {
    "tags": []
   },
   "outputs": [
    {
     "data": {
      "text/html": [
       "<div>\n",
       "<style scoped>\n",
       "    .dataframe tbody tr th:only-of-type {\n",
       "        vertical-align: middle;\n",
       "    }\n",
       "\n",
       "    .dataframe tbody tr th {\n",
       "        vertical-align: top;\n",
       "    }\n",
       "\n",
       "    .dataframe thead th {\n",
       "        text-align: right;\n",
       "    }\n",
       "</style>\n",
       "<table border=\"1\" class=\"dataframe\">\n",
       "  <thead>\n",
       "    <tr style=\"text-align: right;\">\n",
       "      <th></th>\n",
       "      <th>province</th>\n",
       "      <th>rainfall</th>\n",
       "      <th>rainy_day</th>\n",
       "      <th>expenses_food_urban</th>\n",
       "      <th>expenses_other_urban</th>\n",
       "      <th>expenses_food_rural</th>\n",
       "      <th>expense_other_rural</th>\n",
       "      <th>unemployment</th>\n",
       "      <th>time_zone</th>\n",
       "      <th>island</th>\n",
       "    </tr>\n",
       "  </thead>\n",
       "  <tbody>\n",
       "    <tr>\n",
       "      <th>16</th>\n",
       "      <td>Bali</td>\n",
       "      <td>1133.8</td>\n",
       "      <td>124</td>\n",
       "      <td>441921</td>\n",
       "      <td>737657</td>\n",
       "      <td>389091</td>\n",
       "      <td>441381</td>\n",
       "      <td>1.99</td>\n",
       "      <td>2</td>\n",
       "      <td>Bali</td>\n",
       "    </tr>\n",
       "    <tr>\n",
       "      <th>13</th>\n",
       "      <td>DI Yogyakarta</td>\n",
       "      <td>2045.5</td>\n",
       "      <td>119</td>\n",
       "      <td>385061</td>\n",
       "      <td>697510</td>\n",
       "      <td>325188</td>\n",
       "      <td>297594</td>\n",
       "      <td>4.07</td>\n",
       "      <td>1</td>\n",
       "      <td>Jawa</td>\n",
       "    </tr>\n",
       "    <tr>\n",
       "      <th>18</th>\n",
       "      <td>Nusa Tenggara Timur</td>\n",
       "      <td>1406.0</td>\n",
       "      <td>82</td>\n",
       "      <td>401053</td>\n",
       "      <td>473374</td>\n",
       "      <td>272347</td>\n",
       "      <td>176028</td>\n",
       "      <td>3.83</td>\n",
       "      <td>2</td>\n",
       "      <td>Nusa Tenggara</td>\n",
       "    </tr>\n",
       "    <tr>\n",
       "      <th>28</th>\n",
       "      <td>Gorontalo</td>\n",
       "      <td>870.6</td>\n",
       "      <td>76</td>\n",
       "      <td>400853</td>\n",
       "      <td>541711</td>\n",
       "      <td>287010</td>\n",
       "      <td>234180</td>\n",
       "      <td>4.65</td>\n",
       "      <td>2</td>\n",
       "      <td>Sulawesi</td>\n",
       "    </tr>\n",
       "    <tr>\n",
       "      <th>14</th>\n",
       "      <td>Jawa Timur</td>\n",
       "      <td>2024.7</td>\n",
       "      <td>133</td>\n",
       "      <td>427218</td>\n",
       "      <td>604896</td>\n",
       "      <td>338325</td>\n",
       "      <td>306017</td>\n",
       "      <td>4.47</td>\n",
       "      <td>1</td>\n",
       "      <td>Jawa</td>\n",
       "    </tr>\n",
       "  </tbody>\n",
       "</table>\n",
       "</div>"
      ],
      "text/plain": [
       "               province  rainfall  rainy_day  expenses_food_urban  \\\n",
       "16                 Bali    1133.8        124               441921   \n",
       "13        DI Yogyakarta    2045.5        119               385061   \n",
       "18  Nusa Tenggara Timur    1406.0         82               401053   \n",
       "28            Gorontalo     870.6         76               400853   \n",
       "14           Jawa Timur    2024.7        133               427218   \n",
       "\n",
       "    expenses_other_urban expenses_food_rural expense_other_rural  \\\n",
       "16                737657              389091              441381   \n",
       "13                697510              325188              297594   \n",
       "18                473374              272347              176028   \n",
       "28                541711              287010              234180   \n",
       "14                604896              338325              306017   \n",
       "\n",
       "    unemployment  time_zone         island  \n",
       "16          1.99          2           Bali  \n",
       "13          4.07          1           Jawa  \n",
       "18          3.83          2  Nusa Tenggara  \n",
       "28          4.65          2       Sulawesi  \n",
       "14          4.47          1           Jawa  "
      ]
     },
     "execution_count": 76,
     "metadata": {},
     "output_type": "execute_result"
    }
   ],
   "source": [
    "df2 = df[  ~(df['island'].isin(['Sumatera', 'Kalimantan']))\n",
    "   & (df['unemployment'] < 5)\n",
    "  ]\n",
    "df2.sample(5)"
   ]
  },
  {
   "cell_type": "markdown",
   "metadata": {},
   "source": [
    "### __Mengurutkan Data__\n",
    "\n",
    "Fungsi ```sort_values()``` digunakan untuk melakukan pengurutan data berdasarkan dengan kolom yang disebutkan mulai dari nilai terkecil. Perintah berikut untuk menampilkan data diurutkan berdasarkan kolom rainfall"
   ]
  },
  {
   "cell_type": "code",
   "execution_count": 77,
   "metadata": {
    "tags": []
   },
   "outputs": [
    {
     "data": {
      "text/html": [
       "<div>\n",
       "<style scoped>\n",
       "    .dataframe tbody tr th:only-of-type {\n",
       "        vertical-align: middle;\n",
       "    }\n",
       "\n",
       "    .dataframe tbody tr th {\n",
       "        vertical-align: top;\n",
       "    }\n",
       "\n",
       "    .dataframe thead th {\n",
       "        text-align: right;\n",
       "    }\n",
       "</style>\n",
       "<table border=\"1\" class=\"dataframe\">\n",
       "  <thead>\n",
       "    <tr style=\"text-align: right;\">\n",
       "      <th></th>\n",
       "      <th>province</th>\n",
       "      <th>rainfall</th>\n",
       "      <th>rainy_day</th>\n",
       "      <th>expenses_food_urban</th>\n",
       "      <th>expenses_other_urban</th>\n",
       "      <th>expenses_food_rural</th>\n",
       "      <th>expense_other_rural</th>\n",
       "      <th>unemployment</th>\n",
       "      <th>time_zone</th>\n",
       "      <th>island</th>\n",
       "    </tr>\n",
       "  </thead>\n",
       "  <tbody>\n",
       "    <tr>\n",
       "      <th>25</th>\n",
       "      <td>Sulawesi Tengah</td>\n",
       "      <td>460.9</td>\n",
       "      <td>68</td>\n",
       "      <td>429317</td>\n",
       "      <td>629817</td>\n",
       "      <td>368439</td>\n",
       "      <td>293645</td>\n",
       "      <td>4.10</td>\n",
       "      <td>2</td>\n",
       "      <td>Sulawesi</td>\n",
       "    </tr>\n",
       "    <tr>\n",
       "      <th>28</th>\n",
       "      <td>Gorontalo</td>\n",
       "      <td>870.6</td>\n",
       "      <td>76</td>\n",
       "      <td>400853</td>\n",
       "      <td>541711</td>\n",
       "      <td>287010</td>\n",
       "      <td>234180</td>\n",
       "      <td>4.65</td>\n",
       "      <td>2</td>\n",
       "      <td>Sulawesi</td>\n",
       "    </tr>\n",
       "    <tr>\n",
       "      <th>31</th>\n",
       "      <td>Maluku Utara</td>\n",
       "      <td>913.4</td>\n",
       "      <td>127</td>\n",
       "      <td>465188</td>\n",
       "      <td>510105</td>\n",
       "      <td>404776</td>\n",
       "      <td>315800</td>\n",
       "      <td>6.05</td>\n",
       "      <td>3</td>\n",
       "      <td>Maluku</td>\n",
       "    </tr>\n",
       "    <tr>\n",
       "      <th>1</th>\n",
       "      <td>Sumatera Utara</td>\n",
       "      <td>975.9</td>\n",
       "      <td>105</td>\n",
       "      <td>416073</td>\n",
       "      <td>453609</td>\n",
       "      <td>413087</td>\n",
       "      <td>269407</td>\n",
       "      <td>6.71</td>\n",
       "      <td>1</td>\n",
       "      <td>Sumatera</td>\n",
       "    </tr>\n",
       "    <tr>\n",
       "      <th>16</th>\n",
       "      <td>Bali</td>\n",
       "      <td>1133.8</td>\n",
       "      <td>124</td>\n",
       "      <td>441921</td>\n",
       "      <td>737657</td>\n",
       "      <td>389091</td>\n",
       "      <td>441381</td>\n",
       "      <td>1.99</td>\n",
       "      <td>2</td>\n",
       "      <td>Bali</td>\n",
       "    </tr>\n",
       "  </tbody>\n",
       "</table>\n",
       "</div>"
      ],
      "text/plain": [
       "           province  rainfall  rainy_day  expenses_food_urban  \\\n",
       "25  Sulawesi Tengah     460.9         68               429317   \n",
       "28        Gorontalo     870.6         76               400853   \n",
       "31     Maluku Utara     913.4        127               465188   \n",
       "1    Sumatera Utara     975.9        105               416073   \n",
       "16             Bali    1133.8        124               441921   \n",
       "\n",
       "    expenses_other_urban expenses_food_rural expense_other_rural  \\\n",
       "25                629817              368439              293645   \n",
       "28                541711              287010              234180   \n",
       "31                510105              404776              315800   \n",
       "1                 453609              413087              269407   \n",
       "16                737657              389091              441381   \n",
       "\n",
       "    unemployment  time_zone    island  \n",
       "25          4.10          2  Sulawesi  \n",
       "28          4.65          2  Sulawesi  \n",
       "31          6.05          3    Maluku  \n",
       "1           6.71          1  Sumatera  \n",
       "16          1.99          2      Bali  "
      ]
     },
     "execution_count": 77,
     "metadata": {},
     "output_type": "execute_result"
    }
   ],
   "source": [
    "df.sort_values('rainfall').head()"
   ]
  },
  {
   "cell_type": "markdown",
   "metadata": {
    "tags": []
   },
   "source": [
    "Atau menggunakan data yang telah difilter sebelumnya"
   ]
  },
  {
   "cell_type": "code",
   "execution_count": 79,
   "metadata": {
    "tags": []
   },
   "outputs": [
    {
     "data": {
      "text/html": [
       "<div>\n",
       "<style scoped>\n",
       "    .dataframe tbody tr th:only-of-type {\n",
       "        vertical-align: middle;\n",
       "    }\n",
       "\n",
       "    .dataframe tbody tr th {\n",
       "        vertical-align: top;\n",
       "    }\n",
       "\n",
       "    .dataframe thead th {\n",
       "        text-align: right;\n",
       "    }\n",
       "</style>\n",
       "<table border=\"1\" class=\"dataframe\">\n",
       "  <thead>\n",
       "    <tr style=\"text-align: right;\">\n",
       "      <th></th>\n",
       "      <th>province</th>\n",
       "      <th>rainfall</th>\n",
       "      <th>rainy_day</th>\n",
       "      <th>expenses_food_urban</th>\n",
       "      <th>expenses_other_urban</th>\n",
       "      <th>expenses_food_rural</th>\n",
       "      <th>expense_other_rural</th>\n",
       "      <th>unemployment</th>\n",
       "      <th>time_zone</th>\n",
       "      <th>island</th>\n",
       "    </tr>\n",
       "  </thead>\n",
       "  <tbody>\n",
       "    <tr>\n",
       "      <th>25</th>\n",
       "      <td>Sulawesi Tengah</td>\n",
       "      <td>460.9</td>\n",
       "      <td>68</td>\n",
       "      <td>429317</td>\n",
       "      <td>629817</td>\n",
       "      <td>368439</td>\n",
       "      <td>293645</td>\n",
       "      <td>4.10</td>\n",
       "      <td>2</td>\n",
       "      <td>Sulawesi</td>\n",
       "    </tr>\n",
       "    <tr>\n",
       "      <th>28</th>\n",
       "      <td>Gorontalo</td>\n",
       "      <td>870.6</td>\n",
       "      <td>76</td>\n",
       "      <td>400853</td>\n",
       "      <td>541711</td>\n",
       "      <td>287010</td>\n",
       "      <td>234180</td>\n",
       "      <td>4.65</td>\n",
       "      <td>2</td>\n",
       "      <td>Sulawesi</td>\n",
       "    </tr>\n",
       "    <tr>\n",
       "      <th>16</th>\n",
       "      <td>Bali</td>\n",
       "      <td>1133.8</td>\n",
       "      <td>124</td>\n",
       "      <td>441921</td>\n",
       "      <td>737657</td>\n",
       "      <td>389091</td>\n",
       "      <td>441381</td>\n",
       "      <td>1.99</td>\n",
       "      <td>2</td>\n",
       "      <td>Bali</td>\n",
       "    </tr>\n",
       "    <tr>\n",
       "      <th>29</th>\n",
       "      <td>Sulawesi Barat</td>\n",
       "      <td>1167.9</td>\n",
       "      <td>93</td>\n",
       "      <td>367632</td>\n",
       "      <td>369746</td>\n",
       "      <td>321635</td>\n",
       "      <td>263154</td>\n",
       "      <td>3.35</td>\n",
       "      <td>2</td>\n",
       "      <td>Sulawesi</td>\n",
       "    </tr>\n",
       "    <tr>\n",
       "      <th>33</th>\n",
       "      <td>Papua</td>\n",
       "      <td>1265.9</td>\n",
       "      <td>168</td>\n",
       "      <td>666922</td>\n",
       "      <td>739704</td>\n",
       "      <td>403652</td>\n",
       "      <td>218261</td>\n",
       "      <td>3.99</td>\n",
       "      <td>3</td>\n",
       "      <td>Papua</td>\n",
       "    </tr>\n",
       "  </tbody>\n",
       "</table>\n",
       "</div>"
      ],
      "text/plain": [
       "           province  rainfall  rainy_day  expenses_food_urban  \\\n",
       "25  Sulawesi Tengah     460.9         68               429317   \n",
       "28        Gorontalo     870.6         76               400853   \n",
       "16             Bali    1133.8        124               441921   \n",
       "29   Sulawesi Barat    1167.9         93               367632   \n",
       "33            Papua    1265.9        168               666922   \n",
       "\n",
       "    expenses_other_urban expenses_food_rural expense_other_rural  \\\n",
       "25                629817              368439              293645   \n",
       "28                541711              287010              234180   \n",
       "16                737657              389091              441381   \n",
       "29                369746              321635              263154   \n",
       "33                739704              403652              218261   \n",
       "\n",
       "    unemployment  time_zone    island  \n",
       "25          4.10          2  Sulawesi  \n",
       "28          4.65          2  Sulawesi  \n",
       "16          1.99          2      Bali  \n",
       "29          3.35          2  Sulawesi  \n",
       "33          3.99          3     Papua  "
      ]
     },
     "execution_count": 79,
     "metadata": {},
     "output_type": "execute_result"
    }
   ],
   "source": [
    "df2.sort_values('rainfall').head(5)"
   ]
  },
  {
   "cell_type": "markdown",
   "metadata": {},
   "source": [
    "Untuk mengurutkan data dimulai dari nilai terbesar, maka parameter __ascending__ diberi nilai __False__"
   ]
  },
  {
   "cell_type": "code",
   "execution_count": 81,
   "metadata": {
    "tags": []
   },
   "outputs": [
    {
     "data": {
      "text/html": [
       "<div>\n",
       "<style scoped>\n",
       "    .dataframe tbody tr th:only-of-type {\n",
       "        vertical-align: middle;\n",
       "    }\n",
       "\n",
       "    .dataframe tbody tr th {\n",
       "        vertical-align: top;\n",
       "    }\n",
       "\n",
       "    .dataframe thead th {\n",
       "        text-align: right;\n",
       "    }\n",
       "</style>\n",
       "<table border=\"1\" class=\"dataframe\">\n",
       "  <thead>\n",
       "    <tr style=\"text-align: right;\">\n",
       "      <th></th>\n",
       "      <th>province</th>\n",
       "      <th>rainfall</th>\n",
       "      <th>rainy_day</th>\n",
       "      <th>expenses_food_urban</th>\n",
       "      <th>expenses_other_urban</th>\n",
       "      <th>expenses_food_rural</th>\n",
       "      <th>expense_other_rural</th>\n",
       "      <th>unemployment</th>\n",
       "      <th>time_zone</th>\n",
       "      <th>island</th>\n",
       "    </tr>\n",
       "  </thead>\n",
       "  <tbody>\n",
       "    <tr>\n",
       "      <th>2</th>\n",
       "      <td>Sumatera Barat</td>\n",
       "      <td>3548.0</td>\n",
       "      <td>185</td>\n",
       "      <td>509609</td>\n",
       "      <td>578890</td>\n",
       "      <td>447944</td>\n",
       "      <td>319143</td>\n",
       "      <td>6.89</td>\n",
       "      <td>1</td>\n",
       "      <td>Sumatera</td>\n",
       "    </tr>\n",
       "    <tr>\n",
       "      <th>26</th>\n",
       "      <td>Sulawesi Selatan</td>\n",
       "      <td>3382.0</td>\n",
       "      <td>155</td>\n",
       "      <td>436956</td>\n",
       "      <td>575266</td>\n",
       "      <td>312799</td>\n",
       "      <td>275628</td>\n",
       "      <td>5.95</td>\n",
       "      <td>2</td>\n",
       "      <td>Sulawesi</td>\n",
       "    </tr>\n",
       "    <tr>\n",
       "      <th>32</th>\n",
       "      <td>Papua Barat</td>\n",
       "      <td>2844.6</td>\n",
       "      <td>218</td>\n",
       "      <td>593203</td>\n",
       "      <td>676879</td>\n",
       "      <td>463880</td>\n",
       "      <td>420440</td>\n",
       "      <td>8.08</td>\n",
       "      <td>3</td>\n",
       "      <td>Papua</td>\n",
       "    </tr>\n",
       "    <tr>\n",
       "      <th>19</th>\n",
       "      <td>Kalimantan Barat</td>\n",
       "      <td>2757.7</td>\n",
       "      <td>215</td>\n",
       "      <td>473082</td>\n",
       "      <td>526121</td>\n",
       "      <td>405835</td>\n",
       "      <td>282118</td>\n",
       "      <td>5.15</td>\n",
       "      <td>1</td>\n",
       "      <td>Kalimantan</td>\n",
       "    </tr>\n",
       "    <tr>\n",
       "      <th>20</th>\n",
       "      <td>Kalimantan Tengah</td>\n",
       "      <td>2748.4</td>\n",
       "      <td>155</td>\n",
       "      <td>506106</td>\n",
       "      <td>549096</td>\n",
       "      <td>489011</td>\n",
       "      <td>361909</td>\n",
       "      <td>4.54</td>\n",
       "      <td>1</td>\n",
       "      <td>Kalimantan</td>\n",
       "    </tr>\n",
       "  </tbody>\n",
       "</table>\n",
       "</div>"
      ],
      "text/plain": [
       "             province  rainfall  rainy_day  expenses_food_urban  \\\n",
       "2      Sumatera Barat    3548.0        185               509609   \n",
       "26   Sulawesi Selatan    3382.0        155               436956   \n",
       "32        Papua Barat    2844.6        218               593203   \n",
       "19   Kalimantan Barat    2757.7        215               473082   \n",
       "20  Kalimantan Tengah    2748.4        155               506106   \n",
       "\n",
       "    expenses_other_urban expenses_food_rural expense_other_rural  \\\n",
       "2                 578890              447944              319143   \n",
       "26                575266              312799              275628   \n",
       "32                676879              463880              420440   \n",
       "19                526121              405835              282118   \n",
       "20                549096              489011              361909   \n",
       "\n",
       "    unemployment  time_zone      island  \n",
       "2           6.89          1    Sumatera  \n",
       "26          5.95          2    Sulawesi  \n",
       "32          8.08          3       Papua  \n",
       "19          5.15          1  Kalimantan  \n",
       "20          4.54          1  Kalimantan  "
      ]
     },
     "execution_count": 81,
     "metadata": {},
     "output_type": "execute_result"
    }
   ],
   "source": [
    "# Mengurutkan kolom rainfall secara descending (dari yang terbesar)\n",
    "df.sort_values('rainfall', ascending=False).head()"
   ]
  },
  {
   "cell_type": "markdown",
   "metadata": {},
   "source": [
    "Jika ingin mengurutkan data dengan menggunakan lebih dari satu kolom maka perlu ditentukan daftar nama kolom, misalkan mengurutkan berdasarkan kolom __rainfall__ dan __rainy_day__, dapat dilakukan seperti berikut"
   ]
  },
  {
   "cell_type": "code",
   "execution_count": 82,
   "metadata": {
    "tags": []
   },
   "outputs": [
    {
     "data": {
      "text/html": [
       "<div>\n",
       "<style scoped>\n",
       "    .dataframe tbody tr th:only-of-type {\n",
       "        vertical-align: middle;\n",
       "    }\n",
       "\n",
       "    .dataframe tbody tr th {\n",
       "        vertical-align: top;\n",
       "    }\n",
       "\n",
       "    .dataframe thead th {\n",
       "        text-align: right;\n",
       "    }\n",
       "</style>\n",
       "<table border=\"1\" class=\"dataframe\">\n",
       "  <thead>\n",
       "    <tr style=\"text-align: right;\">\n",
       "      <th></th>\n",
       "      <th>province</th>\n",
       "      <th>rainfall</th>\n",
       "      <th>rainy_day</th>\n",
       "      <th>expenses_food_urban</th>\n",
       "      <th>expenses_other_urban</th>\n",
       "      <th>expenses_food_rural</th>\n",
       "      <th>expense_other_rural</th>\n",
       "      <th>unemployment</th>\n",
       "      <th>time_zone</th>\n",
       "      <th>island</th>\n",
       "    </tr>\n",
       "  </thead>\n",
       "  <tbody>\n",
       "    <tr>\n",
       "      <th>25</th>\n",
       "      <td>Sulawesi Tengah</td>\n",
       "      <td>460.9</td>\n",
       "      <td>68</td>\n",
       "      <td>429317</td>\n",
       "      <td>629817</td>\n",
       "      <td>368439</td>\n",
       "      <td>293645</td>\n",
       "      <td>4.10</td>\n",
       "      <td>2</td>\n",
       "      <td>Sulawesi</td>\n",
       "    </tr>\n",
       "    <tr>\n",
       "      <th>28</th>\n",
       "      <td>Gorontalo</td>\n",
       "      <td>870.6</td>\n",
       "      <td>76</td>\n",
       "      <td>400853</td>\n",
       "      <td>541711</td>\n",
       "      <td>287010</td>\n",
       "      <td>234180</td>\n",
       "      <td>4.65</td>\n",
       "      <td>2</td>\n",
       "      <td>Sulawesi</td>\n",
       "    </tr>\n",
       "    <tr>\n",
       "      <th>31</th>\n",
       "      <td>Maluku Utara</td>\n",
       "      <td>913.4</td>\n",
       "      <td>127</td>\n",
       "      <td>465188</td>\n",
       "      <td>510105</td>\n",
       "      <td>404776</td>\n",
       "      <td>315800</td>\n",
       "      <td>6.05</td>\n",
       "      <td>3</td>\n",
       "      <td>Maluku</td>\n",
       "    </tr>\n",
       "    <tr>\n",
       "      <th>1</th>\n",
       "      <td>Sumatera Utara</td>\n",
       "      <td>975.9</td>\n",
       "      <td>105</td>\n",
       "      <td>416073</td>\n",
       "      <td>453609</td>\n",
       "      <td>413087</td>\n",
       "      <td>269407</td>\n",
       "      <td>6.71</td>\n",
       "      <td>1</td>\n",
       "      <td>Sumatera</td>\n",
       "    </tr>\n",
       "    <tr>\n",
       "      <th>16</th>\n",
       "      <td>Bali</td>\n",
       "      <td>1133.8</td>\n",
       "      <td>124</td>\n",
       "      <td>441921</td>\n",
       "      <td>737657</td>\n",
       "      <td>389091</td>\n",
       "      <td>441381</td>\n",
       "      <td>1.99</td>\n",
       "      <td>2</td>\n",
       "      <td>Bali</td>\n",
       "    </tr>\n",
       "  </tbody>\n",
       "</table>\n",
       "</div>"
      ],
      "text/plain": [
       "           province  rainfall  rainy_day  expenses_food_urban  \\\n",
       "25  Sulawesi Tengah     460.9         68               429317   \n",
       "28        Gorontalo     870.6         76               400853   \n",
       "31     Maluku Utara     913.4        127               465188   \n",
       "1    Sumatera Utara     975.9        105               416073   \n",
       "16             Bali    1133.8        124               441921   \n",
       "\n",
       "    expenses_other_urban expenses_food_rural expense_other_rural  \\\n",
       "25                629817              368439              293645   \n",
       "28                541711              287010              234180   \n",
       "31                510105              404776              315800   \n",
       "1                 453609              413087              269407   \n",
       "16                737657              389091              441381   \n",
       "\n",
       "    unemployment  time_zone    island  \n",
       "25          4.10          2  Sulawesi  \n",
       "28          4.65          2  Sulawesi  \n",
       "31          6.05          3    Maluku  \n",
       "1           6.71          1  Sumatera  \n",
       "16          1.99          2      Bali  "
      ]
     },
     "execution_count": 82,
     "metadata": {},
     "output_type": "execute_result"
    }
   ],
   "source": [
    "df.sort_values(['rainfall', 'rainy_day' ]).head()"
   ]
  },
  {
   "cell_type": "markdown",
   "metadata": {},
   "source": [
    "pada baris 3 dan 4 terlihat data memiliki nilai rainy_day yang tidak berurut, karena telah diurutkan berdasarkan rainfall terlebih dahulu\n",
    "\n",
    "Setiap kolom juga dapat memiliki tipe pengurutannya masing-masing, misalkan __time_zone__ diurutkan secara __DESC__ dan __rainy_day__ secara __ASC__"
   ]
  },
  {
   "cell_type": "code",
   "execution_count": 83,
   "metadata": {
    "tags": []
   },
   "outputs": [
    {
     "data": {
      "text/html": [
       "<div>\n",
       "<style scoped>\n",
       "    .dataframe tbody tr th:only-of-type {\n",
       "        vertical-align: middle;\n",
       "    }\n",
       "\n",
       "    .dataframe tbody tr th {\n",
       "        vertical-align: top;\n",
       "    }\n",
       "\n",
       "    .dataframe thead th {\n",
       "        text-align: right;\n",
       "    }\n",
       "</style>\n",
       "<table border=\"1\" class=\"dataframe\">\n",
       "  <thead>\n",
       "    <tr style=\"text-align: right;\">\n",
       "      <th></th>\n",
       "      <th>province</th>\n",
       "      <th>rainfall</th>\n",
       "      <th>rainy_day</th>\n",
       "      <th>expenses_food_urban</th>\n",
       "      <th>expenses_other_urban</th>\n",
       "      <th>expenses_food_rural</th>\n",
       "      <th>expense_other_rural</th>\n",
       "      <th>unemployment</th>\n",
       "      <th>time_zone</th>\n",
       "      <th>island</th>\n",
       "    </tr>\n",
       "  </thead>\n",
       "  <tbody>\n",
       "    <tr>\n",
       "      <th>31</th>\n",
       "      <td>Maluku Utara</td>\n",
       "      <td>913.4</td>\n",
       "      <td>127</td>\n",
       "      <td>465188</td>\n",
       "      <td>510105</td>\n",
       "      <td>404776</td>\n",
       "      <td>315800</td>\n",
       "      <td>6.05</td>\n",
       "      <td>3</td>\n",
       "      <td>Maluku</td>\n",
       "    </tr>\n",
       "    <tr>\n",
       "      <th>30</th>\n",
       "      <td>Maluku</td>\n",
       "      <td>1987.2</td>\n",
       "      <td>167</td>\n",
       "      <td>486374</td>\n",
       "      <td>511825</td>\n",
       "      <td>378946</td>\n",
       "      <td>285648</td>\n",
       "      <td>9.93</td>\n",
       "      <td>3</td>\n",
       "      <td>Maluku</td>\n",
       "    </tr>\n",
       "    <tr>\n",
       "      <th>33</th>\n",
       "      <td>Papua</td>\n",
       "      <td>1265.9</td>\n",
       "      <td>168</td>\n",
       "      <td>666922</td>\n",
       "      <td>739704</td>\n",
       "      <td>403652</td>\n",
       "      <td>218261</td>\n",
       "      <td>3.99</td>\n",
       "      <td>3</td>\n",
       "      <td>Papua</td>\n",
       "    </tr>\n",
       "    <tr>\n",
       "      <th>32</th>\n",
       "      <td>Papua Barat</td>\n",
       "      <td>2844.6</td>\n",
       "      <td>218</td>\n",
       "      <td>593203</td>\n",
       "      <td>676879</td>\n",
       "      <td>463880</td>\n",
       "      <td>420440</td>\n",
       "      <td>8.08</td>\n",
       "      <td>3</td>\n",
       "      <td>Papua</td>\n",
       "    </tr>\n",
       "    <tr>\n",
       "      <th>25</th>\n",
       "      <td>Sulawesi Tengah</td>\n",
       "      <td>460.9</td>\n",
       "      <td>68</td>\n",
       "      <td>429317</td>\n",
       "      <td>629817</td>\n",
       "      <td>368439</td>\n",
       "      <td>293645</td>\n",
       "      <td>4.10</td>\n",
       "      <td>2</td>\n",
       "      <td>Sulawesi</td>\n",
       "    </tr>\n",
       "    <tr>\n",
       "      <th>28</th>\n",
       "      <td>Gorontalo</td>\n",
       "      <td>870.6</td>\n",
       "      <td>76</td>\n",
       "      <td>400853</td>\n",
       "      <td>541711</td>\n",
       "      <td>287010</td>\n",
       "      <td>234180</td>\n",
       "      <td>4.65</td>\n",
       "      <td>2</td>\n",
       "      <td>Sulawesi</td>\n",
       "    </tr>\n",
       "    <tr>\n",
       "      <th>18</th>\n",
       "      <td>Nusa Tenggara Timur</td>\n",
       "      <td>1406.0</td>\n",
       "      <td>82</td>\n",
       "      <td>401053</td>\n",
       "      <td>473374</td>\n",
       "      <td>272347</td>\n",
       "      <td>176028</td>\n",
       "      <td>3.83</td>\n",
       "      <td>2</td>\n",
       "      <td>Nusa Tenggara</td>\n",
       "    </tr>\n",
       "    <tr>\n",
       "      <th>17</th>\n",
       "      <td>Nusa Tenggara Barat</td>\n",
       "      <td>1147.9</td>\n",
       "      <td>91</td>\n",
       "      <td>373402</td>\n",
       "      <td>381980</td>\n",
       "      <td>341583</td>\n",
       "      <td>263291</td>\n",
       "      <td>5.69</td>\n",
       "      <td>2</td>\n",
       "      <td>Nusa Tenggara</td>\n",
       "    </tr>\n",
       "    <tr>\n",
       "      <th>29</th>\n",
       "      <td>Sulawesi Barat</td>\n",
       "      <td>1167.9</td>\n",
       "      <td>93</td>\n",
       "      <td>367632</td>\n",
       "      <td>369746</td>\n",
       "      <td>321635</td>\n",
       "      <td>263154</td>\n",
       "      <td>3.35</td>\n",
       "      <td>2</td>\n",
       "      <td>Sulawesi</td>\n",
       "    </tr>\n",
       "    <tr>\n",
       "      <th>16</th>\n",
       "      <td>Bali</td>\n",
       "      <td>1133.8</td>\n",
       "      <td>124</td>\n",
       "      <td>441921</td>\n",
       "      <td>737657</td>\n",
       "      <td>389091</td>\n",
       "      <td>441381</td>\n",
       "      <td>1.99</td>\n",
       "      <td>2</td>\n",
       "      <td>Bali</td>\n",
       "    </tr>\n",
       "  </tbody>\n",
       "</table>\n",
       "</div>"
      ],
      "text/plain": [
       "               province  rainfall  rainy_day  expenses_food_urban  \\\n",
       "31         Maluku Utara     913.4        127               465188   \n",
       "30               Maluku    1987.2        167               486374   \n",
       "33                Papua    1265.9        168               666922   \n",
       "32          Papua Barat    2844.6        218               593203   \n",
       "25      Sulawesi Tengah     460.9         68               429317   \n",
       "28            Gorontalo     870.6         76               400853   \n",
       "18  Nusa Tenggara Timur    1406.0         82               401053   \n",
       "17  Nusa Tenggara Barat    1147.9         91               373402   \n",
       "29       Sulawesi Barat    1167.9         93               367632   \n",
       "16                 Bali    1133.8        124               441921   \n",
       "\n",
       "    expenses_other_urban expenses_food_rural expense_other_rural  \\\n",
       "31                510105              404776              315800   \n",
       "30                511825              378946              285648   \n",
       "33                739704              403652              218261   \n",
       "32                676879              463880              420440   \n",
       "25                629817              368439              293645   \n",
       "28                541711              287010              234180   \n",
       "18                473374              272347              176028   \n",
       "17                381980              341583              263291   \n",
       "29                369746              321635              263154   \n",
       "16                737657              389091              441381   \n",
       "\n",
       "    unemployment  time_zone         island  \n",
       "31          6.05          3         Maluku  \n",
       "30          9.93          3         Maluku  \n",
       "33          3.99          3          Papua  \n",
       "32          8.08          3          Papua  \n",
       "25          4.10          2       Sulawesi  \n",
       "28          4.65          2       Sulawesi  \n",
       "18          3.83          2  Nusa Tenggara  \n",
       "17          5.69          2  Nusa Tenggara  \n",
       "29          3.35          2       Sulawesi  \n",
       "16          1.99          2           Bali  "
      ]
     },
     "execution_count": 83,
     "metadata": {},
     "output_type": "execute_result"
    }
   ],
   "source": [
    "df.sort_values(['time_zone', 'rainy_day'], ascending=[0, 1]).head(10)"
   ]
  },
  {
   "cell_type": "markdown",
   "metadata": {},
   "source": [
    "menampilkan hanya kolom __time_zone__, __rainy_day__, __province__, dan __island__"
   ]
  },
  {
   "cell_type": "code",
   "execution_count": 98,
   "metadata": {
    "tags": []
   },
   "outputs": [
    {
     "data": {
      "text/html": [
       "<div>\n",
       "<style scoped>\n",
       "    .dataframe tbody tr th:only-of-type {\n",
       "        vertical-align: middle;\n",
       "    }\n",
       "\n",
       "    .dataframe tbody tr th {\n",
       "        vertical-align: top;\n",
       "    }\n",
       "\n",
       "    .dataframe thead th {\n",
       "        text-align: right;\n",
       "    }\n",
       "</style>\n",
       "<table border=\"1\" class=\"dataframe\">\n",
       "  <thead>\n",
       "    <tr style=\"text-align: right;\">\n",
       "      <th></th>\n",
       "      <th>time_zone</th>\n",
       "      <th>rainy_day</th>\n",
       "      <th>province</th>\n",
       "      <th>island</th>\n",
       "    </tr>\n",
       "  </thead>\n",
       "  <tbody>\n",
       "    <tr>\n",
       "      <th>31</th>\n",
       "      <td>3</td>\n",
       "      <td>127</td>\n",
       "      <td>Maluku Utara</td>\n",
       "      <td>Maluku</td>\n",
       "    </tr>\n",
       "    <tr>\n",
       "      <th>30</th>\n",
       "      <td>3</td>\n",
       "      <td>167</td>\n",
       "      <td>Maluku</td>\n",
       "      <td>Maluku</td>\n",
       "    </tr>\n",
       "    <tr>\n",
       "      <th>33</th>\n",
       "      <td>3</td>\n",
       "      <td>168</td>\n",
       "      <td>Papua</td>\n",
       "      <td>Papua</td>\n",
       "    </tr>\n",
       "    <tr>\n",
       "      <th>32</th>\n",
       "      <td>3</td>\n",
       "      <td>218</td>\n",
       "      <td>Papua Barat</td>\n",
       "      <td>Papua</td>\n",
       "    </tr>\n",
       "    <tr>\n",
       "      <th>25</th>\n",
       "      <td>2</td>\n",
       "      <td>68</td>\n",
       "      <td>Sulawesi Tengah</td>\n",
       "      <td>Sulawesi</td>\n",
       "    </tr>\n",
       "    <tr>\n",
       "      <th>28</th>\n",
       "      <td>2</td>\n",
       "      <td>76</td>\n",
       "      <td>Gorontalo</td>\n",
       "      <td>Sulawesi</td>\n",
       "    </tr>\n",
       "    <tr>\n",
       "      <th>18</th>\n",
       "      <td>2</td>\n",
       "      <td>82</td>\n",
       "      <td>Nusa Tenggara Timur</td>\n",
       "      <td>Nusa Tenggara</td>\n",
       "    </tr>\n",
       "    <tr>\n",
       "      <th>17</th>\n",
       "      <td>2</td>\n",
       "      <td>91</td>\n",
       "      <td>Nusa Tenggara Barat</td>\n",
       "      <td>Nusa Tenggara</td>\n",
       "    </tr>\n",
       "    <tr>\n",
       "      <th>29</th>\n",
       "      <td>2</td>\n",
       "      <td>93</td>\n",
       "      <td>Sulawesi Barat</td>\n",
       "      <td>Sulawesi</td>\n",
       "    </tr>\n",
       "    <tr>\n",
       "      <th>16</th>\n",
       "      <td>2</td>\n",
       "      <td>124</td>\n",
       "      <td>Bali</td>\n",
       "      <td>Bali</td>\n",
       "    </tr>\n",
       "  </tbody>\n",
       "</table>\n",
       "</div>"
      ],
      "text/plain": [
       "    time_zone  rainy_day             province         island\n",
       "31          3        127         Maluku Utara         Maluku\n",
       "30          3        167               Maluku         Maluku\n",
       "33          3        168                Papua          Papua\n",
       "32          3        218          Papua Barat          Papua\n",
       "25          2         68      Sulawesi Tengah       Sulawesi\n",
       "28          2         76            Gorontalo       Sulawesi\n",
       "18          2         82  Nusa Tenggara Timur  Nusa Tenggara\n",
       "17          2         91  Nusa Tenggara Barat  Nusa Tenggara\n",
       "29          2         93       Sulawesi Barat       Sulawesi\n",
       "16          2        124                 Bali           Bali"
      ]
     },
     "execution_count": 98,
     "metadata": {},
     "output_type": "execute_result"
    }
   ],
   "source": [
    "df3 = df.sort_values(['time_zone', 'rainy_day'], ascending=[0, 1])\n",
    "\n",
    "df3[['time_zone','rainy_day','province','island']].head(10)"
   ]
  },
  {
   "cell_type": "markdown",
   "metadata": {},
   "source": [
    "<a id=\"12\"></a> \n",
    "## 💡Quiz Time"
   ]
  },
  {
   "cell_type": "markdown",
   "metadata": {},
   "source": [
    "Soal 1 __Function & Method__:\n",
    "\n",
    "Buatlah sebuah fungsi Python dengan nama greeting yang menerima satu parameter name, kemudian mencetak kalimat:\n",
    "\n",
    "```\"Hello, <name>! Welcome to the course.\"```"
   ]
  },
  {
   "cell_type": "code",
   "execution_count": null,
   "metadata": {},
   "outputs": [],
   "source": [
    "# Tulis kode untuk soal Function Anda disini"
   ]
  },
  {
   "cell_type": "markdown",
   "metadata": {},
   "source": [
    "Berikut adalah list nama peserta:"
   ]
  },
  {
   "cell_type": "code",
   "execution_count": 11,
   "metadata": {
    "tags": []
   },
   "outputs": [],
   "source": [
    "participants = [\"Andi\", \"Budi\", \"Citra\"]"
   ]
  },
  {
   "cell_type": "markdown",
   "metadata": {},
   "source": [
    "Tambahkan nama \"Dina\" ke dalam list tersebut menggunakan method!"
   ]
  },
  {
   "cell_type": "code",
   "execution_count": 12,
   "metadata": {
    "tags": []
   },
   "outputs": [],
   "source": [
    "# Tulis kode untuk soal Method Anda disini"
   ]
  },
  {
   "cell_type": "markdown",
   "metadata": {},
   "source": [
    "Soal 2 __Pandas & Numpy__:\n",
    "\n",
    "Diberikan DataFrame berikut:"
   ]
  },
  {
   "cell_type": "code",
   "execution_count": 15,
   "metadata": {
    "tags": []
   },
   "outputs": [
    {
     "name": "stdout",
     "output_type": "stream",
     "text": [
      "    Name  Age  Score\n",
      "0   Andi   23     85\n",
      "1   Budi   25     90\n",
      "2  Citra   22     88\n"
     ]
    }
   ],
   "source": [
    "import pandas as pd\n",
    "\n",
    "data = {\n",
    "    'Name': ['Andi', 'Budi', 'Citra'],\n",
    "    'Age': [23, 25, 22],\n",
    "    'Score': [85, 90, 88]\n",
    "}\n",
    "\n",
    "df = pd.DataFrame(data)\n",
    "print(df)"
   ]
  },
  {
   "cell_type": "markdown",
   "metadata": {},
   "source": [
    "Tentukan rata-rata dari kolom Score menggunakan method ```mean()```!"
   ]
  },
  {
   "cell_type": "code",
   "execution_count": 16,
   "metadata": {
    "tags": []
   },
   "outputs": [
    {
     "name": "stdout",
     "output_type": "stream",
     "text": [
      "['Andi', 'Budi', 'Citra', 'Dina']\n"
     ]
    }
   ],
   "source": [
    "# Tulis kode untuk soal Pandas Anda disini"
   ]
  },
  {
   "cell_type": "markdown",
   "metadata": {},
   "source": [
    "Buatlah sebuah array NumPy 2 dimensi berukuran 3x3 yang berisi angka dari 1 sampai 9, kemudian tampilkan transpose dari array tersebut dengan menggunakan method numpy!"
   ]
  },
  {
   "cell_type": "code",
   "execution_count": null,
   "metadata": {},
   "outputs": [],
   "source": [
    "# Tulis kode untuk soal Numpy Anda disini"
   ]
  }
 ],
 "metadata": {
  "kernelspec": {
   "display_name": "Python 3 (ipykernel)",
   "language": "python",
   "name": "python3"
  },
  "language_info": {
   "codemirror_mode": {
    "name": "ipython",
    "version": 3
   },
   "file_extension": ".py",
   "mimetype": "text/x-python",
   "name": "python",
   "nbconvert_exporter": "python",
   "pygments_lexer": "ipython3",
   "version": "3.11.9"
  }
 },
 "nbformat": 4,
 "nbformat_minor": 4
}
