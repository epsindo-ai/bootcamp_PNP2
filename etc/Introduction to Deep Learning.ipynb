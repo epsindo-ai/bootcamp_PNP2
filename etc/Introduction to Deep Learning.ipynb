{
 "cells": [
  {
   "cell_type": "markdown",
   "metadata": {},
   "source": [
    "# ** Introduction to Deep Learning **"
   ]
  },
  {
   "cell_type": "markdown",
   "metadata": {},
   "source": [
    "**Required Reading**\n",
    "\n",
    "[Ian Goodfellow's Deep Learning - Chapter 1, Section 6.2, and Section 8.1](https://www.deeplearningbook.org/contents/intro.html)\n",
    "\n",
    "**Additional Reading/Viewing**\n",
    "\n",
    "[Outstanding YouTube Series from 3 Blue 1 Brown](https://www.youtube.com/watch?v=aircAruvnKk)"
   ]
  },
  {
   "cell_type": "markdown",
   "metadata": {},
   "source": [
    "---"
   ]
  },
  {
   "cell_type": "markdown",
   "metadata": {},
   "source": [
    "## **Before We Start Stacking Layers...**"
   ]
  },
  {
   "cell_type": "markdown",
   "metadata": {},
   "source": [
    "![](../assets/graphics/cartoon-01.png)"
   ]
  },
  {
   "cell_type": "markdown",
   "metadata": {},
   "source": [
    "- Deep learning is really hot right now, which might make deep learning sounds a little easier than it actually is. \n",
    "- Before we start just stacking neural network layers, let's discuss what deep learning is, how we're going to use tensorflow, think about how to intelligently learn from large datasets, and how we should measure our cost as we train. \n",
    "- After this, we'll be ready to begin **experimenting with deep models.**"
   ]
  },
  {
   "cell_type": "markdown",
   "metadata": {},
   "source": [
    "---"
   ]
  },
  {
   "cell_type": "markdown",
   "metadata": {},
   "source": [
    "![](../assets/graphics/goodfellow_one_point_four.png)"
   ]
  },
  {
   "cell_type": "markdown",
   "metadata": {},
   "source": [
    "**Deep Learning** has recently changed the landscape of computer vision (and other fields), and is largely responsible for a 3rd wave of interest and excitment about artificial intellgence. Deep learning is often understood/discussed as way to **learn data representations**."
   ]
  },
  {
   "cell_type": "markdown",
   "metadata": {},
   "source": [
    "---"
   ]
  },
  {
   "cell_type": "markdown",
   "metadata": {},
   "source": [
    "![](../assets/graphics/goodfellow_one_point_five-01.png)"
   ]
  },
  {
   "cell_type": "markdown",
   "metadata": {},
   "source": [
    "- Compared to other methods we've learned in this class, **Deep Learning** will be the most data-based/empirical. We'll rely on deep learning to map all the way from **pixels to predictions.** \n",
    "- However, just becuase these models learn from data, this does not mean that working with them is as simple as sitting back and watching them learn. \n",
    "- There are still many knobs to turn, lots of pitfalls, and in some ways highly empirical techniques like **deep learning** present new challenges that we don't find with analytical solutions. Deep learning models can be really finicky, and take some time/patience/experimentation to really get right. "
   ]
  },
  {
   "cell_type": "markdown",
   "metadata": {},
   "source": [
    "---"
   ]
  },
  {
   "cell_type": "markdown",
   "metadata": {},
   "source": [
    "Most deep learning models today involve some flavor of **artificial neural network**. In our neural network module, we discussed the history of neural networks, and basically left off with the development of the **backpropogation** algorithm in the 1980s. "
   ]
  },
  {
   "cell_type": "markdown",
   "metadata": {},
   "source": [
    "![](../assets/graphics/rumerlhart_hinton-01.png)"
   ]
  },
  {
   "cell_type": "markdown",
   "metadata": {},
   "source": [
    "- In 1986, Rumelhard, Hinton, and Williams showed in a [Nature Letter](http://www.cs.toronto.edu/~hinton/absps/naturebp.pdf), showed a method, backpropogation, that could be used to train multi layer neural networks. \n",
    "- The idea was not necessary unique to or invented by Rumelhard, Hinton, and Williams, but their work and this publication kicked off new reserach into neural networks. "
   ]
  },
  {
   "cell_type": "markdown",
   "metadata": {},
   "source": [
    "---"
   ]
  },
  {
   "cell_type": "markdown",
   "metadata": {},
   "source": [
    "- Now, although Hinton put together many of the pieces required for modern deep learning in the 1980s, it would take some time for the the advances we see today to come about. \n",
    "- Let's get started by experimenting with some deep learning ideas. \n",
    "- Of course, to do some proper experimentation, we'll need some **data**. "
   ]
  },
  {
   "cell_type": "markdown",
   "metadata": {},
   "source": [
    "![](../assets/graphics/3b1b_mnist.gif)"
   ]
  },
  {
   "cell_type": "markdown",
   "metadata": {},
   "source": [
    "- We'll start with the popular [mnist dataset](http://yann.lecun.com/exdb/mnist/). (Animation from 3 blue 1 brown's [Great series on deep learning](https://www.youtube.com/watch?v=aircAruvnKk))\n",
    "- MNIST consists of 70,000 28x28 images of handwritten digits broken apart into 60,000 training and 10,000 testing images.\n",
    "- Each image comes has been labeled with it's corresponding numerical value\n",
    "- The images in the training set come from 250 unique writers, and the images in the test set come from a seperate set of 250 unique writers. \n",
    "- More information in [LeCun, Bottou, Bengio, and Haffner 1998](http://yann.lecun.com/exdb/publis/pdf/lecun-01a.pdf).\n",
    "- [Great blog post from Christopher Olah on visualizing MNIST](http://colah.github.io/posts/2014-10-Visualizing-MNIST/)."
   ]
  },
  {
   "cell_type": "markdown",
   "metadata": {},
   "source": [
    "---"
   ]
  },
  {
   "cell_type": "markdown",
   "metadata": {},
   "source": [
    "## **Time for Tensorflow**"
   ]
  },
  {
   "cell_type": "markdown",
   "metadata": {},
   "source": [
    "- To get started, we'll go ahead and hop in with the new tool we'll be using for this module, [Tensorflow](https://www.tensorflow.org/).\n",
    "- Tensorflow is a really nice high level interface for machine learning. \n",
    "- You should be able to install tensorflow on your machine with `pip install tensorflow`, or if you have a newer Nvidia GPU and would like to use it, `pip install tensorflow-gpu`. \n",
    "- Getting the GPU version working will require some [additional steps](https://www.tensorflow.org/install/gpu), but does allow for large speedups on larger problems. However, CPU tensorflow will be just fine for the examples we'll cover here."
   ]
  },
  {
   "cell_type": "code",
   "execution_count": 3,
   "metadata": {
    "tags": []
   },
   "outputs": [
    {
     "name": "stdout",
     "output_type": "stream",
     "text": [
      "%pylab is deprecated, use %matplotlib inline and import the required libraries.\n",
      "Populating the interactive namespace from numpy and matplotlib\n"
     ]
    }
   ],
   "source": [
    "%pylab inline\n",
    "import tensorflow as tf"
   ]
  },
  {
   "cell_type": "markdown",
   "metadata": {},
   "source": [
    "Using tensorflow, we can automatically download the mnist dataset:"
   ]
  },
  {
   "cell_type": "code",
   "execution_count": 4,
   "metadata": {
    "tags": []
   },
   "outputs": [
    {
     "name": "stdout",
     "output_type": "stream",
     "text": [
      "Downloading data from https://storage.googleapis.com/tensorflow/tf-keras-datasets/mnist.npz\n",
      "\u001b[1m11490434/11490434\u001b[0m \u001b[32m━━━━━━━━━━━━━━━━━━━━\u001b[0m\u001b[37m\u001b[0m \u001b[1m2s\u001b[0m 0us/step\n"
     ]
    }
   ],
   "source": [
    "(x_train, y_train), (x_test, y_test) = tf.keras.datasets.mnist.load_data(\n",
    "                                                        path='mnist.npz')"
   ]
  },
  {
   "cell_type": "markdown",
   "metadata": {},
   "source": [
    "Let's get a feel for the data."
   ]
  },
  {
   "cell_type": "code",
   "execution_count": 5,
   "metadata": {
    "tags": []
   },
   "outputs": [
    {
     "name": "stdout",
     "output_type": "stream",
     "text": [
      "(60000, 28, 28) (60000,)\n"
     ]
    }
   ],
   "source": [
    "print(x_train.shape, y_train.shape)"
   ]
  },
  {
   "cell_type": "code",
   "execution_count": 6,
   "metadata": {
    "tags": []
   },
   "outputs": [
    {
     "name": "stdout",
     "output_type": "stream",
     "text": [
      "(10000, 28, 28) (10000,)\n"
     ]
    }
   ],
   "source": [
    "print(x_test.shape, y_test.shape)"
   ]
  },
  {
   "cell_type": "code",
   "execution_count": 7,
   "metadata": {
    "tags": []
   },
   "outputs": [
    {
     "name": "stdout",
     "output_type": "stream",
     "text": [
      "uint8 uint8\n"
     ]
    }
   ],
   "source": [
    "print(x_train.dtype, y_train.dtype)"
   ]
  },
  {
   "cell_type": "code",
   "execution_count": 8,
   "metadata": {
    "tags": []
   },
   "outputs": [
    {
     "data": {
      "image/png": "[encoded data removed]",
      "text/plain": [
       "<Figure size 1200x600 with 1 Axes>"
      ]
     },
     "metadata": {},
     "output_type": "display_data"
    }
   ],
   "source": [
    "fig = figure(0, (12, 6))\n",
    "hist(x_train.ravel(), 100);\n",
    "grid(1)"
   ]
  },
  {
   "cell_type": "markdown",
   "metadata": {},
   "source": [
    "Pixels are mostly black or white with some gray values scattered in the middle. "
   ]
  },
  {
   "cell_type": "code",
   "execution_count": 9,
   "metadata": {
    "tags": []
   },
   "outputs": [
    {
     "data": {
      "image/png": "[encoded data removed]",
      "text/plain": [
       "<Figure size 1400x1400 with 100 Axes>"
      ]
     },
     "metadata": {},
     "output_type": "display_data"
    }
   ],
   "source": [
    "fig = figure(0, (14, 14))\n",
    "for i in range(100):\n",
    "    fig.add_subplot(10, 10, i+1)\n",
    "    imshow(x_train[i, :, :], cmap = 'gray')\n",
    "    axis('off')"
   ]
  },
  {
   "cell_type": "markdown",
   "metadata": {},
   "source": [
    "## A Little Data Preprocessing"
   ]
  },
  {
   "cell_type": "code",
   "execution_count": 10,
   "metadata": {
    "tags": []
   },
   "outputs": [],
   "source": [
    "#Normalize Input Data between 0 and 1\n",
    "x_train = x_train.astype('float32')/255\n",
    "x_test = x_test.astype('float32')/255"
   ]
  },
  {
   "cell_type": "code",
   "execution_count": 11,
   "metadata": {
    "tags": []
   },
   "outputs": [],
   "source": [
    "#Unroll examples into one row for each example\n",
    "x_train = np.reshape(x_train, (-1, 784))\n",
    "x_test = np.reshape(x_test, (-1, 784))"
   ]
  },
  {
   "cell_type": "code",
   "execution_count": 12,
   "metadata": {
    "tags": []
   },
   "outputs": [
    {
     "data": {
      "text/plain": [
       "(60000, 784)"
      ]
     },
     "execution_count": 12,
     "metadata": {},
     "output_type": "execute_result"
    }
   ],
   "source": [
    "x_train.shape"
   ]
  },
  {
   "cell_type": "markdown",
   "metadata": {},
   "source": [
    "- The final data preprocessing step we need to take here is **one hot encoding** for our prediction targets. \n",
    "- Currently, our target values correspond to the numerical value of each handwritten digit:"
   ]
  },
  {
   "cell_type": "code",
   "execution_count": 13,
   "metadata": {
    "tags": []
   },
   "outputs": [
    {
     "data": {
      "text/plain": [
       "array([5, 0, 4, ..., 5, 6, 8], dtype=uint8)"
      ]
     },
     "execution_count": 13,
     "metadata": {},
     "output_type": "execute_result"
    }
   ],
   "source": [
    "y_train"
   ]
  },
  {
   "cell_type": "markdown",
   "metadata": {},
   "source": [
    "- We could treat this is a continuous **regression problem**, and make the output of our neural network 1 dimensional and try to predict these quantities directly, however this appraoch does not work well in practice - our network would struggle to learn. \n",
    "- Part of the reason for this is that if we treat this problem as a regression problem, we're imposing **ordinality** in our predictions. \n",
    "- For example, if we used the root mean square error between our predictions and targets, would be penalized in a weird inconsistent manner. If our prediction target is 4 and our network predicts 5, this would be penalized less than predicting a 9. However, 5 and 10 are equally wrong. Our loss function does not reflect what we would like our network to learn.\n",
    "- This really a **classification problem** with 10 discrete classes.\n",
    "- **one hot encoding** provides a nice solution to this problem, by expanding the dimension of our prediction targets - creating one dimension for each discrete class we would like to predict."
   ]
  },
  {
   "cell_type": "code",
   "execution_count": 14,
   "metadata": {
    "collapsed": true,
    "jupyter": {
     "outputs_hidden": true
    },
    "tags": []
   },
   "outputs": [],
   "source": [
    "#use built in one-hot encoding converter:\n",
    "y_train = tf.keras.utils.to_categorical(y_train, 10)\n",
    "y_test = tf.keras.utils.to_categorical(y_test, 10)"
   ]
  },
  {
   "cell_type": "code",
   "execution_count": 15,
   "metadata": {
    "tags": []
   },
   "outputs": [
    {
     "data": {
      "text/plain": [
       "array([[0., 0., 0., 0., 0., 1., 0., 0., 0., 0.],\n",
       "       [1., 0., 0., 0., 0., 0., 0., 0., 0., 0.],\n",
       "       [0., 0., 0., 0., 1., 0., 0., 0., 0., 0.],\n",
       "       [0., 1., 0., 0., 0., 0., 0., 0., 0., 0.],\n",
       "       [0., 0., 0., 0., 0., 0., 0., 0., 0., 1.]])"
      ]
     },
     "execution_count": 15,
     "metadata": {},
     "output_type": "execute_result"
    }
   ],
   "source": [
    "y_train[:5, :]"
   ]
  },
  {
   "cell_type": "markdown",
   "metadata": {},
   "source": [
    "- What are the handwritten digit values for each row in the one-hot-encoded matrix above?"
   ]
  },
  {
   "cell_type": "markdown",
   "metadata": {},
   "source": [
    "---"
   ]
  },
  {
   "cell_type": "markdown",
   "metadata": {},
   "source": [
    "## **Learning Time**\n",
    "- Alright, we have some data, we have tensorflow, let's see if we can train a model to predict the correct labels for our images. \n",
    "- TensorFlow uses a dataflow graph to represent your computation in terms of the dependencies between individual operations. This leads to a low-level programming model in which you first define the dataflow graph, then create a TensorFlow session to run parts of the graph across a set of local and remote devices. ([Description From Tensorflow Graphs and Sessions Guide](https://www.tensorflow.org/guide/graphs)).\n",
    "- Nodes represent computations and edges represent dataflow. \n"
   ]
  },
  {
   "cell_type": "markdown",
   "metadata": {},
   "source": [
    "![](../assets/graphics/tensors_flowing.gif)"
   ]
  },
  {
   "cell_type": "markdown",
   "metadata": {},
   "source": [
    "- We'll start with [a tensorflow placeholder](https://www.tensorflow.org/api_guides/python/reading_data#Feeding). \n",
    "- Placeholders allows us to pass data from python into our tensorflow computational graph."
   ]
  },
  {
   "cell_type": "code",
   "execution_count": 16,
   "metadata": {
    "tags": []
   },
   "outputs": [
    {
     "ename": "AttributeError",
     "evalue": "module 'tensorflow' has no attribute 'placeholder'",
     "output_type": "error",
     "traceback": [
      "\u001b[0;31m---------------------------------------------------------------------------\u001b[0m",
      "\u001b[0;31mAttributeError\u001b[0m                            Traceback (most recent call last)",
      "Cell \u001b[0;32mIn[16], line 5\u001b[0m\n\u001b[1;32m      1\u001b[0m \u001b[38;5;66;03m# We'll pass in our images as unrolled vectors\u001b[39;00m\n\u001b[1;32m      2\u001b[0m \u001b[38;5;66;03m# Passing in None for our first dimension allows our graph to accept a variable size here.\u001b[39;00m\n\u001b[1;32m      3\u001b[0m \u001b[38;5;66;03m# The name argument is optional, but will make things more clear when we visualize our graph \u001b[39;00m\n\u001b[1;32m      4\u001b[0m \u001b[38;5;66;03m# with tensorboard.\u001b[39;00m\n\u001b[0;32m----> 5\u001b[0m X \u001b[38;5;241m=\u001b[39m \u001b[43mtf\u001b[49m\u001b[38;5;241;43m.\u001b[39;49m\u001b[43mplaceholder\u001b[49m(dtype \u001b[38;5;241m=\u001b[39m tf\u001b[38;5;241m.\u001b[39mfloat32, shape \u001b[38;5;241m=\u001b[39m (\u001b[38;5;28;01mNone\u001b[39;00m, \u001b[38;5;241m28\u001b[39m\u001b[38;5;241m*\u001b[39m\u001b[38;5;241m28\u001b[39m), name \u001b[38;5;241m=\u001b[39m \u001b[38;5;124m'\u001b[39m\u001b[38;5;124mX\u001b[39m\u001b[38;5;124m'\u001b[39m) \n\u001b[1;32m      6\u001b[0m y \u001b[38;5;241m=\u001b[39m tf\u001b[38;5;241m.\u001b[39mplaceholder(dtype \u001b[38;5;241m=\u001b[39m tf\u001b[38;5;241m.\u001b[39mfloat32, shape \u001b[38;5;241m=\u001b[39m [\u001b[38;5;28;01mNone\u001b[39;00m, \u001b[38;5;241m10\u001b[39m], name \u001b[38;5;241m=\u001b[39m \u001b[38;5;124m'\u001b[39m\u001b[38;5;124my\u001b[39m\u001b[38;5;124m'\u001b[39m) \u001b[38;5;66;03m#One output dimension for each class\u001b[39;00m\n",
      "\u001b[0;31mAttributeError\u001b[0m: module 'tensorflow' has no attribute 'placeholder'"
     ]
    }
   ],
   "source": [
    "# We'll pass in our images as unrolled vectors\n",
    "# Passing in None for our first dimension allows our graph to accept a variable size here.\n",
    "# The name argument is optional, but will make things more clear when we visualize our graph \n",
    "# with tensorboard.\n",
    "X = tf.placeholder(dtype = tf.float32, shape = (None, 28*28), name = 'X') \n",
    "y = tf.placeholder(dtype = tf.float32, shape = [None, 10], name = 'y') #One output dimension for each class"
   ]
  },
  {
   "cell_type": "code",
   "execution_count": 16,
   "metadata": {
    "tags": []
   },
   "outputs": [],
   "source": [
    "# Let's create a single fully connected layer with a sigmoid activation function\n",
    "yhat = tf.layers.dense(inputs = X, \n",
    "                       units = 10, \n",
    "                       activation = 'sigmoid', \n",
    "                       name = 'fc_1')"
   ]
  },
  {
   "cell_type": "markdown",
   "metadata": {},
   "source": [
    "- A sigmoid activation function should be pretty reasonable here, as we're trying to predict 0/1 labels. \n",
    "- To train our network, we'll need some type of cost or loss function to optimize.\n",
    "- One simple option is to measure the **Mean Square Error** between our predictions and **one-hot encoded** labels."
   ]
  },
  {
   "cell_type": "code",
   "execution_count": 17,
   "metadata": {
    "collapsed": true,
    "jupyter": {
     "outputs_hidden": true
    }
   },
   "outputs": [],
   "source": [
    "# Mean Square Error implemented in tensorflow:\n",
    "cost = tf.reduce_mean(tf.squared_difference(y, yhat))\n",
    "\n",
    "# As we train, it will also be nice to keep track of the accuracy of our classifier\n",
    "correct_prediction = tf.equal(tf.argmax(y, 1), tf.argmax(yhat, 1)) # Check if predictions are equal to labels\n",
    "accuracy = tf.reduce_mean(tf.cast(correct_prediction, tf.float32)) # Compute average accuracy"
   ]
  },
  {
   "cell_type": "markdown",
   "metadata": {},
   "source": [
    "- Now, we'll need some method of optimization method to train our neural network. \n",
    "- Tensorflow has lots of built-in optimizers, let's start with plain gradient descent:"
   ]
  },
  {
   "cell_type": "code",
   "execution_count": 18,
   "metadata": {
    "collapsed": true,
    "jupyter": {
     "outputs_hidden": true
    }
   },
   "outputs": [],
   "source": [
    "# Add Optimizer to Graph:\n",
    "optimizer = tf.train.GradientDescentOptimizer(learning_rate = 1e-2)\n",
    "\n",
    "# Create a Training Operation we can use to perform optimization\n",
    "# We'll pass in the cost tensor into our gradient descent optimizer\n",
    "train_op = optimizer.minimize(cost)"
   ]
  },
  {
   "cell_type": "markdown",
   "metadata": {},
   "source": [
    "---"
   ]
  },
  {
   "cell_type": "markdown",
   "metadata": {},
   "source": [
    "- And that's our complete graph! Notice what we didn't have to do here - **compute gradients**. Remarkably, Tensorflow takes care of this, by symbolically computing the gradients across our graph. \n",
    "- Now that we have a basic graph, we'll need to launch a tensorflow session. \n",
    "- Here we'll use an [InteractiveSession](https://www.tensorflow.org/api_docs/python/tf/InteractiveSession), which is slightly easier to work with in the notebook than a defualt session."
   ]
  },
  {
   "cell_type": "code",
   "execution_count": 19,
   "metadata": {
    "collapsed": true,
    "jupyter": {
     "outputs_hidden": true
    }
   },
   "outputs": [],
   "source": [
    "sess = tf.InteractiveSession()"
   ]
  },
  {
   "cell_type": "markdown",
   "metadata": {},
   "source": [
    "![](../assets/graphics/spacer_small.png)"
   ]
  },
  {
   "cell_type": "markdown",
   "metadata": {},
   "source": [
    "---"
   ]
  },
  {
   "cell_type": "markdown",
   "metadata": {},
   "source": [
    "## Tensorboard\n",
    "- Now that we have a simple tensorflow graph, let's visualize it!\n",
    "- We'll use a nice tool called built-in tensorflow tool called [tensorboard](https://www.tensorflow.org/guide/summaries_and_tensorboard).\n",
    "- Tensorboard allows us to visualize all kinds of useful information as we train. \n",
    "- We'll start by just visualizing our computational graph. "
   ]
  },
  {
   "cell_type": "code",
   "execution_count": 20,
   "metadata": {
    "collapsed": true,
    "jupyter": {
     "outputs_hidden": true
    }
   },
   "outputs": [],
   "source": [
    "tf.summary.scalar(name = 'cost', tensor = cost)\n",
    "tf.summary.scalar(name = 'accuracy', tensor = accuracy)\n",
    "merged_summary_op = tf.summary.merge_all() #Merges all summaries, in this case we only have one!\n",
    "\n",
    "#Write tensorflow log file to tf_data directory:\n",
    "train_writer = tf.summary.FileWriter(logdir = \"../models/one_layer_MSE_Batch/train\", graph = sess.graph)\n",
    "test_writer = tf.summary.FileWriter(logdir = \"../models/one_layer_MSE_Batch/test\", graph = sess.graph)"
   ]
  },
  {
   "cell_type": "markdown",
   "metadata": {},
   "source": [
    "Now, to use tensorboard, open up a terminal and run:\n",
    "\n",
    "```\n",
    "tensorboard --logdir=LOG_DIRECTORY\n",
    "```\n",
    "\n",
    "Where `LOG_DIRECTORY` refers to the directory we wrote to above. For example, if you navigate your terminal to the top level of this repo first, you can just run `tensorboard --logdir=models`. After launching, tensorboard will print out a url in your terminal, copy and paste this url into your browser.  "
   ]
  },
  {
   "cell_type": "markdown",
   "metadata": {},
   "source": [
    "![](../assets/graphics/tensorboard.png)"
   ]
  },
  {
   "cell_type": "markdown",
   "metadata": {},
   "source": [
    "- You should see something like this after launching tensorboard.\n",
    "- You can see inside nodes by double clicking on the \"+\" sign in the upper right corner\n",
    "- Graphs in tensorboard can be very helpful debugging tools. "
   ]
  },
  {
   "cell_type": "markdown",
   "metadata": {},
   "source": [
    "![](../assets/graphics/spacer_small.png)"
   ]
  },
  {
   "cell_type": "markdown",
   "metadata": {},
   "source": [
    "---"
   ]
  },
  {
   "cell_type": "markdown",
   "metadata": {},
   "source": [
    "![](../assets/graphics/spacer_small.png)"
   ]
  },
  {
   "cell_type": "markdown",
   "metadata": {},
   "source": [
    "## **Training**"
   ]
  },
  {
   "cell_type": "markdown",
   "metadata": {},
   "source": [
    "- Alright, time to train our network!\n",
    "- Let's just start with 100 iterations and see how we do. "
   ]
  },
  {
   "cell_type": "code",
   "execution_count": 21,
   "metadata": {
    "collapsed": true,
    "jupyter": {
     "outputs_hidden": true
    }
   },
   "outputs": [],
   "source": [
    "## We have to initialize our variables before training:\n",
    "sess.run(tf.global_variables_initializer())"
   ]
  },
  {
   "cell_type": "code",
   "execution_count": 22,
   "metadata": {
    "scrolled": true
   },
   "outputs": [
    {
     "name": "stdout",
     "output_type": "stream",
     "text": [
      "0 steps, test set accuracy =  0.1255\n",
      "10 steps, test set accuracy =  0.1267\n",
      "20 steps, test set accuracy =  0.1288\n",
      "30 steps, test set accuracy =  0.1303\n",
      "40 steps, test set accuracy =  0.1334\n",
      "50 steps, test set accuracy =  0.1352\n",
      "60 steps, test set accuracy =  0.1375\n",
      "70 steps, test set accuracy =  0.1399\n",
      "80 steps, test set accuracy =  0.1419\n",
      "90 steps, test set accuracy =  0.1451\n"
     ]
    }
   ],
   "source": [
    "num_iterations = 100\n",
    "\n",
    "for i in range(num_iterations):\n",
    "    #Take Gradient Descent Step:\n",
    "    sess.run(train_op, feed_dict = {X: x_train, y: y_train})\n",
    "    \n",
    "    if i % 10 == 0:\n",
    "        summary = sess.run(merged_summary_op, feed_dict = {X: x_train, y: y_train})\n",
    "        train_writer.add_summary(summary, i)\n",
    "        train_writer.flush() #Go ahead and write to tfevent file so we can visualize as we train\n",
    "        \n",
    "        summary = sess.run(merged_summary_op, feed_dict = {X: x_test, y: y_test})\n",
    "        test_writer.add_summary(summary, i)\n",
    "        test_writer.flush()\n",
    "        \n",
    "        print(str(i), 'steps, test set accuracy = ', + accuracy.eval(feed_dict = {X: x_test, y: y_test}))"
   ]
  },
  {
   "cell_type": "code",
   "execution_count": 23,
   "metadata": {
    "collapsed": true,
    "jupyter": {
     "outputs_hidden": true
    }
   },
   "outputs": [],
   "source": [
    "#Close and reset this tensorflow session and writers. \n",
    "train_writer.close()\n",
    "test_writer.close()\n",
    "tf.reset_default_graph()\n",
    "sess.close()"
   ]
  },
  {
   "cell_type": "markdown",
   "metadata": {},
   "source": [
    "![](../assets/graphics/spacer_small.png)"
   ]
  },
  {
   "cell_type": "markdown",
   "metadata": {},
   "source": [
    "# **Stochastic Gradient Descent**"
   ]
  },
  {
   "cell_type": "markdown",
   "metadata": {},
   "source": [
    "- We can visualize performance of our first model in tensorboard in the scalars tab. \n",
    "- Now, as you can see, our test set accuracy is continuously improving, **however**, our convergence is very slow. \n",
    "- One reason for this is that at each step we're computing our gradient with respect to **all of our data**.\n",
    "- Methods like that this use the entire dataset to compute the gradient are called **batch** or deterministic gradient methods. \n",
    "- A nice alternative is to use a **random sample** of our dataset to compute an estimate of the grandient at each step. These methods are generally called **minibatch**, **minibatch stochastic**, or just **stochastic**.\n",
    "- Stochastic gradient descent offers large speedups, and can even have a nice regularizing effect, potentially reducing overfitting. \n",
    "- Section 8.1 of Goodfellow's Deep Learning book provides some nice tips for choosing minibatch size:"
   ]
  },
  {
   "cell_type": "markdown",
   "metadata": {},
   "source": [
    "----"
   ]
  },
  {
   "cell_type": "markdown",
   "metadata": {},
   "source": [
    "![](../assets/graphics/minibatch_size_consderations-01.png)"
   ]
  },
  {
   "cell_type": "markdown",
   "metadata": {},
   "source": [
    "---"
   ]
  },
  {
   "cell_type": "markdown",
   "metadata": {},
   "source": [
    "- Alright, so let's give **Stochastic Gradient Descent** a try, and see how we do. \n",
    "- We'll need a method or class to take random samples of our training data. \n",
    "- Let's implement this in a class called `Generator`."
   ]
  },
  {
   "cell_type": "code",
   "execution_count": 24,
   "metadata": {
    "collapsed": true,
    "jupyter": {
     "outputs_hidden": true
    }
   },
   "outputs": [],
   "source": [
    "class Generator(object):\n",
    "    '''\n",
    "    Minibatch generator class. \n",
    "    '''\n",
    "    def __init__(self, X, y, minibatch_size):\n",
    "        '''\n",
    "        X = array of all training or testing data\n",
    "        y = array of all training or testing labels\n",
    "        '''\n",
    "        self.all_X = X\n",
    "        self.all_y = y\n",
    "        self.minibatch_size = minibatch_size\n",
    "        \n",
    "        self.indices = np.arange(self.all_X.shape[0])\n",
    "        np.random.shuffle(self.indices)\n",
    "        self.pointer = 0   \n",
    "        self.num_epochs = 0\n",
    "        \n",
    "    def generate(self):\n",
    "        '''\n",
    "        Make that minibatch!\n",
    "        '''\n",
    "        self.X = self.all_X[self.indices[self.pointer:self.pointer+self.minibatch_size]]\n",
    "        self.y = self.all_y[self.indices[self.pointer:self.pointer+self.minibatch_size]]\n",
    "        self.pointer += self.minibatch_size\n",
    "        #End of Epoch\n",
    "        if self.pointer > self.all_X.shape[0] - self.minibatch_size:\n",
    "            self.pointer = 0\n",
    "            self.num_epochs += 1\n",
    "            np.random.shuffle(self.indices) #Reshuffle indices at the end of each epoch"
   ]
  },
  {
   "cell_type": "markdown",
   "metadata": {},
   "source": [
    "- Now that we have our generator class setup, we can train a new network. \n",
    "- We'll build a new network here with the same architecture (we reset our graph above), but this time train using minibatches."
   ]
  },
  {
   "cell_type": "code",
   "execution_count": 25,
   "metadata": {
    "collapsed": true,
    "jupyter": {
     "outputs_hidden": true
    }
   },
   "outputs": [],
   "source": [
    "learning_rate = 1e-2\n",
    "minibatch_size = 128"
   ]
  },
  {
   "cell_type": "code",
   "execution_count": 26,
   "metadata": {
    "collapsed": true,
    "jupyter": {
     "outputs_hidden": true
    }
   },
   "outputs": [],
   "source": [
    "X = tf.placeholder(dtype = tf.float32, shape = (None, 28*28), name = 'X') \n",
    "y = tf.placeholder(dtype = tf.float32, shape = [None, 10], name = 'y') #One output dimension for each class\n",
    "\n",
    "# Let's create a single fully connected layer with a sigmoid activation function\n",
    "yhat = tf.layers.dense(inputs = X, units = 10, activation = 'sigmoid', name = 'fc_1')\n",
    "\n",
    "# Mean Square Error\n",
    "cost = tf.reduce_mean(tf.squared_difference(y, yhat))\n",
    "\n",
    "# As we train, it will also be nice to keep track of the accuracy of our classifier\n",
    "correct_prediction = tf.equal(tf.argmax(y, 1), tf.argmax(yhat, 1)) # Check if predictions are equal to labels\n",
    "accuracy = tf.reduce_mean(tf.cast(correct_prediction, tf.float32)) # Compute average accuracy\n",
    "\n",
    "# Add Optimizer to Graph:\n",
    "optimizer = tf.train.GradientDescentOptimizer(learning_rate = learning_rate)\n",
    "train_op = optimizer.minimize(cost)\n",
    "\n",
    "#Setup Summary Writing for Tensorboard:\n",
    "tf.summary.scalar(name = 'cost', tensor = cost)\n",
    "tf.summary.scalar(name = 'accuracy', tensor = accuracy)\n",
    "merged_summary_op = tf.summary.merge_all() #Merges all summaries, in this case we only have one!\n",
    "\n",
    "#Write tensorflow log file to tf_data directory:\n",
    "train_writer = tf.summary.FileWriter(logdir = \"../models/one_layer_MSE_stochastic/train\", graph = sess.graph)\n",
    "test_writer = tf.summary.FileWriter(logdir = \"../models/one_layer_MSE_stochastic/test\", graph = sess.graph)"
   ]
  },
  {
   "cell_type": "code",
   "execution_count": 27,
   "metadata": {
    "collapsed": true,
    "jupyter": {
     "outputs_hidden": true
    }
   },
   "outputs": [],
   "source": [
    "#Setup a new session\n",
    "sess = tf.InteractiveSession()\n",
    "sess.run(tf.global_variables_initializer())"
   ]
  },
  {
   "cell_type": "code",
   "execution_count": 28,
   "metadata": {
    "collapsed": true,
    "jupyter": {
     "outputs_hidden": true
    }
   },
   "outputs": [],
   "source": [
    "G = Generator(X = x_train, y = y_train, minibatch_size = minibatch_size) # Generator for training data\n",
    "GT = Generator(X = x_test, y = y_test, minibatch_size = minibatch_size) # Generator for testing data"
   ]
  },
  {
   "cell_type": "code",
   "execution_count": 29,
   "metadata": {
    "scrolled": true
   },
   "outputs": [
    {
     "name": "stdout",
     "output_type": "stream",
     "text": [
      "0 steps,  0  epochs, test set accuracy =  0.0998\n",
      "1000 steps,  2  epochs, test set accuracy =  0.3675\n",
      "2000 steps,  4  epochs, test set accuracy =  0.5117\n",
      "3000 steps,  6  epochs, test set accuracy =  0.5749\n",
      "4000 steps,  8  epochs, test set accuracy =  0.6184\n",
      "5000 steps,  10  epochs, test set accuracy =  0.6545\n",
      "6000 steps,  12  epochs, test set accuracy =  0.6807\n",
      "7000 steps,  14  epochs, test set accuracy =  0.7066\n",
      "8000 steps,  17  epochs, test set accuracy =  0.7286\n",
      "9000 steps,  19  epochs, test set accuracy =  0.7522\n",
      "10000 steps,  21  epochs, test set accuracy =  0.7736\n",
      "11000 steps,  23  epochs, test set accuracy =  0.7864\n",
      "12000 steps,  25  epochs, test set accuracy =  0.7988\n",
      "13000 steps,  27  epochs, test set accuracy =  0.8088\n",
      "14000 steps,  29  epochs, test set accuracy =  0.8154\n",
      "15000 steps,  32  epochs, test set accuracy =  0.8227\n",
      "16000 steps,  34  epochs, test set accuracy =  0.8299\n",
      "17000 steps,  36  epochs, test set accuracy =  0.833\n",
      "18000 steps,  38  epochs, test set accuracy =  0.8372\n",
      "19000 steps,  40  epochs, test set accuracy =  0.8399\n",
      "20000 steps,  42  epochs, test set accuracy =  0.8427\n",
      "21000 steps,  44  epochs, test set accuracy =  0.8453\n",
      "22000 steps,  47  epochs, test set accuracy =  0.8464\n",
      "23000 steps,  49  epochs, test set accuracy =  0.8482\n",
      "24000 steps,  51  epochs, test set accuracy =  0.8508\n",
      "25000 steps,  53  epochs, test set accuracy =  0.8528\n",
      "26000 steps,  55  epochs, test set accuracy =  0.8538\n",
      "27000 steps,  57  epochs, test set accuracy =  0.8557\n",
      "28000 steps,  59  epochs, test set accuracy =  0.8569\n",
      "29000 steps,  61  epochs, test set accuracy =  0.8573\n",
      "30000 steps,  64  epochs, test set accuracy =  0.8583\n",
      "31000 steps,  66  epochs, test set accuracy =  0.8599\n",
      "32000 steps,  68  epochs, test set accuracy =  0.861\n",
      "33000 steps,  70  epochs, test set accuracy =  0.8619\n",
      "34000 steps,  72  epochs, test set accuracy =  0.8628\n",
      "35000 steps,  74  epochs, test set accuracy =  0.8639\n",
      "36000 steps,  76  epochs, test set accuracy =  0.865\n",
      "37000 steps,  79  epochs, test set accuracy =  0.8658\n",
      "38000 steps,  81  epochs, test set accuracy =  0.8673\n",
      "39000 steps,  83  epochs, test set accuracy =  0.8686\n",
      "40000 steps,  85  epochs, test set accuracy =  0.869\n",
      "41000 steps,  87  epochs, test set accuracy =  0.8697\n",
      "42000 steps,  89  epochs, test set accuracy =  0.8705\n",
      "43000 steps,  91  epochs, test set accuracy =  0.8708\n",
      "44000 steps,  94  epochs, test set accuracy =  0.8716\n",
      "45000 steps,  96  epochs, test set accuracy =  0.8719\n",
      "46000 steps,  98  epochs, test set accuracy =  0.8723\n",
      "47000 steps,  100  epochs, test set accuracy =  0.8727\n",
      "48000 steps,  102  epochs, test set accuracy =  0.8733\n",
      "49000 steps,  104  epochs, test set accuracy =  0.8735\n",
      "50000 steps,  106  epochs, test set accuracy =  0.874\n",
      "51000 steps,  108  epochs, test set accuracy =  0.8745\n",
      "52000 steps,  111  epochs, test set accuracy =  0.8749\n",
      "53000 steps,  113  epochs, test set accuracy =  0.8754\n",
      "54000 steps,  115  epochs, test set accuracy =  0.8756\n",
      "55000 steps,  117  epochs, test set accuracy =  0.8762\n",
      "56000 steps,  119  epochs, test set accuracy =  0.8777\n",
      "57000 steps,  121  epochs, test set accuracy =  0.8781\n",
      "58000 steps,  123  epochs, test set accuracy =  0.8785\n",
      "59000 steps,  126  epochs, test set accuracy =  0.8789\n",
      "60000 steps,  128  epochs, test set accuracy =  0.8792\n",
      "61000 steps,  130  epochs, test set accuracy =  0.8792\n",
      "62000 steps,  132  epochs, test set accuracy =  0.8799\n",
      "63000 steps,  134  epochs, test set accuracy =  0.88\n",
      "64000 steps,  136  epochs, test set accuracy =  0.8805\n",
      "65000 steps,  138  epochs, test set accuracy =  0.881\n",
      "66000 steps,  141  epochs, test set accuracy =  0.8813\n",
      "67000 steps,  143  epochs, test set accuracy =  0.882\n",
      "68000 steps,  145  epochs, test set accuracy =  0.8822\n",
      "69000 steps,  147  epochs, test set accuracy =  0.8824\n",
      "70000 steps,  149  epochs, test set accuracy =  0.8825\n",
      "71000 steps,  151  epochs, test set accuracy =  0.8827\n",
      "72000 steps,  153  epochs, test set accuracy =  0.8829\n",
      "73000 steps,  155  epochs, test set accuracy =  0.8833\n",
      "74000 steps,  158  epochs, test set accuracy =  0.8835\n",
      "75000 steps,  160  epochs, test set accuracy =  0.8838\n",
      "76000 steps,  162  epochs, test set accuracy =  0.884\n",
      "77000 steps,  164  epochs, test set accuracy =  0.8841\n",
      "78000 steps,  166  epochs, test set accuracy =  0.8847\n",
      "79000 steps,  168  epochs, test set accuracy =  0.8848\n",
      "80000 steps,  170  epochs, test set accuracy =  0.8849\n",
      "81000 steps,  173  epochs, test set accuracy =  0.8853\n",
      "82000 steps,  175  epochs, test set accuracy =  0.8856\n",
      "83000 steps,  177  epochs, test set accuracy =  0.8859\n",
      "84000 steps,  179  epochs, test set accuracy =  0.8864\n",
      "85000 steps,  181  epochs, test set accuracy =  0.8865\n",
      "86000 steps,  183  epochs, test set accuracy =  0.8866\n",
      "87000 steps,  185  epochs, test set accuracy =  0.8869\n",
      "88000 steps,  188  epochs, test set accuracy =  0.887\n",
      "89000 steps,  190  epochs, test set accuracy =  0.8871\n",
      "90000 steps,  192  epochs, test set accuracy =  0.887\n",
      "91000 steps,  194  epochs, test set accuracy =  0.8873\n",
      "92000 steps,  196  epochs, test set accuracy =  0.8872\n",
      "93000 steps,  198  epochs, test set accuracy =  0.8873\n",
      "94000 steps,  200  epochs, test set accuracy =  0.8877\n",
      "95000 steps,  202  epochs, test set accuracy =  0.8882\n",
      "96000 steps,  205  epochs, test set accuracy =  0.8885\n",
      "97000 steps,  207  epochs, test set accuracy =  0.8887\n",
      "98000 steps,  209  epochs, test set accuracy =  0.889\n",
      "99000 steps,  211  epochs, test set accuracy =  0.8895\n"
     ]
    }
   ],
   "source": [
    "num_iterations = 100000\n",
    "\n",
    "for i in range(num_iterations):\n",
    "    #Take Gradient Descent Step:\n",
    "    G.generate()\n",
    "    sess.run(train_op, feed_dict = {X: G.X, y: G.y})\n",
    "    \n",
    "    if i % 1000 == 0:\n",
    "        summary = sess.run(merged_summary_op, feed_dict = {X: G.X, y: G.y})\n",
    "        train_writer.add_summary(summary, i)\n",
    "        train_writer.flush() #Go ahead and write to tfevent file so we can visualize as we train\n",
    "        \n",
    "        GT.generate()\n",
    "        summary = sess.run(merged_summary_op, feed_dict = {X: GT.X, y: GT.y})\n",
    "        test_writer.add_summary(summary, i)\n",
    "        test_writer.flush()\n",
    "        \n",
    "        print(str(i), 'steps, ',  \n",
    "              str(G.num_epochs),' epochs, test set accuracy = ', \n",
    "              accuracy.eval(feed_dict = {X: x_test, y: y_test}))"
   ]
  },
  {
   "cell_type": "markdown",
   "metadata": {},
   "source": [
    "- As you can see, **stochastic gradient descent** requires much less time to converge.\n",
    "- To really see this different in tensorboard, switch the horizontal axis to \"relative\".\n",
    "- In fact, we achieved ~11% misclassification error here, which is on par with the [mnist benchmark](http://yann.lecun.com/exdb/mnist/) performance for this type of model (1-layer NN).\n",
    "- Since we can take steps more quickly, we can take many more steps that we could with batch gradient descent.\n",
    "- Notice that we're also keeping track of something called epochs here - **1 epoch corresponds to 1 complete pass through the training data**.\n",
    "- Now, we still haven't discussed the our main topic here **deep neural networks**, (our neural network is still one layer deep!), however before we start adding more layers, there's one more clever step we can take to improve our classifier's preformance.\n"
   ]
  },
  {
   "cell_type": "markdown",
   "metadata": {},
   "source": [
    "---"
   ]
  },
  {
   "cell_type": "markdown",
   "metadata": {},
   "source": [
    "## **Cost Functions Matter**"
   ]
  },
  {
   "cell_type": "markdown",
   "metadata": {},
   "source": [
    "- Up until this point, we've been minimizing the **Mean Square Error (MSE)** between our one-hot-encoded labels and predictions:\n",
    "\n",
    "```\n",
    "cost = tf.reduce_mean(tf.squared_difference(y, yhat))\n",
    "```\n",
    "\n",
    "- Let's take a moment and give our loss function some thought. \n",
    "- How does our cost function shape the landscape we must tranverse as we perform gradient descent?\n",
    "- Let's use a simplified example to give this some thought. \n",
    "- Instead of predicting all 10 mnist classes, let's for a moment just consider predicting 2, for example, only learning to classify 0s and 1s. \n"
   ]
  },
  {
   "cell_type": "markdown",
   "metadata": {},
   "source": [
    "![](../assets/graphics/binary_mnist_network-01.png)"
   ]
  },
  {
   "cell_type": "markdown",
   "metadata": {},
   "source": [
    "- Here's a visualization of the surface of our cost as a function of our output layer activities, $z_0, z_1$, after assuming that we're only predicting 2 classes instead of 10. \n",
    "- Now, the *real cost function surface* we're interested in the the cost function with respect to our weights. However, visualizing the cost function from the pespective of our final layer outputs $z$ as shown above can help us understand what's going on here, becuase the one of the first steps of backpropogation will involve computing $\\frac{\\partial \\hat{y}}{\\partial z}$, which is proportional to the gradient of the surface shown above. Further, our final gradient value will be multiplied by $\\frac{\\partial \\hat{y}}{\\partial z}$, so large or small values of $\\frac{\\partial \\hat{y}}{\\partial z}$ could have a large impact. \n",
    "- Now, **what possible issues might the landscape of our MSE cost function present?**"
   ]
  },
  {
   "cell_type": "markdown",
   "metadata": {},
   "source": [
    "![](../assets/graphics/spacer_small.png)"
   ]
  },
  {
   "cell_type": "markdown",
   "metadata": {},
   "source": [
    "---"
   ]
  },
  {
   "cell_type": "markdown",
   "metadata": {},
   "source": [
    "![](../assets/graphics/goodfellow_quote_two-01.png)"
   ]
  },
  {
   "cell_type": "markdown",
   "metadata": {},
   "source": [
    "---"
   ]
  },
  {
   "cell_type": "markdown",
   "metadata": {},
   "source": [
    "- Now, before we go about looking for a better cost function, we need to make one more adjustment. \n",
    "- Instead of using one sigmoid on each output in our final layer, let's consider using the **softmax function** across our output vector:"
   ]
  },
  {
   "cell_type": "markdown",
   "metadata": {},
   "source": [
    "$$\n",
    "softmax(z_i) = \\frac{exp(z_i)}{\\sum_j exp(z_j)}\n",
    "$$"
   ]
  },
  {
   "cell_type": "markdown",
   "metadata": {},
   "source": [
    "- The softmax function is a nice differentiable function that allows us to better represent our probability distribution accross our $n$ classes. \n",
    "- Since our mnist classes are mutually exclusive, we would like our model to ouput a strong signal for the class it is most \"confident\" about and small number otherwise.\n",
    "- The softmax function makes the largest output of our network larger relative to our other inputs, while enforcing that all of our outputs sum to one\n",
    "- One way to think about softmax is as a **winner take all** function."
   ]
  },
  {
   "cell_type": "markdown",
   "metadata": {},
   "source": [
    "![](../assets/graphics/softmax_examples-01.png)"
   ]
  },
  {
   "cell_type": "markdown",
   "metadata": {},
   "source": [
    "- Note that the softmax output numbers above have been rounded - this will be important later, as an output value of 0 would be problematic.\n",
    "- So we'll remove the individual sigmoid activations functions from the output of our model and replace them with a single softmax function. \n",
    "- Now, let's return to searching for a cost function that won't squish our gradient as our current MSE cost function does. "
   ]
  },
  {
   "cell_type": "markdown",
   "metadata": {},
   "source": [
    "---"
   ]
  },
  {
   "cell_type": "markdown",
   "metadata": {},
   "source": [
    "## **Maximum Likelihood Estimation**\n",
    "- \"Most modern neural networks are trained using maximum likelihood.\" - Goodfellow et al 6.2.1.1\n",
    "- Instead of guessing at better cost function for training our neural network, we'll use the **maximum likelihood principle** (See Goodfellow et al section 5.5 for a nice description)\n",
    "- In a nutshell, given a model with parameters $\\boldsymbol{\\theta}$ (these would be the weights and biases of our neural network), we're seeking to find a set of values $\\boldsymbol{\\theta}_{ML}$ that maximize the probability of our labels given our data (Goodfellow equation 5.62):"
   ]
  },
  {
   "cell_type": "markdown",
   "metadata": {},
   "source": [
    "$$\n",
    "\\boldsymbol{\\theta}_{ML} = \\underset{\\boldsymbol{\\theta}}{arg \\, max} \\, P(\\boldsymbol{Y} \\, | \\, \\boldsymbol{X}; \\boldsymbol{\\theta})\n",
    "$$"
   ]
  },
  {
   "cell_type": "markdown",
   "metadata": {},
   "source": [
    "- If we assume that our examples are i.i.d. (independent and identically distributed), then we can write our probability as a product across our individual examples:"
   ]
  },
  {
   "cell_type": "markdown",
   "metadata": {},
   "source": [
    "$$\n",
    "\\boldsymbol{\\theta}_{ML} = \n",
    "\\underset{\\boldsymbol{\\theta}}{arg \\, max} \\, \n",
    "\\prod_{i=1}^m\n",
    "P(\\boldsymbol{y}^{(i)} \\, | \\, \\boldsymbol{x}^{(i)}; \\boldsymbol{\\theta})\n",
    "$$"
   ]
  },
  {
   "cell_type": "markdown",
   "metadata": {},
   "source": [
    "- Products over probabilities can be numerically difficult to work with. A common way around this issue here is to take the logarithm of our likelihood:"
   ]
  },
  {
   "cell_type": "markdown",
   "metadata": {},
   "source": [
    "$$\n",
    "\\boldsymbol{\\theta}_{ML} = \n",
    "\\underset{\\boldsymbol{\\theta}}{arg \\, max} \\, \n",
    "\\sum_{i=1}^m log\n",
    "P(\\boldsymbol{y}^{(i)} \\, | \\, \\boldsymbol{x}^{(i)}; \\boldsymbol{\\theta})\n",
    "$$"
   ]
  },
  {
   "cell_type": "markdown",
   "metadata": {},
   "source": [
    "- From description from [Likelihood function Wikipedia article](https://en.wikipedia.org/wiki/Likelihood_function#Log-likelihood): \"For many applications, the natural logarithm of the likelihood function, called the log-likelihood, is more convenient to work with. This is because we are generally interested in where the likelihood reaches its maximum value: the logarithm is a strictly increasing function, so the logarithm of a function achieves its maximum value at the same points as the function itself, and hence the log-likelihood can be used in place of the likelihood in maximum likelihood estimation and related techniques."
   ]
  },
  {
   "cell_type": "markdown",
   "metadata": {},
   "source": [
    "## **But how do we make this into a cost function?**"
   ]
  },
  {
   "cell_type": "markdown",
   "metadata": {},
   "source": [
    "- The log likelihood expression above is interesting, but (for me at least), it's not immediately obvious how to turn it into a cost function for us to minimize. \n",
    "- The trickiest part is probably the probability, this depends on the distribution assumed by model we're using. If we were solving a binary classification problem, we may assume a bernoulli distribution, or if we were solving a regression problem we assume a gaussian distribution. In our current model we've assumed a softmax or \"multinoulli\" distribution - so we need to take this into account when derviving a cost function from our log likelihood expression aobve. \n",
    "- One of my favorite derivations I've come accross so far comes from a [stack exchange answer](https://datascience.stackexchange.com/questions/9302/the-cross-entropy-error-function-in-neural-networks), Here's the derivation below. \n",
    "- One minor note - we take the **negative** log likelihood here, becuase we're interested in computing a cost function to **minimize**, rather than maximizing the probability of our labels given our data and weights. "
   ]
  },
  {
   "cell_type": "markdown",
   "metadata": {},
   "source": [
    "---"
   ]
  },
  {
   "cell_type": "markdown",
   "metadata": {},
   "source": [
    "One way to interpret cross-entropy is to see it as a (minus) log-likelihood for the data $y_i'$, under a model $y_i$.\n",
    "\n",
    "Namely, suppose that you have some fixed model (a.k.a. \"hypothesis\"), which predicts for $n$ classes $\\{1,2,\\dots, n\\}$ their hypothetical occurrence probabilities $y_1, y_2,\\dots, y_n$. Suppose that you now observe (in reality) $k_1$ instances of class $1$, $k_2$ instances of class $2$, $k_n$ instances of class $n$, etc. According to your model the likelihood of this happening is:\n",
    "$$\n",
    "P[data|model] := y_1^{k_1}y_2^{k_2}\\dots y_n^{k_n}.\n",
    "$$\n",
    "Taking the logarithm and changing the sign:\n",
    "$$\n",
    "-\\log P[data|model] = -k_1\\log y_1 -k_2\\log y_2 - \\dots -k_n\\log y_n = -\\sum_i k_i \\log y_i\n",
    "$$\n",
    "If you now divide the right-hand sum by the number of observations $N = k_1+k_2+\\dots+k_n$, and denote the empirical probabilities as $y_i'=k_i/N$, you'll get the cross-entropy:\n",
    "$$\n",
    "-\\frac{1}{N} \\log P[data|model] = -\\frac{1}{N}\\sum_i k_i \\log y_i = -\\sum_i y_i'\\log y_i =: H(y', y)\n",
    "$$"
   ]
  },
  {
   "cell_type": "markdown",
   "metadata": {},
   "source": [
    "---"
   ]
  },
  {
   "cell_type": "markdown",
   "metadata": {},
   "source": [
    "- The derivation above uses slightly different variable names, using our convention:"
   ]
  },
  {
   "cell_type": "markdown",
   "metadata": {},
   "source": [
    "$$\n",
    "cost = - \\sum_i y_i log(\\hat{y_i})\n",
    "$$"
   ]
  },
  {
   "cell_type": "markdown",
   "metadata": {},
   "source": [
    "- Where $i$ sums over our output classes. \n",
    "- Let's consider the binary classification case (only 2 classes), and expand this equation.\n",
    "- In this case, we can simplify things a bit since we know that under our softmax distribution, our outputs must add to one: $y_0 = 1-y_1$."
   ]
  },
  {
   "cell_type": "markdown",
   "metadata": {},
   "source": [
    "$$\n",
    "cost = - y \\cdot log(\\hat{y}) - (1-y) \\cdot log(1-\\hat{y})\n",
    "$$"
   ]
  },
  {
   "cell_type": "markdown",
   "metadata": {},
   "source": [
    "- Let's visualize our cost as a function of our predictions $\\hat{y}$ for the binary case. "
   ]
  },
  {
   "cell_type": "code",
   "execution_count": 31,
   "metadata": {},
   "outputs": [
    {
     "name": "stdout",
     "output_type": "stream",
     "text": [
      "Populating the interactive namespace from numpy and matplotlib\n"
     ]
    }
   ],
   "source": [
    "%pylab inline"
   ]
  },
  {
   "cell_type": "code",
   "execution_count": 32,
   "metadata": {},
   "outputs": [
    {
     "data": {
      "image/png": "[encoded data removed]",
      "text/plain": [
       "<matplotlib.figure.Figure at 0x182e9e7828>"
      ]
     },
     "metadata": {},
     "output_type": "display_data"
    }
   ],
   "source": [
    "# Let's visualize our cost function values across a range of yhats\n",
    "# softmax output values over the range (0, 1)\n",
    "yhat = np.linspace(0.001, 0.999, 100)\n",
    "\n",
    "#First the case if our label is 0\n",
    "y = 0 \n",
    "cost = - y*log(yhat) - (1-y)*log(1-yhat)\n",
    "fig = figure(0, (16, 8))\n",
    "ax = fig.add_subplot(111)\n",
    "plot(yhat, cost, linewidth = 3)\n",
    "\n",
    "#Now the case if our label is 1\n",
    "y = 1 \n",
    "cost = - y*log(yhat) - (1-y)*log(1-yhat)\n",
    "plot(yhat, cost, linewidth = 3)\n",
    "grid(1)\n",
    "\n",
    "legend(['$y=0$', '$y=1$'], fontsize = 20)\n",
    "xlabel('$\\hat{y}$', fontsize = 20)\n",
    "ylabel('Cost', fontsize = 20)\n",
    "ax.tick_params(axis='both', which='major', labelsize=20)"
   ]
  },
  {
   "cell_type": "markdown",
   "metadata": {},
   "source": [
    "- Not that when $\\hat{y} = y$ our cost is zero, our cost increases as we move away from the correct label, and becomes very large as our prediction moves close to the completely wrong label. \n",
    "- Our model is penalized heavity when our predictions are very wrong. "
   ]
  },
  {
   "cell_type": "markdown",
   "metadata": {},
   "source": [
    "---"
   ]
  },
  {
   "cell_type": "markdown",
   "metadata": {},
   "source": [
    "- Alright, so after all that work we know have a cost function derived from the principle of **maximum likelihood**:"
   ]
  },
  {
   "cell_type": "markdown",
   "metadata": {},
   "source": [
    "$$\n",
    "cost = - \\sum_i y_i log(\\hat{y_i})\n",
    "$$"
   ]
  },
  {
   "cell_type": "markdown",
   "metadata": {},
   "source": [
    "- This loss function is often refered to the **cross entropy**, this is a little bit of a misnomer:"
   ]
  },
  {
   "cell_type": "markdown",
   "metadata": {},
   "source": [
    "\"Many authors use the term \"cross-entropy\" to identify specifically the negative log-likelihood of a Bernoulli or softmax distribution, but that is a misnomer. Any loss consisting of a negative log-likelihood is a cross-entropy between the empirical distribution defited by the training set and the probability distribution defined by the model. For example, mean square error is the cross-entropy between the empirical distributionand a Guassian model.\" (Goodfellow et al section 5.5)"
   ]
  },
  {
   "cell_type": "markdown",
   "metadata": {},
   "source": [
    "- Alright, let's put all of this together:"
   ]
  },
  {
   "cell_type": "markdown",
   "metadata": {},
   "source": [
    "![](../assets/graphics/binary_mnist_network_cross_entropy-01.png)"
   ]
  },
  {
   "cell_type": "markdown",
   "metadata": {},
   "source": [
    "- Note that we don't have those annoying gradient-killing flat spots that we had in our mean square cost function above.\n",
    "- Now, softmax will **saturate** just as a sigmoid activations functions do, however, the log form our cross entropy loss function has the nice effect of **reversing** the exponential in our softmax function, and making our cost function surface fairly linear, with a nice large downhill gradient. \n",
    "- Now, an importat question:"
   ]
  },
  {
   "cell_type": "markdown",
   "metadata": {},
   "source": [
    "----"
   ]
  },
  {
   "cell_type": "markdown",
   "metadata": {},
   "source": [
    "![](../assets/graphics/question_one-01.png)"
   ]
  },
  {
   "cell_type": "markdown",
   "metadata": {},
   "source": [
    "---"
   ]
  },
  {
   "cell_type": "markdown",
   "metadata": {},
   "source": [
    "Alright, let's find out!"
   ]
  },
  {
   "cell_type": "code",
   "execution_count": 33,
   "metadata": {
    "collapsed": true,
    "jupyter": {
     "outputs_hidden": true
    }
   },
   "outputs": [],
   "source": [
    "train_writer.close()\n",
    "test_writer.close()\n",
    "tf.reset_default_graph()\n",
    "sess.close()"
   ]
  },
  {
   "cell_type": "code",
   "execution_count": 34,
   "metadata": {
    "collapsed": true,
    "jupyter": {
     "outputs_hidden": true
    }
   },
   "outputs": [],
   "source": [
    "X = tf.placeholder(dtype = tf.float32, shape = (None, 28*28), name = 'X') \n",
    "y = tf.placeholder(dtype = tf.float32, shape = [None, 10], name = 'y') #One output dimension for each class\n",
    "\n",
    "# Let's create a single fully connected layer with a sigmoid activation function\n",
    "logits = tf.layers.dense(inputs = X, units = 10, activation = None, name = 'fc_1')\n",
    "yhat = tf.nn.softmax(logits)\n",
    "\n",
    "# Cross Entropy\n",
    "# Implmenting cross entropy \"manually\" in tensoflow can be numerically unstable, so use this method:\n",
    "cost = tf.losses.softmax_cross_entropy(y, logits)\n",
    "\n",
    "# As we train, it will also be nice to keep track of the accuracy of our classifier\n",
    "correct_prediction = tf.equal(tf.argmax(y, 1), tf.argmax(yhat, 1)) # Check if predictions are equal to labels\n",
    "accuracy = tf.reduce_mean(tf.cast(correct_prediction, tf.float32)) # Compute average accuracy\n",
    "\n",
    "# Add Optimizer to Graph:\n",
    "optimizer = tf.train.GradientDescentOptimizer(learning_rate = learning_rate)\n",
    "train_op = optimizer.minimize(cost)\n",
    "\n",
    "#Setup Summary Writing for Tensorboard:\n",
    "tf.summary.scalar(name = 'cost', tensor = cost)\n",
    "tf.summary.scalar(name = 'accuracy', tensor = accuracy)\n",
    "merged_summary_op = tf.summary.merge_all() #Merges all summaries, in this case we only have one!\n",
    "\n",
    "#Write tensorflow log file to tf_data directory:\n",
    "train_writer = tf.summary.FileWriter(logdir = \"../models/one_layer_cross_entropy_stochastic/train\", graph = sess.graph)\n",
    "test_writer = tf.summary.FileWriter(logdir = \"../models/one_layer_cross_entropy_stochastic/test\", graph = sess.graph)"
   ]
  },
  {
   "cell_type": "code",
   "execution_count": 35,
   "metadata": {
    "collapsed": true,
    "jupyter": {
     "outputs_hidden": true
    }
   },
   "outputs": [],
   "source": [
    "#Setup a new session\n",
    "sess = tf.InteractiveSession()\n",
    "sess.run(tf.global_variables_initializer())"
   ]
  },
  {
   "cell_type": "code",
   "execution_count": 36,
   "metadata": {
    "collapsed": true,
    "jupyter": {
     "outputs_hidden": true
    }
   },
   "outputs": [],
   "source": [
    "G = Generator(X = x_train, y = y_train, minibatch_size = minibatch_size) # Generator for training data\n",
    "GT = Generator(X = x_test, y = y_test, minibatch_size = minibatch_size) # Generator for testing data"
   ]
  },
  {
   "cell_type": "code",
   "execution_count": null,
   "metadata": {
    "scrolled": true
   },
   "outputs": [
    {
     "name": "stdout",
     "output_type": "stream",
     "text": [
      "0 steps,  0  epochs, test set accuracy =  0.0788\n",
      "1000 steps,  2  epochs, test set accuracy =  0.864\n",
      "2000 steps,  4  epochs, test set accuracy =  0.8836\n",
      "3000 steps,  6  epochs, test set accuracy =  0.8928\n",
      "4000 steps,  8  epochs, test set accuracy =  0.8972\n",
      "5000 steps,  10  epochs, test set accuracy =  0.9\n",
      "6000 steps,  12  epochs, test set accuracy =  0.9034\n",
      "7000 steps,  14  epochs, test set accuracy =  0.9059\n",
      "8000 steps,  17  epochs, test set accuracy =  0.9064\n",
      "9000 steps,  19  epochs, test set accuracy =  0.9082\n",
      "10000 steps,  21  epochs, test set accuracy =  0.9089\n",
      "11000 steps,  23  epochs, test set accuracy =  0.9104\n",
      "12000 steps,  25  epochs, test set accuracy =  0.9113\n",
      "13000 steps,  27  epochs, test set accuracy =  0.9122\n",
      "14000 steps,  29  epochs, test set accuracy =  0.9137\n",
      "15000 steps,  32  epochs, test set accuracy =  0.9133\n",
      "16000 steps,  34  epochs, test set accuracy =  0.9136\n",
      "17000 steps,  36  epochs, test set accuracy =  0.9147\n",
      "18000 steps,  38  epochs, test set accuracy =  0.915\n",
      "19000 steps,  40  epochs, test set accuracy =  0.9154\n",
      "20000 steps,  42  epochs, test set accuracy =  0.9156\n",
      "21000 steps,  44  epochs, test set accuracy =  0.9157\n",
      "22000 steps,  47  epochs, test set accuracy =  0.9164\n",
      "23000 steps,  49  epochs, test set accuracy =  0.917\n",
      "24000 steps,  51  epochs, test set accuracy =  0.918\n",
      "25000 steps,  53  epochs, test set accuracy =  0.9174\n",
      "26000 steps,  55  epochs, test set accuracy =  0.9181\n",
      "27000 steps,  57  epochs, test set accuracy =  0.9187\n",
      "28000 steps,  59  epochs, test set accuracy =  0.9184\n",
      "29000 steps,  61  epochs, test set accuracy =  0.9189\n",
      "30000 steps,  64  epochs, test set accuracy =  0.919\n",
      "31000 steps,  66  epochs, test set accuracy =  0.9197\n",
      "32000 steps,  68  epochs, test set accuracy =  0.9195\n",
      "33000 steps,  70  epochs, test set accuracy =  0.9196\n",
      "34000 steps,  72  epochs, test set accuracy =  0.92\n",
      "35000 steps,  74  epochs, test set accuracy =  0.9201\n",
      "36000 steps,  76  epochs, test set accuracy =  0.9204\n",
      "37000 steps,  79  epochs, test set accuracy =  0.9201\n",
      "38000 steps,  81  epochs, test set accuracy =  0.9199\n",
      "39000 steps,  83  epochs, test set accuracy =  0.9206\n",
      "40000 steps,  85  epochs, test set accuracy =  0.921\n",
      "41000 steps,  87  epochs, test set accuracy =  0.9207\n",
      "42000 steps,  89  epochs, test set accuracy =  0.9207\n",
      "43000 steps,  91  epochs, test set accuracy =  0.9212\n",
      "44000 steps,  94  epochs, test set accuracy =  0.9217\n",
      "45000 steps,  96  epochs, test set accuracy =  0.9213\n",
      "46000 steps,  98  epochs, test set accuracy =  0.9211\n",
      "47000 steps,  100  epochs, test set accuracy =  0.921\n",
      "48000 steps,  102  epochs, test set accuracy =  0.9214\n",
      "49000 steps,  104  epochs, test set accuracy =  0.9219\n",
      "50000 steps,  106  epochs, test set accuracy =  0.9218\n",
      "51000 steps,  108  epochs, test set accuracy =  0.9211\n",
      "52000 steps,  111  epochs, test set accuracy =  0.922\n",
      "53000 steps,  113  epochs, test set accuracy =  0.922\n",
      "54000 steps,  115  epochs, test set accuracy =  0.9218\n",
      "55000 steps,  117  epochs, test set accuracy =  0.9223\n",
      "56000 steps,  119  epochs, test set accuracy =  0.9222\n",
      "57000 steps,  121  epochs, test set accuracy =  0.922\n",
      "58000 steps,  123  epochs, test set accuracy =  0.9221\n",
      "59000 steps,  126  epochs, test set accuracy =  0.9225\n",
      "60000 steps,  128  epochs, test set accuracy =  0.9223\n",
      "61000 steps,  130  epochs, test set accuracy =  0.9224\n",
      "62000 steps,  132  epochs, test set accuracy =  0.922\n",
      "63000 steps,  134  epochs, test set accuracy =  0.9227\n",
      "64000 steps,  136  epochs, test set accuracy =  0.9228\n",
      "65000 steps,  138  epochs, test set accuracy =  0.9231\n",
      "66000 steps,  141  epochs, test set accuracy =  0.9231\n",
      "67000 steps,  143  epochs, test set accuracy =  0.9231\n",
      "68000 steps,  145  epochs, test set accuracy =  0.9226\n",
      "69000 steps,  147  epochs, test set accuracy =  0.9225\n",
      "70000 steps,  149  epochs, test set accuracy =  0.9227\n",
      "71000 steps,  151  epochs, test set accuracy =  0.9229\n",
      "72000 steps,  153  epochs, test set accuracy =  0.9225\n",
      "73000 steps,  155  epochs, test set accuracy =  0.9229\n",
      "74000 steps,  158  epochs, test set accuracy =  0.9231\n",
      "75000 steps,  160  epochs, test set accuracy =  0.923\n",
      "76000 steps,  162  epochs, test set accuracy =  0.923\n",
      "77000 steps,  164  epochs, test set accuracy =  0.9223\n",
      "78000 steps,  166  epochs, test set accuracy =  0.9229\n",
      "79000 steps,  168  epochs, test set accuracy =  0.9225\n",
      "80000 steps,  170  epochs, test set accuracy =  0.9227\n",
      "81000 steps,  173  epochs, test set accuracy =  0.9229\n",
      "82000 steps,  175  epochs, test set accuracy =  0.9229\n",
      "83000 steps,  177  epochs, test set accuracy =  0.9224\n",
      "84000 steps,  179  epochs, test set accuracy =  0.923\n",
      "85000 steps,  181  epochs, test set accuracy =  0.9225\n",
      "86000 steps,  183  epochs, test set accuracy =  0.9229\n",
      "87000 steps,  185  epochs, test set accuracy =  0.9229\n",
      "88000 steps,  188  epochs, test set accuracy =  0.9228\n",
      "89000 steps,  190  epochs, test set accuracy =  0.9229\n",
      "90000 steps,  192  epochs, test set accuracy =  0.923\n"
     ]
    }
   ],
   "source": [
    "num_iterations = 100000\n",
    "\n",
    "for i in range(num_iterations):\n",
    "    #Take Gradient Descent Step:\n",
    "    G.generate()\n",
    "    sess.run(train_op, feed_dict = {X: G.X, y: G.y})\n",
    "    \n",
    "    if i % 1000 == 0:\n",
    "        summary = sess.run(merged_summary_op, feed_dict = {X: G.X, y: G.y})\n",
    "        train_writer.add_summary(summary, i)\n",
    "        train_writer.flush() #Go ahead and write to tfevent file so we can visualize as we train\n",
    "        \n",
    "        GT.generate()\n",
    "        summary = sess.run(merged_summary_op, feed_dict = {X: GT.X, y: GT.y})\n",
    "        test_writer.add_summary(summary, i)\n",
    "        test_writer.flush()\n",
    "        \n",
    "        print(str(i), 'steps, ',  str(G.num_epochs),' epochs, test set accuracy = ', + accuracy.eval(feed_dict = {X: x_test, y: y_test}))"
   ]
  },
  {
   "cell_type": "markdown",
   "metadata": {},
   "source": [
    "Your tensorboard visualization should look something like this:"
   ]
  },
  {
   "cell_type": "markdown",
   "metadata": {},
   "source": [
    "![](../assets/graphics/tensorboard_cross_entropy_vs_mse.png)"
   ]
  },
  {
   "cell_type": "markdown",
   "metadata": {},
   "source": [
    "### Cross Entropy Cost Achieves Higher Performance *and* Converges Faster than MSE!"
   ]
  },
  {
   "cell_type": "markdown",
   "metadata": {},
   "source": [
    "---"
   ]
  },
  {
   "cell_type": "markdown",
   "metadata": {},
   "source": [
    "![](../assets/graphics/spacer_small.png)"
   ]
  },
  {
   "cell_type": "markdown",
   "metadata": {},
   "source": [
    "## **Now, let's stack some layers and see if we can crush some benchmarks**"
   ]
  },
  {
   "cell_type": "markdown",
   "metadata": {},
   "source": [
    "![](../assets/graphics/cartoon-01.png)"
   ]
  },
  {
   "cell_type": "markdown",
   "metadata": {},
   "source": [
    "## **Training from Scripts**"
   ]
  },
  {
   "cell_type": "markdown",
   "metadata": {},
   "source": [
    "- For these last experiments, we'll use a slightly different workflow. \n",
    "- The notebook is a great tool for lots of tasks, but when we want to compare a bunch of different deep learning models, I find that .py scripts work a bit better. \n",
    "- Instead of training in notebooks, we'll use a training script `train.py`\n",
    "- To keep things organized, we'll define seprate `model.py` files in the models directory of thie repo. \n",
    "- Have a look at `models/five_layer_cross_entropy/model.py` for an example. \n",
    "- To keep things all in one place, we'll save our tensorboard data with in the same directory as our model file. \n",
    "- Before we get going, we'll make one last change, and switch from pure gradiet descent to the [Adam Optimizer](https://arxiv.org/pdf/1412.6980.pdf). \n",
    "- Adam is a very popular optimizer, and works well for lots of deep learning problems. Adam works by taking a running weighted average of the gradient and the second moment of the gradient. \n",
    "- To train our 5 layer model, run from the top level of this repo: "
   ]
  },
  {
   "cell_type": "markdown",
   "metadata": {},
   "source": [
    "```\n",
    "python train.py -m five_layer_cross_entropy\n",
    "```"
   ]
  },
  {
   "cell_type": "markdown",
   "metadata": {},
   "source": [
    "- There's also a seven layer model:"
   ]
  },
  {
   "cell_type": "markdown",
   "metadata": {},
   "source": [
    "```\n",
    "python train.py -m seven_layer_cross_entropy\n",
    "```"
   ]
  },
  {
   "cell_type": "markdown",
   "metadata": {},
   "source": [
    "After running, you should see something like this in tensorboard:"
   ]
  },
  {
   "cell_type": "markdown",
   "metadata": {},
   "source": [
    "![](../assets/graphics/tensorboard_deeper_models.png)"
   ]
  },
  {
   "cell_type": "markdown",
   "metadata": {},
   "source": [
    "- **Anything concerning about this plot?**\n",
    "- As you may have noticed, we're overfitting!\n",
    "- Now, we are acheiving our best test set accuracy thusfar, **around 97%**. \n",
    "- Now, this would be impressive, if Yann Lecun hadn't [beaten this performance](http://yann.lecun.com/exdb/mnist/) with a smaller network way back in 1998 with his **LeNet-5 network**, achieving a test set accuracy of **99.05%**. \n",
    "- So once again, it seems like there may be more to training deep networks than just stacking layers. \n",
    "- Also notice that our 7 layer network did a little worse out of sample than our 5 layer network.\n",
    "- Next time, we'll have a look at Yann Lecun's LeNet-5 network."
   ]
  },
  {
   "cell_type": "code",
   "execution_count": null,
   "metadata": {
    "collapsed": true,
    "jupyter": {
     "outputs_hidden": true
    }
   },
   "outputs": [],
   "source": []
  }
 ],
 "metadata": {
  "kernelspec": {
   "display_name": "Python 3 (ipykernel)",
   "language": "python",
   "name": "python3"
  },
  "language_info": {
   "codemirror_mode": {
    "name": "ipython",
    "version": 3
   },
   "file_extension": ".py",
   "mimetype": "text/x-python",
   "name": "python",
   "nbconvert_exporter": "python",
   "pygments_lexer": "ipython3",
   "version": "3.11.9"
  }
 },
 "nbformat": 4,
 "nbformat_minor": 4
}
