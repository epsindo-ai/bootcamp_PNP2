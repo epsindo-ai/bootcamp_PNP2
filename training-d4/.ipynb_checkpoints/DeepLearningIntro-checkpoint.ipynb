{
 "cells": [
  {
   "cell_type": "markdown",
   "id": "334b9e92-ddc3-4f99-9c63-80c62363a977",
   "metadata": {
    "tags": []
   },
   "source": [
    "<img src=\"https://www.dropbox.com/scl/fi/43hqdf0m38towzlbjv42f/epsindo-header.jpg?rlkey=u1kbivcdhbf0wpv1fyuqggpnp&st=4vn8xg6k&dl=1\" width=\"1400\"/>"
   ]
  },
  {
   "cell_type": "markdown",
   "id": "5de111a7-461c-47ac-b949-39346ae0dc2f",
   "metadata": {
    "tags": []
   },
   "source": [
    "# Pelatihan Day 2: Intro to Deep Learning\n",
    "---"
   ]
  },
  {
   "cell_type": "markdown",
   "id": "abcf0446-6ccd-4eb6-a053-13e5cbff0e8c",
   "metadata": {},
   "source": [
    "### Isi Materi :\n",
    "\n",
    "1. [Bab 1. Pendahuluan](#30)\n",
    "    - [1.1 Pengertian Deep Learning](#31)\n",
    "    - [1.2 Sejarah dan Perkembangan Deep Learning](#32)\n",
    "    - [1.3 Aplikasi Deep Learning dalam Kehidupan Sehari-hari](#33)\n",
    "2. [Bab 2. Pengenalan Konsep Dasar Deep Learning](#47)\n",
    "    - [2.1 Neural Networks](#34)\n",
    "    - [2.2 Activation Function](#35)\n",
    "    - [2.3 Cost Functions](#36)\n",
    "    - [2.4 Backpropagation](#37)\n",
    "    - [2.5 Optimization Algorithms](#38)\n",
    "3. [Bab 3. Deep Learning Models: Konsep dan Penerapan](#39)\n",
    "    - [3.1 Multilayer Perceptron (MLP)](#39)\n",
    "        - [3.1.1 Konsep MLP](#40)\n",
    "        - [3.1.2 Penerapan MLP: Code Snippet dan Studi Kasus](#41)\n",
    "    - [3.2 Convolutional Neural Network (CNN)](#42)\n",
    "        - [3.2.1 Konsep CNN](#43)\n",
    "        - [3.2.2 Penerapan CNN: Code Snippet dan Studi Kasus](#44)\n",
    "            - [Klasifikasi Gambar DIGITS dengan CNN](#45)\n",
    "            - [Klasifikasi Gambar CIFAR-10 dengan CNN](#46)\n",
    "4. [Quiz](#100)"
   ]
  },
  {
   "cell_type": "markdown",
   "id": "64a289a6-1639-4449-b02a-8f5e30fba4bc",
   "metadata": {
    "tags": []
   },
   "source": [
    "<a id=\"30\"></a>\n",
    "# Bab 1. Pendahuluan\n",
    "---"
   ]
  },
  {
   "cell_type": "markdown",
   "id": "d04a5013-c2d7-439d-a540-cc0ae1d2d16a",
   "metadata": {
    "tags": []
   },
   "source": [
    "<a id=\"31\"></a>\n",
    "## 1.1 Pengertian Deep Learning\n",
    "Deep learning adalah cabang dari kecerdasan buatan (AI) yang menggunakan model\n",
    "matematika yang disebut neural networks. Mengapa disebut __deep?__ Karena model ini\n",
    "menggunakan banyak lapisan proses pemrosesan data, atau apa yang kita kenal dengan\n",
    "__layers__. Setiap layer berisi node yang melakukan serangkaian kalkulasi matematis\n",
    "sederhana, dan masing-masing layer belajar untuk mengenali fitur yang berbeda dari input\n",
    "yang diberikan.\n",
    "\n",
    "Deep learning bisa dipahami sebagai proses pengekstrakan fitur otomatis dari data dan\n",
    "menggunakannya untuk melakukan prediksi atau keputusan. Ini sangat berbeda dari\n",
    "metode pembelajaran mesin tradisional, di mana fitur harus didefinisikan secara manual\n",
    "dan kemudian dikenakan pada model pembelajaran mesin."
   ]
  },
  {
   "cell_type": "markdown",
   "id": "7dc4681a-b87b-4606-83e4-7a155133e84f",
   "metadata": {},
   "source": [
    "<a id=\"32\"></a>\n",
    "## 1.2 Sejarah dan Perkembangan Deep Learning\n",
    "\n",
    "Konsep dari neural networks bukanlah ide baru. Sebenarnya, ide tersebut telah ada sejak\n",
    "tahun 1940-an. Namun, deep learning sejati baru berjalan ketika kita memiliki komputasi\n",
    "yang cukup kuat untuk melatih jaringan saraf yang __dalam__.\n",
    "\n",
    "Pada dekade 1980-an dan 1990-an, peneliti mulai bereksperimen dengan jaringan yang lebih\n",
    "dalam, tetapi mereka menemui kendala dalam pelatihan model tersebut. Namun,\n",
    "penemuan kembali algoritma backpropagation pada tahun 1986 memberikan solusi atas\n",
    "masalah ini, memungkinkan gradient dari cost function dapat dihitung secara efisien dan\n",
    "digunakan untuk memperbarui bobot dalam jaringan.\n",
    "\n",
    "Perkembangan signifikan berikutnya datang pada tahun 2012, ketika tim peneliti dari\n",
    "University of Toronto memenangkan kompetisi ImageNet menggunakan model deep\n",
    "learning, Convolutional Neural Network (CNN). Prestasi ini membuktikan keunggulan deep\n",
    "learning dalam tugas-tugas yang melibatkan pengolahan gambar.\n",
    "\n",
    "Sejak saat itu, deep learning telah menjadi bagian integral dari berbagai aplikasi dan\n",
    "industri. Kemampuan untuk memproses dan memahami data besar dalam waktu singkat\n",
    "telah mengubah cara kita berinteraksi dengan teknologi dan dunia sekitar kita.\n"
   ]
  },
  {
   "cell_type": "markdown",
   "id": "f0f9d888-d345-4da4-ae1a-99a6489c72cf",
   "metadata": {},
   "source": [
    "<a id=\"33\"></a>\n",
    "## 1.3 Aplikasi Deep Learning dalam Kehidupan Sehari-hari\n",
    "\n",
    "Deep learning tidak lagi terbatas pada laboratorium penelitian atau aplikasi industri\n",
    "spesifik. Sekarang, aplikasi deep learning bisa ditemukan di berbagai aspek kehidupan\n",
    "sehari-hari.\n",
    "\n",
    "* __Pengenalan Suara:__ Kita bisa melihat penggunaan deep learning dalam asisten virtual seperti Google Assistant, Siri, atau Alexa yang menggunakan pengenalan suara untuk menerima dan memahami perintah.\n",
    "* __Pengenalan Gambar__: Deep learning digunakan dalam teknologi pengenalan wajah yang digunakan oleh Facebook untuk menandai foto atau oleh Apple dalam sistem Face ID. \n",
    "* __Penerjemahan Bahasa:__ Google Translate menggunakan model deep learning yang dikenal sebagai neural machine translation untuk menerjemahkan antar bahasa.\n",
    "* __Rekomendasi Produk:__ Deep learning juga digunakan oleh perusahaan seperti Amazon dan Netflix untuk memberikan rekomendasi produk atau film yang dipersonalisasi.\n",
    "* __Kendaraan Otonom:__ Deep learning memainkan peran penting dalam pengembangan sistem pengendalian otomatis untuk kendaraan otonom, memungkinkan mereka untuk mengenali dan bereaksi terhadap lingkungan sekitarnya. \n",
    "\n",
    "Pendahuluan ini memberi kita gambaran tentang apa itu deep learning, bagaimana\n",
    "perkembangannya, dan bagaimana kita menggunakannya dalam kehidupan sehari-hari.\n",
    "Selanjutnya, kita akan membahas secara mendalam tentang konsep-konsep penting dalam\n",
    "deep learning dan bagaimana menerapkannya.\n"
   ]
  },
  {
   "cell_type": "markdown",
   "id": "a55034ed-b150-42ff-b54e-16eefae93a1c",
   "metadata": {},
   "source": [
    "<a id=\"47\"></a>\n",
    "# Bab 2. Pengenalan Konsep Dasar Deep Learning\n",
    "---"
   ]
  },
  {
   "cell_type": "markdown",
   "id": "ada427ba-04a2-45ba-acc2-8dc6b722265e",
   "metadata": {
    "tags": []
   },
   "source": [
    "<a id=\"34\"></a>\n",
    "## 2.1 Neural Networks\n",
    "\n",
    "Neural Networks (Jaringan Saraf) merupakan pondasi utama dari deep learning. Ide\n",
    "dasarnya diambil dari cara kerja otak manusia dalam memproses informasi. Berikut adalah\n",
    "penjelasan singkat dan padat tentang konsep ini:\n",
    "\n",
    "__Struktur Neural Network__\n",
    "\n",
    "Sebuah Neural Network terdiri dari tiga bagian utama:\n",
    "\n",
    "1. __Input Layer:__ Layer ini menerima input data. Setiap neuron dalam layer ini mewakili satu fitur dari data.\n",
    "2. __Hidden Layer(s):__ Layer ini berada di antara input dan output layer. Jumlah hidden layer dan jumlah neuron dalam setiap layer dapat bervariasi, tergantung pada kompleksitas masalah yang sedang dikerjakan.\n",
    "3. __Output Layer:__ Layer ini memberikan hasil akhir dari neural network. Jumlah neuron dalam layer ini biasanya sama dengan jumlah kelas dalam masalah klasifikasi, atau satu neuron untuk masalah regresi.\n",
    "\n",
    "Setiap neuron dalam satu layer terhubung dengan semua neuron di layer selanjutnya.\n",
    "Hubungan ini diberi bobot, yang di-adjust selama proses pelatihan neural network.\n",
    "\n",
    "__Forward Propagation__\n",
    "\n",
    "Ini adalah langkah pertama dalam proses belajar sebuah neural network. Dalam tahap ini,\n",
    "data dikirimkan melalui jaringan dari input layer ke output layer. Setiap neuron mengambil\n",
    "input, mengalikan dengan bobot, menambahkan bias (sebuah nilai konstan untuk\n",
    "memastikan output tidak nol ketika semua input nol), dan kemudian meneruskan hasil\n",
    "melalui fungsi aktivasi.\n",
    "\n",
    "__Fungsi Aktivasi__\n",
    "\n",
    "Fungsi aktivasi bertugas mengubah input neuron menjadi output yang akan diteruskan ke\n",
    "neuron selanjutnya. Ada beberapa jenis fungsi aktivasi, seperti sigmoid, ReLU (Rectified\n",
    "Linear Unit), dan tanh. Pilihan fungsi aktivasi tergantung pada masalah yang sedang\n",
    "dihadapi dan struktur dari neural network itu sendiri.\n",
    "\n",
    "__Backward Propagation dan Penyesuaian Bobot__\n",
    "\n",
    "Setelah forward propagation, neural network akan menghasilkan output. Output ini\n",
    "kemudian dibandingkan dengan output sebenarnya untuk menghitung kesalahan.\n",
    "Kesalahan ini kemudian dipropagasi mundur melalui jaringan (backward propagation),\n",
    "dimana bobot antar neuron di-adjust berdasarkan kesalahan tersebut. Proses ini berulang-ulang hingga kesalahan mencapai nilai minimum atau setelah sejumlah iterasi tertentu.\n",
    "\n",
    "__Learning Rate__\n",
    "Learning rate adalah parameter yang mengontrol seberapa cepat atau lambat kita ingin\n",
    "model kita belajar. Nilai yang sangat kecil dapat membuat proses belajar menjadi sangat\n",
    "lambat, sedangkan nilai yang terlalu besar bisa menyebabkan model melewatkan minimum\n",
    "global dari fungsi kesalahan.\n",
    "\n",
    "![](../assets/neuralnetwork.png)\n",
    "\n",
    "\n",
    "Diagram ini menunjukkan tiga bagian utama dari Neural Network:\n",
    "1. __Input Layer (Biru):__ Layer ini menerima input data. Setiap neuron dalam layer ini mewakili satu fitur dari data.\n",
    "2. __Hidden Layer(s) (Hijau):__ Layer ini berada di antara input dan output layer. Jumlah hidden layer dan jumlah neuron dalam setiap layer dapat bervariasi, tergantung pada kompleksitas masalah yang sedang dikerjakan.\n",
    "3. __Output Layer (Merah):__ Layer ini memberikan hasil akhir dari neural network. Jumlah neuron dalam layer ini biasanya sama dengan jumlah kelas dalam masalah klasifikasi, atau satu neuron untuk masalah regresi.\n",
    "\n",
    "Setiap neuron dalam satu layer terhubung dengan semua neuron di layer selanjutnya.\n",
    "Hubungan ini diberi bobot, yang di-adjust selama proses pelatihan neural network.\n",
    "\n",
    "Itulah sekilas tentang konsep dasar Neural Networks. Selanjutnya, kita akan membahas\n",
    "lebih detail tentang fungsi aktivasi, fungsi biaya, backpropagation, dan algoritma optimasi.\n"
   ]
  },
  {
   "cell_type": "markdown",
   "id": "54a1de9a-5832-4fec-8fa6-f2fe3f89203d",
   "metadata": {},
   "source": [
    "<a id=\"35\"></a>\n",
    "## 2.2 Activation Functions\n",
    "\n",
    "Fungsi aktivasi memainkan peran penting dalam arsitektur Neural Network. Fungsi ini\n",
    "bertugas untuk menentukan output neuron berdasarkan set input tertentu. Berikut ini\n",
    "adalah ringkasan tentang beberapa fungsi aktivasi yang umum digunakan.\n",
    "\n",
    "__Sigmoid__\n",
    "\n",
    "Sigmoid adalah fungsi aktivasi yang paling sering digunakan. Output dari fungsi ini berkisar\n",
    "antara 0 hingga 1, yang dapat digunakan untuk mengubah angka-arbitrer menjadi\n",
    "probabilitas.\n",
    "\n",
    ">Formula: σ(x) = 1 / (1 + exp(-x))\n",
    "\n",
    "_Keuntungan:_ Output berkisar antara 0 dan 1, berguna untuk mengubah nilai menjadi probabilitas.\n",
    "\n",
    "_Kekurangan:_ Sigmoid menderita dari apa yang dikenal sebagai \"vanishing gradient\n",
    "problem\", dimana untuk nilai input yang sangat besar atau sangat kecil, gradiennya hampir\n",
    "nol. Ini menyulitkan proses pembelajaran.\n",
    "\n",
    "__Tanh__\n",
    "\n",
    "Tanh adalah alternatif lain untuk sigmoid. Output dari fungsi ini berkisar antara -1 hingga 1,\n",
    "yang menjadikannya lebih baik dalam menangani negatif input.\n",
    ">Formula: tanh(x) = 2σ(2x) - 1\n",
    "\n",
    "_Keuntungan:_ Sama seperti sigmoid, tetapi lebih baik menangani input negatif.\n",
    "\n",
    "_Kekurangan:_ Masih menderita vanishing gradient problem.\n",
    "\n",
    "__ReLU (Rectified Linear Unit)__\n",
    "\n",
    "ReLU adalah fungsi aktivasi yang paling umum digunakan di dalam hidden layers dari\n",
    "sebuah neural network. Fungsi ini hanya akan menghasilkan output jika inputnya positif.\n",
    ">Formula: ReLU(x) = max(0, x)\n",
    "\n",
    "_Keuntungan:_ ReLU sangat efisien secara komputasi dan tidak menderita vanishing gradient\n",
    "problem.\n",
    "\n",
    "_Kekurangan:_ ReLU memiliki apa yang dikenal sebagai \"dying ReLU problem\" - jika neuron\n",
    "memberikan output negatif, neuron tersebut akan \"mati\", atau berhenti belajar.\n",
    "\n",
    "__Leaky ReLU__\n",
    "\n",
    "Ini adalah versi modifikasi dari ReLU yang mencoba untuk memecahkan masalah dying\n",
    "ReLU dengan memperkenalkan nilai kecil positif untuk input negatif.\n",
    ">Formula: Leaky ReLU(x) = max(0.01x, x)\n",
    "\n",
    "Keuntungan: Mengatasi masalah dying ReLU.\n",
    "\n",
    "Kekurangan: Hasilnya mungkin tidak stabil untuk data berisik.\n",
    "\n",
    "\n",
    "__Softmax__\n",
    "\n",
    "Fungsi Softmax biasanya digunakan di layer output untuk klasifikasi multi-kelas. Fungsi ini\n",
    "akan mengubah vektor input kedalam vektor probabilitas.\n",
    "\n",
    "\n",
    "Keuntungan: Berguna untuk klasifikasi multi-kelas.\n",
    "\n",
    "Kekurangan: Tidak cocok untuk digunakan di hidden layers.\n",
    "\n",
    "Setiap fungsi aktivasi memiliki keunggulan dan kelemahan sendiri-sendiri. Pilihan fungsi\n",
    "aktivasi yang tepat bergantung pada masalah yang kamu hadapi dan jenis data yang kamu\n",
    "miliki. Selanjutnya, kita akan membahas tentang fungsi biaya dan bagaimana kita bisa\n",
    "menggunakan backpropagation dan algoritma optimasi untuk meminimalkan kesalahan\n",
    "ini.\n",
    "\n",
    "\n"
   ]
  },
  {
   "cell_type": "markdown",
   "id": "ef2362f1-a38c-4db6-8f63-7dd0ba5994de",
   "metadata": {},
   "source": [
    "<a id=\"36\"></a>\n",
    "## 2.3 Cost Functions\n",
    "\n",
    "Dalam konteks Neural Networks, Cost Function, juga dikenal sebagai Loss Function, adalah\n",
    "metrik yang digunakan untuk mengukur sejauh mana prediksi model dari nilai yang\n",
    "sebenarnya. Dengan kata lain, cost function memberikan ukuran \"kesalahan\" dalam\n",
    "prediksi model kita. Berikut adalah beberapa jenis cost function yang sering digunakan:\n",
    "\n",
    "__Mean Squared Error (MSE)__\n",
    "MSE adalah cost function yang paling sering digunakan, terutama untuk masalah regresi.\n",
    "Cost function ini menghitung rata-rata kuadrat dari perbedaan antara nilai yang diprediksi\n",
    "dan nilai sebenarnya.\n",
    "\n",
    "> Formula: 𝑀𝑆𝐸 = 1/𝑛 Σ(𝑦𝑖 − 𝑦'𝑖)^2\n",
    "\n",
    "Dimana n adalah jumlah sampel, yi adalah nilai sebenarnya, dan y'i adalah nilai yang\n",
    "diprediksi.\n",
    "\n",
    "__Cross-Entropy__\n",
    "\n",
    "Cross-Entropy adalah cost function yang sering digunakan untuk masalah klasifikasi. Cost\n",
    "function ini mengukur \"jarak\" antara distribusi probabilitas yang diprediksi oleh model dan\n",
    "distribusi probabilitas sebenarnya.\n",
    "\n",
    ">Formula untuk binary classification: 𝐶𝑟𝑜𝑠𝑠 𝐸𝑛𝑡𝑟𝑜𝑝𝑦 = − 1/𝑛 Σ(𝑦𝑖 𝑙𝑜𝑔(𝑦'𝑖) + (1 − 𝑦𝑖) 𝑙𝑜𝑔(1 − 𝑦'𝑖))\n",
    "\n",
    ">Formula untuk multi-class classification: 𝐶𝑟𝑜𝑠𝑠 𝐸𝑛𝑡𝑟𝑜𝑝𝑦 = − 1/𝑛 Σ Σ 𝑦𝑖, 𝑘 𝑙𝑜𝑔(𝑦'𝑖, 𝑘)\n",
    "\n",
    "Dimana n adalah jumlah sampel, yi,k adalah nilai sebenarnya untuk kelas k, dan y'i,k adalah\n",
    "nilai yang diprediksi untuk kelas k.\n",
    "\n",
    "__Log Loss__\n",
    "\n",
    "Log Loss adalah variasi dari Cross-Entropy yang biasanya digunakan dalam klasifikasi biner.\n",
    "Nilainya akan semakin kecil jika model membuat prediksi yang benar dengan tingkat\n",
    "keyakinan yang tinggi.\n",
    "> Formula: 𝐿𝑜𝑔 𝐿𝑜𝑠𝑠 = − 1/𝑛 Σ(𝑦𝑖 𝑙𝑜𝑔(𝑦'𝑖) + (1 − 𝑦𝑖) 𝑙𝑜𝑔(1 − 𝑦'𝑖))\n",
    "\n",
    "Dimana n adalah jumlah sampel, yi adalah nilai sebenarnya, dan y'i adalah nilai yang\n",
    "diprediksi.\n",
    "\n",
    "Cost function memainkan peran penting dalam pelatihan model Neural Network. Tujuan\n",
    "utama pelatihan adalah untuk meminimalkan cost function ini. Untuk melakukan itu, kita\n",
    "perlu menggunakan teknik yang disebut Backpropagation dan berbagai Algoritma Optimasi,\n",
    "yang akan kita bahas di bagian selanjutnya."
   ]
  },
  {
   "cell_type": "markdown",
   "id": "37a8c15f-f9e6-4690-b724-65d702d68687",
   "metadata": {},
   "source": [
    "<a id=\"37\"></a>\n",
    "## 2.4 Backpropagation\n",
    "\n",
    "Backpropagation adalah metode yang digunakan dalam neural network untuk\n",
    "menyesuaikan bobot dan bias berdasarkan error atau cost yang dihasilkan oleh output\n",
    "network. Backpropagation adalah tulang punggung dari pelatihan neural network dan ini\n",
    "akan kita bahas secara detail dan ringkas di sini.\n",
    "\n",
    "__Konsep Backpropagation__\n",
    "\n",
    "Backpropagation beroperasi dengan menghitung gradien dari error atau cost function\n",
    "sehubungan dengan bobot dan bias dalam network. Gradien ini kemudian digunakan untuk\n",
    "memperbarui bobot dan bias sehingga mengurangi error. Ini dilakukan melalui metode\n",
    "yang dikenal sebagai gradient descent.\n",
    "\n",
    "__Proses Backpropagation__\n",
    "1. __Forward Pass:__ Pertama, kita melakukan forward pass melalui network dengan input kita, menghitung output dari setiap neuron sampai kita mendapatkan output akhir.\n",
    "2. __Hitung Error:__ Setelah forward pass, kita menghitung error dari output dengan membandingkan output network dengan output yang diharapkan.\n",
    "3. __Backward Pass:__ Setelah kita mendapatkan error, kita mulai backward pass. Di sini, kita menghitung gradien dari error terhadap bobot dan bias di setiap layer, mulai dari output layer dan bergerak mundur ke input layer. Gradien ini memberikan kita arah untuk \"mendorong\" bobot dan bias untuk mengurangi error.\n",
    "4. __Update Weights and Biases:__ Setelah kita memiliki gradien, kita dapat menggunakan mereka untuk memperbarui bobot dan bias. Ini biasanya dilakukan dengan mengurangi gradien yang dihitung dari bobot dan bias saat ini, dikalikan dengan learning rate.\n",
    "\n",
    "\n",
    "Proses ini berlangsung berulang kali untuk setiap batch data dalam dataset kita, dan\n",
    "diulangi untuk sejumlah epoch sampai error kita berada di bawah threshold tertentu atau\n",
    "setelah sejumlah epoch yang telah ditentukan.\n",
    "\n",
    "__Peran Fungsi Aktivasi dalam Backpropagation__\n",
    "\n",
    "Fungsi aktivasi berperan penting dalam proses backpropagation. Gradien yang dihitung\n",
    "selama backpropagation melibatkan turunan dari fungsi aktivasi. Oleh karena itu, pilihan\n",
    "fungsi aktivasi dapat mempengaruhi efektivitas backpropagation. Misalnya, fungsi aktivasi\n",
    "seperti sigmoid dan tanh bisa menyebabkan permasalahan vanishing gradients, yang\n",
    "memperlambat proses pelatihan.\n",
    "\n",
    "Itulah intisari dari backpropagation. Meski tampak rumit, sebenarnya itu adalah proses\n",
    "iteratif yang sistematis untuk memperbarui bobot dan bias dalam network kita. Dalam\n",
    "subbab berikutnya, kita akan membahas tentang algoritma optimasi yang digunakan untuk\n",
    "melanjutkan langkah update bobot dan bias ini."
   ]
  },
  {
   "cell_type": "markdown",
   "id": "ac39379f-cdc7-4335-afc1-8021cb39b66d",
   "metadata": {},
   "source": [
    "<a id=\"38\"></a>\n",
    "## 2.5 Optimization Algorithms\n",
    "\n",
    "Algoritma optimasi digunakan dalam pelatihan neural network untuk memperbarui bobot\n",
    "dan bias dengan tujuan meminimalkan fungsi cost. Ada beberapa algoritma optimasi yang\n",
    "biasa digunakan, dan di bawah ini kita akan membahas beberapa yang paling populer.\n",
    "\n",
    "__Gradient Descent__\n",
    "\n",
    "Bayangkan kamu berada di puncak gunung dan ingin mencapai lembah di bawah. Kamu\n",
    "tidak dapat melihat seluruh jalur, tetapi kamu dapat merasakan kemiringan di sekitar kamu\n",
    "dan memutuskan ke mana harus melangkah selanjutnya. Inilah prinsip dasar dari Gradient\n",
    "Descent. Dalam konteks pembelajaran mesin, \"gunung\" kamu adalah fungsi biaya, dan\n",
    "kamu mencoba mencari \"lembah\" terendah, yaitu, nilai minimum dari fungsi biaya\n",
    "tersebut.\n",
    "\n",
    "Gradient Descent menggunakan kalkulus untuk mencari nilai minimum fungsi biaya. Pada\n",
    "setiap langkah, bobot dan bias diperbarui dengan mengurangi gradien dari fungsi biaya,\n",
    "dikalikan dengan learning rate (η), seperti ini:\n",
    "\n",
    ">𝑤 = 𝑤 − η * ∇𝐽(𝑤)\n",
    "\n",
    "dimana ∇J(w) adalah gradien dari fungsi biaya terhadap bobot.\n",
    "\n",
    "Keuntungan:\n",
    "* Sederhana dan mudah untuk diimplementasikan.\n",
    "* Efektif untuk fungsi biaya yang besar.\n",
    "\n",
    "Kekurangan:\n",
    "* Butuh waktu yang lama untuk konvergen, terutama untuk dataset besar.\n",
    "* Bisa terjebak dalam minimum lokal dan tidak menemukan minimum global (solusiterbaik).\n",
    "\n",
    "__Stochastic Gradient Descent (SGD)__\n",
    "\n",
    "Sekarang bayangkan kamu turun dari gunung, tetapi kali ini, alih-alih merasakan\n",
    "kemiringan di sekitar kamu, kamu hanya merasakan kemiringan di satu titik dan membuat\n",
    "keputusan berdasarkan itu. Itulah SGD. Kamu mengambil satu sampel data pada satu waktu\n",
    "dan melakukan update bobot. Ini membuat prosesnya lebih cepat, tetapi\n",
    "langkah-langkahnya bisa sangat fluktuatif, seperti seseorang yang sedang berjalan-jalan\n",
    "tanpa tujuan.\n",
    "\n",
    "Dalam SGD, kamu menggunakan gradien yang dihitung dari satu sampel data pada suatu\n",
    "waktu, seperti ini:\n",
    "\n",
    ">𝑤 = 𝑤 − η * ∇𝐽(𝑤; 𝑥(𝑖), 𝑦(𝑖))\n",
    "\n",
    "dimana x(i) dan y(i) adalah sampel data dan labelnya.\n",
    "\n",
    "Keuntungan:\n",
    "* Sangat cepat dan efisien untuk dataset yang sangat besar.\n",
    "* Fluktuasi bisa membantu algoritma keluar dari minimum lokal.\n",
    "Kekurangan:\n",
    "* Update bobot bisa sangat fluktuatif dan tidak stabil.\n",
    "\n",
    "__Mini-Batch Gradient Descent__\n",
    "\n",
    "Metode ini adalah gabungan dari dua metode sebelumnya. Kamu merasakan kemiringan di\n",
    "beberapa titik dan membuat keputusan berdasarkan rata-rata. Ini seperti berjalan-jalan\n",
    "dengan grup teman dan memutuskan ke mana harus pergi berdasarkan rata-rata pendapat\n",
    "semua orang. Ini lebih stabil dibandingkan SGD dan lebih cepat dibandingkan Gradient\n",
    "Descent biasa.\n",
    "\n",
    "Mini-Batch Gradient Descent mirip dengan SGD, tetapi gradien dihitung dari sejumlah\n",
    "sampel data, bukan hanya satu, seperti ini:\n",
    "\n",
    ">𝑤 = 𝑤 − η * ∇𝐽(𝑤; 𝑥(𝑖: 𝑖 + 𝑛), 𝑦(𝑖: 𝑖 + 𝑛))\n",
    "\n",
    "dimana x(i:i+n) dan y(i:i+n) adalah batch dari n sampel data dan labelnya.\n",
    "\n",
    "Keuntungan:\n",
    "* Lebih cepat dan stabil dibandingkan SGD.\n",
    "* Bisa memanfaatkan paralelisme perangkat keras dan performa yang lebih baik pada dataset besar.\n",
    "\n",
    "Kekurangan:\n",
    "* Harus memilih ukuran batch yang tepat, yang mungkin tidak mudah.\n",
    "\n",
    "__Momentum__\n",
    "\n",
    "Bayangkan kamu mengendarai sepeda turun dari gunung. Bahkan ketika jalan sedikit\n",
    "menanjak, kamu masih dapat melanjutkan karena kecepatan yang kamu kumpulkan\n",
    "sebelumnya. Momentum dalam konteks ini berfungsi dengan cara yang sama: itu\n",
    "\"mengumpulkan\" update bobot sebelumnya dan menggunakan mereka untuk membantu\n",
    "update saat ini.\n",
    "\n",
    "Momentum menambahkan 'kecepatan' dari update bobot sebelumnya ke update bobot saat\n",
    "ini, seperti ini:\n",
    ">𝑣 = β * 𝑣 − η * ∇𝐽(𝑤)\n",
    ">\n",
    ">𝑤 = 𝑤 + 𝑣\n",
    "\n",
    "dimana v adalah kecepatan (update bobot sebelumnya), dan β adalah faktor momentum.\n",
    "\n",
    "Keuntungan:\n",
    "* Dapat membantu algoritma keluar dari minimum lokal dan mencapai minimum global lebih cepat.\n",
    "* Membantu algoritma konvergen lebih cepat.\n",
    "\n",
    "Kekurangan:\n",
    "* Memerlukan penyetelan parameter tambahan (faktor momentum).\n",
    "\n",
    "__Adaptive Moment Estimation (Adam)__\n",
    "\n",
    "Adam adalah seperti sepeda canggih yang tidak hanya memiliki momentum, tetapi juga\n",
    "dapat menyesuaikan kecepatannya berdasarkan kondisi jalan. Ini berarti bahwa Adam\n",
    "dapat mengubah seberapa cepat atau lambat dia belajar berdasarkan seberapa baik dia\n",
    "melakukannya.\n",
    "\n",
    "Adam tidak hanya menggabungkan ide momentum tetapi juga menghitung rata-rata\n",
    "bergerak dari kuadrat gradien, dan menggunakan kedua nilai ini untuk menyesuaikan\n",
    "learning rate untuk setiap bobot, seperti ini:\n",
    "\n",
    ">𝑚 = β1 * 𝑚 + (1 − β1) * ∇𝐽(𝑤)\n",
    ">\n",
    ">𝑣 = β2 * 𝑣 + (1 − β2) * (∇𝐽(𝑤))^2\n",
    ">\n",
    ">𝑚_ℎ𝑎𝑡 = 𝑚 / (1 − β1^𝑡)\n",
    ">\n",
    ">𝑣_ℎ𝑎𝑡 = 𝑣 / (1 − β2^𝑡)\n",
    ">\n",
    ">𝑤 = 𝑤 − η * 𝑚_ℎ𝑎𝑡 / (𝑠𝑞𝑟𝑡(𝑣_ℎ𝑎𝑡) + ε)\n",
    "\n",
    "dimana m dan v adalah estimasi momentum dan varian gradien, β1 dan β2 adalah faktor\n",
    "peluruhan untuk kedua estimasi, t adalah langkah iterasi, dan ε adalah konstanta kecil\n",
    "untuk stabilitas numerik.\n",
    "\n",
    "Keuntungan:\n",
    "* Efisien dan membutuhkan sedikit memori.\n",
    "* Menyesuaikan learning rate untuk setiap parameter, yang membuatnya lebih fleksibel.\n",
    "\n",
    "Kekurangan:\n",
    "* Lebih rumit untuk dipahami dan diimplementasikan.\n",
    "* Memerlukan penyetelan parameter tambahan.\n",
    "\n",
    "Berikut adalah diagram yang menjelaskan proses kerja Neural Network, termasuk fungsi\n",
    "aktivasi, fungsi cost, backpropagation, dan algoritma optimasi:\n",
    "\n",
    "![](../assets/neuralnetwork2.png)\n",
    "\n",
    "Dalam diagram ini:\n",
    "1. __Input Layer (Biru):__ Layer ini menerima input data. Setiap neuron dalam layer ini mewakili satu fitur dari data.\n",
    "2. __Hidden Layer(s) (Hijau):__ Layer ini berada di antara input dan output layer. Setiap neuron dalam layer ini menerima input, mengalikan dengan bobot, menambahkan bias, dan meneruskan hasil melalui fungsi aktivasi.\n",
    "3. __Output Layer (Merah):__ Layer ini memberikan hasil akhir dari neural network. Setiap neuron dalam layer ini juga menerima input, mengalikan dengan bobot, menambahkan bias, dan meneruskan hasil melalui fungsi aktivasi.\n",
    "4. __Cost Function (Oranye):__ Setelah forward pass, kita menghitung error dari output dengan membandingkan output network dengan output yang diharapkan.\n",
    "5. __Backpropagation (Ungu):__ Setelah kita mendapatkan error, kita mulai backward pass. Di sini, kita menghitung gradien dari error terhadap bobot dan bias di setiap layer, mulai dari output layer dan bergerak mundur ke input layer.\n",
    "6. __Optimization Algorithm (Coklat):__ Setelah kita memiliki gradien, kita dapat menggunakan mereka untuk memperbarui bobot dan bias. Ini biasanya dilakukan dengan mengurangi gradien yang dihitung dari bobot dan bias saat ini, dikalikan dengan learning rate.\n"
   ]
  },
  {
   "cell_type": "markdown",
   "id": "a0bacedd-ecfb-4ba2-b5d0-7651cd738e5b",
   "metadata": {
    "tags": []
   },
   "source": [
    "<a id=\"39\"></a>\n",
    "# Bab 3. Deep Learning Models: Konsep dan Penerapan\n",
    "---"
   ]
  },
  {
   "cell_type": "markdown",
   "id": "f533076e-8079-488b-90d4-9d96c651a547",
   "metadata": {},
   "source": [
    "<a id=\"39\"></a>\n",
    "## 3.1 Multilayer Perceptron (MLP)\n",
    "<a id=\"40\"></a>\n",
    "### 3.1.1 Konsep MLP\n",
    "\n",
    "Multilayer Perceptron (MLP) adalah salah satu model Deep Learning paling fundamental.\n",
    "Sebagaimana namanya, MLP terdiri dari banyak layer neuron atau perceptron. MLP\n",
    "biasanya memiliki tiga jenis layer: input layer, hidden layer, dan output layer.\n",
    "\n",
    "__Struktur MLP__\n",
    "\n",
    "* Input Layer: Layer ini terdiri dari neuron yang merepresentasikan setiap fitur dalam data. Misalnya, jika kamu memiliki data gambar 28x28 pixel, maka input layer akan memiliki 784 neuron.\n",
    "\n",
    "* Hidden Layer: Hidden layer berisi sejumlah neuron yang memproses informasi dari input layer. MLP bisa memiliki lebih dari satu hidden layer, inilah yang membuatnya menjadi \"Deep\" Neural Network.\n",
    "\n",
    "* Output Layer: Layer ini berisi neuron yang merepresentasikan kelas atau nilai output dari masalah kita.\n",
    "\n",
    "Setiap neuron dalam MLP dihubungkan dengan semua neuron di layer sebelum dan\n",
    "sesudahnya. Bobot dan bias dikaitkan dengan setiap koneksi ini, dan ini yang diadjust\n",
    "selama proses training.\n",
    "\n",
    "__Fungsi Aktivasi dalam MLP__\n",
    "\n",
    "MLP biasanya menggunakan fungsi aktivasi non-linear di neuronnya. Ini memungkinkan\n",
    "MLP untuk memodelkan hubungan kompleks dan non-linear antara fitur. Fungsi aktivasi\n",
    "yang paling umum digunakan adalah ReLU, tetapi yang lain seperti sigmoid atau tanh juga\n",
    "dapat digunakan.\n",
    "\n",
    "__Proses Training MLP__\n",
    "\n",
    "MLP dilatih menggunakan metode yang disebut backpropagation dan algoritma optimasi\n",
    "seperti Stochastic Gradient Descent (SGD) atau Adam. Proses training mencakup forward\n",
    "pass di mana prediksi dibuat berdasarkan input saat ini, dan backward pass di mana error\n",
    "dihitung dan bobot dan bias diperbarui. Berikut adalah diagram yang menjelaskan struktur dan proses kerja Multilayer Perceptron\n",
    "(MLP):\n",
    "\n",
    "![](../assets/mlp.png)\n",
    "\n",
    "* Input Layer (Biru): Layer ini menerima input data. Setiap neuron dalam layer ini mewakili satu fitur dari data.\n",
    "* Hidden Layer(s) (Hijau): Layer ini berada di antara input dan output layer. Setiap neuron dalam layer ini menerima input, mengalikan dengan bobot, menambahkan bias, dan meneruskan hasil melalui fungsi aktivasi.\n",
    "* Output Layer (Merah): Layer ini memberikan hasil akhir dari MLP. Setiap neuron dalam layer ini juga menerima input, mengalikan dengan bobot, menambahkan bias, dan meneruskan hasil melalui fungsi aktivasi."
   ]
  },
  {
   "cell_type": "markdown",
   "id": "62d7b718-e371-4137-bf75-a4c6c1050f65",
   "metadata": {},
   "source": [
    "<a id=\"41\"></a>\n",
    "## 3.1.2 Penerapan MLP: Code Snippet dan Studi Kasus\n",
    "\n",
    "Misalnya, kita ingin membuat MLP menggunakan library keras dari TensorFlow untuk\n",
    "mengklasifikasi digit dari dataset MNIST. Berikut adalah kode yang kita perlukan:"
   ]
  },
  {
   "cell_type": "code",
   "execution_count": 1,
   "id": "46b7e979-0432-4a7e-ac29-0ff629b3c536",
   "metadata": {
    "tags": []
   },
   "outputs": [
    {
     "name": "stderr",
     "output_type": "stream",
     "text": [
      "2025-03-24 04:50:50.705344: E external/local_xla/xla/stream_executor/cuda/cuda_dnn.cc:9261] Unable to register cuDNN factory: Attempting to register factory for plugin cuDNN when one has already been registered\n",
      "2025-03-24 04:50:50.705400: E external/local_xla/xla/stream_executor/cuda/cuda_fft.cc:607] Unable to register cuFFT factory: Attempting to register factory for plugin cuFFT when one has already been registered\n",
      "2025-03-24 04:50:50.707030: E external/local_xla/xla/stream_executor/cuda/cuda_blas.cc:1515] Unable to register cuBLAS factory: Attempting to register factory for plugin cuBLAS when one has already been registered\n",
      "2025-03-24 04:50:50.715700: I tensorflow/core/platform/cpu_feature_guard.cc:182] This TensorFlow binary is optimized to use available CPU instructions in performance-critical operations.\n",
      "To enable the following instructions: AVX2 FMA, in other operations, rebuild TensorFlow with the appropriate compiler flags.\n",
      "2025-03-24 04:50:51.599884: W tensorflow/compiler/tf2tensorrt/utils/py_utils.cc:38] TF-TRT Warning: Could not find TensorRT\n",
      "2025-03-24 04:50:52.550150: E external/local_xla/xla/stream_executor/cuda/cuda_driver.cc:274] failed call to cuInit: CUDA_ERROR_NO_DEVICE: no CUDA-capable device is detected\n"
     ]
    },
    {
     "data": {
      "text/plain": [
       "[PhysicalDevice(name='/physical_device:CPU:0', device_type='CPU')]"
      ]
     },
     "execution_count": 1,
     "metadata": {},
     "output_type": "execute_result"
    }
   ],
   "source": [
    "import tensorflow as tf\n",
    "tf.config.experimental.list_physical_devices()"
   ]
  },
  {
   "cell_type": "code",
   "execution_count": 2,
   "id": "29773109-f7fe-4224-b5b4-0127b4845bb0",
   "metadata": {
    "tags": []
   },
   "outputs": [
    {
     "data": {
      "image/png": "[encoded data removed]",
      "text/plain": [
       "<Figure size 1000x300 with 5 Axes>"
      ]
     },
     "metadata": {},
     "output_type": "display_data"
    }
   ],
   "source": [
    "import tensorflow as tf\n",
    "from tensorflow.keras.models import Sequential\n",
    "from tensorflow.keras.layers import Dense, Flatten\n",
    "from tensorflow.keras.datasets import mnist\n",
    "from tensorflow.keras.utils import to_categorical\n",
    "import matplotlib.pyplot as plt\n",
    "import numpy as np\n",
    "\n",
    "# Load MNIST dataset\n",
    "(x_train, y_train), (x_test, y_test) = mnist.load_data()\n",
    "\n",
    "# Display some sample images\n",
    "fig, axes = plt.subplots(1, 5, figsize=(10, 3))\n",
    "for i in range(5):\n",
    "    axes[i].imshow(x_train[i], cmap='gray')\n",
    "    axes[i].axis('off')\n",
    "plt.suptitle(\"Sample MNIST Images\")\n",
    "plt.show()"
   ]
  },
  {
   "cell_type": "code",
   "execution_count": 3,
   "id": "946e42cb-96b6-4104-b71b-5aa3406dd253",
   "metadata": {
    "tags": []
   },
   "outputs": [
    {
     "name": "stdout",
     "output_type": "stream",
     "text": [
      "Epoch 1/10\n",
      "1875/1875 [==============================] - 6s 3ms/step - loss: 0.2361 - accuracy: 0.9303 - val_loss: 0.1204 - val_accuracy: 0.9628\n",
      "Epoch 2/10\n",
      "1875/1875 [==============================] - 5s 3ms/step - loss: 0.1032 - accuracy: 0.9688 - val_loss: 0.0904 - val_accuracy: 0.9740\n",
      "Epoch 3/10\n",
      "1875/1875 [==============================] - 5s 2ms/step - loss: 0.0724 - accuracy: 0.9770 - val_loss: 0.0822 - val_accuracy: 0.9745\n",
      "Epoch 4/10\n",
      "1875/1875 [==============================] - 5s 3ms/step - loss: 0.0553 - accuracy: 0.9825 - val_loss: 0.0726 - val_accuracy: 0.9795\n",
      "Epoch 5/10\n",
      "1875/1875 [==============================] - 5s 3ms/step - loss: 0.0427 - accuracy: 0.9864 - val_loss: 0.0738 - val_accuracy: 0.9773\n",
      "Epoch 6/10\n",
      "1875/1875 [==============================] - 5s 3ms/step - loss: 0.0363 - accuracy: 0.9883 - val_loss: 0.0816 - val_accuracy: 0.9787\n",
      "Epoch 7/10\n",
      "1875/1875 [==============================] - 5s 3ms/step - loss: 0.0288 - accuracy: 0.9906 - val_loss: 0.0857 - val_accuracy: 0.9777\n",
      "Epoch 8/10\n",
      "1875/1875 [==============================] - 5s 3ms/step - loss: 0.0252 - accuracy: 0.9916 - val_loss: 0.0914 - val_accuracy: 0.9745\n",
      "Epoch 9/10\n",
      "1875/1875 [==============================] - 5s 2ms/step - loss: 0.0221 - accuracy: 0.9925 - val_loss: 0.0796 - val_accuracy: 0.9799\n",
      "Epoch 10/10\n",
      "1875/1875 [==============================] - 5s 3ms/step - loss: 0.0191 - accuracy: 0.9938 - val_loss: 0.1015 - val_accuracy: 0.9734\n"
     ]
    }
   ],
   "source": [
    "# Preprocess data\n",
    "x_train = x_train.reshape(-1, 784).astype('float32') / 255\n",
    "x_test = x_test.reshape(-1, 784).astype('float32') / 255\n",
    "y_train = to_categorical(y_train)\n",
    "y_test = to_categorical(y_test)\n",
    "\n",
    "# Create model\n",
    "model = Sequential([\n",
    "    Dense(128, activation='relu', input_dim=784),\n",
    "    Dense(64, activation='relu'),\n",
    "    Dense(10, activation='softmax'),\n",
    "])\n",
    "\n",
    "# Compile model\n",
    "model.compile(optimizer='adam', loss='categorical_crossentropy', metrics=['accuracy'])\n",
    "\n",
    "# Train model with history tracking\n",
    "history = model.fit(x_train, y_train, epochs=10, batch_size=32, validation_data=(x_test, y_test))"
   ]
  },
  {
   "cell_type": "code",
   "execution_count": 4,
   "id": "1f14df02-ee20-4951-a788-a4d564f3d605",
   "metadata": {
    "tags": []
   },
   "outputs": [
    {
     "data": {
      "image/png": "[encoded data removed]",
      "text/plain": [
       "<Figure size 1200x400 with 2 Axes>"
      ]
     },
     "metadata": {},
     "output_type": "display_data"
    },
    {
     "name": "stdout",
     "output_type": "stream",
     "text": [
      "313/313 [==============================] - 0s 987us/step - loss: 0.1015 - accuracy: 0.9734\n",
      "Test Accuracy: 97.34%\n"
     ]
    }
   ],
   "source": [
    "# Plot training history\n",
    "plt.figure(figsize=(12, 4))\n",
    "plt.subplot(1, 2, 1)\n",
    "plt.plot(history.history['loss'], label='Training Loss')\n",
    "plt.plot(history.history['val_loss'], label='Validation Loss')\n",
    "plt.xlabel('Epoch')\n",
    "plt.ylabel('Loss')\n",
    "plt.legend()\n",
    "plt.title('Loss Over Time')\n",
    "\n",
    "plt.subplot(1, 2, 2)\n",
    "plt.plot(history.history['accuracy'], label='Training Accuracy')\n",
    "plt.plot(history.history['val_accuracy'], label='Validation Accuracy')\n",
    "plt.xlabel('Epoch')\n",
    "plt.ylabel('Accuracy')\n",
    "plt.legend()\n",
    "plt.title('Accuracy Over Time')\n",
    "plt.show()\n",
    "\n",
    "# Evaluate model\n",
    "loss, accuracy = model.evaluate(x_test, y_test)\n",
    "print(f\"Test Accuracy: {accuracy * 100:.2f}%\")"
   ]
  },
  {
   "cell_type": "code",
   "execution_count": 5,
   "id": "c3ce3a2b-93cb-4f43-9713-dbc9dc86640f",
   "metadata": {
    "tags": []
   },
   "outputs": [
    {
     "name": "stdout",
     "output_type": "stream",
     "text": [
      "1/1 [==============================] - 0s 66ms/step\n"
     ]
    },
    {
     "data": {
      "image/png": "[encoded data removed]",
      "text/plain": [
       "<Figure size 1000x300 with 5 Axes>"
      ]
     },
     "metadata": {},
     "output_type": "display_data"
    }
   ],
   "source": [
    "# Predict on test set and visualize some results\n",
    "predictions = np.argmax(model.predict(x_test[:5]), axis=1)\n",
    "y_true = np.argmax(y_test[:5], axis=1)\n",
    "\n",
    "fig, axes = plt.subplots(1, 5, figsize=(10, 3))\n",
    "for i in range(5):\n",
    "    axes[i].imshow(x_test[i].reshape(28, 28), cmap='gray')\n",
    "    axes[i].set_title(f\"Pred: {predictions[i]}\\nTrue: {y_true[i]}\")\n",
    "    axes[i].axis('off')\n",
    "plt.suptitle(\"Predictions vs True Labels\")\n",
    "plt.show()"
   ]
  },
  {
   "cell_type": "markdown",
   "id": "79cba204-7ad8-46ca-9f78-f2a81da30424",
   "metadata": {},
   "source": [
    "Dalam contoh ini, kita melatih MLP dengan dua hidden layer, masing-masing dengan 64\n",
    "neuron, untuk mengklasifikasi gambar digit dari dataset MNIST. MLP berhasil mencapai\n",
    "akurasi sekitar 97%, menunjukkan bahwa meski sederhana, MLP mampu menangani\n",
    "masalah klasifikasi gambar dengan cukup baik.\n",
    "\n",
    "__Tips dan Trik__\n",
    "1. __Inisialisasi Bobot:__ Menginisialisasi bobot dengan nilai yang baik penting. Beberapa metode yang dapat digunakan termasuk inisialisasi normal, Xavier, dan He.\n",
    "2. __Fungsi Aktivasi:__ Fungsi aktivasi ReLU sering digunakan di lapisan tersembunyi karena dapat mengatasi masalah vanishing gradient. Sigmoid atau softmax biasanya digunakan di lapisan output, tergantung pada tugas yang dihadapi (klasifikasi biner atau multi-kelas).\n",
    "3. __Pengoptimal:__ Ada banyak pengoptimal yang dapat digunakan, tetapi Adam adalah salah satu yang paling umum karena konvergensinya yang cepat dan efisien.\n",
    "4. __Overfitting dan Underfitting:__ Jika model terlalu kompleks, itu bisa overfitting ke data latihan dan memiliki kinerja buruk pada data test. Jika model terlalu sederhana, itu bisa underfitting dan memiliki kinerja buruk pada kedua data latihan dan test. Strategi seperti menambah atau mengurangi jumlah neuron atau lapisan, menambah dropout, dan menambah regularisasi dapat membantu mengatasi masalah ini.\n",
    "5. __Pelatihan dan Evaluasi Model:__ Memastikan bahwa model dilatih dengan jumlah epoch yang cukup penting. Juga, selalu evaluasi model dengan data validasi dan test untuk memastikan bahwa model dapat memgeneralisasi dengan baik untuk data yang belum pernah dilihat sebelumnya."
   ]
  },
  {
   "cell_type": "markdown",
   "id": "089c5c21-15d2-442c-8bde-17f69d3ef474",
   "metadata": {},
   "source": [
    "<a id=\"42\"></a>\n",
    "## 3.2 Convolutional Neural Network (CNN)\n",
    "<a id=\"43\"></a>\n",
    "### 3.2.1 Konsep CNN\n",
    "\n",
    "Convolutional Neural Network (CNN) adalah jenis khusus dari neural networks yang\n",
    "dirancang khusus untuk memproses data dengan struktur grid seperti gambar. CNN telah\n",
    "sukses besar dalam berbagai aplikasi pengenalan gambar dan video.\n",
    "\n",
    "__Struktur CNN__\n",
    "1. __Convolutional Layer:__ Layer konvolusi adalah elemen inti dari CNN. Dalam layer ini, beberapa filter digunakan untuk melakukan operasi konvolusi pada input. Hasil dari operasi ini disebut feature map atau activation map.\n",
    "2. __Pooling Layer:__ Pooling layer bertujuan untuk mengurangi dimensionalitas data. Ada berbagai teknik pooling, termasuk max pooling, average pooling, dan sum pooling.\n",
    "3. __Fully Connected Layer:__ Fully connected layer menghubungkan setiap neuron di layer sebelumnya ke setiap neuron di layer berikutnya, mirip dengan apa yang kita lihat di MLP. Biasanya, fully connected layer ditempatkan di akhir arsitektur CNN, dan bertugas untuk menghasilkan prediksi akhir model.\n",
    "\n",
    "__Fungsi Aktivasi dalam CNN__\n",
    "\n",
    "ReLU (Rectified Linear Unit) adalah fungsi aktivasi yang paling sering digunakan dalam\n",
    "CNN. Fungsi ini mampu mempercepat konvergensi jaringan neural dibandingkan dengan\n",
    "sigmoid atau tanh.\n",
    "\n",
    "__Proses Training CNN__\n",
    "\n",
    "Proses pelatihan CNN serupa dengan MLP. Kami menggunakan metode seperti\n",
    "backpropagation dan algoritma optimasi seperti Adam atau SGD untuk melatih model kami.\n",
    "Kita menghitung error dengan fungsi kerugian seperti cross-entropy, dan mengupdate\n",
    "bobot dan bias berdasarkan gradien dari error tersebut.\n",
    "\n",
    "Berikut adalah diagram yang menjelaskan struktur dan proses kerja Convolutional Neural\n",
    "Network (CNN):\n",
    "\n",
    "![](../assets/CNN.png)\n",
    "\n",
    "1. __Input Layer (Biru):__ Layer ini menerima input data berupa gambar.\n",
    "2. __Convolutional Layer (Hijau):__ Layer ini melakukan operasi konvolusi pada input menggunakan beberapa filter, menghasilkan feature maps.\n",
    "3. __Pooling Layer (Kuning):__ Layer ini melakukan operasi pooling pada feature maps untuk mengurangi dimensionalitas data.\n",
    "4. __Fully Connected Layer (Merah):__ Layer ini menghubungkan setiap neuron di layer sebelumnya ke setiap neuron di layer berikutnya, mirip dengan apa yang kita lihat di MLP.\n",
    "5. __Output Layer (Ungu):__ Layer ini memberikan hasil akhir atau prediksi dari CNN."
   ]
  },
  {
   "cell_type": "markdown",
   "id": "b290ab60-fe28-4f68-8cb5-dba4d890574c",
   "metadata": {},
   "source": [
    "<a id=\"44\"></a>\n",
    "### 3.2.2 Penerapan CNN: Code Snippet dan Studi Kasus"
   ]
  },
  {
   "cell_type": "code",
   "execution_count": 6,
   "id": "09f94ed3-cea7-4994-9fb5-bde6ed779e44",
   "metadata": {
    "tags": []
   },
   "outputs": [
    {
     "data": {
      "text/plain": [
       "{'status': 'ok', 'restart': True}"
      ]
     },
     "execution_count": 6,
     "metadata": {},
     "output_type": "execute_result"
    }
   ],
   "source": [
    "# restart kernel\n",
    "import ipykernel\n",
    "get_ipython().kernel.do_shutdown(True)"
   ]
  },
  {
   "cell_type": "markdown",
   "id": "954155e8-1460-4521-bf27-642b9188b8bd",
   "metadata": {},
   "source": [
    "<a id=\"45\"></a>\n",
    "#### Klasifikasi Gambar DIGITS dengan CNN"
   ]
  },
  {
   "cell_type": "markdown",
   "id": "a33bc4a9-a54d-4fa5-aafd-1d8be26af3b0",
   "metadata": {},
   "source": [
    "#### 1. Pendahuluan\n",
    "\n",
    "Convolutional Neural Network (CNN) adalah jenis jaringan saraf tiruan yang banyak digunakan dalam pemrosesan citra. Pada proyek ini, kita akan menggunakan CNN untuk melakukan klasifikasi angka tulisan tangan (digit recognition) menggunakan dataset yang tersedia dalam format CSV.\n",
    "\n",
    "Dataset yang digunakan adalah dataset digit yang terdiri dari gambar angka berukuran 28x28 piksel dalam bentuk nilai piksel (grayscale) yang telah diratakan ke dalam satu baris. Setiap gambar memiliki label yang menunjukkan angka dari 0 hingga 9."
   ]
  },
  {
   "cell_type": "markdown",
   "id": "d821fe39-2a29-4ef9-ad71-9c38b696fd3b",
   "metadata": {},
   "source": [
    "#### 2. Import Library\n",
    "\n",
    "Kita akan mengimpor berbagai pustaka yang dibutuhkan untuk pemrosesan data, pembuatan model CNN, serta evaluasi model."
   ]
  },
  {
   "cell_type": "code",
   "execution_count": 3,
   "id": "12c39017-7213-4e24-a23e-6c3ac3225395",
   "metadata": {},
   "outputs": [
    {
     "name": "stderr",
     "output_type": "stream",
     "text": [
      "2025-03-24 07:18:41.744901: E external/local_xla/xla/stream_executor/cuda/cuda_dnn.cc:9261] Unable to register cuDNN factory: Attempting to register factory for plugin cuDNN when one has already been registered\n",
      "2025-03-24 07:18:41.744955: E external/local_xla/xla/stream_executor/cuda/cuda_fft.cc:607] Unable to register cuFFT factory: Attempting to register factory for plugin cuFFT when one has already been registered\n",
      "2025-03-24 07:18:41.746579: E external/local_xla/xla/stream_executor/cuda/cuda_blas.cc:1515] Unable to register cuBLAS factory: Attempting to register factory for plugin cuBLAS when one has already been registered\n",
      "2025-03-24 07:18:41.755279: I tensorflow/core/platform/cpu_feature_guard.cc:182] This TensorFlow binary is optimized to use available CPU instructions in performance-critical operations.\n",
      "To enable the following instructions: AVX2 FMA, in other operations, rebuild TensorFlow with the appropriate compiler flags.\n",
      "2025-03-24 07:18:42.668929: W tensorflow/compiler/tf2tensorrt/utils/py_utils.cc:38] TF-TRT Warning: Could not find TensorRT\n"
     ]
    }
   ],
   "source": [
    "import numpy as np # linear algebra\n",
    "import pandas as pd # data processing, CSV file I/O (e.g. pd.read_csv)\n",
    "import matplotlib.pyplot as plt\n",
    "from sklearn.model_selection import train_test_split\n",
    "from keras.models import Sequential, load_model\n",
    "from keras.callbacks import EarlyStopping, ModelCheckpoint\n",
    "from keras import layers\n",
    "from keras import utils\n",
    "from tqdm import tqdm"
   ]
  },
  {
   "cell_type": "markdown",
   "id": "61fafa38-44b2-4961-843b-3e259f38f16b",
   "metadata": {},
   "source": [
    "#### 3. Load Dataset\n",
    "\n",
    "Dataset pelatihan dimuat menggunakan Pandas."
   ]
  },
  {
   "cell_type": "code",
   "execution_count": 4,
   "id": "b0951366-629a-42dd-9cba-df6f209f5db1",
   "metadata": {},
   "outputs": [
    {
     "data": {
      "text/html": [
       "<div>\n",
       "<style scoped>\n",
       "    .dataframe tbody tr th:only-of-type {\n",
       "        vertical-align: middle;\n",
       "    }\n",
       "\n",
       "    .dataframe tbody tr th {\n",
       "        vertical-align: top;\n",
       "    }\n",
       "\n",
       "    .dataframe thead th {\n",
       "        text-align: right;\n",
       "    }\n",
       "</style>\n",
       "<table border=\"1\" class=\"dataframe\">\n",
       "  <thead>\n",
       "    <tr style=\"text-align: right;\">\n",
       "      <th></th>\n",
       "      <th>label</th>\n",
       "      <th>pixel0</th>\n",
       "      <th>pixel1</th>\n",
       "      <th>pixel2</th>\n",
       "      <th>pixel3</th>\n",
       "      <th>pixel4</th>\n",
       "      <th>pixel5</th>\n",
       "      <th>pixel6</th>\n",
       "      <th>pixel7</th>\n",
       "      <th>pixel8</th>\n",
       "      <th>...</th>\n",
       "      <th>pixel774</th>\n",
       "      <th>pixel775</th>\n",
       "      <th>pixel776</th>\n",
       "      <th>pixel777</th>\n",
       "      <th>pixel778</th>\n",
       "      <th>pixel779</th>\n",
       "      <th>pixel780</th>\n",
       "      <th>pixel781</th>\n",
       "      <th>pixel782</th>\n",
       "      <th>pixel783</th>\n",
       "    </tr>\n",
       "  </thead>\n",
       "  <tbody>\n",
       "    <tr>\n",
       "      <th>0</th>\n",
       "      <td>1</td>\n",
       "      <td>0</td>\n",
       "      <td>0</td>\n",
       "      <td>0</td>\n",
       "      <td>0</td>\n",
       "      <td>0</td>\n",
       "      <td>0</td>\n",
       "      <td>0</td>\n",
       "      <td>0</td>\n",
       "      <td>0</td>\n",
       "      <td>...</td>\n",
       "      <td>0</td>\n",
       "      <td>0</td>\n",
       "      <td>0</td>\n",
       "      <td>0</td>\n",
       "      <td>0</td>\n",
       "      <td>0</td>\n",
       "      <td>0</td>\n",
       "      <td>0</td>\n",
       "      <td>0</td>\n",
       "      <td>0</td>\n",
       "    </tr>\n",
       "    <tr>\n",
       "      <th>1</th>\n",
       "      <td>0</td>\n",
       "      <td>0</td>\n",
       "      <td>0</td>\n",
       "      <td>0</td>\n",
       "      <td>0</td>\n",
       "      <td>0</td>\n",
       "      <td>0</td>\n",
       "      <td>0</td>\n",
       "      <td>0</td>\n",
       "      <td>0</td>\n",
       "      <td>...</td>\n",
       "      <td>0</td>\n",
       "      <td>0</td>\n",
       "      <td>0</td>\n",
       "      <td>0</td>\n",
       "      <td>0</td>\n",
       "      <td>0</td>\n",
       "      <td>0</td>\n",
       "      <td>0</td>\n",
       "      <td>0</td>\n",
       "      <td>0</td>\n",
       "    </tr>\n",
       "    <tr>\n",
       "      <th>2</th>\n",
       "      <td>1</td>\n",
       "      <td>0</td>\n",
       "      <td>0</td>\n",
       "      <td>0</td>\n",
       "      <td>0</td>\n",
       "      <td>0</td>\n",
       "      <td>0</td>\n",
       "      <td>0</td>\n",
       "      <td>0</td>\n",
       "      <td>0</td>\n",
       "      <td>...</td>\n",
       "      <td>0</td>\n",
       "      <td>0</td>\n",
       "      <td>0</td>\n",
       "      <td>0</td>\n",
       "      <td>0</td>\n",
       "      <td>0</td>\n",
       "      <td>0</td>\n",
       "      <td>0</td>\n",
       "      <td>0</td>\n",
       "      <td>0</td>\n",
       "    </tr>\n",
       "    <tr>\n",
       "      <th>3</th>\n",
       "      <td>4</td>\n",
       "      <td>0</td>\n",
       "      <td>0</td>\n",
       "      <td>0</td>\n",
       "      <td>0</td>\n",
       "      <td>0</td>\n",
       "      <td>0</td>\n",
       "      <td>0</td>\n",
       "      <td>0</td>\n",
       "      <td>0</td>\n",
       "      <td>...</td>\n",
       "      <td>0</td>\n",
       "      <td>0</td>\n",
       "      <td>0</td>\n",
       "      <td>0</td>\n",
       "      <td>0</td>\n",
       "      <td>0</td>\n",
       "      <td>0</td>\n",
       "      <td>0</td>\n",
       "      <td>0</td>\n",
       "      <td>0</td>\n",
       "    </tr>\n",
       "    <tr>\n",
       "      <th>4</th>\n",
       "      <td>0</td>\n",
       "      <td>0</td>\n",
       "      <td>0</td>\n",
       "      <td>0</td>\n",
       "      <td>0</td>\n",
       "      <td>0</td>\n",
       "      <td>0</td>\n",
       "      <td>0</td>\n",
       "      <td>0</td>\n",
       "      <td>0</td>\n",
       "      <td>...</td>\n",
       "      <td>0</td>\n",
       "      <td>0</td>\n",
       "      <td>0</td>\n",
       "      <td>0</td>\n",
       "      <td>0</td>\n",
       "      <td>0</td>\n",
       "      <td>0</td>\n",
       "      <td>0</td>\n",
       "      <td>0</td>\n",
       "      <td>0</td>\n",
       "    </tr>\n",
       "  </tbody>\n",
       "</table>\n",
       "<p>5 rows × 785 columns</p>\n",
       "</div>"
      ],
      "text/plain": [
       "   label  pixel0  pixel1  pixel2  pixel3  pixel4  pixel5  pixel6  pixel7  \\\n",
       "0      1       0       0       0       0       0       0       0       0   \n",
       "1      0       0       0       0       0       0       0       0       0   \n",
       "2      1       0       0       0       0       0       0       0       0   \n",
       "3      4       0       0       0       0       0       0       0       0   \n",
       "4      0       0       0       0       0       0       0       0       0   \n",
       "\n",
       "   pixel8  ...  pixel774  pixel775  pixel776  pixel777  pixel778  pixel779  \\\n",
       "0       0  ...         0         0         0         0         0         0   \n",
       "1       0  ...         0         0         0         0         0         0   \n",
       "2       0  ...         0         0         0         0         0         0   \n",
       "3       0  ...         0         0         0         0         0         0   \n",
       "4       0  ...         0         0         0         0         0         0   \n",
       "\n",
       "   pixel780  pixel781  pixel782  pixel783  \n",
       "0         0         0         0         0  \n",
       "1         0         0         0         0  \n",
       "2         0         0         0         0  \n",
       "3         0         0         0         0  \n",
       "4         0         0         0         0  \n",
       "\n",
       "[5 rows x 785 columns]"
      ]
     },
     "execution_count": 4,
     "metadata": {},
     "output_type": "execute_result"
    }
   ],
   "source": [
    "train_df = pd.read_csv('train.csv')\n",
    "train_df.head()"
   ]
  },
  {
   "cell_type": "markdown",
   "id": "55589dc9-3276-43ca-9452-13a84c8b724e",
   "metadata": {},
   "source": [
    "Melihat ukuran dataset:"
   ]
  },
  {
   "cell_type": "code",
   "execution_count": 5,
   "id": "46fd0fda-7564-4e0f-9388-b5efa6d6e265",
   "metadata": {},
   "outputs": [
    {
     "data": {
      "text/html": [
       "<div>\n",
       "<style scoped>\n",
       "    .dataframe tbody tr th:only-of-type {\n",
       "        vertical-align: middle;\n",
       "    }\n",
       "\n",
       "    .dataframe tbody tr th {\n",
       "        vertical-align: top;\n",
       "    }\n",
       "\n",
       "    .dataframe thead th {\n",
       "        text-align: right;\n",
       "    }\n",
       "</style>\n",
       "<table border=\"1\" class=\"dataframe\">\n",
       "  <thead>\n",
       "    <tr style=\"text-align: right;\">\n",
       "      <th></th>\n",
       "      <th>label</th>\n",
       "      <th>pixel0</th>\n",
       "      <th>pixel1</th>\n",
       "      <th>pixel2</th>\n",
       "      <th>pixel3</th>\n",
       "      <th>pixel4</th>\n",
       "      <th>pixel5</th>\n",
       "      <th>pixel6</th>\n",
       "      <th>pixel7</th>\n",
       "      <th>pixel8</th>\n",
       "      <th>...</th>\n",
       "      <th>pixel774</th>\n",
       "      <th>pixel775</th>\n",
       "      <th>pixel776</th>\n",
       "      <th>pixel777</th>\n",
       "      <th>pixel778</th>\n",
       "      <th>pixel779</th>\n",
       "      <th>pixel780</th>\n",
       "      <th>pixel781</th>\n",
       "      <th>pixel782</th>\n",
       "      <th>pixel783</th>\n",
       "    </tr>\n",
       "  </thead>\n",
       "  <tbody>\n",
       "    <tr>\n",
       "      <th>count</th>\n",
       "      <td>42000.000000</td>\n",
       "      <td>42000.0</td>\n",
       "      <td>42000.0</td>\n",
       "      <td>42000.0</td>\n",
       "      <td>42000.0</td>\n",
       "      <td>42000.0</td>\n",
       "      <td>42000.0</td>\n",
       "      <td>42000.0</td>\n",
       "      <td>42000.0</td>\n",
       "      <td>42000.0</td>\n",
       "      <td>...</td>\n",
       "      <td>42000.000000</td>\n",
       "      <td>42000.000000</td>\n",
       "      <td>42000.000000</td>\n",
       "      <td>42000.00000</td>\n",
       "      <td>42000.000000</td>\n",
       "      <td>42000.000000</td>\n",
       "      <td>42000.0</td>\n",
       "      <td>42000.0</td>\n",
       "      <td>42000.0</td>\n",
       "      <td>42000.0</td>\n",
       "    </tr>\n",
       "    <tr>\n",
       "      <th>mean</th>\n",
       "      <td>4.456643</td>\n",
       "      <td>0.0</td>\n",
       "      <td>0.0</td>\n",
       "      <td>0.0</td>\n",
       "      <td>0.0</td>\n",
       "      <td>0.0</td>\n",
       "      <td>0.0</td>\n",
       "      <td>0.0</td>\n",
       "      <td>0.0</td>\n",
       "      <td>0.0</td>\n",
       "      <td>...</td>\n",
       "      <td>0.219286</td>\n",
       "      <td>0.117095</td>\n",
       "      <td>0.059024</td>\n",
       "      <td>0.02019</td>\n",
       "      <td>0.017238</td>\n",
       "      <td>0.002857</td>\n",
       "      <td>0.0</td>\n",
       "      <td>0.0</td>\n",
       "      <td>0.0</td>\n",
       "      <td>0.0</td>\n",
       "    </tr>\n",
       "    <tr>\n",
       "      <th>std</th>\n",
       "      <td>2.887730</td>\n",
       "      <td>0.0</td>\n",
       "      <td>0.0</td>\n",
       "      <td>0.0</td>\n",
       "      <td>0.0</td>\n",
       "      <td>0.0</td>\n",
       "      <td>0.0</td>\n",
       "      <td>0.0</td>\n",
       "      <td>0.0</td>\n",
       "      <td>0.0</td>\n",
       "      <td>...</td>\n",
       "      <td>6.312890</td>\n",
       "      <td>4.633819</td>\n",
       "      <td>3.274488</td>\n",
       "      <td>1.75987</td>\n",
       "      <td>1.894498</td>\n",
       "      <td>0.414264</td>\n",
       "      <td>0.0</td>\n",
       "      <td>0.0</td>\n",
       "      <td>0.0</td>\n",
       "      <td>0.0</td>\n",
       "    </tr>\n",
       "    <tr>\n",
       "      <th>min</th>\n",
       "      <td>0.000000</td>\n",
       "      <td>0.0</td>\n",
       "      <td>0.0</td>\n",
       "      <td>0.0</td>\n",
       "      <td>0.0</td>\n",
       "      <td>0.0</td>\n",
       "      <td>0.0</td>\n",
       "      <td>0.0</td>\n",
       "      <td>0.0</td>\n",
       "      <td>0.0</td>\n",
       "      <td>...</td>\n",
       "      <td>0.000000</td>\n",
       "      <td>0.000000</td>\n",
       "      <td>0.000000</td>\n",
       "      <td>0.00000</td>\n",
       "      <td>0.000000</td>\n",
       "      <td>0.000000</td>\n",
       "      <td>0.0</td>\n",
       "      <td>0.0</td>\n",
       "      <td>0.0</td>\n",
       "      <td>0.0</td>\n",
       "    </tr>\n",
       "    <tr>\n",
       "      <th>25%</th>\n",
       "      <td>2.000000</td>\n",
       "      <td>0.0</td>\n",
       "      <td>0.0</td>\n",
       "      <td>0.0</td>\n",
       "      <td>0.0</td>\n",
       "      <td>0.0</td>\n",
       "      <td>0.0</td>\n",
       "      <td>0.0</td>\n",
       "      <td>0.0</td>\n",
       "      <td>0.0</td>\n",
       "      <td>...</td>\n",
       "      <td>0.000000</td>\n",
       "      <td>0.000000</td>\n",
       "      <td>0.000000</td>\n",
       "      <td>0.00000</td>\n",
       "      <td>0.000000</td>\n",
       "      <td>0.000000</td>\n",
       "      <td>0.0</td>\n",
       "      <td>0.0</td>\n",
       "      <td>0.0</td>\n",
       "      <td>0.0</td>\n",
       "    </tr>\n",
       "    <tr>\n",
       "      <th>50%</th>\n",
       "      <td>4.000000</td>\n",
       "      <td>0.0</td>\n",
       "      <td>0.0</td>\n",
       "      <td>0.0</td>\n",
       "      <td>0.0</td>\n",
       "      <td>0.0</td>\n",
       "      <td>0.0</td>\n",
       "      <td>0.0</td>\n",
       "      <td>0.0</td>\n",
       "      <td>0.0</td>\n",
       "      <td>...</td>\n",
       "      <td>0.000000</td>\n",
       "      <td>0.000000</td>\n",
       "      <td>0.000000</td>\n",
       "      <td>0.00000</td>\n",
       "      <td>0.000000</td>\n",
       "      <td>0.000000</td>\n",
       "      <td>0.0</td>\n",
       "      <td>0.0</td>\n",
       "      <td>0.0</td>\n",
       "      <td>0.0</td>\n",
       "    </tr>\n",
       "    <tr>\n",
       "      <th>75%</th>\n",
       "      <td>7.000000</td>\n",
       "      <td>0.0</td>\n",
       "      <td>0.0</td>\n",
       "      <td>0.0</td>\n",
       "      <td>0.0</td>\n",
       "      <td>0.0</td>\n",
       "      <td>0.0</td>\n",
       "      <td>0.0</td>\n",
       "      <td>0.0</td>\n",
       "      <td>0.0</td>\n",
       "      <td>...</td>\n",
       "      <td>0.000000</td>\n",
       "      <td>0.000000</td>\n",
       "      <td>0.000000</td>\n",
       "      <td>0.00000</td>\n",
       "      <td>0.000000</td>\n",
       "      <td>0.000000</td>\n",
       "      <td>0.0</td>\n",
       "      <td>0.0</td>\n",
       "      <td>0.0</td>\n",
       "      <td>0.0</td>\n",
       "    </tr>\n",
       "    <tr>\n",
       "      <th>max</th>\n",
       "      <td>9.000000</td>\n",
       "      <td>0.0</td>\n",
       "      <td>0.0</td>\n",
       "      <td>0.0</td>\n",
       "      <td>0.0</td>\n",
       "      <td>0.0</td>\n",
       "      <td>0.0</td>\n",
       "      <td>0.0</td>\n",
       "      <td>0.0</td>\n",
       "      <td>0.0</td>\n",
       "      <td>...</td>\n",
       "      <td>254.000000</td>\n",
       "      <td>254.000000</td>\n",
       "      <td>253.000000</td>\n",
       "      <td>253.00000</td>\n",
       "      <td>254.000000</td>\n",
       "      <td>62.000000</td>\n",
       "      <td>0.0</td>\n",
       "      <td>0.0</td>\n",
       "      <td>0.0</td>\n",
       "      <td>0.0</td>\n",
       "    </tr>\n",
       "  </tbody>\n",
       "</table>\n",
       "<p>8 rows × 785 columns</p>\n",
       "</div>"
      ],
      "text/plain": [
       "              label   pixel0   pixel1   pixel2   pixel3   pixel4   pixel5  \\\n",
       "count  42000.000000  42000.0  42000.0  42000.0  42000.0  42000.0  42000.0   \n",
       "mean       4.456643      0.0      0.0      0.0      0.0      0.0      0.0   \n",
       "std        2.887730      0.0      0.0      0.0      0.0      0.0      0.0   \n",
       "min        0.000000      0.0      0.0      0.0      0.0      0.0      0.0   \n",
       "25%        2.000000      0.0      0.0      0.0      0.0      0.0      0.0   \n",
       "50%        4.000000      0.0      0.0      0.0      0.0      0.0      0.0   \n",
       "75%        7.000000      0.0      0.0      0.0      0.0      0.0      0.0   \n",
       "max        9.000000      0.0      0.0      0.0      0.0      0.0      0.0   \n",
       "\n",
       "        pixel6   pixel7   pixel8  ...      pixel774      pixel775  \\\n",
       "count  42000.0  42000.0  42000.0  ...  42000.000000  42000.000000   \n",
       "mean       0.0      0.0      0.0  ...      0.219286      0.117095   \n",
       "std        0.0      0.0      0.0  ...      6.312890      4.633819   \n",
       "min        0.0      0.0      0.0  ...      0.000000      0.000000   \n",
       "25%        0.0      0.0      0.0  ...      0.000000      0.000000   \n",
       "50%        0.0      0.0      0.0  ...      0.000000      0.000000   \n",
       "75%        0.0      0.0      0.0  ...      0.000000      0.000000   \n",
       "max        0.0      0.0      0.0  ...    254.000000    254.000000   \n",
       "\n",
       "           pixel776     pixel777      pixel778      pixel779  pixel780  \\\n",
       "count  42000.000000  42000.00000  42000.000000  42000.000000   42000.0   \n",
       "mean       0.059024      0.02019      0.017238      0.002857       0.0   \n",
       "std        3.274488      1.75987      1.894498      0.414264       0.0   \n",
       "min        0.000000      0.00000      0.000000      0.000000       0.0   \n",
       "25%        0.000000      0.00000      0.000000      0.000000       0.0   \n",
       "50%        0.000000      0.00000      0.000000      0.000000       0.0   \n",
       "75%        0.000000      0.00000      0.000000      0.000000       0.0   \n",
       "max      253.000000    253.00000    254.000000     62.000000       0.0   \n",
       "\n",
       "       pixel781  pixel782  pixel783  \n",
       "count   42000.0   42000.0   42000.0  \n",
       "mean        0.0       0.0       0.0  \n",
       "std         0.0       0.0       0.0  \n",
       "min         0.0       0.0       0.0  \n",
       "25%         0.0       0.0       0.0  \n",
       "50%         0.0       0.0       0.0  \n",
       "75%         0.0       0.0       0.0  \n",
       "max         0.0       0.0       0.0  \n",
       "\n",
       "[8 rows x 785 columns]"
      ]
     },
     "execution_count": 5,
     "metadata": {},
     "output_type": "execute_result"
    }
   ],
   "source": [
    "train_df.shape\n",
    "train_df.describe()"
   ]
  },
  {
   "cell_type": "markdown",
   "id": "f477c768-c556-493b-97f0-76f474117371",
   "metadata": {},
   "source": [
    "## Split label & image\n",
    "\n",
    "- Dataset terdiri dari label (kolom pertama) --> `X_train` (training labels)\n",
    "- dan nilai piksel gambar (kolom 1 hingga 784) --> `y_train` (training images)"
   ]
  },
  {
   "cell_type": "code",
   "execution_count": 6,
   "id": "9e5b0d8a-9c2f-42b7-ac2f-1e59929e2cc7",
   "metadata": {},
   "outputs": [],
   "source": [
    "X_train = train_df.iloc[:, 1:]\n",
    "y_train = train_df.iloc[:, 0]"
   ]
  },
  {
   "cell_type": "markdown",
   "id": "0bb57fc7-08d0-48ac-9d68-172347aff2da",
   "metadata": {},
   "source": [
    "Melihat ukuran data:"
   ]
  },
  {
   "cell_type": "code",
   "execution_count": 7,
   "id": "0d64e8a2-18fb-4a53-aa01-3b047f1de909",
   "metadata": {},
   "outputs": [
    {
     "data": {
      "text/plain": [
       "((42000, 784), (42000,))"
      ]
     },
     "execution_count": 7,
     "metadata": {},
     "output_type": "execute_result"
    }
   ],
   "source": [
    "X_train.shape, y_train.shape"
   ]
  },
  {
   "cell_type": "markdown",
   "id": "95f660c4-2e52-4aa7-ae2e-ac4acc0b714a",
   "metadata": {},
   "source": [
    "#### 5. Visualisasi Data Contoh\n",
    "\n",
    "Kita akan melihat salah satu sampel data untuk memahami bagaimana data direpresentasikan."
   ]
  },
  {
   "cell_type": "code",
   "execution_count": 8,
   "id": "7366c012-7392-4ac1-999d-3b2b24ea3b1e",
   "metadata": {},
   "outputs": [
    {
     "data": {
      "text/plain": [
       "<matplotlib.image.AxesImage at 0x7f184ab67b50>"
      ]
     },
     "execution_count": 8,
     "metadata": {},
     "output_type": "execute_result"
    },
    {
     "data": {
      "image/png": "[encoded data removed]",
      "text/plain": [
       "<Figure size 640x480 with 1 Axes>"
      ]
     },
     "metadata": {},
     "output_type": "display_data"
    }
   ],
   "source": [
    "W, H = 28, 28\n",
    "sample = X_train.loc[42]\n",
    "plt.imshow(sample.values.reshape(W, H), cmap=plt.cm.gray)"
   ]
  },
  {
   "cell_type": "markdown",
   "id": "2f98de6d-8b1b-407f-8a25-948381e857aa",
   "metadata": {},
   "source": [
    "#### 6. Normalisasi Data\n",
    "\n",
    "Agar pelatihan lebih optimal, kita melakukan normalisasi nilai piksel ke dalam rentang 0-1."
   ]
  },
  {
   "cell_type": "code",
   "execution_count": 9,
   "id": "3add2cc7-1d0a-4146-a2c3-0dabf2072e71",
   "metadata": {},
   "outputs": [],
   "source": [
    "X_train = X_train.astype('float32') / 255"
   ]
  },
  {
   "cell_type": "code",
   "execution_count": 10,
   "id": "5a4ebda3-fc53-4cc2-a2f5-6c8d6daaa973",
   "metadata": {},
   "outputs": [
    {
     "data": {
      "text/html": [
       "<div>\n",
       "<style scoped>\n",
       "    .dataframe tbody tr th:only-of-type {\n",
       "        vertical-align: middle;\n",
       "    }\n",
       "\n",
       "    .dataframe tbody tr th {\n",
       "        vertical-align: top;\n",
       "    }\n",
       "\n",
       "    .dataframe thead th {\n",
       "        text-align: right;\n",
       "    }\n",
       "</style>\n",
       "<table border=\"1\" class=\"dataframe\">\n",
       "  <thead>\n",
       "    <tr style=\"text-align: right;\">\n",
       "      <th></th>\n",
       "      <th>pixel0</th>\n",
       "      <th>pixel1</th>\n",
       "      <th>pixel2</th>\n",
       "      <th>pixel3</th>\n",
       "      <th>pixel4</th>\n",
       "      <th>pixel5</th>\n",
       "      <th>pixel6</th>\n",
       "      <th>pixel7</th>\n",
       "      <th>pixel8</th>\n",
       "      <th>pixel9</th>\n",
       "      <th>...</th>\n",
       "      <th>pixel774</th>\n",
       "      <th>pixel775</th>\n",
       "      <th>pixel776</th>\n",
       "      <th>pixel777</th>\n",
       "      <th>pixel778</th>\n",
       "      <th>pixel779</th>\n",
       "      <th>pixel780</th>\n",
       "      <th>pixel781</th>\n",
       "      <th>pixel782</th>\n",
       "      <th>pixel783</th>\n",
       "    </tr>\n",
       "  </thead>\n",
       "  <tbody>\n",
       "    <tr>\n",
       "      <th>count</th>\n",
       "      <td>42000.0</td>\n",
       "      <td>42000.0</td>\n",
       "      <td>42000.0</td>\n",
       "      <td>42000.0</td>\n",
       "      <td>42000.0</td>\n",
       "      <td>42000.0</td>\n",
       "      <td>42000.0</td>\n",
       "      <td>42000.0</td>\n",
       "      <td>42000.0</td>\n",
       "      <td>42000.0</td>\n",
       "      <td>...</td>\n",
       "      <td>42000.000000</td>\n",
       "      <td>42000.000000</td>\n",
       "      <td>42000.000000</td>\n",
       "      <td>42000.000000</td>\n",
       "      <td>42000.000000</td>\n",
       "      <td>42000.000000</td>\n",
       "      <td>42000.0</td>\n",
       "      <td>42000.0</td>\n",
       "      <td>42000.0</td>\n",
       "      <td>42000.0</td>\n",
       "    </tr>\n",
       "    <tr>\n",
       "      <th>mean</th>\n",
       "      <td>0.0</td>\n",
       "      <td>0.0</td>\n",
       "      <td>0.0</td>\n",
       "      <td>0.0</td>\n",
       "      <td>0.0</td>\n",
       "      <td>0.0</td>\n",
       "      <td>0.0</td>\n",
       "      <td>0.0</td>\n",
       "      <td>0.0</td>\n",
       "      <td>0.0</td>\n",
       "      <td>...</td>\n",
       "      <td>0.000860</td>\n",
       "      <td>0.000459</td>\n",
       "      <td>0.000231</td>\n",
       "      <td>0.000079</td>\n",
       "      <td>0.000068</td>\n",
       "      <td>0.000011</td>\n",
       "      <td>0.0</td>\n",
       "      <td>0.0</td>\n",
       "      <td>0.0</td>\n",
       "      <td>0.0</td>\n",
       "    </tr>\n",
       "    <tr>\n",
       "      <th>std</th>\n",
       "      <td>0.0</td>\n",
       "      <td>0.0</td>\n",
       "      <td>0.0</td>\n",
       "      <td>0.0</td>\n",
       "      <td>0.0</td>\n",
       "      <td>0.0</td>\n",
       "      <td>0.0</td>\n",
       "      <td>0.0</td>\n",
       "      <td>0.0</td>\n",
       "      <td>0.0</td>\n",
       "      <td>...</td>\n",
       "      <td>0.024756</td>\n",
       "      <td>0.018172</td>\n",
       "      <td>0.012841</td>\n",
       "      <td>0.006901</td>\n",
       "      <td>0.007429</td>\n",
       "      <td>0.001625</td>\n",
       "      <td>0.0</td>\n",
       "      <td>0.0</td>\n",
       "      <td>0.0</td>\n",
       "      <td>0.0</td>\n",
       "    </tr>\n",
       "    <tr>\n",
       "      <th>min</th>\n",
       "      <td>0.0</td>\n",
       "      <td>0.0</td>\n",
       "      <td>0.0</td>\n",
       "      <td>0.0</td>\n",
       "      <td>0.0</td>\n",
       "      <td>0.0</td>\n",
       "      <td>0.0</td>\n",
       "      <td>0.0</td>\n",
       "      <td>0.0</td>\n",
       "      <td>0.0</td>\n",
       "      <td>...</td>\n",
       "      <td>0.000000</td>\n",
       "      <td>0.000000</td>\n",
       "      <td>0.000000</td>\n",
       "      <td>0.000000</td>\n",
       "      <td>0.000000</td>\n",
       "      <td>0.000000</td>\n",
       "      <td>0.0</td>\n",
       "      <td>0.0</td>\n",
       "      <td>0.0</td>\n",
       "      <td>0.0</td>\n",
       "    </tr>\n",
       "    <tr>\n",
       "      <th>25%</th>\n",
       "      <td>0.0</td>\n",
       "      <td>0.0</td>\n",
       "      <td>0.0</td>\n",
       "      <td>0.0</td>\n",
       "      <td>0.0</td>\n",
       "      <td>0.0</td>\n",
       "      <td>0.0</td>\n",
       "      <td>0.0</td>\n",
       "      <td>0.0</td>\n",
       "      <td>0.0</td>\n",
       "      <td>...</td>\n",
       "      <td>0.000000</td>\n",
       "      <td>0.000000</td>\n",
       "      <td>0.000000</td>\n",
       "      <td>0.000000</td>\n",
       "      <td>0.000000</td>\n",
       "      <td>0.000000</td>\n",
       "      <td>0.0</td>\n",
       "      <td>0.0</td>\n",
       "      <td>0.0</td>\n",
       "      <td>0.0</td>\n",
       "    </tr>\n",
       "    <tr>\n",
       "      <th>50%</th>\n",
       "      <td>0.0</td>\n",
       "      <td>0.0</td>\n",
       "      <td>0.0</td>\n",
       "      <td>0.0</td>\n",
       "      <td>0.0</td>\n",
       "      <td>0.0</td>\n",
       "      <td>0.0</td>\n",
       "      <td>0.0</td>\n",
       "      <td>0.0</td>\n",
       "      <td>0.0</td>\n",
       "      <td>...</td>\n",
       "      <td>0.000000</td>\n",
       "      <td>0.000000</td>\n",
       "      <td>0.000000</td>\n",
       "      <td>0.000000</td>\n",
       "      <td>0.000000</td>\n",
       "      <td>0.000000</td>\n",
       "      <td>0.0</td>\n",
       "      <td>0.0</td>\n",
       "      <td>0.0</td>\n",
       "      <td>0.0</td>\n",
       "    </tr>\n",
       "    <tr>\n",
       "      <th>75%</th>\n",
       "      <td>0.0</td>\n",
       "      <td>0.0</td>\n",
       "      <td>0.0</td>\n",
       "      <td>0.0</td>\n",
       "      <td>0.0</td>\n",
       "      <td>0.0</td>\n",
       "      <td>0.0</td>\n",
       "      <td>0.0</td>\n",
       "      <td>0.0</td>\n",
       "      <td>0.0</td>\n",
       "      <td>...</td>\n",
       "      <td>0.000000</td>\n",
       "      <td>0.000000</td>\n",
       "      <td>0.000000</td>\n",
       "      <td>0.000000</td>\n",
       "      <td>0.000000</td>\n",
       "      <td>0.000000</td>\n",
       "      <td>0.0</td>\n",
       "      <td>0.0</td>\n",
       "      <td>0.0</td>\n",
       "      <td>0.0</td>\n",
       "    </tr>\n",
       "    <tr>\n",
       "      <th>max</th>\n",
       "      <td>0.0</td>\n",
       "      <td>0.0</td>\n",
       "      <td>0.0</td>\n",
       "      <td>0.0</td>\n",
       "      <td>0.0</td>\n",
       "      <td>0.0</td>\n",
       "      <td>0.0</td>\n",
       "      <td>0.0</td>\n",
       "      <td>0.0</td>\n",
       "      <td>0.0</td>\n",
       "      <td>...</td>\n",
       "      <td>0.996078</td>\n",
       "      <td>0.996078</td>\n",
       "      <td>0.992157</td>\n",
       "      <td>0.992157</td>\n",
       "      <td>0.996078</td>\n",
       "      <td>0.243137</td>\n",
       "      <td>0.0</td>\n",
       "      <td>0.0</td>\n",
       "      <td>0.0</td>\n",
       "      <td>0.0</td>\n",
       "    </tr>\n",
       "  </tbody>\n",
       "</table>\n",
       "<p>8 rows × 784 columns</p>\n",
       "</div>"
      ],
      "text/plain": [
       "        pixel0   pixel1   pixel2   pixel3   pixel4   pixel5   pixel6   pixel7  \\\n",
       "count  42000.0  42000.0  42000.0  42000.0  42000.0  42000.0  42000.0  42000.0   \n",
       "mean       0.0      0.0      0.0      0.0      0.0      0.0      0.0      0.0   \n",
       "std        0.0      0.0      0.0      0.0      0.0      0.0      0.0      0.0   \n",
       "min        0.0      0.0      0.0      0.0      0.0      0.0      0.0      0.0   \n",
       "25%        0.0      0.0      0.0      0.0      0.0      0.0      0.0      0.0   \n",
       "50%        0.0      0.0      0.0      0.0      0.0      0.0      0.0      0.0   \n",
       "75%        0.0      0.0      0.0      0.0      0.0      0.0      0.0      0.0   \n",
       "max        0.0      0.0      0.0      0.0      0.0      0.0      0.0      0.0   \n",
       "\n",
       "        pixel8   pixel9  ...      pixel774      pixel775      pixel776  \\\n",
       "count  42000.0  42000.0  ...  42000.000000  42000.000000  42000.000000   \n",
       "mean       0.0      0.0  ...      0.000860      0.000459      0.000231   \n",
       "std        0.0      0.0  ...      0.024756      0.018172      0.012841   \n",
       "min        0.0      0.0  ...      0.000000      0.000000      0.000000   \n",
       "25%        0.0      0.0  ...      0.000000      0.000000      0.000000   \n",
       "50%        0.0      0.0  ...      0.000000      0.000000      0.000000   \n",
       "75%        0.0      0.0  ...      0.000000      0.000000      0.000000   \n",
       "max        0.0      0.0  ...      0.996078      0.996078      0.992157   \n",
       "\n",
       "           pixel777      pixel778      pixel779  pixel780  pixel781  pixel782  \\\n",
       "count  42000.000000  42000.000000  42000.000000   42000.0   42000.0   42000.0   \n",
       "mean       0.000079      0.000068      0.000011       0.0       0.0       0.0   \n",
       "std        0.006901      0.007429      0.001625       0.0       0.0       0.0   \n",
       "min        0.000000      0.000000      0.000000       0.0       0.0       0.0   \n",
       "25%        0.000000      0.000000      0.000000       0.0       0.0       0.0   \n",
       "50%        0.000000      0.000000      0.000000       0.0       0.0       0.0   \n",
       "75%        0.000000      0.000000      0.000000       0.0       0.0       0.0   \n",
       "max        0.992157      0.996078      0.243137       0.0       0.0       0.0   \n",
       "\n",
       "       pixel783  \n",
       "count   42000.0  \n",
       "mean        0.0  \n",
       "std         0.0  \n",
       "min         0.0  \n",
       "25%         0.0  \n",
       "50%         0.0  \n",
       "75%         0.0  \n",
       "max         0.0  \n",
       "\n",
       "[8 rows x 784 columns]"
      ]
     },
     "execution_count": 10,
     "metadata": {},
     "output_type": "execute_result"
    }
   ],
   "source": [
    "X_train.describe()"
   ]
  },
  {
   "cell_type": "markdown",
   "id": "4c79807d-31c5-49f3-a339-7e3f92e0b2bc",
   "metadata": {},
   "source": [
    "#### 7. Ubah Bentuk Data agar Sesuai dengan CNN\n",
    "\n",
    "CNN memerlukan input dalam bentuk `(batch, width, height, channels)`. Oleh karena itu, kita perlu mengubah bentuk data."
   ]
  },
  {
   "cell_type": "code",
   "execution_count": 11,
   "id": "85d7c5db-5574-4f4f-9315-70f64f4964c5",
   "metadata": {},
   "outputs": [],
   "source": [
    "X_train = X_train.values.reshape(-1, W, H, 1)"
   ]
  },
  {
   "cell_type": "code",
   "execution_count": 12,
   "id": "37d549a1-40fa-4edb-95c1-22514fde5ae2",
   "metadata": {},
   "outputs": [
    {
     "data": {
      "text/plain": [
       "(42000, 28, 28, 1)"
      ]
     },
     "execution_count": 12,
     "metadata": {},
     "output_type": "execute_result"
    }
   ],
   "source": [
    "X_train.shape"
   ]
  },
  {
   "cell_type": "markdown",
   "id": "c0ef8c06-947f-43f1-bb38-fc21018245e0",
   "metadata": {
    "tags": []
   },
   "source": [
    "#### 8. One-Hot Encoding Label (y)\n",
    "\n",
    "Karena output CNN harus berbentuk kategori, kita mengubah label menjadi bentuk one-hot encoding."
   ]
  },
  {
   "cell_type": "code",
   "execution_count": 13,
   "id": "99124e4c-51b3-4353-a592-53c74e11cd50",
   "metadata": {},
   "outputs": [],
   "source": [
    "number_of_classes = y_train.nunique()\n",
    "y_train = utils.to_categorical(y_train, number_of_classes)"
   ]
  },
  {
   "cell_type": "code",
   "execution_count": 14,
   "id": "173d93d6-654a-4bc6-b21c-e5fef9c40c19",
   "metadata": {},
   "outputs": [
    {
     "data": {
      "text/plain": [
       "(42000, 10)"
      ]
     },
     "execution_count": 14,
     "metadata": {},
     "output_type": "execute_result"
    }
   ],
   "source": [
    "y_train.shape"
   ]
  },
  {
   "cell_type": "code",
   "execution_count": 15,
   "id": "c7e649d6-58bc-41e2-958f-85e31ea3df99",
   "metadata": {},
   "outputs": [
    {
     "data": {
      "text/plain": [
       "array([[0., 1., 0., ..., 0., 0., 0.],\n",
       "       [1., 0., 0., ..., 0., 0., 0.],\n",
       "       [0., 1., 0., ..., 0., 0., 0.],\n",
       "       ...,\n",
       "       [0., 0., 0., ..., 1., 0., 0.],\n",
       "       [0., 0., 0., ..., 0., 0., 0.],\n",
       "       [0., 0., 0., ..., 0., 0., 1.]], dtype=float32)"
      ]
     },
     "execution_count": 15,
     "metadata": {},
     "output_type": "execute_result"
    }
   ],
   "source": [
    "y_train"
   ]
  },
  {
   "cell_type": "markdown",
   "id": "ffa4ef70-0ce1-4290-b79d-a414dad60bd0",
   "metadata": {},
   "source": [
    "#### 9. Definisi Model CNN\n",
    "\n",
    "Kita akan membangun model CNN dengan arsitektur sebagai berikut:\n",
    "\n",
    "* 2 lapisan konvolusi dengan 32 dan 64 filter ukuran 5x5\n",
    "\n",
    "* Lapisan MaxPooling setelah setiap lapisan konvolusi\n",
    "\n",
    "* Dropout untuk mencegah overfitting\n",
    "\n",
    "* Lapisan Dense (fully connected layer) sebelum output\n",
    "\n",
    "    * _input shape `(width, height, channels)`_\n",
    "\n",
    "    * _output layer's units (number_of_classes)_"
   ]
  },
  {
   "cell_type": "code",
   "execution_count": 16,
   "id": "39eaae01-c532-42d4-81e0-1d6d49bd5d90",
   "metadata": {
    "tags": []
   },
   "outputs": [
    {
     "name": "stdout",
     "output_type": "stream",
     "text": [
      "Model: \"sequential\"\n",
      "_________________________________________________________________\n",
      " Layer (type)                Output Shape              Param #   \n",
      "=================================================================\n",
      " conv2d (Conv2D)             (None, 28, 28, 32)        832       \n",
      "                                                                 \n",
      " max_pooling2d (MaxPooling2  (None, 14, 14, 32)        0         \n",
      " D)                                                              \n",
      "                                                                 \n",
      " dropout (Dropout)           (None, 14, 14, 32)        0         \n",
      "                                                                 \n",
      " conv2d_1 (Conv2D)           (None, 14, 14, 64)        51264     \n",
      "                                                                 \n",
      " max_pooling2d_1 (MaxPoolin  (None, 7, 7, 64)          0         \n",
      " g2D)                                                            \n",
      "                                                                 \n",
      " dropout_1 (Dropout)         (None, 7, 7, 64)          0         \n",
      "                                                                 \n",
      " flatten (Flatten)           (None, 3136)              0         \n",
      "                                                                 \n",
      " dense (Dense)               (None, 128)               401536    \n",
      "                                                                 \n",
      " dropout_2 (Dropout)         (None, 128)               0         \n",
      "                                                                 \n",
      " dense_1 (Dense)             (None, 10)                1290      \n",
      "                                                                 \n",
      "=================================================================\n",
      "Total params: 454922 (1.74 MB)\n",
      "Trainable params: 454922 (1.74 MB)\n",
      "Non-trainable params: 0 (0.00 Byte)\n",
      "_________________________________________________________________\n"
     ]
    },
    {
     "name": "stderr",
     "output_type": "stream",
     "text": [
      "2025-03-24 07:19:01.194063: E external/local_xla/xla/stream_executor/cuda/cuda_driver.cc:274] failed call to cuInit: CUDA_ERROR_NO_DEVICE: no CUDA-capable device is detected\n"
     ]
    }
   ],
   "source": [
    "input_shape = (W, H, 1)\n",
    "\n",
    "model = Sequential()\n",
    "\n",
    "model.add(layers.Conv2D(filters=32, kernel_size=(5,5), padding='same', activation='relu', input_shape=input_shape))\n",
    "model.add(layers.MaxPool2D())\n",
    "model.add(layers.Dropout(0.4))\n",
    "\n",
    "model.add(layers.Conv2D(filters=64, kernel_size=(5,5), padding='same', activation='relu'))\n",
    "model.add(layers.MaxPool2D())\n",
    "model.add(layers.Dropout(0.4))\n",
    "\n",
    "model.add(layers.Flatten())\n",
    "model.add(layers.Dense(128, activation='relu'))\n",
    "model.add(layers.Dropout(0.4))\n",
    "\n",
    "model.add(layers.Dense(number_of_classes, activation='softmax'))\n",
    "\n",
    "model.compile(loss='categorical_crossentropy', optimizer='adam', metrics=['accuracy'])\n",
    "\n",
    "model.summary()"
   ]
  },
  {
   "cell_type": "markdown",
   "id": "2c1afb69-1cc4-4dfb-9a8f-0d4c91755a4e",
   "metadata": {},
   "source": [
    "#### 10. Early Stopping dan Model Checkpoint\n",
    "\n",
    "`EarlyStopping()` digunakan untuk menghentikan pelatihan otomatis jika tidak ada peningkatan pada nilai yang dipantau (val_loss), mencegah overfitting.\n",
    "\n",
    "`ModelCheckpoint()` untuk menyimpan model dengan performa terbaik, memastikan kita menggunakan model optimal bukan model dari epoch terakhir."
   ]
  },
  {
   "cell_type": "code",
   "execution_count": 17,
   "id": "faaab349-7754-4e59-8c17-b98c88e2ea62",
   "metadata": {},
   "outputs": [],
   "source": [
    "early_stopping = EarlyStopping(monitor='val_loss', patience=8, verbose=1, mode='min')\n",
    "mcp_save = ModelCheckpoint('digit_recognizer.h5', save_best_only=True, monitor='val_loss', verbose=1, mode='auto')"
   ]
  },
  {
   "cell_type": "markdown",
   "id": "645b4069-8640-425c-b28e-45f4ac56461a",
   "metadata": {},
   "source": [
    "#### 11. Pelatihan Model\n",
    "\n",
    "Kita melatih model menggunakan dataset dengan 80% data pelatihan dan 20% data validasi.\n",
    "\n",
    "Fungsi `model.fit()` akan mengembalikan kamus (dictionary) data pelatihan yang mencakup loss, val_loss, accuracy, dan val_accuracy."
   ]
  },
  {
   "cell_type": "code",
   "execution_count": 18,
   "id": "5e46731b-3ff5-44a0-9b77-556b563ae2f3",
   "metadata": {},
   "outputs": [
    {
     "name": "stdout",
     "output_type": "stream",
     "text": [
      "Epoch 1/100\n",
      "1045/1050 [============================>.] - ETA: 0s - loss: 0.2814 - accuracy: 0.9121\n",
      "Epoch 1: val_loss improved from inf to 0.06325, saving model to digit_recognizer.h5\n",
      "1050/1050 [==============================] - 14s 13ms/step - loss: 0.2805 - accuracy: 0.9124 - val_loss: 0.0632 - val_accuracy: 0.9792\n",
      "Epoch 2/100\n",
      "  10/1050 [..............................] - ETA: 12s - loss: 0.1249 - accuracy: 0.9469"
     ]
    },
    {
     "name": "stderr",
     "output_type": "stream",
     "text": [
      "/opt/conda/lib/python3.11/site-packages/keras/src/engine/training.py:3103: UserWarning: You are saving your model as an HDF5 file via `model.save()`. This file format is considered legacy. We recommend using instead the native Keras format, e.g. `model.save('my_model.keras')`.\n",
      "  saving_api.save_model(\n"
     ]
    },
    {
     "name": "stdout",
     "output_type": "stream",
     "text": [
      "1046/1050 [============================>.] - ETA: 0s - loss: 0.1006 - accuracy: 0.9693\n",
      "Epoch 2: val_loss improved from 0.06325 to 0.05191, saving model to digit_recognizer.h5\n",
      "1050/1050 [==============================] - 13s 12ms/step - loss: 0.1003 - accuracy: 0.9694 - val_loss: 0.0519 - val_accuracy: 0.9838\n",
      "Epoch 3/100\n",
      "1045/1050 [============================>.] - ETA: 0s - loss: 0.0788 - accuracy: 0.9761\n",
      "Epoch 3: val_loss improved from 0.05191 to 0.04027, saving model to digit_recognizer.h5\n",
      "1050/1050 [==============================] - 12s 12ms/step - loss: 0.0786 - accuracy: 0.9761 - val_loss: 0.0403 - val_accuracy: 0.9876\n",
      "Epoch 4/100\n",
      "1046/1050 [============================>.] - ETA: 0s - loss: 0.0648 - accuracy: 0.9803\n",
      "Epoch 4: val_loss improved from 0.04027 to 0.03684, saving model to digit_recognizer.h5\n",
      "1050/1050 [==============================] - 12s 12ms/step - loss: 0.0647 - accuracy: 0.9804 - val_loss: 0.0368 - val_accuracy: 0.9885\n",
      "Epoch 5/100\n",
      "1045/1050 [============================>.] - ETA: 0s - loss: 0.0590 - accuracy: 0.9818\n",
      "Epoch 5: val_loss improved from 0.03684 to 0.03573, saving model to digit_recognizer.h5\n",
      "1050/1050 [==============================] - 12s 12ms/step - loss: 0.0592 - accuracy: 0.9817 - val_loss: 0.0357 - val_accuracy: 0.9898\n",
      "Epoch 6/100\n",
      "1050/1050 [==============================] - ETA: 0s - loss: 0.0540 - accuracy: 0.9833\n",
      "Epoch 6: val_loss improved from 0.03573 to 0.03332, saving model to digit_recognizer.h5\n",
      "1050/1050 [==============================] - 12s 11ms/step - loss: 0.0540 - accuracy: 0.9833 - val_loss: 0.0333 - val_accuracy: 0.9901\n",
      "Epoch 7/100\n",
      "1048/1050 [============================>.] - ETA: 0s - loss: 0.0487 - accuracy: 0.9853\n",
      "Epoch 7: val_loss improved from 0.03332 to 0.03172, saving model to digit_recognizer.h5\n",
      "1050/1050 [==============================] - 12s 11ms/step - loss: 0.0487 - accuracy: 0.9853 - val_loss: 0.0317 - val_accuracy: 0.9906\n",
      "Epoch 8/100\n",
      "1046/1050 [============================>.] - ETA: 0s - loss: 0.0454 - accuracy: 0.9851\n",
      "Epoch 8: val_loss improved from 0.03172 to 0.02964, saving model to digit_recognizer.h5\n",
      "1050/1050 [==============================] - 12s 12ms/step - loss: 0.0453 - accuracy: 0.9851 - val_loss: 0.0296 - val_accuracy: 0.9915\n",
      "Epoch 9/100\n",
      "1048/1050 [============================>.] - ETA: 0s - loss: 0.0414 - accuracy: 0.9871\n",
      "Epoch 9: val_loss did not improve from 0.02964\n",
      "1050/1050 [==============================] - 12s 11ms/step - loss: 0.0417 - accuracy: 0.9871 - val_loss: 0.0335 - val_accuracy: 0.9910\n",
      "Epoch 10/100\n",
      "1049/1050 [============================>.] - ETA: 0s - loss: 0.0387 - accuracy: 0.9879\n",
      "Epoch 10: val_loss did not improve from 0.02964\n",
      "1050/1050 [==============================] - 12s 11ms/step - loss: 0.0388 - accuracy: 0.9879 - val_loss: 0.0332 - val_accuracy: 0.9907\n",
      "Epoch 11/100\n",
      "1048/1050 [============================>.] - ETA: 0s - loss: 0.0383 - accuracy: 0.9878\n",
      "Epoch 11: val_loss did not improve from 0.02964\n",
      "1050/1050 [==============================] - 12s 11ms/step - loss: 0.0384 - accuracy: 0.9878 - val_loss: 0.0304 - val_accuracy: 0.9918\n",
      "Epoch 12/100\n",
      "1049/1050 [============================>.] - ETA: 0s - loss: 0.0354 - accuracy: 0.9888\n",
      "Epoch 12: val_loss did not improve from 0.02964\n",
      "1050/1050 [==============================] - 12s 11ms/step - loss: 0.0353 - accuracy: 0.9888 - val_loss: 0.0339 - val_accuracy: 0.9914\n",
      "Epoch 13/100\n",
      "1046/1050 [============================>.] - ETA: 0s - loss: 0.0358 - accuracy: 0.9887\n",
      "Epoch 13: val_loss did not improve from 0.02964\n",
      "1050/1050 [==============================] - 12s 12ms/step - loss: 0.0358 - accuracy: 0.9887 - val_loss: 0.0372 - val_accuracy: 0.9912\n",
      "Epoch 14/100\n",
      "1049/1050 [============================>.] - ETA: 0s - loss: 0.0351 - accuracy: 0.9885\n",
      "Epoch 14: val_loss did not improve from 0.02964\n",
      "1050/1050 [==============================] - 12s 11ms/step - loss: 0.0350 - accuracy: 0.9885 - val_loss: 0.0331 - val_accuracy: 0.9912\n",
      "Epoch 15/100\n",
      "1045/1050 [============================>.] - ETA: 0s - loss: 0.0334 - accuracy: 0.9895\n",
      "Epoch 15: val_loss did not improve from 0.02964\n",
      "1050/1050 [==============================] - 12s 12ms/step - loss: 0.0333 - accuracy: 0.9896 - val_loss: 0.0308 - val_accuracy: 0.9919\n",
      "Epoch 16/100\n",
      "1047/1050 [============================>.] - ETA: 0s - loss: 0.0311 - accuracy: 0.9906\n",
      "Epoch 16: val_loss did not improve from 0.02964\n",
      "1050/1050 [==============================] - 12s 11ms/step - loss: 0.0310 - accuracy: 0.9906 - val_loss: 0.0335 - val_accuracy: 0.9925\n",
      "Epoch 16: early stopping\n"
     ]
    }
   ],
   "source": [
    "history = model.fit(X_train,\n",
    "                    y_train, \n",
    "                    epochs=100, \n",
    "                    batch_size=32, \n",
    "                    verbose=1, \n",
    "                    validation_split=0.2,\n",
    "                    callbacks=[early_stopping, mcp_save])"
   ]
  },
  {
   "cell_type": "markdown",
   "id": "784e9017-c97d-477b-aab7-3dedb1c31206",
   "metadata": {},
   "source": [
    "#### 12. Visualisasi Hasil Pelatihan\n",
    "\n",
    "Fungsi berikut digunakan untuk memplot grafik akurasi dan loss."
   ]
  },
  {
   "cell_type": "code",
   "execution_count": 19,
   "id": "88419e8b-5fa6-4f36-82eb-cf2e8b136b46",
   "metadata": {},
   "outputs": [],
   "source": [
    "# function to plot accuracy / loss\n",
    "def plotgraph(epochs, acc, val_acc):\n",
    "    # Plot training & validation accuracy values\n",
    "    plt.plot(epochs, acc, 'b')\n",
    "    plt.plot(epochs, val_acc, 'r')\n",
    "    plt.title('Model accuracy')\n",
    "    plt.ylabel('Accuracy')\n",
    "    plt.xlabel('Epoch')\n",
    "    plt.legend(['Train', 'Val'], loc='upper left')\n",
    "    plt.show()"
   ]
  },
  {
   "cell_type": "markdown",
   "id": "2b1e6f78-faf5-48ac-8ba5-bf82ab0b6ed1",
   "metadata": {},
   "source": [
    "Menampilkan hasil pelatihan:"
   ]
  },
  {
   "cell_type": "code",
   "execution_count": 20,
   "id": "a4fcfe9d-b78d-41ff-9806-791d2ff55054",
   "metadata": {},
   "outputs": [
    {
     "data": {
      "image/png": "[encoded data removed]",
      "text/plain": [
       "<Figure size 640x480 with 1 Axes>"
      ]
     },
     "metadata": {},
     "output_type": "display_data"
    },
    {
     "data": {
      "image/png": "[encoded data removed]",
      "text/plain": [
       "<Figure size 640x480 with 1 Axes>"
      ]
     },
     "metadata": {},
     "output_type": "display_data"
    }
   ],
   "source": [
    "accuracy = history.history['accuracy']\n",
    "val_accuracy = history.history['val_accuracy']\n",
    "loss = history.history['loss']\n",
    "val_loss = history.history['val_loss']\n",
    "epochs = range(len(accuracy))\n",
    "\n",
    "plotgraph(epochs, accuracy, val_accuracy)\n",
    "plotgraph(epochs, loss, val_loss)"
   ]
  },
  {
   "cell_type": "markdown",
   "id": "254c7d43-8787-4029-ba47-66c927fd2c0e",
   "metadata": {},
   "source": [
    "#### 13. Pengolahan Data Uji\n",
    "\n",
    "Melakukan preprocessing yang sama seperti data latih."
   ]
  },
  {
   "cell_type": "code",
   "execution_count": 21,
   "id": "757d20f4-23d5-4ebe-bb72-97b3d8b999aa",
   "metadata": {},
   "outputs": [
    {
     "name": "stdout",
     "output_type": "stream",
     "text": [
      "(28000, 28, 28, 1)\n"
     ]
    }
   ],
   "source": [
    "test_df = pd.read_csv('test.csv')\n",
    "\n",
    "# Scale pixel values\n",
    "X_test = test_df.values.astype('float32') / 255\n",
    "\n",
    "# Reshape flattened image pixel values to (batch, width, height, channels)\n",
    "X_test = X_test.reshape(-1, W, H, 1)\n",
    "print(X_test.shape)"
   ]
  },
  {
   "cell_type": "markdown",
   "id": "2d12d03d-ae0b-447f-8bc2-872ec86aca01",
   "metadata": {},
   "source": [
    "#### 14. Prediksi Data Uji\n",
    "\n",
    "Kita akan memuat model terbaik dan melakukan prediksi. Setiap item dari prediksi `y_pred` adalah daftar dengan panjang 10 (unit lapisan output/jumlah kelas), berisi nilai akurasi untuk setiap label yang diprediksi.\n",
    "(nilai pada indeks 1 adalah 0,93, artinya label `1` memiliki akurasi 93% yang juga berarti gambar ini 93% kemungkinan adalah `1`)"
   ]
  },
  {
   "cell_type": "code",
   "execution_count": 22,
   "id": "01700f87-cf34-4332-8b4a-7e737b3677d6",
   "metadata": {},
   "outputs": [
    {
     "name": "stdout",
     "output_type": "stream",
     "text": [
      "875/875 [==============================] - 3s 3ms/step\n"
     ]
    }
   ],
   "source": [
    "model = load_model('digit_recognizer.h5')\n",
    "y_pred = model.predict(X_test)"
   ]
  },
  {
   "cell_type": "markdown",
   "id": "955200ba-2745-4113-a8c1-02bfc08f1bd2",
   "metadata": {},
   "source": [
    "__Visualisasi beberapa prediksi:__\n",
    "\n",
    "Gunakan `.argmax()` untuk mendapatkan akurasi tertinggi dalam daftar prediksi (label yang diprediksi).\n",
    "Plot gambar dari entri 10 sampai 16 dan letakkan label yang diprediksi sebagai judul."
   ]
  },
  {
   "cell_type": "code",
   "execution_count": 23,
   "id": "47d5975e-a3f2-4b94-bb2a-9e0829335a3a",
   "metadata": {},
   "outputs": [
    {
     "data": {
      "image/png": "[encoded data removed]",
      "text/plain": [
       "<Figure size 640x480 with 6 Axes>"
      ]
     },
     "metadata": {},
     "output_type": "display_data"
    }
   ],
   "source": [
    "for i in range(10, 16):\n",
    "    plt.subplot(280 + (i%10+1))\n",
    "    plt.imshow(X_test[i].reshape(28, 28), cmap=plt.cm.gray)\n",
    "    plt.title(y_pred[i].argmax())\n",
    "plt.show()"
   ]
  },
  {
   "cell_type": "markdown",
   "id": "0231be79-ccc4-43ab-b676-eb4601cb3a0e",
   "metadata": {},
   "source": [
    "#### 15. Menyiapkan Submission File\n",
    "\n",
    "Membuat format CSV untuk submission."
   ]
  },
  {
   "cell_type": "code",
   "execution_count": 24,
   "id": "5160232e-9850-4bb7-aeb5-29a7c58a3d3d",
   "metadata": {
    "tags": []
   },
   "outputs": [
    {
     "name": "stderr",
     "output_type": "stream",
     "text": [
      "100%|██████████| 28000/28000 [00:00<00:00, 849712.85it/s]\n"
     ]
    }
   ],
   "source": [
    "output = []\n",
    "for index, prediction in tqdm(enumerate(y_pred), total=y_pred.shape[0]):\n",
    "    output.append({\"ImageId\": index + 1, \"Label\": prediction.argmax()})\n",
    "\n",
    "submission_df = pd.DataFrame(output)\n",
    "\n",
    "submission_df.to_csv('submission.csv', index=False)"
   ]
  },
  {
   "cell_type": "code",
   "execution_count": 25,
   "id": "df99724f-492c-413a-bce2-c1b10c77233f",
   "metadata": {
    "tags": []
   },
   "outputs": [
    {
     "data": {
      "text/html": [
       "<div>\n",
       "<style scoped>\n",
       "    .dataframe tbody tr th:only-of-type {\n",
       "        vertical-align: middle;\n",
       "    }\n",
       "\n",
       "    .dataframe tbody tr th {\n",
       "        vertical-align: top;\n",
       "    }\n",
       "\n",
       "    .dataframe thead th {\n",
       "        text-align: right;\n",
       "    }\n",
       "</style>\n",
       "<table border=\"1\" class=\"dataframe\">\n",
       "  <thead>\n",
       "    <tr style=\"text-align: right;\">\n",
       "      <th></th>\n",
       "      <th>ImageId</th>\n",
       "      <th>Label</th>\n",
       "    </tr>\n",
       "  </thead>\n",
       "  <tbody>\n",
       "    <tr>\n",
       "      <th>0</th>\n",
       "      <td>1</td>\n",
       "      <td>2</td>\n",
       "    </tr>\n",
       "    <tr>\n",
       "      <th>1</th>\n",
       "      <td>2</td>\n",
       "      <td>0</td>\n",
       "    </tr>\n",
       "    <tr>\n",
       "      <th>2</th>\n",
       "      <td>3</td>\n",
       "      <td>9</td>\n",
       "    </tr>\n",
       "    <tr>\n",
       "      <th>3</th>\n",
       "      <td>4</td>\n",
       "      <td>9</td>\n",
       "    </tr>\n",
       "    <tr>\n",
       "      <th>4</th>\n",
       "      <td>5</td>\n",
       "      <td>3</td>\n",
       "    </tr>\n",
       "  </tbody>\n",
       "</table>\n",
       "</div>"
      ],
      "text/plain": [
       "   ImageId  Label\n",
       "0        1      2\n",
       "1        2      0\n",
       "2        3      9\n",
       "3        4      9\n",
       "4        5      3"
      ]
     },
     "execution_count": 25,
     "metadata": {},
     "output_type": "execute_result"
    }
   ],
   "source": [
    "submission_df.head()"
   ]
  },
  {
   "cell_type": "markdown",
   "id": "ee61c840-00f7-49b1-bdfd-3b412a17c18e",
   "metadata": {},
   "source": [
    "---"
   ]
  },
  {
   "cell_type": "code",
   "execution_count": 26,
   "id": "55a97e50-d924-47be-b0a0-0dfa61f0cc87",
   "metadata": {
    "tags": []
   },
   "outputs": [
    {
     "data": {
      "text/plain": [
       "{'status': 'ok', 'restart': True}"
      ]
     },
     "execution_count": 26,
     "metadata": {},
     "output_type": "execute_result"
    }
   ],
   "source": [
    "# restart kernel\n",
    "import ipykernel\n",
    "get_ipython().kernel.do_shutdown(True)"
   ]
  },
  {
   "cell_type": "markdown",
   "id": "bcdc5117-1559-40f1-bed7-88c5bb3e619b",
   "metadata": {},
   "source": [
    "<a id=\"46\"></a>\n",
    "#### Klasifikasi Gambar CIFAR-10 dengan CNN\n",
    "\n",
    "#### 1. Pendahuluan\n",
    "\n",
    "Convolutional Neural Network (CNN) adalah jenis jaringan saraf tiruan yang secara khusus dirancang untuk menangani data dalam bentuk gambar. Pada proyek ini, kita akan menerapkan CNN untuk mengklasifikasikan gambar dari dataset CIFAR-10.\n",
    "\n",
    "Tentang Dataset CIFAR-10:\n",
    "\n",
    "* CIFAR-10 terdiri dari 60.000 gambar berwarna dengan ukuran 32x32 piksel.\n",
    "\n",
    "* Dataset memiliki 10 kelas, yaitu: Airplane, Automobile, Bird, Cat, Deer, Dog, Frog, Horse, Ship, dan Truck.\n",
    "\n",
    "* Dibagi menjadi 50.000 gambar untuk pelatihan dan 10.000 gambar untuk pengujian."
   ]
  },
  {
   "cell_type": "markdown",
   "id": "bfa8a624-11a7-42c9-9234-13992b9a1fa7",
   "metadata": {},
   "source": [
    "#### 2. Import Library\n",
    "\n",
    "Kita akan mengimpor pustaka yang dibutuhkan untuk pemrosesan data, pembuatan model CNN, serta evaluasi model."
   ]
  },
  {
   "cell_type": "code",
   "execution_count": 1,
   "id": "42b6bb36-6dae-46e0-b457-8b758c0ce1d5",
   "metadata": {},
   "outputs": [
    {
     "name": "stderr",
     "output_type": "stream",
     "text": [
      "2025-03-24 07:24:51.361326: E external/local_xla/xla/stream_executor/cuda/cuda_dnn.cc:9261] Unable to register cuDNN factory: Attempting to register factory for plugin cuDNN when one has already been registered\n",
      "2025-03-24 07:24:51.361380: E external/local_xla/xla/stream_executor/cuda/cuda_fft.cc:607] Unable to register cuFFT factory: Attempting to register factory for plugin cuFFT when one has already been registered\n",
      "2025-03-24 07:24:51.362972: E external/local_xla/xla/stream_executor/cuda/cuda_blas.cc:1515] Unable to register cuBLAS factory: Attempting to register factory for plugin cuBLAS when one has already been registered\n",
      "2025-03-24 07:24:51.371156: I tensorflow/core/platform/cpu_feature_guard.cc:182] This TensorFlow binary is optimized to use available CPU instructions in performance-critical operations.\n",
      "To enable the following instructions: AVX2 FMA, in other operations, rebuild TensorFlow with the appropriate compiler flags.\n",
      "2025-03-24 07:24:52.224436: W tensorflow/compiler/tf2tensorrt/utils/py_utils.cc:38] TF-TRT Warning: Could not find TensorRT\n"
     ]
    }
   ],
   "source": [
    "import numpy as np\n",
    "import matplotlib.pyplot as plt\n",
    "from tensorflow.keras.models import Sequential\n",
    "from tensorflow.keras.layers import Conv2D, MaxPooling2D, Flatten, Dense, Dropout\n",
    "from tensorflow.keras.datasets import cifar10\n",
    "from tensorflow.keras.utils import to_categorical"
   ]
  },
  {
   "cell_type": "markdown",
   "id": "7bf20c07-1384-4955-ac4f-58789e87355c",
   "metadata": {},
   "source": [
    "#### 3. Load Dataset CIFAR-10\n",
    "\n",
    "Mengunduh dataset dan membaginya menjadi data latih dan uji."
   ]
  },
  {
   "cell_type": "code",
   "execution_count": 2,
   "id": "7e2b1aa8-f25c-45be-83b9-b833cfc7e0bd",
   "metadata": {},
   "outputs": [],
   "source": [
    "(x_train, y_train), (x_test, y_test) = cifar10.load_data()"
   ]
  },
  {
   "cell_type": "markdown",
   "id": "12a7e8d3-31c4-450e-a3d6-18fe7f1869c0",
   "metadata": {},
   "source": [
    "Menampilkan ukuran dataset:"
   ]
  },
  {
   "cell_type": "code",
   "execution_count": 3,
   "id": "21576719-d16c-4800-a5ff-1e16fc7ff880",
   "metadata": {},
   "outputs": [
    {
     "name": "stdout",
     "output_type": "stream",
     "text": [
      "Jumlah data latih: 50000\n",
      "Jumlah data uji: 10000\n",
      "Ukuran gambar: (32, 32, 3) (lebar, tinggi, channel)\n"
     ]
    }
   ],
   "source": [
    "print(f\"Jumlah data latih: {x_train.shape[0]}\")\n",
    "print(f\"Jumlah data uji: {x_test.shape[0]}\")\n",
    "print(f\"Ukuran gambar: {x_train.shape[1:]} (lebar, tinggi, channel)\")"
   ]
  },
  {
   "cell_type": "markdown",
   "id": "214b4e51-e738-45a3-8902-34b4f8f66ca8",
   "metadata": {},
   "source": [
    "#### 4. Visualisasi Data\n",
    "\n",
    "Menampilkan beberapa sampel gambar dari dataset untuk memahami bentuk datanya."
   ]
  },
  {
   "cell_type": "code",
   "execution_count": 4,
   "id": "1914cee8-3846-49b6-a22a-7c8a86ed8196",
   "metadata": {},
   "outputs": [
    {
     "data": {
      "image/png": "[encoded data removed]",
      "text/plain": [
       "<Figure size 1000x500 with 5 Axes>"
      ]
     },
     "metadata": {},
     "output_type": "display_data"
    }
   ],
   "source": [
    "fig, axes = plt.subplots(1, 5, figsize=(10, 5))\n",
    "for i, ax in enumerate(axes):\n",
    "    ax.imshow(x_train[i])\n",
    "    ax.axis('off')\n",
    "plt.show()"
   ]
  },
  {
   "cell_type": "markdown",
   "id": "480ae36a-17f4-4301-9fa6-70f856d82b7d",
   "metadata": {},
   "source": [
    "#### 5. Normalisasi Data\n",
    "\n",
    "Mengubah nilai piksel dari rentang 0-255 menjadi 0-1 agar model lebih cepat konvergen saat pelatihan."
   ]
  },
  {
   "cell_type": "code",
   "execution_count": 5,
   "id": "28527258-1fe6-431c-8723-5c1b04c47e63",
   "metadata": {},
   "outputs": [],
   "source": [
    "x_train = x_train.astype('float32') / 255\n",
    "x_test = x_test.astype('float32') / 255"
   ]
  },
  {
   "cell_type": "markdown",
   "id": "32e0cd34-6644-4189-9aae-e1bafe0e8b9a",
   "metadata": {},
   "source": [
    "#### 6. One-Hot Encoding Label\n",
    "\n",
    "Karena label dalam bentuk numerik (0-9), kita ubah ke format one-hot encoding agar sesuai dengan output softmax pada model CNN."
   ]
  },
  {
   "cell_type": "code",
   "execution_count": 6,
   "id": "64c4c2a6-aaa5-4f0c-b217-7e972da0aeee",
   "metadata": {},
   "outputs": [],
   "source": [
    "y_train = to_categorical(y_train, 10)\n",
    "y_test = to_categorical(y_test, 10)"
   ]
  },
  {
   "cell_type": "markdown",
   "id": "1ab814d6-6c52-4a5b-9a2c-f823700058e0",
   "metadata": {},
   "source": [
    "#### 7. Definisi Model CNN\n",
    "\n",
    "Arsitektur CNN yang digunakan:\n",
    "\n",
    "* 2 lapisan konvolusi dengan 32 dan 64 filter ukuran 3x3.\n",
    "\n",
    "* Lapisan MaxPooling setelah setiap lapisan konvolusi.\n",
    "\n",
    "* Dropout 0.3 untuk mencegah overfitting.\n",
    "\n",
    "* 2 lapisan Dense, dengan 128 unit dan 10 unit output dengan aktivasi softmax."
   ]
  },
  {
   "cell_type": "code",
   "execution_count": 7,
   "id": "2df28bf0-b00f-433d-a2d9-3f89214ce8f4",
   "metadata": {},
   "outputs": [
    {
     "name": "stdout",
     "output_type": "stream",
     "text": [
      "Model: \"sequential\"\n",
      "_________________________________________________________________\n",
      " Layer (type)                Output Shape              Param #   \n",
      "=================================================================\n",
      " conv2d (Conv2D)             (None, 32, 32, 32)        896       \n",
      "                                                                 \n",
      " max_pooling2d (MaxPooling2  (None, 16, 16, 32)        0         \n",
      " D)                                                              \n",
      "                                                                 \n",
      " dropout (Dropout)           (None, 16, 16, 32)        0         \n",
      "                                                                 \n",
      " conv2d_1 (Conv2D)           (None, 16, 16, 64)        18496     \n",
      "                                                                 \n",
      " max_pooling2d_1 (MaxPoolin  (None, 8, 8, 64)          0         \n",
      " g2D)                                                            \n",
      "                                                                 \n",
      " dropout_1 (Dropout)         (None, 8, 8, 64)          0         \n",
      "                                                                 \n",
      " flatten (Flatten)           (None, 4096)              0         \n",
      "                                                                 \n",
      " dense (Dense)               (None, 128)               524416    \n",
      "                                                                 \n",
      " dropout_2 (Dropout)         (None, 128)               0         \n",
      "                                                                 \n",
      " dense_1 (Dense)             (None, 10)                1290      \n",
      "                                                                 \n",
      "=================================================================\n",
      "Total params: 545098 (2.08 MB)\n",
      "Trainable params: 545098 (2.08 MB)\n",
      "Non-trainable params: 0 (0.00 Byte)\n",
      "_________________________________________________________________\n"
     ]
    },
    {
     "name": "stderr",
     "output_type": "stream",
     "text": [
      "2025-03-24 07:25:19.221953: E external/local_xla/xla/stream_executor/cuda/cuda_driver.cc:274] failed call to cuInit: CUDA_ERROR_NO_DEVICE: no CUDA-capable device is detected\n"
     ]
    }
   ],
   "source": [
    "model = Sequential([\n",
    "    Conv2D(32, (3, 3), activation='relu', padding='same', input_shape=(32, 32, 3)),\n",
    "    MaxPooling2D((2, 2)),\n",
    "    Dropout(0.3),\n",
    "    \n",
    "    Conv2D(64, (3, 3), activation='relu', padding='same'),\n",
    "    MaxPooling2D((2, 2)),\n",
    "    Dropout(0.3),\n",
    "    \n",
    "    Flatten(),\n",
    "    Dense(128, activation='relu'),\n",
    "    Dropout(0.3),\n",
    "    Dense(10, activation='softmax')\n",
    "])\n",
    "\n",
    "model.compile(optimizer='adam', loss='categorical_crossentropy', metrics=['accuracy'])\n",
    "model.summary()"
   ]
  },
  {
   "cell_type": "markdown",
   "id": "e56c6b1d-d02a-4a1e-a225-cd76157af47f",
   "metadata": {},
   "source": [
    "#### 8. Training Model\n",
    "\n",
    "Melatih model menggunakan 10 epoch dan batch size 32."
   ]
  },
  {
   "cell_type": "code",
   "execution_count": 8,
   "id": "8018186d-d41a-4d0f-90e4-3d2505c3dc21",
   "metadata": {},
   "outputs": [
    {
     "name": "stdout",
     "output_type": "stream",
     "text": [
      "Epoch 1/10\n",
      "1563/1563 [==============================] - 17s 10ms/step - loss: 1.6374 - accuracy: 0.4045 - val_loss: 1.2993 - val_accuracy: 0.5429\n",
      "Epoch 2/10\n",
      "1563/1563 [==============================] - 15s 10ms/step - loss: 1.2973 - accuracy: 0.5359 - val_loss: 1.1382 - val_accuracy: 0.6018\n",
      "Epoch 3/10\n",
      "1563/1563 [==============================] - 15s 10ms/step - loss: 1.1813 - accuracy: 0.5785 - val_loss: 1.0101 - val_accuracy: 0.6458\n",
      "Epoch 4/10\n",
      "1563/1563 [==============================] - 15s 10ms/step - loss: 1.1147 - accuracy: 0.6051 - val_loss: 0.9953 - val_accuracy: 0.6522\n",
      "Epoch 5/10\n",
      "1563/1563 [==============================] - 15s 10ms/step - loss: 1.0659 - accuracy: 0.6239 - val_loss: 0.9487 - val_accuracy: 0.6652\n",
      "Epoch 6/10\n",
      "1563/1563 [==============================] - 15s 10ms/step - loss: 1.0237 - accuracy: 0.6390 - val_loss: 0.9064 - val_accuracy: 0.6883\n",
      "Epoch 7/10\n",
      "1563/1563 [==============================] - 15s 10ms/step - loss: 0.9894 - accuracy: 0.6521 - val_loss: 0.8862 - val_accuracy: 0.6961\n",
      "Epoch 8/10\n",
      "1563/1563 [==============================] - 15s 10ms/step - loss: 0.9615 - accuracy: 0.6623 - val_loss: 0.8766 - val_accuracy: 0.7006\n",
      "Epoch 9/10\n",
      "1563/1563 [==============================] - 15s 10ms/step - loss: 0.9368 - accuracy: 0.6713 - val_loss: 0.8384 - val_accuracy: 0.7154\n",
      "Epoch 10/10\n",
      "1563/1563 [==============================] - 15s 10ms/step - loss: 0.9119 - accuracy: 0.6793 - val_loss: 0.8462 - val_accuracy: 0.7100\n"
     ]
    }
   ],
   "source": [
    "history = model.fit(x_train, y_train, epochs=10, batch_size=32, validation_data=(x_test, y_test))"
   ]
  },
  {
   "cell_type": "markdown",
   "id": "740f4359-392b-491d-8619-5c721861edd6",
   "metadata": {
    "tags": []
   },
   "source": [
    "#### 9. Evaluasi Model\n",
    "\n",
    "Mengukur performa model pada data uji."
   ]
  },
  {
   "cell_type": "code",
   "execution_count": 9,
   "id": "d620420f-e0ed-4d84-849f-5829d86c8e4f",
   "metadata": {
    "tags": []
   },
   "outputs": [
    {
     "name": "stdout",
     "output_type": "stream",
     "text": [
      "313/313 [==============================] - 1s 4ms/step - loss: 0.8462 - accuracy: 0.7100\n",
      "Akurasi pada data uji: 71.00%\n"
     ]
    }
   ],
   "source": [
    "test_loss, test_accuracy = model.evaluate(x_test, y_test)\n",
    "print(f\"Akurasi pada data uji: {test_accuracy * 100:.2f}%\")"
   ]
  },
  {
   "cell_type": "markdown",
   "id": "ce39efb2-2dea-47ac-8889-f299132c878b",
   "metadata": {},
   "source": [
    "#### 10. Plot Loss dan Akurasi\n",
    "\n",
    "Menampilkan grafik akurasi dan loss selama pelatihan."
   ]
  },
  {
   "cell_type": "code",
   "execution_count": 10,
   "id": "43569cb4-43c5-4a92-9f09-21d755163414",
   "metadata": {},
   "outputs": [
    {
     "data": {
      "image/png": "[encoded data removed]",
      "text/plain": [
       "<Figure size 1200x500 with 2 Axes>"
      ]
     },
     "metadata": {},
     "output_type": "display_data"
    }
   ],
   "source": [
    "fig, (ax1, ax2) = plt.subplots(1, 2, figsize=(12, 5))\n",
    "\n",
    "ax1.plot(history.history['loss'], label='Train Loss')\n",
    "ax1.plot(history.history['val_loss'], label='Validation Loss')\n",
    "ax1.set_title('Perbandingan Loss')\n",
    "ax1.legend()\n",
    "\n",
    "ax2.plot(history.history['accuracy'], label='Train Accuracy')\n",
    "ax2.plot(history.history['val_accuracy'], label='Validation Accuracy')\n",
    "ax2.set_title('Perbandingan Akurasi')\n",
    "ax2.legend()\n",
    "\n",
    "plt.show()"
   ]
  },
  {
   "cell_type": "markdown",
   "id": "f4902cc0-9700-4690-9324-dcc5fb5f4673",
   "metadata": {},
   "source": [
    "#### 11. Prediksi Beberapa Gambar\n",
    "\n",
    "Menampilkan hasil prediksi dari beberapa gambar di dataset uji."
   ]
  },
  {
   "cell_type": "code",
   "execution_count": 11,
   "id": "e8f4f8ac-956e-4a7e-98cb-25c6255baf94",
   "metadata": {},
   "outputs": [
    {
     "name": "stdout",
     "output_type": "stream",
     "text": [
      "1/1 [==============================] - 0s 90ms/step\n",
      "1/1 [==============================] - 0s 24ms/step\n",
      "1/1 [==============================] - 0s 23ms/step\n",
      "1/1 [==============================] - 0s 22ms/step\n",
      "1/1 [==============================] - 0s 23ms/step\n"
     ]
    },
    {
     "data": {
      "image/png": "[encoded data removed]",
      "text/plain": [
       "<Figure size 1000x500 with 5 Axes>"
      ]
     },
     "metadata": {},
     "output_type": "display_data"
    }
   ],
   "source": [
    "class_names = ['Airplane', 'Automobile', 'Bird', 'Cat', 'Deer', 'Dog', 'Frog', 'Horse', 'Ship', 'Truck']\n",
    "\n",
    "fig, axes = plt.subplots(1, 5, figsize=(10, 5))\n",
    "for i, ax in enumerate(axes):\n",
    "    img = x_test[i]\n",
    "    ax.imshow(img)\n",
    "    ax.axis('off')\n",
    "    pred = np.argmax(model.predict(np.expand_dims(img, axis=0)))\n",
    "    ax.set_title(f\"Prediksi: {class_names[pred]}\")\n",
    "plt.show()"
   ]
  },
  {
   "cell_type": "markdown",
   "id": "7855cbfb-cbdf-45a2-aa5f-93079fcfe55f",
   "metadata": {},
   "source": [
    "#### 12. Kesimpulan\n",
    "\n",
    "* Model CNN berhasil diterapkan untuk klasifikasi gambar `CIFAR-10` dan `mnist-DIGITS`\n",
    "\n",
    "* Dengan arsitektur yang digunakan, model mencapai akurasi yang cukup baik pada data uji.\n",
    "\n",
    "* Model dapat ditingkatkan dengan augmentasi data atau arsitektur yang lebih kompleks.\n",
    "\n",
    "___Selamat belajar dan bereksperimen dengan CNN! 🚀___"
   ]
  },
  {
   "cell_type": "markdown",
   "id": "0d584824-f418-420f-965a-08e4de598aeb",
   "metadata": {
    "tags": []
   },
   "source": [
    "<a id=\"100\"></a> \n",
    "## 💡Quiz Time"
   ]
  },
  {
   "cell_type": "markdown",
   "id": "9231fc20-5d07-405f-b6bd-4a157625342d",
   "metadata": {},
   "source": [
    "__Soal 1:__ Bagaimana cara menghindari overfitting dalam model Deep Learning?\n",
    "\n",
    "\n",
    "__Soal 2:__ Apa yang dilakukan oleh fungsi `to_categorical` dalam Keras?"
   ]
  }
 ],
 "metadata": {
  "kernelspec": {
   "display_name": "Python 3 (ipykernel)",
   "language": "python",
   "name": "python3"
  },
  "language_info": {
   "codemirror_mode": {
    "name": "ipython",
    "version": 3
   },
   "file_extension": ".py",
   "mimetype": "text/x-python",
   "name": "python",
   "nbconvert_exporter": "python",
   "pygments_lexer": "ipython3",
   "version": "3.11.9"
  }
 },
 "nbformat": 4,
 "nbformat_minor": 5
}
