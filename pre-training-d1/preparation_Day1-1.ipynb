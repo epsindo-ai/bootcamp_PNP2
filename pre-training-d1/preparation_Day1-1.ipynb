{
 "cells": [
  {
   "cell_type": "markdown",
   "id": "4ae52cb9-5ff9-4338-a830-9122264c93f8",
   "metadata": {
    "tags": []
   },
   "source": [
    "<img src=\"https://www.dropbox.com/scl/fi/43hqdf0m38towzlbjv42f/epsindo-header.jpg?rlkey=u1kbivcdhbf0wpv1fyuqggpnp&st=4vn8xg6k&dl=1\" width=\"1400\"/>"
   ]
  },
  {
   "cell_type": "markdown",
   "id": "9d973051-d4a9-420c-8a0c-7836fdc9d744",
   "metadata": {},
   "source": [
    "# Pra Pelatihan 1: Get Started To Python\n",
    "---"
   ]
  },
  {
   "cell_type": "markdown",
   "id": "6cf05790-8001-4d54-a8c4-fe0f6ddd6604",
   "metadata": {},
   "source": [
    "### Isi Materi :\n",
    "\n",
    "1. [Installasi Python](#1) \n",
    "2. [PIP (Python Package Manager)](#2)\n",
    "3. [Installation Jupyter Notebook](#3)\n",
    "4. [Intro to Python](#4)\n",
    "5. [Quiz](#5)"
   ]
  },
  {
   "cell_type": "markdown",
   "id": "c3914ad1-ac6c-495e-9f04-69cc5eb0efcf",
   "metadata": {},
   "source": [
    "### 📌 Ekspektasi Hasil Pembelajaran:\n",
    "Peserta dapat mengetahui secara singkat apa itu bahasa pemrograman Python, apa itu Python Package Manager (pip), dan peserta dapat menginstall Jupyter Notebook."
   ]
  },
  {
   "cell_type": "markdown",
   "id": "3083e52e-9196-4129-899b-a546a017cd5f",
   "metadata": {},
   "source": [
    "*Referensi*: \n",
    "1. https://www.w3schools.com/python/python_intro.asp\n",
    "2. https://www.petanikode.com/python-pip/\n",
    "3. https://www.petanikode.com/python-sintaks/\n",
    "4. https://myedusolve.com/id/blog/python-definisi-manfaat-dan-keunggulan\n",
    "5. https://www.w3schools.com/python/python_pip.asp\n",
    "6. https://realpython.com/installing-python/\n",
    "7. https://ngodingdata.com/memahami-jupyter-notebook-dan-cara-menggunakannya/\n"
   ]
  },
  {
   "cell_type": "markdown",
   "id": "2adb026d-2ea8-46cd-8dce-268e0c40ca6c",
   "metadata": {},
   "source": [
    "<a id=\"1\"></a>\n",
    "## 1. Installasi Python"
   ]
  },
  {
   "cell_type": "markdown",
   "id": "91ddf0d5-31e4-4a1a-adde-0ae8b3af9cc9",
   "metadata": {
    "tags": []
   },
   "source": [
    "### Install Python pada Ubuntu\n",
    "\n",
    "Ubuntu biasanya sudah menyertakan Python secara default. Kita bisa memeriksa versi Python yang sudah terpasang dengan membuka terminal dan mengetikkan perintah berikut:\n",
    "\n",
    "```python3 --version```\n",
    "\n",
    "Atau\n",
    "\n",
    "```python --version```"
   ]
  },
  {
   "cell_type": "markdown",
   "id": "809d7485-9d3a-4cef-928e-378061c72800",
   "metadata": {},
   "source": [
    "Jika Python sudah terinstal, Anda akan melihat versi Python yang terpasang, seperti Python 3.x.x. Jika belum terpasang atau ingin menginstal versi terbaru, lanjutkan ke langkah berikutnya."
   ]
  },
  {
   "cell_type": "code",
   "execution_count": null,
   "id": "ef8d16ae-d72f-4e8d-ae16-0f421bdd3b19",
   "metadata": {},
   "outputs": [],
   "source": [
    "# Memastikan sistem telah Up to Date \n",
    "sudo apt update\n",
    "sudo apt upgrade"
   ]
  },
  {
   "cell_type": "markdown",
   "id": "69fb0c42-a253-419d-9007-e6c276fe6ba5",
   "metadata": {},
   "source": [
    "Untuk menginstal Python 3 (versi terbaru), gunakan perintah berikut:"
   ]
  },
  {
   "cell_type": "code",
   "execution_count": null,
   "id": "7cf65290-137f-4088-bb56-e0facf564ddc",
   "metadata": {},
   "outputs": [],
   "source": [
    "# Menginstall Python versi 3\n",
    "sudo apt install python3"
   ]
  },
  {
   "cell_type": "markdown",
   "id": "0badc2ec-ca2d-4251-abc3-c65fbcb385f1",
   "metadata": {},
   "source": [
    "Setelah menginstal Python, Kita bisa memverifikasi apakah sudah terinstal dengan baik dengan menjalankan:"
   ]
  },
  {
   "cell_type": "code",
   "execution_count": null,
   "id": "746ba0ec-7421-4f3d-9483-336b2a0f30db",
   "metadata": {},
   "outputs": [],
   "source": [
    "# Untuk Python versi 3\n",
    "python3 --version\n",
    "\n",
    "# Untuk Python versi 2\n",
    "python --version"
   ]
  },
  {
   "cell_type": "markdown",
   "id": "ec033243-5c3f-4677-8521-92c92031d536",
   "metadata": {
    "tags": []
   },
   "source": [
    "### Install Python pada Windows\n",
    "Untuk memeriksa apakah Python sudah terinstall pada mesin Windows. Buka *__comand line__* seperti *__PowerShell__* atau *__Windows Terminal__*.\n",
    "\n",
    "1. Tekan tombol windows key.\n",
    "2. Ketik PowerShell.\n",
    "3. Tekan Enter.\n",
    "\n",
    "Pada *__Comand Line__* ketik perintah berikut untuk memverifikasi apakah Python sudah terinstall atau belum."
   ]
  },
  {
   "cell_type": "markdown",
   "id": "f385c398-68ae-48d4-8599-534545fcf485",
   "metadata": {},
   "source": [
    "python --version"
   ]
  },
  {
   "cell_type": "markdown",
   "id": "e03d34d1-4230-44df-bda0-6477226e0352",
   "metadata": {},
   "source": [
    "Ikuti langkah berikut untuk mengunduh Installer Python resmi dari situs Python.org:\n",
    "1. Buka peramban dan arahkan ke halaman unduh untuk Windows pada Python.org (https://www.python.org/downloads/windows/).\n",
    "2. Dibawah judul Python rilis untuk Windows, klik link untuk versi python yang di inginkan.\n",
    "3. Gulirkan ke bagian bawah dan pilih Windows installer (*64-bit*) atau Windows Installer (*32-bit*)\n",
    "4. Setelah selesai di unduh, jalankan dengan cara melakukan klik 2 kali pada file, dan sebuah tampilan *Wizard* akan tampil pada layar.\n",
    "5. Centang *CheckBox* *__Use admin privilege when installing py.exe__* untuk mengizinkan setiap *user* pada Windows dapat mengkases *py.exe*.\n",
    "6. Centang *CheckBox* *__Add python.exe to PATH__* jika anda menginginkan perintah Python untuk dapat bekerja di dalam mesin Windows.\n",
    "\n",
    "*__Note__*: <span style=\"color:red\">\n",
    "Jika sistem Anda memiliki prosesor 32-bit, maka Anda harus memilih penginstal 32-bit. Jika Anda mencoba menginstal versi 64-bit pada prosesor 32-bit, maka Anda akan mendapatkan kesalahan di awal, dan penginstalan akan gagal. \n",
    "</span>"
   ]
  },
  {
   "cell_type": "markdown",
   "id": "2acef0a4-653c-437f-a755-7d9a142fd3ea",
   "metadata": {},
   "source": [
    "<center>\n",
    "    <img src=\"../assets/wizard_python.png\" alt=\"Wizard Python Windows Installer\" width=\"500\"/>\n",
    "</center>"
   ]
  },
  {
   "cell_type": "markdown",
   "id": "d273d0b9-a9c4-4712-82ec-24e7603eb91f",
   "metadata": {},
   "source": [
    "__Memeriksa lokasi instalasi Python dengan where.exe__"
   ]
  },
  {
   "cell_type": "code",
   "execution_count": null,
   "id": "10904cbb-4955-4b8a-872b-49374e50e0c0",
   "metadata": {},
   "outputs": [],
   "source": [
    "where.exe python"
   ]
  },
  {
   "cell_type": "markdown",
   "id": "ab35f396-eff9-4f46-9746-188eb26dcdcb",
   "metadata": {},
   "source": [
    "__Verifikasi Python apakah sudah terinstall atau belum__"
   ]
  },
  {
   "cell_type": "code",
   "execution_count": null,
   "id": "217a0faa-0b1d-444f-8c9d-58e51b3e6918",
   "metadata": {},
   "outputs": [],
   "source": [
    "python --version"
   ]
  },
  {
   "cell_type": "markdown",
   "id": "de8c3c01-8921-4d39-85f2-30ad5cdfccf4",
   "metadata": {
    "tags": []
   },
   "source": [
    "<a id=\"2\"></a>\n",
    "## 2. Package Python Manager (pip)"
   ]
  },
  {
   "cell_type": "markdown",
   "id": "f96a0f5d-8c8e-49fd-8c92-231bf0c7e4ed",
   "metadata": {},
   "source": [
    "### Apa itu Python Package Manager ?\n",
    "Python Package Manager atau kita sebut *__pip__*, merupakan program untuk manajemen paket atau modul pada Python. Paket Python itu merupakan sebuah modul yang berisi kode-kode python dan isi paket ini bisa kita impor ke dalam program kita.\n",
    "\n",
    "*__Note__*: <span style=\"color:red\">Python versi 3.4 atau lebih, pip sudah termasuk didalamnya secara *__default__* </span>."
   ]
  },
  {
   "cell_type": "markdown",
   "id": "f83f6014-d38b-443d-98c4-37240a20c86a",
   "metadata": {},
   "source": [
    "### Memeriksa apakah PIP sudah terinstall\n",
    "\n",
    "Arahkan *__Comand Line__* pada lokasi direktori skrip Python, dan ketik perintah berikut ini:\n",
    "\n",
    "```C:\\Users\\Your Name\\AppData\\Local\\Programs\\Python\\Python36-32\\Scripts>pip --version```"
   ]
  },
  {
   "cell_type": "markdown",
   "id": "1bdb4a47-b575-490a-8fe6-6dfb22d1420f",
   "metadata": {},
   "source": [
    "### Cara menginstall PIP\n",
    "Pada Linux (Ubuntu), kita dapat menginstall PIP dengan perintah ini:"
   ]
  },
  {
   "cell_type": "code",
   "execution_count": null,
   "id": "ac77141e-bb37-4123-8fe1-230fd9f6259d",
   "metadata": {},
   "outputs": [],
   "source": [
    "# pip untuk versi python 2\n",
    "sudo apt install python-pip\n",
    "\n",
    "# pip untuk versi python 3\n",
    "sudo apt install python3-pip"
   ]
  },
  {
   "cell_type": "markdown",
   "id": "2d034e53-a31c-438b-8259-9c0e4b759c5c",
   "metadata": {},
   "source": [
    "### Cara menggunakan PIP\n",
    "Pertama kita akan mencoba untuk menginstall sebuah paket dengan PIP.\n",
    "\n",
    "__Install paket dengan PIP__:\n",
    "\n",
    "```pip install <nama paket>```"
   ]
  },
  {
   "cell_type": "markdown",
   "id": "58f9ddd8-eef3-4ea2-b91d-591d6d5e1c55",
   "metadata": {},
   "source": [
    "Kita akan mencoba untuk menginstall paket *__Seaborn__*. Paket ini berisi modul untuk mmevisualisasikan data dengan cara membuat grafik dan diagram yang menarik. Biasanya digunakan untuk analisis data.\n",
    "\n",
    "Ketik perintah berikut untuk menginstall paket *__Seaborn__*:"
   ]
  },
  {
   "cell_type": "code",
   "execution_count": null,
   "id": "024c7e2f-4c09-4ad0-b20b-a7c125d81501",
   "metadata": {},
   "outputs": [],
   "source": [
    "pip install seaborn"
   ]
  },
  {
   "cell_type": "markdown",
   "id": "582d255e-a12c-4848-8f3e-e578bbcb59b1",
   "metadata": {},
   "source": [
    "__Menggunakan paket yang sudah di install__:\n",
    "\n",
    "```import <nama paket>```"
   ]
  },
  {
   "cell_type": "markdown",
   "id": "c4dd4133-2a7f-44ea-bac3-f70405ec82cf",
   "metadata": {},
   "source": [
    "Kita akan mencoba untuk memanggil paket seaborn yang akan di aliaskan menjadi sns."
   ]
  },
  {
   "cell_type": "code",
   "execution_count": null,
   "id": "a1513606-3d1d-4a65-82a4-5c49bdaa6384",
   "metadata": {},
   "outputs": [],
   "source": [
    "import seaborn as sns"
   ]
  },
  {
   "cell_type": "markdown",
   "id": "4b68dc0c-a8e8-4813-ac73-00a91472931c",
   "metadata": {},
   "source": [
    "*__Note__*: <span style=\"color:red\">*__pip__* digunakan untuk menginstall paket pada Python versi 2. sedangkan apabila kita menggunakan Python versi 3, kita dapat menggunakan *__pip3__* untuk mengisntall.</span>"
   ]
  },
  {
   "cell_type": "markdown",
   "id": "c04e6518-113c-4821-aa82-e2bb6f34ec28",
   "metadata": {},
   "source": [
    "__Menghapus paket Python__"
   ]
  },
  {
   "cell_type": "markdown",
   "id": "7bab3c89-7ec8-4a81-a160-33cb51b26839",
   "metadata": {},
   "source": [
    "Untuk menghapus paket pada python, ketik perintah berikut: \n",
    "\n",
    "```pip uninstall <nama paket>```"
   ]
  },
  {
   "cell_type": "markdown",
   "id": "f77f07c6-55b3-4ced-99af-02c55bb2325f",
   "metadata": {},
   "source": [
    "Kita akan mencoba untuk menghapus paket *__Seaborn__* yang sebelumnya sudah kita install. "
   ]
  },
  {
   "cell_type": "code",
   "execution_count": null,
   "id": "b4dec779-c97c-4872-87c6-e444905f3a86",
   "metadata": {},
   "outputs": [],
   "source": [
    "pip uninstall seaborn"
   ]
  },
  {
   "cell_type": "markdown",
   "id": "4e3c1da3-3f72-4745-baad-2ff0d1704450",
   "metadata": {},
   "source": [
    "__Melakukan pembaruan paket Python__\n",
    "\n",
    "Jika kita ingin melakukan pembaruan versi paket yang terinstall ke versi terbaru, kita dapat menggunakan perintah berikut ini.\n",
    "\n",
    "```pip install <nama paket> --upgrade```"
   ]
  },
  {
   "cell_type": "markdown",
   "id": "106b254e-21a3-43bc-ba80-4ba8afc05e69",
   "metadata": {},
   "source": [
    "Kita akan mencoba melakukan pembaruan versi paket *__Seaborn__*."
   ]
  },
  {
   "cell_type": "code",
   "execution_count": null,
   "id": "6d593723-f205-4322-9d89-e1eba18c4333",
   "metadata": {},
   "outputs": [],
   "source": [
    "pip install seaborn --upgrade"
   ]
  },
  {
   "cell_type": "markdown",
   "id": "e9ae5a9f-c1e6-4d7e-a432-b21b824b1e27",
   "metadata": {},
   "source": [
    "__Melihat lokasi penyimpanan paket Python__\n",
    "Paket Python yang telah diinstal dengan *__pip__* akan disimpan ke dalam direktori pada sistem operasi kita.\n",
    "\n",
    "Untuk memeriksanya, ketikan perintah berikut ini:"
   ]
  },
  {
   "cell_type": "code",
   "execution_count": null,
   "id": "0ec81e4b-4769-48f0-97c7-54665b1713cd",
   "metadata": {},
   "outputs": [],
   "source": [
    "python -m site"
   ]
  },
  {
   "cell_type": "markdown",
   "id": "cf342e8a-0878-488f-91db-f339e1701374",
   "metadata": {},
   "source": [
    "__Melihat informasi paket yang telah diinstall__\n",
    "\n",
    "Jika kita ingin melihat daftar paket apa saja yang sudah terinstall, kita dapat ketik perintah berikut ini:"
   ]
  },
  {
   "cell_type": "code",
   "execution_count": null,
   "id": "07eaece8-a212-4007-9bcc-fbf77c9fcb7d",
   "metadata": {},
   "outputs": [],
   "source": [
    "pip list"
   ]
  },
  {
   "cell_type": "markdown",
   "id": "871e16f3-e4d1-4ea3-91e5-c7d2838df3ff",
   "metadata": {},
   "source": [
    "Lalu untuk melihat informasi paket secara detail, kita bisa ketik perintah berikut ini:\n",
    "\n",
    "```pip show <nama paket>```"
   ]
  },
  {
   "cell_type": "markdown",
   "id": "960e0d1d-3cf5-436f-906a-4a91ac9a4136",
   "metadata": {},
   "source": [
    "__Mencari paket Python__\n",
    "\n",
    "untuk mencari nama paket, kita dapat ketik perintah berikut ini:\n",
    "\n",
    "```pip search <kata kunci>```"
   ]
  },
  {
   "cell_type": "markdown",
   "id": "698ceb7e-5bd7-46b9-9b66-7b0f272bdbf1",
   "metadata": {},
   "source": [
    "__Mendeteksi paket yang ter-install dalam requirement format__\n",
    "\n",
    "Pip freeze digunakan untuk menampilkan daftar paket yang terinstall beserta versinya dalam format yang cocok untuk disimpan ke file requirements. Tujuannya agar tim yang lain bisa menginstal versi paket yang sama di komputernya."
   ]
  },
  {
   "cell_type": "code",
   "execution_count": null,
   "id": "266f117e-c908-4243-a3dd-915e2dc9884c",
   "metadata": {
    "vscode": {
     "languageId": "bat"
    }
   },
   "outputs": [],
   "source": [
    "pip freeze > requirements.txt"
   ]
  },
  {
   "cell_type": "markdown",
   "id": "5bfa65a0-a6b5-4cc6-9826-6086e43cf2ca",
   "metadata": {},
   "source": [
    "Hasil output dapat kita simpan ke dalam file requirements.txt."
   ]
  },
  {
   "cell_type": "markdown",
   "id": "a9db1cb9-afaf-4897-a189-8e88753ac895",
   "metadata": {},
   "source": [
    "Lalu pada komputer tim yang lain, kita bisa gunakan perintah ini untuk menginstal semua paket yang terdaftar di requirements.txt."
   ]
  },
  {
   "cell_type": "code",
   "execution_count": null,
   "id": "4b05bf8d-6b18-4206-ae7f-1eb8128f5a65",
   "metadata": {},
   "outputs": [],
   "source": [
    "pip install -r requirements.txt"
   ]
  },
  {
   "cell_type": "markdown",
   "id": "a9179899-62a6-4229-b32b-35dff8e8b7fb",
   "metadata": {
    "tags": []
   },
   "source": [
    "<a id=\"3\"></a>\n",
    "## 3. Instalasi Jupyter Lab"
   ]
  },
  {
   "cell_type": "markdown",
   "id": "ffc8daeb-864c-41e2-93db-05a65c78a58d",
   "metadata": {},
   "source": [
    "Jupyter Lab merupakan tool yang populer untuk mengolah data di python. Jupyter Notebook memungkinkan untuk mengintegrasikan antara kode dengan output di dalam satu dokumen secara interaktif.\n",
    "\n",
    "Jupyter Lab sudah otomatis terinstall ketika kita telah menginstall python dengan anaconda. Jika menginstall python tidak melalui anaconda maka kita harus install terlebih dahulu dengan *__pip__* atau *__conda__*."
   ]
  },
  {
   "cell_type": "code",
   "execution_count": null,
   "id": "34e44b8d-beab-43a8-83d7-9b979c726da2",
   "metadata": {},
   "outputs": [],
   "source": [
    "pip install jupyterlab"
   ]
  },
  {
   "cell_type": "markdown",
   "id": "d4b2a8e7-52a9-4345-b0a5-6f5a287c8816",
   "metadata": {},
   "source": [
    "__Menjalankan Jupyter Lab__\n",
    "\n",
    "Cara menjalankan Jupyter Lab adalah dengan mengetik *__jupyter lab__* di terminal. \n",
    "\n",
    "<left>\n",
    "    <img src=\"../assets/jupyterlab.png\" alt=\"Blok Indentasi Python\" width=\"800\"/>\n",
    "</left>\n",
    "\n",
    "Jupyter Lab diakses melalui browser. Saat servis dijalankan kita akan diarahkan ke halaman browser pada alamat http://localhost:8888/tree\n",
    "\n",
    "Halaman Jupyter Lab akan muncul di lokasi folder dimana kita menjalankan sintaks jupyter notebook"
   ]
  },
  {
   "cell_type": "markdown",
   "id": "c3102d5b-a0bd-45b6-966b-c902ed318241",
   "metadata": {
    "tags": []
   },
   "source": [
    "<left>\n",
    "    <img src=\"../assets/homejupy.png\" alt=\"Blok Indentasi Python\" width=\"800\"/>\n",
    "</left>"
   ]
  },
  {
   "cell_type": "markdown",
   "id": "903dd2a4-7cbf-40e5-acc9-fac98a4689e4",
   "metadata": {
    "slideshow": {
     "slide_type": "slide"
    },
    "tags": []
   },
   "source": [
    "# All About Markdown in Jupyter\n",
    "---\n",
    "\n",
    "1. point 1\n",
    "2. point 2\n",
    "* point\n",
    "* point\n",
    "1. [TIPE DATA PYTHON](#1)\n",
    "2. [STRING FORMATTING](#2)\n",
    "\n",
    "**selamat datang** di praktikum _MK unggulan DGX_ **_Universitas Gunadarma_**\n",
    "\n",
    "bisa juga menggunaka sintaks Latex $\\sqrt(2)$"
   ]
  },
  {
   "cell_type": "markdown",
   "id": "c98dad71-8c2e-48be-be86-0e1befb8f7f8",
   "metadata": {},
   "source": [
    "| Cara Menjalankan dari Menu | Kunci Pintas | Keterangan |\n",
    "| -------------------------- | ------------ | ---------- |\n",
    "| Menu Cell –> Run Cells     | Ctrl+Enter (atau Cmd+Enter untuk Mac) | Menjalankan sel |\n",
    "| Menu Cell –> Run Cells and Select Below | Shift+Enter | Menjalankan sel lalu memindahkan fokus ke sel berikutnya |\n",
    "| Menu Cell –> Run Cells and Insert Below | Alt+Enter (atau Option+Enter untuk Mac) | Menjalankan sel lalu membuat sel baru di bawahnya |"
   ]
  },
  {
   "cell_type": "markdown",
   "id": "a125ff6b-375c-4aed-bdbb-cbe97a0d5a89",
   "metadata": {
    "tags": []
   },
   "source": [
    "<a id=\"4\"></a>\n",
    "## 4. Intro To Python"
   ]
  },
  {
   "cell_type": "markdown",
   "id": "7ea0cd9d-28ee-4eaf-a7ef-c3380959694b",
   "metadata": {
    "tags": []
   },
   "source": [
    "### Apa itu Python ?\n",
    "\n",
    "Python adalah bahasa pemrograman yang sering digunakan untuk mengembangkan *Website, Data Analytics, Machine Learning,* dan *Artificial Intelligence*. Saat ini Python menjadi bahasa pemrograman yang populer dan paling banyak dipelajari.. Python diciptakan oleh *__Guido Van Rossum__* pada tahun __1991__.\n",
    "\n",
    "### Mengapa Python ?\n",
    "Bahasa pemrograman Python memiliki beberapa keunggulan sehingga digunakan oleh banyak *Programmer*. Berikut ini adalah beberapa keunggulan Python:\n",
    "1. Python mudah diakses di berbagai sistem operasi komputer, misalnya Windows, Mac, Linux, Raspberry Pi, dan sebagainya.\n",
    "2. Kode sintaks pada Python menggunakan basis bahasa Inggris, sehingga mudah diingat, dibaca, dan dipelajari, bahkan oleh orang yang tidak memiliki latar belakang programmer.\n",
    "3. Dibandingkan dengan bahasa pemrograman lainnya, di Python programmer bisa menyederhanakan kode syntax sehingga tidak terlalu panjang.\n",
    "4. Dalam sistem Python terdapat interpreter system yang memiliki kemampuan untuk membaca kode syntax secara langsung begitu kode ditulis. Artinya, proses prototyping pun menjadi sangat cepat.\n",
    "5. Python bisa menangani pekerjaan prosedural, orientasi objek, dan pekerjaan fungsional.\n",
    "6. Cara membuat kode syntax di Python lebih mudah daripada bahasa pemrograman lain. Jika software pemrograman lain harus menggunakan semicolon ( ; ) atau tanda kurung untuk menyelesaikan perintah. Namun, dalam Python untuk memberi perintah cukup membuat baris baru.\n",
    "7. Kemudian, jika software pemrograman lain kebanyakan menggunakan tanda kurung kurawal untuk menentukan cakupan, di Python cukup menggunakan spasi dan paragraf.\n",
    "\n",
    "### Sintaksis Python dibanding dengan bahasa pemrograman yang lain\n",
    "Sintaks bahasa pemrograman Python berbeda dengan bahasa pemrograman lain, yaitu: \n",
    "1. Python dirancang agar mudah untuk dibaca, dan beberapa sintaks memiliki kesamaan dengan bahasa Inggris.\n",
    "2. Python menggunakan *__new lines__* untuk mengakhiri atau menyelesaikan perintah *comand*, berbeda dengan bahasa pemrograman lain yang sering menggunakan semicolon ( ; ) atau tanda kurung kurawal( {} ).\n",
    "3. Python menggunakan *__Indentasi__*, menggunakan spasi, untuk mendefinisikan ruang lingkup, seperti ruang lingkup *__loop__*, fungsi, dan kelas. Bahasa pemrograman lain sering menggunakan tanda kurung kurawal untuk tujuan ini.\n",
    "\n",
    "### 5 Aturan Penulisan Sintaks Python yang Harus dipatuhi\n",
    "\n",
    "1. __Penulisan Statement Python__\n",
    "\n",
    "Statement adalah sebuah instruksi atau kalimat perintah yang akan dieksekusi oleh komputer.\n",
    "\n",
    "Contoh:\n",
    "\n",
    "```python\n",
    "print(\"Hello World!\")\n",
    "print(\"Belajar Python from zero to hero!\")\n",
    "nama = \"Redja\"\n",
    "```\n",
    "\n",
    "Penulisan satu statement tidak diakhiri dengan tanda titik-koma.\n",
    "\n",
    "Sedangkan, bila kita ingin menulis lebih dari satu statement dalam satu baris, maka kita harus memisahnya dengan titik-koma.\n",
    "\n",
    "Contoh:\n",
    "\n",
    "```python\n",
    "print(\"Hello\"); print(\"World\"); print(\"Tutorial Python untuk Pemula\")\n",
    "nama_depan = \"Julius\"; nama_belakang = \"Tanuwijaya\"\n",
    "```\n",
    "\n",
    "\n",
    "*__Note__*: <span style=\"color:red\">\n",
    "Menurut beberapa style guide python, tidak dianjurkan menulis lebih dari satu statement dalam satu baris. Karena akan sulit dibaca. \n",
    "</span>\n",
    "\n",
    "\n",
    "---\n",
    "\n",
    "2. __Penulisan String pada Python__\n",
    "\n",
    "String adalah teks atau kumpulan dari karakter.\n",
    "\n",
    "String dalam pemrograman biasanya ditulis dengan dibungkus menggunakan tanda petik.\n",
    "\n",
    "Bisa menggunakan tanda petik tunggal maupun ganda.\n",
    "\n",
    "Contoh:\n",
    "\n",
    "```python\n",
    "judul = \"Belajar Pemrograman Python sampai Menyala!\"\n",
    "nama = 'Alvins Steven'\n",
    "```\n",
    "\n",
    "Atau kita juga bisa menggunakan triple tanda petik.\n",
    "\n",
    "Contoh:\n",
    "\n",
    "```python\n",
    "judul = \"\"\"Belajar Python dengan Pasti!\"\"\"\n",
    "penulis = '''Ilham'''\n",
    "```\n",
    "\n",
    "String Formatting dalam Python:\n",
    "\n",
    "```python\n",
    "name = 'bayu'\n",
    "age = 17\n",
    "\n",
    "# Old Style\n",
    "\n",
    "print('Hello i am %s i am %d years old' % (name, age))\n",
    "\n",
    "# 'New Style' string formatting\n",
    "\n",
    "print('Hello i am {0} i am {1} years old'.format(name, age))\n",
    "\n",
    "# String interpolation\n",
    "\n",
    "print(f'Hello i am {name} i am {age} years old')\n",
    "```\n",
    "\n",
    "output:\n",
    "```\n",
    "Hello i am bayu i am 17 years old\n",
    "Hello i am bayu i am 17 years old\n",
    "Hello i am bayu i am 17 years old\n",
    "```\n",
    "\n",
    "\n",
    "3. __Penuilsan Case pada Python__\n",
    "\n",
    "Sintak Python bersifat case sensitive, artinya ```namaDepan``` dengan ```NamaDepan``` dibedakan.\n",
    "\n",
    "Contoh:\n",
    "\n",
    "```python\n",
    "kalimat = \"Belajar Dasar-dasar Python\"\n",
    "Kalimat = \"Belajar Membuat Program Python\"\n",
    "```\n",
    "\n",
    "Antara variabel ```kalimat``` dengan ```Kalimat``` itu beda !\n",
    "\n",
    "__Case Style__\n",
    "\n",
    "Menurut rekomendasi style guide *Google*, berikut ini contoh penulisan case yang disarankan:\n",
    "\n",
    "```python\n",
    "## Snake Case digunakan pada:\n",
    "module_name, package_name, method_name, function_name, , global_var_name, instance_var_name, function_parameter_name, local_var_name.\n",
    "\n",
    "## CamelCase digunakan Pada:\n",
    "ClassName, ExceptionName\n",
    "\n",
    "## ALL CAPS digunakan Pada:\n",
    "GLOBAL_CONSTANT_NAME\n",
    "```\n",
    "\n",
    "4. __Penulisan Blok Program Python__\n",
    "\n",
    "Blok program adalah kumpulan dari beberapa statement yang digabungkan dalam satu blok.\n",
    "\n",
    "Penulisan blok program harus ditambahkan indentasi (tab atau spasi 2x/4x).\n",
    "\n",
    "<center>\n",
    "    <img src=\"../assets/blok_program_python.png\" alt=\"Blok Indentasi Python\" width=\"500\"/>\n",
    "</center>\n",
    "\n",
    "Contoh yang benar:\n",
    " \n",
    "```python\n",
    "# blok percabangan if\n",
    "if username == 'alvin':\n",
    "    print(\"Selamat Datang Admin\")\n",
    "    print(\"Silakan ambil tempat duduk\")\n",
    "\n",
    "# blok percabangan for\n",
    "for i in range(10):\n",
    "    print i\n",
    "```\n",
    "\n",
    "Contoh yang salah:\n",
    "\n",
    "```python\n",
    "# blok percabangan if\n",
    "if username == 'redja':\n",
    "print(\"Selamat Datang Admin\")\n",
    "print(\"Silakan ambil tempat duduk\")\n",
    "\n",
    "# blok percabangan for\n",
    "for i in range(10):\n",
    "print i\n",
    "```\n",
    "\n",
    "5. __Cara Penulisan Komentar pada Python__\n",
    "\n",
    "Komentar merupakan baris kode yang tidak akan dieksekusi.\n",
    "\n",
    "Komentar digunakan untuk memberikan informasi tambahan dan untuk menonaktifkan kode.\n",
    "\n",
    "Ada beberapa cara menulis komentar pada pemrograman Python.\n",
    "\n",
    "__Menggunakan Tanda Pagar (```#```)__\n",
    "\n",
    "Cara pertama menggunakan tanda pagar (```#```).\n",
    "\n",
    "Cara ini paling sering digunakan.\n",
    "\n",
    "Contohnya:\n",
    "\n",
    "```python\n",
    "# ini adalah komentar\n",
    "# Ini juga komentar\n",
    "```\n",
    "\n",
    "__Menggunakan Tanda Petik__\n",
    "\n",
    "Selain untuk mengapit teks (*string*), tanda petik juga dapat digunakan untuk membuat komentar.\n",
    "\n",
    "Contoh:\n",
    "\n",
    "```python\n",
    "\"Ini adalah komentar dengan tanda petik ganda\"\n",
    "'Ini juga komentar, tapi dengan tanda petik tunggal'\n",
    "```\n",
    "\n",
    "Penulisan komentar dengan tanda petik jarang digunakan, kebanyakan orang lebih memilih untuk menggunakan tanda pagar. Jadi…tidak direkomendasikan.\n",
    "\n",
    "__Menggunakan Triple Tanda Petik__\n",
    "\n",
    "Sedangkan triple tanda petik, sering digunakan untuk menuliskan dokumentasi.\n",
    "\n",
    "Contohnya:\n",
    "\n",
    "```python\n",
    "class Pagar:\n",
    "    \"\"\"Berikut ini adalah kelas pagar untuk membuat objek pagar. \n",
    "    Dibuat oleh Alvin sebagai contoh Penggunaan Triple Tanda Petik.\n",
    "    Jadi jangan bingung dahulu yaaa :) \"\"\"\n",
    "    def __init__(self, warna, tinggi, bahan):\n",
    "        self.warna = warna\n",
    "        self.tinggi = tinggi\n",
    "        self.bahan = bahan\n",
    "\n",
    "# Mengakses dokumentasi kelas\n",
    "print Pagar.__doc__\n",
    "input('\\ntekan [enter] untuk melihat bantuan (dokumentasi) kelas: ')\n",
    "help(Pagar) # untuk melihat dokumentasi kelas\n",
    "```"
   ]
  },
  {
   "cell_type": "markdown",
   "id": "55f67af9-6d7a-4b96-a4fa-facc06dc4163",
   "metadata": {
    "tags": []
   },
   "source": [
    "<a id=\"5\"></a> \n",
    "## 💡Quiz Time"
   ]
  },
  {
   "cell_type": "markdown",
   "id": "30a6abd7-ddeb-40b2-be05-c53f4041dd2b",
   "metadata": {},
   "source": [
    "__SOAL 1 :__ Mencoba berbagai cara untuk mencetak string di Python:"
   ]
  },
  {
   "cell_type": "code",
   "execution_count": 5,
   "id": "36dc2e77-703e-4696-9908-e78a29e1b79d",
   "metadata": {
    "tags": []
   },
   "outputs": [],
   "source": [
    "# 1. Mencetak/print pesan sederhana dengan single quote\n",
    "\n",
    "# 2. Mencetak/print pesan sederhana dengan double quote\n",
    "\n",
    "# 3. Mencetak/print pesan sederhana dengan triple quote\n"
   ]
  },
  {
   "cell_type": "markdown",
   "id": "e7d62bf4-29d4-4f51-80d1-e2899bf567d2",
   "metadata": {},
   "source": [
    "__SOAL 2 :__ Buatlah variabel untuk nama lengkap, umur, dan kota asal Anda. Kemudian cetak informasi tersebut menggunakan tiga metode formatting string yang berbeda (%-formatting, .format(), dan f-string)"
   ]
  },
  {
   "cell_type": "code",
   "execution_count": null,
   "id": "fd21d99c-3d52-4280-80ed-5b5992416223",
   "metadata": {},
   "outputs": [],
   "source": [
    "# 4. Formatting String\n",
    "\n",
    "nama = \n",
    "umur = \n",
    "kota = \n",
    "\n",
    "# Cetak menggunakan %-formatting\n",
    "\n",
    "# Cetak menggunakan .format()\n",
    "\n",
    "# Cetak menggunakan f-string\n"
   ]
  }
 ],
 "metadata": {
  "kernelspec": {
   "display_name": "Python 3 (ipykernel)",
   "language": "python",
   "name": "python3"
  },
  "language_info": {
   "codemirror_mode": {
    "name": "ipython",
    "version": 3
   },
   "file_extension": ".py",
   "mimetype": "text/x-python",
   "name": "python",
   "nbconvert_exporter": "python",
   "pygments_lexer": "ipython3",
   "version": "3.11.9"
  }
 },
 "nbformat": 4,
 "nbformat_minor": 5
}
