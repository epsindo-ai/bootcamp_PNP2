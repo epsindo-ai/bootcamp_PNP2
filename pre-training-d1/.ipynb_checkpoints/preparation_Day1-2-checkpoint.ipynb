{
 "cells": [
  {
   "cell_type": "markdown",
   "id": "80c487d1-f470-4baa-a40e-2542eb4a7632",
   "metadata": {},
   "source": [
    "<img src=\"https://www.dropbox.com/scl/fi/43hqdf0m38towzlbjv42f/epsindo-header.jpg?rlkey=u1kbivcdhbf0wpv1fyuqggpnp&st=4vn8xg6k&dl=1\" width=\"1400\"/>"
   ]
  },
  {
   "cell_type": "markdown",
   "id": "5bb9c134-3cb1-49d4-a2f7-8050843754ff",
   "metadata": {},
   "source": [
    "# Pra Pelatihan 2: Fundamental Python\n",
    "---"
   ]
  },
  {
   "cell_type": "markdown",
   "id": "840c77e3-4391-402a-a217-9e80907c1fa9",
   "metadata": {},
   "source": [
    "### Isi Materi :\n",
    "\n",
    "1. [Variables](#5)\n",
    "2. [Data Types & Structure](#6)\n",
    "3. [Logic Control](#7)\n",
    "4. [Quiz](#8)"
   ]
  },
  {
   "cell_type": "markdown",
   "id": "2a45aab3-dcf8-4d97-9a2b-0474ac84f5de",
   "metadata": {},
   "source": [
    "### 📌 Ekspektasi Hasil Pembelajaran:\n",
    "Peserta dapat mengetahui apa itu variabel pada bahasa pemrograman Python, peserta dapat menjelaskan apa saja tipe data yang ada pada Python dan apa saja struktur data pada Python dan menerapkan operasi pada tipe data Python, serta peserta dapat mengetahui kontrol logika seperti percabangan dan perulangan pada Python."
   ]
  },
  {
   "cell_type": "markdown",
   "id": "64809267-b6ec-4e49-941b-6159e3aa73b1",
   "metadata": {},
   "source": [
    "*Referensi:*\n",
    "\n",
    "1. https://belajarpython.com/tutorial/variabel-python \n",
    "2. https://belajarpython.com/tutorial/tipe-data-python\n",
    "3. https://belajarpython.com/tutorial/operator-python\n",
    "4. https://www.w3schools.com/python/python_operators.asp\n",
    "5. https://jagongoding.com/python/dasar/tipe-data-dan-variabel/#jenis-jenis-tipe-data-python"
   ]
  },
  {
   "cell_type": "markdown",
   "id": "b9fef543-3534-40e1-9ae9-bb607380d74f",
   "metadata": {},
   "source": [
    "<a id=\"5\"></a>\n",
    "## 1. Variabel"
   ]
  },
  {
   "cell_type": "markdown",
   "id": "1f489082-a8cc-4d83-b594-f5b84e41189c",
   "metadata": {},
   "source": [
    "Variabel adalah lokasi memori yang dicadangkan untuk menyimpan nilai-nilai. Ini berarti bahwa ketika kita membuat sebuah variabel, kita memesan beberapa ruang di memori. Variabel menyimpan data yang dilakukan selama program dieksekusi, yang nantinya isi dari variabel tersebut dapat diubah oleh operasi - operasi tertentu pada program yang menggunakan variabel.\n",
    "\n",
    "Variabel dapat menyimpan berbagai macam tipe data. Di dalam pemrograman Python, variabel mempunyai sifat yang dinamis, artinya variabel Python tidak perlu didekralasikan tipe data tertentu dan variabel Python dapat diubah saat program dijalankan.\n",
    "\n",
    "Penulisan variabel Python sendiri juga memiliki aturan tertentu, yaitu :\n",
    "\n",
    "* Karakter pertama harus berupa huruf atau garis bawah/underscore ```_```\n",
    "* Karakter selanjutnya dapat berupa huruf, garis bawah/underscore ```_``` atau angka\n",
    "* Karakter pada nama variabel bersifat sensitif (case-sensitif). Artinya huruf kecil dan huruf besar dibedakan. Sebagai contoh, variabel ```namaDepan``` dan ```namadepan``` adalah variabel yang berbeda.\n",
    "\n",
    "Untuk mulai membuat variabel di Python caranya sangat mudah, Anda cukup menuliskan variabel lalu mengisinya dengan suatu nilai dengan cara menambahkan tanda sama dengan ```=``` diikuti dengan nilai yang ingin dimasukan.\n",
    "\n",
    "Dibawah ini adalah contoh penggunaan variabel dalam bahasa pemrograman Python."
   ]
  },
  {
   "cell_type": "code",
   "execution_count": 2,
   "id": "403116cb-e3f1-4908-8e9d-6849c097fb09",
   "metadata": {},
   "outputs": [
    {
     "name": "stdout",
     "output_type": "stream",
     "text": [
      "Jakarta\n"
     ]
    }
   ],
   "source": [
    "# Mengisi nilai pada variabel Kota\n",
    "kota = \"Jakarta\"\n",
    "\n",
    "# Menampilkan variabel Kota\n",
    "print(kota)"
   ]
  },
  {
   "cell_type": "markdown",
   "id": "a9f0a361-5ff7-4336-9ebf-1e6332cd4503",
   "metadata": {},
   "source": [
    "### Merubah nilai dan tipe data variabel\n",
    "\n",
    "Variabel dalam Python dapat berubah, baik nilainya maupun tipe data dari variabel tersebut.\n",
    "\n",
    "Dibawah ini adalah contoh variabel yang diubah nilai dan tipe data nya."
   ]
  },
  {
   "cell_type": "code",
   "execution_count": 3,
   "id": "59dfa5fc-88a7-47b7-b502-80324213a9e8",
   "metadata": {},
   "outputs": [
    {
     "name": "stdout",
     "output_type": "stream",
     "text": [
      "2\n"
     ]
    },
    {
     "data": {
      "text/plain": [
       "int"
      ]
     },
     "execution_count": 3,
     "metadata": {},
     "output_type": "execute_result"
    }
   ],
   "source": [
    "# Nilai dan tipe data dalam variabel dapat diubah\n",
    "bilangan = 2 # Nilai awal variabel\n",
    "\n",
    "print(bilangan) # Mencetak nilai bilangan awal\n",
    "\n",
    "type(bilangan) # Memeriksa tipe data bilangan awal"
   ]
  },
  {
   "cell_type": "markdown",
   "id": "2dfdddbe-a4ec-4bef-868b-c795b0426fb2",
   "metadata": {},
   "source": [
    "Nilai dari variabel ```bilangan``` adalah 2, dengan tipe data adalah ```int```."
   ]
  },
  {
   "cell_type": "code",
   "execution_count": 4,
   "id": "73811b2a-5631-421b-8327-ed8ae7ad3cfb",
   "metadata": {},
   "outputs": [
    {
     "name": "stdout",
     "output_type": "stream",
     "text": [
      "dua\n"
     ]
    },
    {
     "data": {
      "text/plain": [
       "str"
      ]
     },
     "execution_count": 4,
     "metadata": {},
     "output_type": "execute_result"
    }
   ],
   "source": [
    "# Merubah nilai dan tipe data variabel bilangan\n",
    "bilangan = \"dua\" # Nilai variabel diubah\n",
    "\n",
    "print(bilangan) # Mencetak nilai bilangan yang telah diubah\n",
    "\n",
    "type(bilangan) # Memeriksa tipe data bilangan yang telah diubah"
   ]
  },
  {
   "cell_type": "markdown",
   "id": "8c5e3fe3-e156-48a5-a3b2-4653f8f9d0ae",
   "metadata": {},
   "source": [
    "Nilai dari variabel ```bilangan``` sekarang berubah menjadi ```dua```, dengan tipe data adalah ```str```."
   ]
  },
  {
   "cell_type": "markdown",
   "id": "0e9fd09c-cca5-4432-a939-87c63b87190a",
   "metadata": {},
   "source": [
    "### Menggabungkan nilai variabel ke dalam variabel\n",
    "\n",
    "Variabel dapat kita gabung ke dalam variabel baru, seperti contoh berikut ini, yang menggabungkan variabel ```namaDepan``` dan variabel ```namaBelakang``` ke dalam variabel ```nama``` dan menampilkan nilai variabel tersebut dengan ```print```. "
   ]
  },
  {
   "cell_type": "code",
   "execution_count": 1,
   "id": "ee73a999-e952-472f-8a6a-88119fe12c85",
   "metadata": {},
   "outputs": [
    {
     "name": "stdout",
     "output_type": "stream",
     "text": [
      "Biodata:\n",
      " Alvin Steven \n",
      " 22 \n",
      " Berenang\n"
     ]
    }
   ],
   "source": [
    "namaDepan = \"Alvin\"\n",
    "namaBelakang = \"Steven\"\n",
    "\n",
    "# Menggabungkan variabel 1 dan variabel 2 ke dalam variabel 3 \n",
    "nama = namaDepan + \" \" + namaBelakang\n",
    "\n",
    "umur = 22\n",
    "hobi = \"Berenang\"\n",
    "\n",
    "# Mencetak nilai dari variabel variabel tersebut\n",
    "print(\"Biodata:\\n\",nama, \"\\n\", umur, \"\\n\", hobi)"
   ]
  },
  {
   "cell_type": "markdown",
   "id": "d8e4b866-ed06-4664-b7f4-ca1c5239a5f8",
   "metadata": {},
   "source": [
    "### Melakukan perhitungan luas persegi panjang\n",
    "\n",
    "Dengan variabel kita dapat melakukan perhitungan perhitungan matematis, contohnya adalah menghitung luas dari persegi panjang, panjang dari persegi panjang kita masukan dalam variabel ```panjang``` dan lebar dari persegi panjang kita masukan dalam variabel ```lebar```, kemudian kita membuat variabel untuk menghitung luas persegi panjang dengan rumus __P * L__ yang dinamakan variabel ```luas``` dimana isi variabel tersebut adalah perkalian antara variabel ```panjang``` dan variabel ```lebar```."
   ]
  },
  {
   "cell_type": "code",
   "execution_count": 5,
   "id": "255a015e-f69e-427b-9e81-c715637a8a47",
   "metadata": {},
   "outputs": [
    {
     "name": "stdout",
     "output_type": "stream",
     "text": [
      "Menghitung luas persegi panjang: \n",
      "Panjang persegi panjang adalah 10 \n",
      "Lebar persegi panjang adalah 5 \n",
      "Luas dari persegi panjang adalah 50\n"
     ]
    }
   ],
   "source": [
    "# Nilai panjang dari persegi panjang\n",
    "panjang = 10\n",
    "\n",
    "# Nilai lebar dari persegi panjang\n",
    "lebar = 5\n",
    "\n",
    "# Rumus luas persegi panjang\n",
    "luas = panjang * lebar\n",
    "\n",
    "# Mencetak hasil luas persegi panjang\n",
    "print('Menghitung luas persegi panjang: \\nPanjang persegi panjang adalah',\n",
    "      panjang,'\\nLebar persegi panjang adalah',\n",
    "      lebar,'\\nLuas dari persegi panjang adalah',luas)"
   ]
  },
  {
   "cell_type": "markdown",
   "id": "d53fb424-5234-4ee4-8fa1-e37e874ff52b",
   "metadata": {
    "tags": []
   },
   "source": [
    "<a id=\"6\"></a>\n",
    "## 2. Data Type & Data Structure"
   ]
  },
  {
   "cell_type": "markdown",
   "id": "e58e93f4-f413-4d9f-b9ff-fa8780cc2adc",
   "metadata": {},
   "source": [
    "### Apa itu tipe data ?\n",
    "\n",
    "Tipe data adalah jenis dari suatu data. Setiap data memiliki nilai, dan setiap nilai memiliki jenis. Ada data-data yang bertipe angka, ada pula yang bertipe huruf/karakter, ada juga yang bertipe benar/salah dan sebagainya.\n",
    "\n",
    "Sebagai ibarat, kalau variabel adalah keranjang, maka tipe data adalah jenis barang atau jenis benda yang akan kita masukkan ke dalam keranjang tersebut."
   ]
  },
  {
   "cell_type": "markdown",
   "id": "85699d70-afac-4f5c-9df2-185bcca040ca",
   "metadata": {},
   "source": [
    "Tabel ini memberi gambaran singkat mengenai berbagai tipe data dasar yang ada di Python beserta contoh dan penjelasannya.\n",
    "\n",
    "| **Tipe Data**    | **Contoh**              | **Penjelasan**                                                                 |\n",
    "|------------------|-------------------------|--------------------------------------------------------------------------------|\n",
    "| **int**          | `x = 10`                | Tipe data untuk angka bulat (integer), baik positif, negatif, atau nol.       |\n",
    "| **float**        | `y = 3.14`              | Tipe data untuk angka desimal (floating point), digunakan untuk bilangan real.|\n",
    "| **str**          | `name = \"Alice\"`        | Tipe data untuk string, yaitu urutan karakter (teks).                         |\n",
    "| **bool**         | `is_active = True`      | Tipe data untuk nilai logika, hanya memiliki dua nilai: `True` atau `False`.   |\n",
    "| **list**         | `my_list = [1, 2, 3]`   | Tipe data untuk koleksi terurut yang dapat diubah (mutable). Bisa berisi elemen dari berbagai tipe. |\n",
    "| **tuple**        | `my_tuple = (1, 2, 3)`  | Tipe data untuk koleksi terurut yang tidak dapat diubah (immutable). Biasanya digunakan untuk data yang tetap. |\n",
    "| **set**          | `my_set = {1, 2, 3}`    | Tipe data untuk kumpulan elemen yang tidak berurutan dan tidak memiliki elemen yang duplikat. |\n",
    "| **dict**         | `my_dict = {\"key\": \"value\"}` | Tipe data untuk koleksi pasangan kunci-nilai (key-value pairs). Kunci harus unik. |\n",
    "| **NoneType**     | `value = None`          | Tipe data yang mewakili ketidakadaan atau kosong. Biasanya digunakan untuk nilai yang tidak terdefinisi. |\n",
    "\n",
    "\n",
    "Penjelasan:\n",
    "\n",
    "* __Tipe Data__: Menyebutkan jenis tipe data di Python.\n",
    "* __Contoh__: Memberikan contoh nilai yang sesuai dengan tipe data tersebut.\n",
    "* __Penjelasan__: Menjelaskan sifat atau kegunaan tipe data tersebut."
   ]
  },
  {
   "cell_type": "markdown",
   "id": "81e93796-eefc-41be-a28a-931fb5fab5f0",
   "metadata": {},
   "source": [
    "### Operasi pada tipe data\n",
    "\n",
    "Dalam pemrograman, tipe data tidak hanya digunakan untuk mendeklarasikan variabel, tetapi juga untuk melakukan berbagai operasi. Operasi pada tipe data adalah serangkaian tindakan atau manipulasi yang dapat dilakukan terhadap data yang disimpan dalam variabel sesuai dengan jenis tipe data tersebut. Berikut adalah beberapa operasi yang umum dilakukan pada tipe data dalam berbagai bahasa pemrograman.\n",
    "\n",
    "---\n",
    "\n",
    "#### Operasi pada Tipe Data Numerik (Integer dan Float)\n",
    "\n",
    "\n",
    "Tipe data numerik, seperti integer (bilangan bulat) dan float (bilangan pecahan), mendukung berbagai operasi aritmatika dasar. Berikut adalah operasi-operasi yang dapat dilakukan pada tipe data numerik:\n",
    "\n",
    "__1. Operasi Aritmatika__\n",
    "\n",
    "\n",
    "* Penjumlahan (```+```): Menambahkan dua angka.\n",
    "* Pengurangan (```-```): Mengurangi dua angka.\n",
    "* Perkalian (```*```): Mengalikan dua angka.\n",
    "* Pembagian (```/```): Membagi dua angka (menghasilkan hasil berupa float).\n",
    "* Pembagian Bulat (```//```): Membagi dua angka dan membulatkan hasilnya ke bawah (integer).\n",
    "* Sisa Bagi (```%```): Menampilkan sisa dari pembagian dua angka.\n",
    "* Pangkat (```**```): Menghitung pangkat dari sebuah angka.\n",
    "\n",
    "__Contoh:__"
   ]
  },
  {
   "cell_type": "code",
   "execution_count": 6,
   "id": "fb78b4f9-f9dc-4aa5-a529-45ffa20ba42f",
   "metadata": {},
   "outputs": [
    {
     "name": "stdout",
     "output_type": "stream",
     "text": [
      "13\n",
      "7\n",
      "30\n",
      "3.3333333333333335\n",
      "3\n",
      "1\n",
      "1000\n"
     ]
    }
   ],
   "source": [
    "a = 10\n",
    "b = 3\n",
    "\n",
    "print(a + b)  # Penjumlahan: 13\n",
    "print(a - b)  # Pengurangan: 7\n",
    "print(a * b)  # Perkalian: 30\n",
    "print(a / b)  # Pembagian: 3.3333...\n",
    "print(a // b) # Pembagian Bulat: 3\n",
    "print(a % b)  # Sisa Bagi: 1\n",
    "print(a ** b) # Pangkat: 1000\n"
   ]
  },
  {
   "cell_type": "markdown",
   "id": "69cd9aaf-5cd8-475f-9cc6-e1304677d612",
   "metadata": {},
   "source": [
    "__2. Operasi Pembandingan__\n",
    "\n",
    "Tipe data numerik juga mendukung operasi pembandingan untuk membandingkan dua nilai.\n",
    "\n",
    "* ```==```: Sama dengan\n",
    "* ```!=```: Tidak sama dengan\n",
    "* ```>```: Lebih besar dari\n",
    "* ```<```: Lebih kecil dari\n",
    "* ```>=```: Lebih besar atau sama dengan\n",
    "* ```<=```: Lebih kecil atau sama dengan\n",
    "\n",
    "__Contoh:__"
   ]
  },
  {
   "cell_type": "code",
   "execution_count": 7,
   "id": "28a4a5ff-8bb6-4425-a2f6-9fa506ebcbb8",
   "metadata": {},
   "outputs": [
    {
     "name": "stdout",
     "output_type": "stream",
     "text": [
      "False\n",
      "True\n",
      "False\n",
      "True\n"
     ]
    }
   ],
   "source": [
    "x = 10\n",
    "y = 20\n",
    "\n",
    "print(x == y)  # False\n",
    "print(x != y)  # True\n",
    "print(x > y)   # False\n",
    "print(x < y)   # True"
   ]
  },
  {
   "cell_type": "markdown",
   "id": "05ef71ec-cdf8-4c1b-96f1-50c42cf29f06",
   "metadata": {},
   "source": [
    "---\n",
    "#### Operasi pada Tipe Data Karakter (Char) dan String\n",
    "\n",
    "Tipe data karakter (char) dan string menyimpan urutan karakter atau teks. Operasi yang dapat dilakukan pada tipe data ini meliputi operasi manipulasi teks seperti penggabungan, pemisahan, dan pencarian.\n",
    "\n",
    "__1. Operasi pada String__\n",
    "\n",
    "* __Penggabungan (Concatenation)__\n",
    "\n",
    "Menggabungkan dua string menggunakan operator ```+```."
   ]
  },
  {
   "cell_type": "code",
   "execution_count": 9,
   "id": "daf3c4a4-607c-4ed4-9dc4-f21baec699f2",
   "metadata": {},
   "outputs": [
    {
     "name": "stdout",
     "output_type": "stream",
     "text": [
      "Hello World\n"
     ]
    }
   ],
   "source": [
    "str1 = \"Hello\"\n",
    "str2 = \"World\"\n",
    "result = str1 + \" \" + str2  # \"Hello World\"\n",
    "\n",
    "print(result)"
   ]
  },
  {
   "cell_type": "markdown",
   "id": "514a4983-269e-4e88-815c-ff1dca94833d",
   "metadata": {},
   "source": [
    "* __Pengulangan (Repetition)__\n",
    "\n",
    "Mengulangi string beberapa kali menggunakan operator ```*```."
   ]
  },
  {
   "cell_type": "code",
   "execution_count": 10,
   "id": "7a852786-3f8a-4980-b0bf-283426883a70",
   "metadata": {},
   "outputs": [
    {
     "name": "stdout",
     "output_type": "stream",
     "text": [
      "HiHiHi\n"
     ]
    }
   ],
   "source": [
    "str1 = \"Hi\"\n",
    "result = str1 * 3  # \"HiHiHi\"\n",
    "\n",
    "print(result)"
   ]
  },
  {
   "cell_type": "markdown",
   "id": "03565c67-9156-4e98-b77d-969052d8344e",
   "metadata": {},
   "source": [
    "* __Pencarian Substring (Substring Search)__\n",
    "\n",
    "Menggunakan operator ```in``` untuk memeriksa apakah sebuah substring terdapat dalam string."
   ]
  },
  {
   "cell_type": "code",
   "execution_count": 11,
   "id": "6c84d56a-60d3-4c75-b619-bbe42e351faa",
   "metadata": {},
   "outputs": [
    {
     "name": "stdout",
     "output_type": "stream",
     "text": [
      "True\n"
     ]
    }
   ],
   "source": [
    "str1 = \"Hello World\"\n",
    "result = \"World\" in str1  # True\n",
    "\n",
    "print(result)"
   ]
  },
  {
   "cell_type": "markdown",
   "id": "9993bbac-65e5-4f82-8885-c435356dbe02",
   "metadata": {},
   "source": [
    "* __Pengaksesan Karakter (Indexing & Slicing)__\n",
    "\n",
    "Mengakses karakter dalam string menggunakan indeks. Indeks pertama adalah ```0```. Dapat menggunakan teknik slicing untuk mengambil bagian dari string."
   ]
  },
  {
   "cell_type": "code",
   "execution_count": 12,
   "id": "d8dfd746-fc0c-4731-90ee-aeb1dc5a9022",
   "metadata": {},
   "outputs": [
    {
     "name": "stdout",
     "output_type": "stream",
     "text": [
      "ell\n"
     ]
    }
   ],
   "source": [
    "str1 = \"Hello\"\n",
    "char = str1[1]  # 'e'\n",
    "substring = str1[1:4]  # 'ell'\n",
    "\n",
    "print(substring)"
   ]
  },
  {
   "cell_type": "markdown",
   "id": "0d82304c-6d20-434c-bbb7-fb3e17afc976",
   "metadata": {},
   "source": [
    "* __Panjang String (Length)__\n",
    "\n",
    "Menggunakan fungsi ```len()``` untuk mendapatkan panjang string."
   ]
  },
  {
   "cell_type": "code",
   "execution_count": 13,
   "id": "c881f772-7ae3-4ec5-988b-3b3b4e71b099",
   "metadata": {},
   "outputs": [
    {
     "name": "stdout",
     "output_type": "stream",
     "text": [
      "5\n"
     ]
    }
   ],
   "source": [
    "str1 = \"Hello\"\n",
    "length = len(str1)  # 5\n",
    "\n",
    "print(length)"
   ]
  },
  {
   "cell_type": "markdown",
   "id": "f66641e2-b893-4c8b-bf8b-d22db8261a58",
   "metadata": {},
   "source": [
    "* __Penggantian Karakter (Replacement)__\n",
    "\n",
    "Menggunakan metode ```replace()``` untuk mengganti bagian dari string."
   ]
  },
  {
   "cell_type": "code",
   "execution_count": 14,
   "id": "2f888e0e-53a7-4eb1-9124-09daed8ce5d0",
   "metadata": {},
   "outputs": [
    {
     "name": "stdout",
     "output_type": "stream",
     "text": [
      "Hello Python\n"
     ]
    }
   ],
   "source": [
    "str1 = \"Hello World\"\n",
    "new_str = str1.replace(\"World\", \"Python\")  # \"Hello Python\"\n",
    "\n",
    "print(new_str)"
   ]
  },
  {
   "cell_type": "markdown",
   "id": "e6766f15-ed17-4b77-897f-983b046362c9",
   "metadata": {},
   "source": [
    "* __Pemecahan String (Splitting)__\n",
    "\n",
    "Menggunakan metode ```split()``` untuk memecah string berdasarkan delimiter tertentu."
   ]
  },
  {
   "cell_type": "code",
   "execution_count": 16,
   "id": "58540fde-73c9-449a-bcac-be261a8f1208",
   "metadata": {},
   "outputs": [
    {
     "name": "stdout",
     "output_type": "stream",
     "text": [
      "['apple', 'banana', 'cherry']\n"
     ]
    }
   ],
   "source": [
    "str1 = \"apple,banana,cherry\"\n",
    "fruits = str1.split(\",\")  # ['apple', 'banana', 'cherry']\n",
    "\n",
    "print(fruits)"
   ]
  },
  {
   "cell_type": "markdown",
   "id": "6fb86e97-b867-4e1f-bc23-34d0f480fc26",
   "metadata": {},
   "source": [
    "---\n",
    "#### Operasi pada Tipe Data Boolean\n",
    "\n",
    "Tipe data boolean hanya memiliki dua nilai: ```True``` dan ```False```. Operasi yang dapat dilakukan pada tipe data boolean adalah operasi logika.\n",
    "\n",
    "__1. Operasi Logika__\n",
    "\n",
    "* AND (```and```): Menghasilkan True jika kedua kondisi bernilai True.\n",
    "* OR (```or```): Menghasilkan True jika salah satu kondisi bernilai True.\n",
    "* NOT (```not```): Membalikkan nilai boolean, True menjadi False dan sebaliknya.\n",
    "\n",
    "__Contoh:__"
   ]
  },
  {
   "cell_type": "code",
   "execution_count": 17,
   "id": "7e7a8776-4f7d-4ed4-834f-56661529c498",
   "metadata": {},
   "outputs": [
    {
     "name": "stdout",
     "output_type": "stream",
     "text": [
      "False\n",
      "True\n",
      "False\n"
     ]
    }
   ],
   "source": [
    "a = True\n",
    "b = False\n",
    "\n",
    "print(a and b)  # False\n",
    "print(a or b)   # True\n",
    "print(not a)    # False"
   ]
  },
  {
   "cell_type": "markdown",
   "id": "08ca2cee-a9c1-4982-a7db-17ae5ab37693",
   "metadata": {},
   "source": [
    "---\n",
    "#### Operasi pada Tipe Data Struktur (List, Tuple, Set, Dictionary)\n",
    "\n",
    "Operasi-operasi pada tipe data koleksi bergantung pada jenis koleksi yang digunakan. Berikut adalah beberapa operasi umum pada tipe data koleksi:\n",
    "\n",
    "__1. Operasi pada List__\n",
    "\n",
    "* Menambah Elemen: Menggunakan metode ```append()```, ```extend()```, atau ```insert()```.\n",
    "* Menghapus Elemen: Menggunakan metode ```remove()```, ```pop()```, atau ```clear()```.\n",
    "* Mengakses Elemen: Menggunakan indeks atau slicing.\n",
    "* Mencari Elemen: Menggunakan metode ```index()``` atau ```in```.\n",
    "\n",
    "__Contoh:__"
   ]
  },
  {
   "cell_type": "code",
   "execution_count": 18,
   "id": "f5666140-b544-4b90-8056-e8d295518dc4",
   "metadata": {},
   "outputs": [
    {
     "name": "stdout",
     "output_type": "stream",
     "text": [
      "[1, 2, 4, 5]\n"
     ]
    }
   ],
   "source": [
    "lst = [1, 2, 3, 4]\n",
    "lst.append(5)  # Menambah elemen di akhir\n",
    "lst.remove(3)  # Menghapus elemen pertama yang bernilai 3\n",
    "\n",
    "print(lst)"
   ]
  },
  {
   "cell_type": "markdown",
   "id": "978bcc5c-d36a-4521-b003-956346a19638",
   "metadata": {},
   "source": [
    "__2. Operasi pada Tuple__\n",
    "\n",
    "* Mengakses Elemen: Sama seperti list, menggunakan indeks atau slicing.\n",
    "* Tuple Tidak Dapat Diubah (Immutable): Tidak dapat menambah, menghapus, atau mengubah elemen setelah tuple dibuat.\n",
    "\n",
    "__Contoh:__"
   ]
  },
  {
   "cell_type": "code",
   "execution_count": 19,
   "id": "095b6e1d-07c0-4456-abf8-02e3bcbb20c3",
   "metadata": {},
   "outputs": [
    {
     "name": "stdout",
     "output_type": "stream",
     "text": [
      "2\n"
     ]
    }
   ],
   "source": [
    "tpl = (1, 2, 3)\n",
    "print(tpl[1])  # Output: 2"
   ]
  },
  {
   "cell_type": "markdown",
   "id": "ba3bf20b-a1d4-4a0b-93bb-a0d2a61b7099",
   "metadata": {},
   "source": [
    "__3. Operasi pada Set__\n",
    "\n",
    "* Menambah Elemen: Menggunakan metode ```add()```.\n",
    "* Menghapus Elemen: Menggunakan metode ```remove()``` atau ```discard()```.\n",
    "* Operasi Set: Seperti irisan (```&```), gabungan (```|```), dan selisih (```-```).\n",
    "\n",
    "__Contoh:__"
   ]
  },
  {
   "cell_type": "code",
   "execution_count": 21,
   "id": "a327abd7-0850-4345-ad40-3fdaca88bdeb",
   "metadata": {},
   "outputs": [
    {
     "name": "stdout",
     "output_type": "stream",
     "text": [
      "{1, 3, 4, 5}\n",
      "{3, 4}\n"
     ]
    }
   ],
   "source": [
    "s = {1, 2, 3}\n",
    "s.add(4)      # Menambah elemen\n",
    "s.remove(2)   # Menghapus elemen\n",
    "s2 = {3, 4, 5}\n",
    "union = s | s2  # Gabungan: {1, 3, 4, 5}\n",
    "intersection = s & s2  # Irisan: {3,4}\n",
    "\n",
    "print(union)\n",
    "print(intersection)"
   ]
  },
  {
   "cell_type": "markdown",
   "id": "0054bfc8-9376-4f59-97a0-8be65cb55024",
   "metadata": {},
   "source": [
    "__4. Operasi pada Dictionary__\n",
    "\n",
    "* Menambah Elemen: Menggunakan ```key-value``` assignment.\n",
    "* Menghapus Elemen: Menggunakan ```del``` atau metode ```pop()```.\n",
    "* Mencari Key: Menggunakan operator ```in```.\n",
    "\n",
    "__contoh:__"
   ]
  },
  {
   "cell_type": "code",
   "execution_count": 22,
   "id": "6add88ab-7319-41e6-b324-5a0af6b099a0",
   "metadata": {},
   "outputs": [
    {
     "name": "stdout",
     "output_type": "stream",
     "text": [
      "{'name': 'Alice', 'city': 'New York'}\n"
     ]
    }
   ],
   "source": [
    "d = {\"name\": \"Alice\", \"age\": 25}\n",
    "d[\"city\"] = \"New York\"  # Menambah elemen\n",
    "del d[\"age\"]            # Menghapus elemen\n",
    "\n",
    "print(d)"
   ]
  },
  {
   "cell_type": "markdown",
   "id": "5a216e4c-de79-4578-8b7d-a10ca83e8567",
   "metadata": {},
   "source": [
    "___\n",
    "\n",
    "Operasi pada tipe data memungkinkan kita untuk melakukan berbagai manipulasi terhadap data yang disimpan dalam variabel. Setiap tipe data mendukung operasi yang sesuai dengan sifat dan tujuan penggunaannya. Pemahaman yang baik mengenai operasi-operasi dasar ini sangat penting untuk menulis kode yang efisien dan efektif dalam pemrograman."
   ]
  },
  {
   "cell_type": "markdown",
   "id": "ed2e5ac3-7722-4aea-a1c1-fd1c5c264435",
   "metadata": {},
   "source": [
    "---\n",
    "<a id=\"7\"></a>\n",
    "## 3. Logic Control (Kontrol Logika)\n",
    "\n",
    "Dalam pemrograman, kontrol logika mengacu pada penggunaan struktur kontrol yang memungkinkan program untuk mengambil keputusan atau mengulang aksi berdasarkan kondisi tertentu. Struktur kontrol logika memungkinkan program untuk beroperasi secara dinamis dan responsif terhadap keadaan yang berubah.\n",
    "\n",
    "Kontrol logika terdiri dari beberapa jenis __pernyataan kondisional__ dan __perulangan__ yang digunakan untuk mengarahkan alur eksekusi program. Struktur utama dalam kontrol logika adalah ```if```, ```else```, ```elif```, dan struktur perulangan seperti ```for``` dan ```while```.\n",
    "\n",
    "---"
   ]
  },
  {
   "cell_type": "markdown",
   "id": "9a1083cc-31ed-4dc7-a0e1-3bf35646276d",
   "metadata": {},
   "source": [
    "#### 1. Pernyataan Kondisional\n",
    "\n",
    "__if Statement__\n",
    "\n",
    "Pernyataan if digunakan untuk mengeksekusi sebuah blok kode jika kondisi yang diberikan bernilai ```True```.\n",
    "\n",
    "__Sintaks:__\n",
    "\n",
    "```python\n",
    "if kondisi:\n",
    "    # blok kode yang dieksekusi jika kondisi True\n",
    "```"
   ]
  },
  {
   "cell_type": "markdown",
   "id": "5a1a38ad-0185-4e7e-95f9-256cd368d121",
   "metadata": {},
   "source": [
    "__contoh:__"
   ]
  },
  {
   "cell_type": "code",
   "execution_count": 24,
   "id": "e969190f-31c1-4297-a4f1-58498487e078",
   "metadata": {},
   "outputs": [
    {
     "name": "stdout",
     "output_type": "stream",
     "text": [
      "x lebih besar dari 5\n"
     ]
    }
   ],
   "source": [
    "x = 10\n",
    "if x > 5:\n",
    "    print(\"x lebih besar dari 5\")"
   ]
  },
  {
   "cell_type": "markdown",
   "id": "1af44ade-b55f-4b81-b73d-c936352db4ee",
   "metadata": {},
   "source": [
    "__else Statement__\n",
    "\n",
    "Pernyataan ```else``` digunakan untuk mengeksekusi blok kode alternatif jika kondisi dalam ```if``` bernilai ```False```.\n",
    "\n",
    "__Sintaks:__\n",
    "\n",
    "```python\n",
    "if kondisi:\n",
    "    # blok kode jika kondisi True\n",
    "else:\n",
    "    # blok kode jika kondisi False\n",
    "```\n",
    "\n",
    "__Contoh:__"
   ]
  },
  {
   "cell_type": "code",
   "execution_count": 25,
   "id": "d82870a6-6e76-4259-865b-6c2116baa111",
   "metadata": {},
   "outputs": [
    {
     "name": "stdout",
     "output_type": "stream",
     "text": [
      "x tidak lebih besar dari 5\n"
     ]
    }
   ],
   "source": [
    "x = 3\n",
    "if x > 5:\n",
    "    print(\"x lebih besar dari 5\")\n",
    "else:\n",
    "    print(\"x tidak lebih besar dari 5\")"
   ]
  },
  {
   "cell_type": "markdown",
   "id": "73483459-cc4b-4072-97cc-c54a9d0b241b",
   "metadata": {},
   "source": [
    "__Elif Statement (Else If)__\n",
    "\n",
    "\n",
    "Pernyataan ```elif``` digunakan ketika kita ingin memeriksa beberapa kondisi berturut-turut. Jika kondisi pertama tidak memenuhi, maka kondisi berikutnya akan diperiksa.\n",
    "\n",
    "__Sintaks:__\n",
    "\n",
    "```python\n",
    "if kondisi1:\n",
    "    # blok kode jika kondisi1 True\n",
    "elif kondisi2:\n",
    "    # blok kode jika kondisi2 True\n",
    "else:\n",
    "    # blok kode jika tidak ada kondisi yang True\n",
    "```\n",
    "\n",
    "__Contoh:__"
   ]
  },
  {
   "cell_type": "code",
   "execution_count": 26,
   "id": "34b63869-165b-46be-868a-53693f0afb2f",
   "metadata": {},
   "outputs": [
    {
     "name": "stdout",
     "output_type": "stream",
     "text": [
      "x lebih besar dari 5 tetapi tidak lebih besar dari 15\n"
     ]
    }
   ],
   "source": [
    "x = 10\n",
    "if x > 15:\n",
    "    print(\"x lebih besar dari 15\")\n",
    "elif x > 5:\n",
    "    print(\"x lebih besar dari 5 tetapi tidak lebih besar dari 15\")\n",
    "else:\n",
    "    print(\"x lebih kecil atau sama dengan 5\")"
   ]
  },
  {
   "cell_type": "markdown",
   "id": "2d452bcb-cae8-475f-93b3-372b142c6201",
   "metadata": {},
   "source": [
    "---\n",
    "\n",
    "#### 2. Operator Logika\n",
    "\n",
    "Operator logika digunakan untuk membangun kondisi kompleks dalam pernyataan ```if```, ```elif```, dan ```else```. Berikut adalah operator logika yang sering digunakan:\n",
    "\n",
    "```and``` __Operator__\n",
    "\n",
    "Operator and menghasilkan ```True``` jika kedua kondisi yang dibandingkan bernilai ```True```.\n",
    "\n",
    "__Contoh:__"
   ]
  },
  {
   "cell_type": "code",
   "execution_count": 27,
   "id": "1f6eeb40-9f86-4bfe-848a-9dd1ca4aa44e",
   "metadata": {},
   "outputs": [
    {
     "name": "stdout",
     "output_type": "stream",
     "text": [
      "Kedua kondisi terpenuhi\n"
     ]
    }
   ],
   "source": [
    "x = 10\n",
    "y = 20\n",
    "if x > 5 and y > 15:\n",
    "    print(\"Kedua kondisi terpenuhi\")"
   ]
  },
  {
   "cell_type": "markdown",
   "id": "2c7c81ba-97a5-4eab-90cc-34475cb040f2",
   "metadata": {},
   "source": [
    "```or``` __Operator__\n",
    "\n",
    "Operator or menghasilkan ```True``` jika salah satu dari kondisi yang dibandingkan bernilai ```True```.\n",
    "\n",
    "__Contoh:__"
   ]
  },
  {
   "cell_type": "code",
   "execution_count": 28,
   "id": "50c23f7f-bd3c-457d-a6eb-f8dc17253ba6",
   "metadata": {},
   "outputs": [
    {
     "name": "stdout",
     "output_type": "stream",
     "text": [
      "Salah satu kondisi terpenuhi\n"
     ]
    }
   ],
   "source": [
    "x = 10\n",
    "y = 3\n",
    "if x > 5 or y > 5:\n",
    "    print(\"Salah satu kondisi terpenuhi\")"
   ]
  },
  {
   "cell_type": "markdown",
   "id": "ac140836-968a-49bf-9e31-07f3493e389b",
   "metadata": {},
   "source": [
    "```not``` __Operator__\n",
    "\n",
    "Operator ```not``` digunakan untuk membalikkan nilai dari kondisi. Jika kondisi bernilai ```True```, maka akan menjadi ```False```, dan sebaliknya.\n",
    "\n",
    "__Contoh:__"
   ]
  },
  {
   "cell_type": "code",
   "execution_count": 29,
   "id": "42802bf2-f0a0-4999-94c2-622393e4e81c",
   "metadata": {},
   "outputs": [
    {
     "name": "stdout",
     "output_type": "stream",
     "text": [
      "x tidak lebih besar dari 10\n"
     ]
    }
   ],
   "source": [
    "x = 5\n",
    "if not x > 10:\n",
    "    print(\"x tidak lebih besar dari 10\")"
   ]
  },
  {
   "cell_type": "markdown",
   "id": "8ab52221-8e28-41e8-bda3-11839b362fb9",
   "metadata": {},
   "source": [
    "---\n",
    "\n",
    "#### 3. Struktur Perulangan\n",
    "\n",
    "```for``` __Loop__\n",
    "\n",
    "Perulangan ```for``` digunakan untuk iterasi (mengulang) suatu blok kode untuk setiap elemen dalam koleksi (seperti ```list```, ```tuple```, ```set```, atau ```string```).\n",
    "\n",
    "__Sintaks:__\n",
    "\n",
    "```python\n",
    "for elemen in koleksi:\n",
    "    # blok kode yang dieksekusi untuk setiap elemen\n",
    "```\n",
    "\n",
    "__Contoh:__"
   ]
  },
  {
   "cell_type": "code",
   "execution_count": 30,
   "id": "00458e32-2708-449e-8b36-dd1ece6dd3da",
   "metadata": {},
   "outputs": [
    {
     "name": "stdout",
     "output_type": "stream",
     "text": [
      "0\n",
      "1\n",
      "2\n",
      "3\n",
      "4\n"
     ]
    }
   ],
   "source": [
    "for i in range(5):\n",
    "    print(i)"
   ]
  },
  {
   "cell_type": "markdown",
   "id": "ae553d86-0d18-4c05-b9b8-aef5826ebedc",
   "metadata": {},
   "source": [
    "```while``` __Loop__\n",
    "\n",
    "Perulangan ```while``` digunakan untuk menjalankan sebuah blok kode selama suatu kondisi bernilai ```True```.\n",
    "\n",
    "__Sintaks:__\n",
    "\n",
    "```python\n",
    "while kondisi:\n",
    "    # blok kode yang akan dieksekusi selama kondisi True\n",
    "```\n",
    "\n",
    "__Contoh:__"
   ]
  },
  {
   "cell_type": "code",
   "execution_count": 31,
   "id": "8295d3da-08c1-470b-8f54-a4216a8441b7",
   "metadata": {},
   "outputs": [
    {
     "name": "stdout",
     "output_type": "stream",
     "text": [
      "0\n",
      "1\n",
      "2\n",
      "3\n",
      "4\n"
     ]
    }
   ],
   "source": [
    "x = 0\n",
    "while x < 5:\n",
    "    print(x)\n",
    "    x += 1  # increment"
   ]
  },
  {
   "cell_type": "markdown",
   "id": "cf921f2a-734d-40fe-a213-dc5cc0cd8c43",
   "metadata": {},
   "source": [
    "__Perulangan dengan__ ```break``` __dan__ ```continue```\n",
    "\n",
    "* ```break```: Menghentikan perulangan lebih awal.\n",
    "* ```continue```: Melewatkan iterasi saat ini dan melanjutkan ke iterasi berikutnya.\n",
    "\n",
    "__Contoh__ ```break```:"
   ]
  },
  {
   "cell_type": "code",
   "execution_count": 32,
   "id": "20941243-870b-455f-9db4-a0b9effc9e56",
   "metadata": {},
   "outputs": [
    {
     "name": "stdout",
     "output_type": "stream",
     "text": [
      "0\n",
      "1\n",
      "2\n"
     ]
    }
   ],
   "source": [
    "for i in range(5):\n",
    "    if i == 3:\n",
    "        break  # Menghentikan perulangan saat i == 3\n",
    "    print(i)"
   ]
  },
  {
   "cell_type": "markdown",
   "id": "13b66176-c079-4319-9b42-4712d8e59934",
   "metadata": {},
   "source": [
    "__Contoh__ ```continue```:"
   ]
  },
  {
   "cell_type": "code",
   "execution_count": 33,
   "id": "04079cc3-160d-41fe-829f-5457c79624e9",
   "metadata": {},
   "outputs": [
    {
     "name": "stdout",
     "output_type": "stream",
     "text": [
      "0\n",
      "1\n",
      "2\n",
      "4\n"
     ]
    }
   ],
   "source": [
    "for i in range(5):\n",
    "    if i == 3:\n",
    "        continue  # Melewatkan iterasi saat i == 3\n",
    "    print(i)"
   ]
  },
  {
   "cell_type": "markdown",
   "id": "353d5bdc-47ed-4e24-a785-ee2e92c2d5b0",
   "metadata": {},
   "source": [
    "---\n",
    "#### 4. Nested If-Else dan Looping\n",
    "\n",
    "Dalam banyak kasus, Anda mungkin ingin membuat struktur kondisi atau perulangan dalam perulangan lainnya. Ini disebut nested (bersarang). Ini memungkinkan Anda untuk menangani situasi yang lebih kompleks.\n",
    "\n",
    "__Nested If-Else__\n",
    "\n",
    "__Contoh:__"
   ]
  },
  {
   "cell_type": "code",
   "execution_count": 34,
   "id": "3bc7037b-a521-42ec-9bd2-a31e76c630e3",
   "metadata": {},
   "outputs": [
    {
     "name": "stdout",
     "output_type": "stream",
     "text": [
      "x lebih besar dari 5 dan y lebih besar dari 15\n"
     ]
    }
   ],
   "source": [
    "x = 10\n",
    "y = 20\n",
    "if x > 5:\n",
    "    if y > 15:\n",
    "        print(\"x lebih besar dari 5 dan y lebih besar dari 15\")\n",
    "    else:\n",
    "        print(\"x lebih besar dari 5 tetapi y tidak lebih besar dari 15\")\n",
    "else:\n",
    "    print(\"x tidak lebih besar dari 5\")"
   ]
  },
  {
   "cell_type": "markdown",
   "id": "9429487d-d54b-4b25-ba5a-91dcd6373e62",
   "metadata": {},
   "source": [
    "__Nested Loop__\n",
    "\n",
    "__Contoh:__"
   ]
  },
  {
   "cell_type": "code",
   "execution_count": 35,
   "id": "f432959c-8151-49e0-88ee-ea461a1c361a",
   "metadata": {},
   "outputs": [
    {
     "name": "stdout",
     "output_type": "stream",
     "text": [
      "i = 0, j = 0\n",
      "i = 0, j = 1\n",
      "i = 1, j = 0\n",
      "i = 1, j = 1\n",
      "i = 2, j = 0\n",
      "i = 2, j = 1\n"
     ]
    }
   ],
   "source": [
    "for i in range(3):\n",
    "    for j in range(2):\n",
    "        print(f\"i = {i}, j = {j}\")"
   ]
  },
  {
   "cell_type": "markdown",
   "id": "2d3dffc9-5cf4-4b99-8259-4e4230ef89c6",
   "metadata": {},
   "source": [
    "---\n",
    "Kontrol logika adalah fondasi dari alur program yang dinamis dan fleksibel. Dengan menggunakan pernyataan kondisional (```if```, ```else```, ```elif```) dan perulangan (```for```, ```while```), kita dapat membuat keputusan dan mengulang aksi dalam program sesuai dengan kondisi tertentu. Penggunaan operator logika memungkinkan kita untuk mengkombinasikan kondisi dengan lebih kompleks, memberikan kontrol lebih besar terhadap alur eksekusi program.\n",
    "\n",
    "Pahami dan kuasai penggunaan struktur kontrol ini untuk membuat aplikasi yang lebih cerdas dan responsif."
   ]
  },
  {
   "cell_type": "markdown",
   "id": "c64ef43f-70b1-4945-9a04-74bcfaf0aa78",
   "metadata": {},
   "source": [
    "<a id=\"8\"></a> \n",
    "## 💡Quiz Time"
   ]
  },
  {
   "cell_type": "markdown",
   "id": "45146773-6120-4946-b6d1-bf5beed0a5a8",
   "metadata": {},
   "source": [
    "Soal 1 __Variabel & Tipe Data__:\n",
    "\n",
    "Buatlah sebuah variabel bernama nama yang berisi string \"Budi\" dan variabel usia yang berisi angka 25. Kemudian cetak kedua variabel tersebut menggunakan fungsi print() dengan format output berikut:\n",
    "\n",
    "```Nama saya Budi dan saya berusia 25 tahun.```"
   ]
  },
  {
   "cell_type": "code",
   "execution_count": null,
   "id": "37a93a52-7c6b-4a88-891f-e3d633fe6b05",
   "metadata": {},
   "outputs": [],
   "source": [
    "# Tulis kode untuk soal Variabel Anda disini"
   ]
  },
  {
   "cell_type": "markdown",
   "id": "cf0ea8dc-4345-46a2-9a71-18eb0190d0b5",
   "metadata": {},
   "source": [
    "Diberikan variabel dibawah ini; Berdasarkan tipe data Python tersebut, tentukan tipe data dari masing-masing variabel dengan menggunakan fungsi ```type()``` dan cetak hasilnya!"
   ]
  },
  {
   "cell_type": "code",
   "execution_count": 1,
   "id": "e9c0aacf-7dc1-41ca-9b2f-1d49b078e0ec",
   "metadata": {
    "tags": []
   },
   "outputs": [],
   "source": [
    "x = 7\n",
    "y = \"7\"\n",
    "z = 7.0"
   ]
  },
  {
   "cell_type": "code",
   "execution_count": null,
   "id": "4df2dd89-58bc-4358-9bcb-67757332d8a8",
   "metadata": {},
   "outputs": [],
   "source": [
    "# Tulis kode untuk soal Tipe Data Anda disini"
   ]
  },
  {
   "cell_type": "markdown",
   "id": "73f998ea-6c2b-4217-bdd6-bbfe6b3b4131",
   "metadata": {},
   "source": [
    "Soal 2 __List & Kontrol Logika (If-Else)__:\n",
    "\n",
    "Diberikan list berikut. Tambahkan angka 25 ke dalam list menggunakan metode yang tepat dan hapus angka 10 dari list tersebut. Cetak hasil akhirnya."
   ]
  },
  {
   "cell_type": "code",
   "execution_count": null,
   "id": "4c1fdf43-08dc-4359-adac-a1cda6d61e04",
   "metadata": {},
   "outputs": [],
   "source": [
    "angka = [5, 10, 15, 20]"
   ]
  },
  {
   "cell_type": "code",
   "execution_count": null,
   "id": "59c726ef-1fbd-4b9f-9e23-b47f52e691da",
   "metadata": {},
   "outputs": [],
   "source": [
    "# Tulis kode untuk soal List Anda disini"
   ]
  },
  {
   "cell_type": "markdown",
   "id": "84de0ebc-7dba-4a24-91f0-204b51613569",
   "metadata": {},
   "source": [
    "Buatlah program Python yang meminta pengguna memasukkan angka. Jika angka tersebut lebih besar dari 50, cetak \"Angka besar\", jika tidak, cetak \"Angka kecil\"."
   ]
  },
  {
   "cell_type": "code",
   "execution_count": null,
   "id": "81f0bb52-0386-4f3d-8953-5d4b0089fd00",
   "metadata": {},
   "outputs": [],
   "source": [
    "# Tulis kode untuk soal Kontrol Logika Anda disini"
   ]
  }
 ],
 "metadata": {
  "kernelspec": {
   "display_name": "Python 3 (ipykernel)",
   "language": "python",
   "name": "python3"
  },
  "language_info": {
   "codemirror_mode": {
    "name": "ipython",
    "version": 3
   },
   "file_extension": ".py",
   "mimetype": "text/x-python",
   "name": "python",
   "nbconvert_exporter": "python",
   "pygments_lexer": "ipython3",
   "version": "3.11.9"
  }
 },
 "nbformat": 4,
 "nbformat_minor": 5
}
